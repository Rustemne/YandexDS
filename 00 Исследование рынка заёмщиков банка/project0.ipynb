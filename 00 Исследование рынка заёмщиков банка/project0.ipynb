{
 "cells": [
  {
   "cell_type": "markdown",
   "id": "90914866",
   "metadata": {
    "deletable": false,
    "editable": false,
    "id": "c81daeeb"
   },
   "source": [
    "# Исследование надежности заемщиков\n"
   ]
  },
  {
   "cell_type": "markdown",
   "id": "3ca8f3df",
   "metadata": {
    "deletable": false,
    "editable": false,
    "id": "827c20bf"
   },
   "source": [
    "Во второй части проекта вы выполните шаги 3 и 4. Их вручную проверит ревьюер.\n",
    "Чтобы вам не пришлось писать код заново для шагов 1 и 2, мы добавили авторские решения в ячейки с кодом. \n",
    "\n"
   ]
  },
  {
   "cell_type": "markdown",
   "id": "64942678",
   "metadata": {
    "deletable": false,
    "editable": false,
    "id": "744d7639"
   },
   "source": [
    "## Откройте таблицу и изучите общую информацию о данных"
   ]
  },
  {
   "cell_type": "markdown",
   "id": "556762b5",
   "metadata": {
    "deletable": false,
    "editable": false,
    "id": "e7a14c31"
   },
   "source": [
    "**Задание 1. Импортируйте библиотеку pandas. Считайте данные из csv-файла в датафрейм и сохраните в переменную `data`. Путь к файлу:**\n",
    "\n",
    "`/datasets/data.csv`"
   ]
  },
  {
   "cell_type": "code",
   "execution_count": 1,
   "id": "ac7a2ca4",
   "metadata": {
    "deletable": false,
    "id": "7bcf75c9"
   },
   "outputs": [],
   "source": [
    "import pandas as pd\n",
    "import seaborn as sns\n",
    "\n",
    "try:\n",
    "    data = pd.read_csv('/datasets/data.csv')\n",
    "except:\n",
    "    data = pd.read_csv('https://code.s3.yandex.net/datasets/data.csv')"
   ]
  },
  {
   "cell_type": "markdown",
   "id": "0cc1863c",
   "metadata": {
    "deletable": false,
    "editable": false,
    "id": "b8038fe3"
   },
   "source": [
    "**Задание 2. Выведите первые 20 строчек датафрейма `data` на экран.**"
   ]
  },
  {
   "cell_type": "code",
   "execution_count": 2,
   "id": "59a3086d",
   "metadata": {
    "deletable": false,
    "id": "2a7cab99",
    "outputId": "1a8f3ef2-d323-4ec2-ddf7-89670b5944c4"
   },
   "outputs": [
    {
     "data": {
      "text/html": [
       "<div>\n",
       "<style scoped>\n",
       "    .dataframe tbody tr th:only-of-type {\n",
       "        vertical-align: middle;\n",
       "    }\n",
       "\n",
       "    .dataframe tbody tr th {\n",
       "        vertical-align: top;\n",
       "    }\n",
       "\n",
       "    .dataframe thead th {\n",
       "        text-align: right;\n",
       "    }\n",
       "</style>\n",
       "<table border=\"1\" class=\"dataframe\">\n",
       "  <thead>\n",
       "    <tr style=\"text-align: right;\">\n",
       "      <th></th>\n",
       "      <th>children</th>\n",
       "      <th>days_employed</th>\n",
       "      <th>dob_years</th>\n",
       "      <th>education</th>\n",
       "      <th>education_id</th>\n",
       "      <th>family_status</th>\n",
       "      <th>family_status_id</th>\n",
       "      <th>gender</th>\n",
       "      <th>income_type</th>\n",
       "      <th>debt</th>\n",
       "      <th>total_income</th>\n",
       "      <th>purpose</th>\n",
       "    </tr>\n",
       "  </thead>\n",
       "  <tbody>\n",
       "    <tr>\n",
       "      <th>0</th>\n",
       "      <td>1</td>\n",
       "      <td>-8437.673028</td>\n",
       "      <td>42</td>\n",
       "      <td>высшее</td>\n",
       "      <td>0</td>\n",
       "      <td>женат / замужем</td>\n",
       "      <td>0</td>\n",
       "      <td>F</td>\n",
       "      <td>сотрудник</td>\n",
       "      <td>0</td>\n",
       "      <td>253875.639453</td>\n",
       "      <td>покупка жилья</td>\n",
       "    </tr>\n",
       "    <tr>\n",
       "      <th>1</th>\n",
       "      <td>1</td>\n",
       "      <td>-4024.803754</td>\n",
       "      <td>36</td>\n",
       "      <td>среднее</td>\n",
       "      <td>1</td>\n",
       "      <td>женат / замужем</td>\n",
       "      <td>0</td>\n",
       "      <td>F</td>\n",
       "      <td>сотрудник</td>\n",
       "      <td>0</td>\n",
       "      <td>112080.014102</td>\n",
       "      <td>приобретение автомобиля</td>\n",
       "    </tr>\n",
       "    <tr>\n",
       "      <th>2</th>\n",
       "      <td>0</td>\n",
       "      <td>-5623.422610</td>\n",
       "      <td>33</td>\n",
       "      <td>Среднее</td>\n",
       "      <td>1</td>\n",
       "      <td>женат / замужем</td>\n",
       "      <td>0</td>\n",
       "      <td>M</td>\n",
       "      <td>сотрудник</td>\n",
       "      <td>0</td>\n",
       "      <td>145885.952297</td>\n",
       "      <td>покупка жилья</td>\n",
       "    </tr>\n",
       "    <tr>\n",
       "      <th>3</th>\n",
       "      <td>3</td>\n",
       "      <td>-4124.747207</td>\n",
       "      <td>32</td>\n",
       "      <td>среднее</td>\n",
       "      <td>1</td>\n",
       "      <td>женат / замужем</td>\n",
       "      <td>0</td>\n",
       "      <td>M</td>\n",
       "      <td>сотрудник</td>\n",
       "      <td>0</td>\n",
       "      <td>267628.550329</td>\n",
       "      <td>дополнительное образование</td>\n",
       "    </tr>\n",
       "    <tr>\n",
       "      <th>4</th>\n",
       "      <td>0</td>\n",
       "      <td>340266.072047</td>\n",
       "      <td>53</td>\n",
       "      <td>среднее</td>\n",
       "      <td>1</td>\n",
       "      <td>гражданский брак</td>\n",
       "      <td>1</td>\n",
       "      <td>F</td>\n",
       "      <td>пенсионер</td>\n",
       "      <td>0</td>\n",
       "      <td>158616.077870</td>\n",
       "      <td>сыграть свадьбу</td>\n",
       "    </tr>\n",
       "    <tr>\n",
       "      <th>5</th>\n",
       "      <td>0</td>\n",
       "      <td>-926.185831</td>\n",
       "      <td>27</td>\n",
       "      <td>высшее</td>\n",
       "      <td>0</td>\n",
       "      <td>гражданский брак</td>\n",
       "      <td>1</td>\n",
       "      <td>M</td>\n",
       "      <td>компаньон</td>\n",
       "      <td>0</td>\n",
       "      <td>255763.565419</td>\n",
       "      <td>покупка жилья</td>\n",
       "    </tr>\n",
       "    <tr>\n",
       "      <th>6</th>\n",
       "      <td>0</td>\n",
       "      <td>-2879.202052</td>\n",
       "      <td>43</td>\n",
       "      <td>высшее</td>\n",
       "      <td>0</td>\n",
       "      <td>женат / замужем</td>\n",
       "      <td>0</td>\n",
       "      <td>F</td>\n",
       "      <td>компаньон</td>\n",
       "      <td>0</td>\n",
       "      <td>240525.971920</td>\n",
       "      <td>операции с жильем</td>\n",
       "    </tr>\n",
       "    <tr>\n",
       "      <th>7</th>\n",
       "      <td>0</td>\n",
       "      <td>-152.779569</td>\n",
       "      <td>50</td>\n",
       "      <td>СРЕДНЕЕ</td>\n",
       "      <td>1</td>\n",
       "      <td>женат / замужем</td>\n",
       "      <td>0</td>\n",
       "      <td>M</td>\n",
       "      <td>сотрудник</td>\n",
       "      <td>0</td>\n",
       "      <td>135823.934197</td>\n",
       "      <td>образование</td>\n",
       "    </tr>\n",
       "    <tr>\n",
       "      <th>8</th>\n",
       "      <td>2</td>\n",
       "      <td>-6929.865299</td>\n",
       "      <td>35</td>\n",
       "      <td>ВЫСШЕЕ</td>\n",
       "      <td>0</td>\n",
       "      <td>гражданский брак</td>\n",
       "      <td>1</td>\n",
       "      <td>F</td>\n",
       "      <td>сотрудник</td>\n",
       "      <td>0</td>\n",
       "      <td>95856.832424</td>\n",
       "      <td>на проведение свадьбы</td>\n",
       "    </tr>\n",
       "    <tr>\n",
       "      <th>9</th>\n",
       "      <td>0</td>\n",
       "      <td>-2188.756445</td>\n",
       "      <td>41</td>\n",
       "      <td>среднее</td>\n",
       "      <td>1</td>\n",
       "      <td>женат / замужем</td>\n",
       "      <td>0</td>\n",
       "      <td>M</td>\n",
       "      <td>сотрудник</td>\n",
       "      <td>0</td>\n",
       "      <td>144425.938277</td>\n",
       "      <td>покупка жилья для семьи</td>\n",
       "    </tr>\n",
       "    <tr>\n",
       "      <th>10</th>\n",
       "      <td>2</td>\n",
       "      <td>-4171.483647</td>\n",
       "      <td>36</td>\n",
       "      <td>высшее</td>\n",
       "      <td>0</td>\n",
       "      <td>женат / замужем</td>\n",
       "      <td>0</td>\n",
       "      <td>M</td>\n",
       "      <td>компаньон</td>\n",
       "      <td>0</td>\n",
       "      <td>113943.491460</td>\n",
       "      <td>покупка недвижимости</td>\n",
       "    </tr>\n",
       "    <tr>\n",
       "      <th>11</th>\n",
       "      <td>0</td>\n",
       "      <td>-792.701887</td>\n",
       "      <td>40</td>\n",
       "      <td>среднее</td>\n",
       "      <td>1</td>\n",
       "      <td>женат / замужем</td>\n",
       "      <td>0</td>\n",
       "      <td>F</td>\n",
       "      <td>сотрудник</td>\n",
       "      <td>0</td>\n",
       "      <td>77069.234271</td>\n",
       "      <td>покупка коммерческой недвижимости</td>\n",
       "    </tr>\n",
       "    <tr>\n",
       "      <th>12</th>\n",
       "      <td>0</td>\n",
       "      <td>NaN</td>\n",
       "      <td>65</td>\n",
       "      <td>среднее</td>\n",
       "      <td>1</td>\n",
       "      <td>гражданский брак</td>\n",
       "      <td>1</td>\n",
       "      <td>M</td>\n",
       "      <td>пенсионер</td>\n",
       "      <td>0</td>\n",
       "      <td>NaN</td>\n",
       "      <td>сыграть свадьбу</td>\n",
       "    </tr>\n",
       "    <tr>\n",
       "      <th>13</th>\n",
       "      <td>0</td>\n",
       "      <td>-1846.641941</td>\n",
       "      <td>54</td>\n",
       "      <td>неоконченное высшее</td>\n",
       "      <td>2</td>\n",
       "      <td>женат / замужем</td>\n",
       "      <td>0</td>\n",
       "      <td>F</td>\n",
       "      <td>сотрудник</td>\n",
       "      <td>0</td>\n",
       "      <td>130458.228857</td>\n",
       "      <td>приобретение автомобиля</td>\n",
       "    </tr>\n",
       "    <tr>\n",
       "      <th>14</th>\n",
       "      <td>0</td>\n",
       "      <td>-1844.956182</td>\n",
       "      <td>56</td>\n",
       "      <td>высшее</td>\n",
       "      <td>0</td>\n",
       "      <td>гражданский брак</td>\n",
       "      <td>1</td>\n",
       "      <td>F</td>\n",
       "      <td>компаньон</td>\n",
       "      <td>1</td>\n",
       "      <td>165127.911772</td>\n",
       "      <td>покупка жилой недвижимости</td>\n",
       "    </tr>\n",
       "    <tr>\n",
       "      <th>15</th>\n",
       "      <td>1</td>\n",
       "      <td>-972.364419</td>\n",
       "      <td>26</td>\n",
       "      <td>среднее</td>\n",
       "      <td>1</td>\n",
       "      <td>женат / замужем</td>\n",
       "      <td>0</td>\n",
       "      <td>F</td>\n",
       "      <td>сотрудник</td>\n",
       "      <td>0</td>\n",
       "      <td>116820.904450</td>\n",
       "      <td>строительство собственной недвижимости</td>\n",
       "    </tr>\n",
       "    <tr>\n",
       "      <th>16</th>\n",
       "      <td>0</td>\n",
       "      <td>-1719.934226</td>\n",
       "      <td>35</td>\n",
       "      <td>среднее</td>\n",
       "      <td>1</td>\n",
       "      <td>женат / замужем</td>\n",
       "      <td>0</td>\n",
       "      <td>F</td>\n",
       "      <td>сотрудник</td>\n",
       "      <td>0</td>\n",
       "      <td>289202.704229</td>\n",
       "      <td>недвижимость</td>\n",
       "    </tr>\n",
       "    <tr>\n",
       "      <th>17</th>\n",
       "      <td>0</td>\n",
       "      <td>-2369.999720</td>\n",
       "      <td>33</td>\n",
       "      <td>высшее</td>\n",
       "      <td>0</td>\n",
       "      <td>гражданский брак</td>\n",
       "      <td>1</td>\n",
       "      <td>M</td>\n",
       "      <td>сотрудник</td>\n",
       "      <td>0</td>\n",
       "      <td>90410.586745</td>\n",
       "      <td>строительство недвижимости</td>\n",
       "    </tr>\n",
       "    <tr>\n",
       "      <th>18</th>\n",
       "      <td>0</td>\n",
       "      <td>400281.136913</td>\n",
       "      <td>53</td>\n",
       "      <td>среднее</td>\n",
       "      <td>1</td>\n",
       "      <td>вдовец / вдова</td>\n",
       "      <td>2</td>\n",
       "      <td>F</td>\n",
       "      <td>пенсионер</td>\n",
       "      <td>0</td>\n",
       "      <td>56823.777243</td>\n",
       "      <td>на покупку подержанного автомобиля</td>\n",
       "    </tr>\n",
       "    <tr>\n",
       "      <th>19</th>\n",
       "      <td>0</td>\n",
       "      <td>-10038.818549</td>\n",
       "      <td>48</td>\n",
       "      <td>СРЕДНЕЕ</td>\n",
       "      <td>1</td>\n",
       "      <td>в разводе</td>\n",
       "      <td>3</td>\n",
       "      <td>F</td>\n",
       "      <td>сотрудник</td>\n",
       "      <td>0</td>\n",
       "      <td>242831.107982</td>\n",
       "      <td>на покупку своего автомобиля</td>\n",
       "    </tr>\n",
       "  </tbody>\n",
       "</table>\n",
       "</div>"
      ],
      "text/plain": [
       "    children  days_employed  dob_years            education  education_id  \\\n",
       "0          1   -8437.673028         42               высшее             0   \n",
       "1          1   -4024.803754         36              среднее             1   \n",
       "2          0   -5623.422610         33              Среднее             1   \n",
       "3          3   -4124.747207         32              среднее             1   \n",
       "4          0  340266.072047         53              среднее             1   \n",
       "5          0    -926.185831         27               высшее             0   \n",
       "6          0   -2879.202052         43               высшее             0   \n",
       "7          0    -152.779569         50              СРЕДНЕЕ             1   \n",
       "8          2   -6929.865299         35               ВЫСШЕЕ             0   \n",
       "9          0   -2188.756445         41              среднее             1   \n",
       "10         2   -4171.483647         36               высшее             0   \n",
       "11         0    -792.701887         40              среднее             1   \n",
       "12         0            NaN         65              среднее             1   \n",
       "13         0   -1846.641941         54  неоконченное высшее             2   \n",
       "14         0   -1844.956182         56               высшее             0   \n",
       "15         1    -972.364419         26              среднее             1   \n",
       "16         0   -1719.934226         35              среднее             1   \n",
       "17         0   -2369.999720         33               высшее             0   \n",
       "18         0  400281.136913         53              среднее             1   \n",
       "19         0  -10038.818549         48              СРЕДНЕЕ             1   \n",
       "\n",
       "       family_status  family_status_id gender income_type  debt  \\\n",
       "0    женат / замужем                 0      F   сотрудник     0   \n",
       "1    женат / замужем                 0      F   сотрудник     0   \n",
       "2    женат / замужем                 0      M   сотрудник     0   \n",
       "3    женат / замужем                 0      M   сотрудник     0   \n",
       "4   гражданский брак                 1      F   пенсионер     0   \n",
       "5   гражданский брак                 1      M   компаньон     0   \n",
       "6    женат / замужем                 0      F   компаньон     0   \n",
       "7    женат / замужем                 0      M   сотрудник     0   \n",
       "8   гражданский брак                 1      F   сотрудник     0   \n",
       "9    женат / замужем                 0      M   сотрудник     0   \n",
       "10   женат / замужем                 0      M   компаньон     0   \n",
       "11   женат / замужем                 0      F   сотрудник     0   \n",
       "12  гражданский брак                 1      M   пенсионер     0   \n",
       "13   женат / замужем                 0      F   сотрудник     0   \n",
       "14  гражданский брак                 1      F   компаньон     1   \n",
       "15   женат / замужем                 0      F   сотрудник     0   \n",
       "16   женат / замужем                 0      F   сотрудник     0   \n",
       "17  гражданский брак                 1      M   сотрудник     0   \n",
       "18    вдовец / вдова                 2      F   пенсионер     0   \n",
       "19         в разводе                 3      F   сотрудник     0   \n",
       "\n",
       "     total_income                                 purpose  \n",
       "0   253875.639453                           покупка жилья  \n",
       "1   112080.014102                 приобретение автомобиля  \n",
       "2   145885.952297                           покупка жилья  \n",
       "3   267628.550329              дополнительное образование  \n",
       "4   158616.077870                         сыграть свадьбу  \n",
       "5   255763.565419                           покупка жилья  \n",
       "6   240525.971920                       операции с жильем  \n",
       "7   135823.934197                             образование  \n",
       "8    95856.832424                   на проведение свадьбы  \n",
       "9   144425.938277                 покупка жилья для семьи  \n",
       "10  113943.491460                    покупка недвижимости  \n",
       "11   77069.234271       покупка коммерческой недвижимости  \n",
       "12            NaN                         сыграть свадьбу  \n",
       "13  130458.228857                 приобретение автомобиля  \n",
       "14  165127.911772              покупка жилой недвижимости  \n",
       "15  116820.904450  строительство собственной недвижимости  \n",
       "16  289202.704229                            недвижимость  \n",
       "17   90410.586745              строительство недвижимости  \n",
       "18   56823.777243      на покупку подержанного автомобиля  \n",
       "19  242831.107982            на покупку своего автомобиля  "
      ]
     },
     "execution_count": 2,
     "metadata": {},
     "output_type": "execute_result"
    }
   ],
   "source": [
    "data.head(20)"
   ]
  },
  {
   "cell_type": "markdown",
   "id": "137916c1",
   "metadata": {
    "deletable": false,
    "editable": false,
    "id": "1c12e233"
   },
   "source": [
    "**Задание 3. Выведите основную информацию о датафрейме с помощью метода `info()`.**"
   ]
  },
  {
   "cell_type": "code",
   "execution_count": 3,
   "id": "3908fb8f",
   "metadata": {
    "deletable": false,
    "id": "2b757bca",
    "outputId": "15376089-8dad-46c9-b520-c05248d43158"
   },
   "outputs": [
    {
     "name": "stdout",
     "output_type": "stream",
     "text": [
      "<class 'pandas.core.frame.DataFrame'>\n",
      "RangeIndex: 21525 entries, 0 to 21524\n",
      "Data columns (total 12 columns):\n",
      " #   Column            Non-Null Count  Dtype  \n",
      "---  ------            --------------  -----  \n",
      " 0   children          21525 non-null  int64  \n",
      " 1   days_employed     19351 non-null  float64\n",
      " 2   dob_years         21525 non-null  int64  \n",
      " 3   education         21525 non-null  object \n",
      " 4   education_id      21525 non-null  int64  \n",
      " 5   family_status     21525 non-null  object \n",
      " 6   family_status_id  21525 non-null  int64  \n",
      " 7   gender            21525 non-null  object \n",
      " 8   income_type       21525 non-null  object \n",
      " 9   debt              21525 non-null  int64  \n",
      " 10  total_income      19351 non-null  float64\n",
      " 11  purpose           21525 non-null  object \n",
      "dtypes: float64(2), int64(5), object(5)\n",
      "memory usage: 2.0+ MB\n"
     ]
    }
   ],
   "source": [
    "data.info()"
   ]
  },
  {
   "cell_type": "markdown",
   "id": "98d3525f",
   "metadata": {
    "deletable": false,
    "editable": false,
    "id": "333ec665"
   },
   "source": [
    "## Предобработка данных"
   ]
  },
  {
   "cell_type": "markdown",
   "id": "2427a155",
   "metadata": {
    "deletable": false,
    "editable": false,
    "id": "02d92d53"
   },
   "source": [
    "### Удаление пропусков"
   ]
  },
  {
   "cell_type": "markdown",
   "id": "6a5bb076",
   "metadata": {
    "deletable": false,
    "editable": false,
    "id": "cd84967c"
   },
   "source": [
    "**Задание 4. Выведите количество пропущенных значений для каждого столбца. Используйте комбинацию двух методов.**"
   ]
  },
  {
   "cell_type": "code",
   "execution_count": 4,
   "id": "f36785d6",
   "metadata": {
    "deletable": false,
    "id": "7f9b2309",
    "outputId": "81f4d817-781c-465c-ed15-91ce4446810d"
   },
   "outputs": [
    {
     "data": {
      "text/plain": [
       "children               0\n",
       "days_employed       2174\n",
       "dob_years              0\n",
       "education              0\n",
       "education_id           0\n",
       "family_status          0\n",
       "family_status_id       0\n",
       "gender                 0\n",
       "income_type            0\n",
       "debt                   0\n",
       "total_income        2174\n",
       "purpose                0\n",
       "dtype: int64"
      ]
     },
     "execution_count": 4,
     "metadata": {},
     "output_type": "execute_result"
    }
   ],
   "source": [
    "data.isna().sum()"
   ]
  },
  {
   "cell_type": "code",
   "execution_count": 5,
   "id": "4c99e635",
   "metadata": {},
   "outputs": [
    {
     "data": {
      "text/html": [
       "<div>\n",
       "<style scoped>\n",
       "    .dataframe tbody tr th:only-of-type {\n",
       "        vertical-align: middle;\n",
       "    }\n",
       "\n",
       "    .dataframe tbody tr th {\n",
       "        vertical-align: top;\n",
       "    }\n",
       "\n",
       "    .dataframe thead th {\n",
       "        text-align: right;\n",
       "    }\n",
       "</style>\n",
       "<table border=\"1\" class=\"dataframe\">\n",
       "  <thead>\n",
       "    <tr style=\"text-align: right;\">\n",
       "      <th></th>\n",
       "      <th>children</th>\n",
       "      <th>days_employed</th>\n",
       "      <th>dob_years</th>\n",
       "      <th>education</th>\n",
       "      <th>education_id</th>\n",
       "      <th>family_status</th>\n",
       "      <th>family_status_id</th>\n",
       "      <th>gender</th>\n",
       "      <th>income_type</th>\n",
       "      <th>debt</th>\n",
       "      <th>total_income</th>\n",
       "      <th>purpose</th>\n",
       "    </tr>\n",
       "  </thead>\n",
       "  <tbody>\n",
       "    <tr>\n",
       "      <th>12</th>\n",
       "      <td>0</td>\n",
       "      <td>NaN</td>\n",
       "      <td>65</td>\n",
       "      <td>среднее</td>\n",
       "      <td>1</td>\n",
       "      <td>гражданский брак</td>\n",
       "      <td>1</td>\n",
       "      <td>M</td>\n",
       "      <td>пенсионер</td>\n",
       "      <td>0</td>\n",
       "      <td>NaN</td>\n",
       "      <td>сыграть свадьбу</td>\n",
       "    </tr>\n",
       "    <tr>\n",
       "      <th>26</th>\n",
       "      <td>0</td>\n",
       "      <td>NaN</td>\n",
       "      <td>41</td>\n",
       "      <td>среднее</td>\n",
       "      <td>1</td>\n",
       "      <td>женат / замужем</td>\n",
       "      <td>0</td>\n",
       "      <td>M</td>\n",
       "      <td>госслужащий</td>\n",
       "      <td>0</td>\n",
       "      <td>NaN</td>\n",
       "      <td>образование</td>\n",
       "    </tr>\n",
       "    <tr>\n",
       "      <th>29</th>\n",
       "      <td>0</td>\n",
       "      <td>NaN</td>\n",
       "      <td>63</td>\n",
       "      <td>среднее</td>\n",
       "      <td>1</td>\n",
       "      <td>Не женат / не замужем</td>\n",
       "      <td>4</td>\n",
       "      <td>F</td>\n",
       "      <td>пенсионер</td>\n",
       "      <td>0</td>\n",
       "      <td>NaN</td>\n",
       "      <td>строительство жилой недвижимости</td>\n",
       "    </tr>\n",
       "    <tr>\n",
       "      <th>41</th>\n",
       "      <td>0</td>\n",
       "      <td>NaN</td>\n",
       "      <td>50</td>\n",
       "      <td>среднее</td>\n",
       "      <td>1</td>\n",
       "      <td>женат / замужем</td>\n",
       "      <td>0</td>\n",
       "      <td>F</td>\n",
       "      <td>госслужащий</td>\n",
       "      <td>0</td>\n",
       "      <td>NaN</td>\n",
       "      <td>сделка с подержанным автомобилем</td>\n",
       "    </tr>\n",
       "    <tr>\n",
       "      <th>55</th>\n",
       "      <td>0</td>\n",
       "      <td>NaN</td>\n",
       "      <td>54</td>\n",
       "      <td>среднее</td>\n",
       "      <td>1</td>\n",
       "      <td>гражданский брак</td>\n",
       "      <td>1</td>\n",
       "      <td>F</td>\n",
       "      <td>пенсионер</td>\n",
       "      <td>1</td>\n",
       "      <td>NaN</td>\n",
       "      <td>сыграть свадьбу</td>\n",
       "    </tr>\n",
       "    <tr>\n",
       "      <th>...</th>\n",
       "      <td>...</td>\n",
       "      <td>...</td>\n",
       "      <td>...</td>\n",
       "      <td>...</td>\n",
       "      <td>...</td>\n",
       "      <td>...</td>\n",
       "      <td>...</td>\n",
       "      <td>...</td>\n",
       "      <td>...</td>\n",
       "      <td>...</td>\n",
       "      <td>...</td>\n",
       "      <td>...</td>\n",
       "    </tr>\n",
       "    <tr>\n",
       "      <th>21489</th>\n",
       "      <td>2</td>\n",
       "      <td>NaN</td>\n",
       "      <td>47</td>\n",
       "      <td>Среднее</td>\n",
       "      <td>1</td>\n",
       "      <td>женат / замужем</td>\n",
       "      <td>0</td>\n",
       "      <td>M</td>\n",
       "      <td>компаньон</td>\n",
       "      <td>0</td>\n",
       "      <td>NaN</td>\n",
       "      <td>сделка с автомобилем</td>\n",
       "    </tr>\n",
       "    <tr>\n",
       "      <th>21495</th>\n",
       "      <td>1</td>\n",
       "      <td>NaN</td>\n",
       "      <td>50</td>\n",
       "      <td>среднее</td>\n",
       "      <td>1</td>\n",
       "      <td>гражданский брак</td>\n",
       "      <td>1</td>\n",
       "      <td>F</td>\n",
       "      <td>сотрудник</td>\n",
       "      <td>0</td>\n",
       "      <td>NaN</td>\n",
       "      <td>свадьба</td>\n",
       "    </tr>\n",
       "    <tr>\n",
       "      <th>21497</th>\n",
       "      <td>0</td>\n",
       "      <td>NaN</td>\n",
       "      <td>48</td>\n",
       "      <td>ВЫСШЕЕ</td>\n",
       "      <td>0</td>\n",
       "      <td>женат / замужем</td>\n",
       "      <td>0</td>\n",
       "      <td>F</td>\n",
       "      <td>компаньон</td>\n",
       "      <td>0</td>\n",
       "      <td>NaN</td>\n",
       "      <td>строительство недвижимости</td>\n",
       "    </tr>\n",
       "    <tr>\n",
       "      <th>21502</th>\n",
       "      <td>1</td>\n",
       "      <td>NaN</td>\n",
       "      <td>42</td>\n",
       "      <td>среднее</td>\n",
       "      <td>1</td>\n",
       "      <td>женат / замужем</td>\n",
       "      <td>0</td>\n",
       "      <td>F</td>\n",
       "      <td>сотрудник</td>\n",
       "      <td>0</td>\n",
       "      <td>NaN</td>\n",
       "      <td>строительство жилой недвижимости</td>\n",
       "    </tr>\n",
       "    <tr>\n",
       "      <th>21510</th>\n",
       "      <td>2</td>\n",
       "      <td>NaN</td>\n",
       "      <td>28</td>\n",
       "      <td>среднее</td>\n",
       "      <td>1</td>\n",
       "      <td>женат / замужем</td>\n",
       "      <td>0</td>\n",
       "      <td>F</td>\n",
       "      <td>сотрудник</td>\n",
       "      <td>0</td>\n",
       "      <td>NaN</td>\n",
       "      <td>приобретение автомобиля</td>\n",
       "    </tr>\n",
       "  </tbody>\n",
       "</table>\n",
       "<p>2174 rows × 12 columns</p>\n",
       "</div>"
      ],
      "text/plain": [
       "       children  days_employed  dob_years education  education_id  \\\n",
       "12            0            NaN         65   среднее             1   \n",
       "26            0            NaN         41   среднее             1   \n",
       "29            0            NaN         63   среднее             1   \n",
       "41            0            NaN         50   среднее             1   \n",
       "55            0            NaN         54   среднее             1   \n",
       "...         ...            ...        ...       ...           ...   \n",
       "21489         2            NaN         47   Среднее             1   \n",
       "21495         1            NaN         50   среднее             1   \n",
       "21497         0            NaN         48    ВЫСШЕЕ             0   \n",
       "21502         1            NaN         42   среднее             1   \n",
       "21510         2            NaN         28   среднее             1   \n",
       "\n",
       "               family_status  family_status_id gender  income_type  debt  \\\n",
       "12          гражданский брак                 1      M    пенсионер     0   \n",
       "26           женат / замужем                 0      M  госслужащий     0   \n",
       "29     Не женат / не замужем                 4      F    пенсионер     0   \n",
       "41           женат / замужем                 0      F  госслужащий     0   \n",
       "55          гражданский брак                 1      F    пенсионер     1   \n",
       "...                      ...               ...    ...          ...   ...   \n",
       "21489        женат / замужем                 0      M    компаньон     0   \n",
       "21495       гражданский брак                 1      F    сотрудник     0   \n",
       "21497        женат / замужем                 0      F    компаньон     0   \n",
       "21502        женат / замужем                 0      F    сотрудник     0   \n",
       "21510        женат / замужем                 0      F    сотрудник     0   \n",
       "\n",
       "       total_income                           purpose  \n",
       "12              NaN                   сыграть свадьбу  \n",
       "26              NaN                       образование  \n",
       "29              NaN  строительство жилой недвижимости  \n",
       "41              NaN  сделка с подержанным автомобилем  \n",
       "55              NaN                   сыграть свадьбу  \n",
       "...             ...                               ...  \n",
       "21489           NaN              сделка с автомобилем  \n",
       "21495           NaN                           свадьба  \n",
       "21497           NaN        строительство недвижимости  \n",
       "21502           NaN  строительство жилой недвижимости  \n",
       "21510           NaN           приобретение автомобиля  \n",
       "\n",
       "[2174 rows x 12 columns]"
      ]
     },
     "execution_count": 5,
     "metadata": {},
     "output_type": "execute_result"
    }
   ],
   "source": [
    "#data['income_type'].unique()\n",
    "data[data['total_income'].isna()]\n",
    "\n",
    "#data[data['total_income'].isna()]['income_type'].value_counts() \n",
    "\n"
   ]
  },
  {
   "cell_type": "markdown",
   "id": "7a021e73",
   "metadata": {
    "deletable": false,
    "editable": false,
    "id": "db86e27b"
   },
   "source": [
    "**Задание 5. В двух столбцах есть пропущенные значения. Один из них — `days_employed`. Пропуски в этом столбце вы обработаете на следующем этапе. Другой столбец с пропущенными значениями — `total_income` — хранит данные о доходах. На сумму дохода сильнее всего влияет тип занятости, поэтому заполнить пропуски в этом столбце нужно медианным значением по каждому типу из столбца `income_type`. Например, у человека с типом занятости `сотрудник` пропуск в столбце `total_income` должен быть заполнен медианным доходом среди всех записей с тем же типом.**"
   ]
  },
  {
   "cell_type": "code",
   "execution_count": 6,
   "id": "a3d9a9dd",
   "metadata": {
    "deletable": false,
    "id": "42006a93"
   },
   "outputs": [],
   "source": [
    "for t in data['income_type'].unique():\n",
    "    data.loc[(data['income_type'] == t) & (data['total_income'].isna()), 'total_income'] = \\\n",
    "    data.loc[(data['income_type'] == t), 'total_income'].median()"
   ]
  },
  {
   "cell_type": "markdown",
   "id": "c5a2a08a",
   "metadata": {
    "deletable": false,
    "editable": false,
    "id": "89da5ece"
   },
   "source": [
    "### Обработка аномальных значений"
   ]
  },
  {
   "cell_type": "markdown",
   "id": "f97971a7",
   "metadata": {
    "deletable": false,
    "editable": false,
    "id": "57964554"
   },
   "source": [
    "**Задание 6. В данных могут встречаться артефакты (аномалии) — значения, которые не отражают действительность и появились по какой-то ошибке. таким артефактом будет отрицательное количество дней трудового стажа в столбце `days_employed`. Для реальных данных это нормально. Обработайте значения в этом столбце: замените все отрицательные значения положительными с помощью метода `abs()`.**"
   ]
  },
  {
   "cell_type": "code",
   "execution_count": 8,
   "id": "327a808a",
   "metadata": {
    "deletable": false,
    "id": "f6f055bf"
   },
   "outputs": [],
   "source": [
    "data['days_employed'] = data['days_employed'].abs()"
   ]
  },
  {
   "cell_type": "markdown",
   "id": "bbc03b71",
   "metadata": {
    "deletable": false,
    "editable": false,
    "id": "6107dd2f"
   },
   "source": [
    "**Задание 7. Для каждого типа занятости выведите медианное значение трудового стажа `days_employed` в днях.**"
   ]
  },
  {
   "cell_type": "code",
   "execution_count": 43,
   "id": "88ca797e",
   "metadata": {
    "deletable": false,
    "id": "85a5faf6",
    "outputId": "801ef80e-522b-4668-f34e-565af7432bcf"
   },
   "outputs": [
    {
     "data": {
      "text/plain": [
       "income_type\n",
       "безработный        366413.652744\n",
       "в декрете            3296.759962\n",
       "госслужащий          2689.368353\n",
       "компаньон            1547.382223\n",
       "пенсионер          365213.306266\n",
       "предприниматель       520.848083\n",
       "сотрудник            1574.202821\n",
       "студент               578.751554\n",
       "Name: days_employed, dtype: float64"
      ]
     },
     "execution_count": 43,
     "metadata": {},
     "output_type": "execute_result"
    }
   ],
   "source": [
    "data.groupby('income_type')['days_employed'].agg('median')"
   ]
  },
  {
   "cell_type": "code",
   "execution_count": 44,
   "id": "3c283a06",
   "metadata": {},
   "outputs": [
    {
     "data": {
      "text/plain": [
       "children                          2\n",
       "days_employed                   NaN\n",
       "dob_years                        50\n",
       "education                    высшее\n",
       "education_id                      0\n",
       "family_status       женат / замужем\n",
       "family_status_id                  0\n",
       "gender                            F\n",
       "income_type               сотрудник\n",
       "debt                              0\n",
       "total_income          142594.396847\n",
       "purpose                       жилье\n",
       "Name: 82, dtype: object"
      ]
     },
     "execution_count": 44,
     "metadata": {},
     "output_type": "execute_result"
    }
   ],
   "source": [
    "data.loc[82]"
   ]
  },
  {
   "cell_type": "markdown",
   "id": "43da4f7a",
   "metadata": {
    "deletable": false,
    "editable": false,
    "id": "38d1a030"
   },
   "source": [
    "У двух типов (безработные и пенсионеры) получатся аномально большие значения. Исправить такие значения сложно, поэтому оставьте их как есть. Тем более этот столбец не понадобится вам для исследования."
   ]
  },
  {
   "cell_type": "markdown",
   "id": "07054e8a",
   "metadata": {
    "deletable": false,
    "editable": false,
    "id": "d8a9f147"
   },
   "source": [
    "**Задание 8. Выведите перечень уникальных значений столбца `children`.**"
   ]
  },
  {
   "cell_type": "code",
   "execution_count": 45,
   "id": "975a56b9",
   "metadata": {
    "deletable": false,
    "id": "ef5056eb",
    "outputId": "6975b15c-7f95-4697-d16d-a0c79b657b03"
   },
   "outputs": [
    {
     "data": {
      "text/plain": [
       "array([ 1,  0,  3,  2, -1,  4, 20,  5])"
      ]
     },
     "execution_count": 45,
     "metadata": {},
     "output_type": "execute_result"
    }
   ],
   "source": [
    "data['children'].unique()"
   ]
  },
  {
   "cell_type": "markdown",
   "id": "e713abb2",
   "metadata": {
    "deletable": false,
    "editable": false,
    "id": "40b9ebf2"
   },
   "source": [
    "**Задание 9. В столбце `children` есть два аномальных значения. Удалите строки, в которых встречаются такие аномальные значения из датафрейма `data`.**"
   ]
  },
  {
   "cell_type": "code",
   "execution_count": 46,
   "id": "c758f6e1",
   "metadata": {
    "deletable": false,
    "id": "3ff9801d"
   },
   "outputs": [],
   "source": [
    "data = data[(data['children'] != -1) & (data['children'] != 2)]"
   ]
  },
  {
   "cell_type": "markdown",
   "id": "0f137961",
   "metadata": {
    "deletable": false,
    "editable": false,
    "id": "bbc4d0ce"
   },
   "source": [
    "**Задание 10. Ещё раз выведите перечень уникальных значений столбца `children`, чтобы убедиться, что артефакты удалены.**"
   ]
  },
  {
   "cell_type": "code",
   "execution_count": 47,
   "id": "5e33a04c",
   "metadata": {
    "deletable": false,
    "id": "ad4fa8b7",
    "outputId": "b2097101-d49d-44d9-901b-32a65c9463d1"
   },
   "outputs": [
    {
     "data": {
      "text/plain": [
       "array([1, 0, 3, 2, 4, 5])"
      ]
     },
     "execution_count": 47,
     "metadata": {},
     "output_type": "execute_result"
    }
   ],
   "source": [
    "data['children'].unique()"
   ]
  },
  {
   "cell_type": "markdown",
   "id": "2a7dbea4",
   "metadata": {
    "deletable": false,
    "editable": false,
    "id": "75440b63"
   },
   "source": [
    "### Удаление пропусков (продолжение)"
   ]
  },
  {
   "cell_type": "markdown",
   "id": "5bc4b474",
   "metadata": {
    "deletable": false,
    "editable": false,
    "id": "f4ea573f"
   },
   "source": [
    "**Задание 11. Заполните пропуски в столбце `days_employed` медианными значениями по каждого типа занятости `income_type`.**"
   ]
  },
  {
   "cell_type": "code",
   "execution_count": 48,
   "id": "b59e1881",
   "metadata": {
    "deletable": false,
    "id": "af6b1a7e"
   },
   "outputs": [],
   "source": [
    "for t in data['income_type'].unique():\n",
    "    data.loc[(data['income_type'] == t) & (data['days_employed'].isna()), 'days_employed'] = \\\n",
    "    data.loc[(data['income_type'] == t), 'days_employed'].median()"
   ]
  },
  {
   "cell_type": "markdown",
   "id": "ca6bc41f",
   "metadata": {
    "deletable": false,
    "editable": false,
    "id": "2753f40d"
   },
   "source": [
    "**Задание 12. Убедитесь, что все пропуски заполнены. Проверьте себя и ещё раз выведите количество пропущенных значений для каждого столбца с помощью двух методов.**"
   ]
  },
  {
   "cell_type": "code",
   "execution_count": 49,
   "id": "cc840e80",
   "metadata": {
    "deletable": false,
    "id": "55f78bc2",
    "outputId": "8da1e4e1-358e-4e87-98c9-f261bce0a7b2"
   },
   "outputs": [
    {
     "data": {
      "text/plain": [
       "children            0\n",
       "days_employed       0\n",
       "dob_years           0\n",
       "education           0\n",
       "education_id        0\n",
       "family_status       0\n",
       "family_status_id    0\n",
       "gender              0\n",
       "income_type         0\n",
       "debt                0\n",
       "total_income        0\n",
       "purpose             0\n",
       "dtype: int64"
      ]
     },
     "execution_count": 49,
     "metadata": {},
     "output_type": "execute_result"
    }
   ],
   "source": [
    "data.isna().sum()"
   ]
  },
  {
   "cell_type": "markdown",
   "id": "5e712801",
   "metadata": {
    "deletable": false,
    "editable": false,
    "id": "ddc81e43"
   },
   "source": [
    "### Изменение типов данных"
   ]
  },
  {
   "cell_type": "markdown",
   "id": "a24bc530",
   "metadata": {
    "deletable": false,
    "editable": false,
    "id": "42d19d24"
   },
   "source": [
    "**Задание 13. Замените вещественный тип данных в столбце `total_income` на целочисленный с помощью метода `astype()`.**"
   ]
  },
  {
   "cell_type": "code",
   "execution_count": 50,
   "id": "e19c169c",
   "metadata": {
    "deletable": false,
    "id": "920b65ad"
   },
   "outputs": [],
   "source": [
    "data['total_income'] = data['total_income'].astype(int)"
   ]
  },
  {
   "cell_type": "markdown",
   "id": "b5dea29b",
   "metadata": {
    "deletable": false,
    "editable": false,
    "id": "80c420ba"
   },
   "source": [
    "### Обработка дубликатов"
   ]
  },
  {
   "cell_type": "markdown",
   "id": "d778f9b0",
   "metadata": {
    "deletable": false,
    "editable": false
   },
   "source": [
    "**Задание 14. Обработайте неявные дубликаты в столбце `education`. В этом столбце есть одни и те же значения, но записанные по-разному: с использованием заглавных и строчных букв. Приведите их к нижнему регистру. Проверьте остальные столбцы.**"
   ]
  },
  {
   "cell_type": "code",
   "execution_count": 51,
   "id": "640f909d",
   "metadata": {
    "deletable": false
   },
   "outputs": [],
   "source": [
    "data['education'] = data['education'].str.lower()"
   ]
  },
  {
   "cell_type": "markdown",
   "id": "1876c505",
   "metadata": {
    "deletable": false,
    "editable": false,
    "id": "dc587695"
   },
   "source": [
    "**Задание 15. Выведите на экран количество строк-дубликатов в данных. Если такие строки присутствуют, удалите их.**"
   ]
  },
  {
   "cell_type": "code",
   "execution_count": 52,
   "id": "49ff3274",
   "metadata": {
    "deletable": false,
    "id": "3ee445e4",
    "outputId": "9684deba-1934-42d1-99e1-cda61740f822"
   },
   "outputs": [
    {
     "data": {
      "text/plain": [
       "71"
      ]
     },
     "execution_count": 52,
     "metadata": {},
     "output_type": "execute_result"
    }
   ],
   "source": [
    "data.duplicated().sum()"
   ]
  },
  {
   "cell_type": "code",
   "execution_count": 53,
   "id": "b107723a",
   "metadata": {
    "deletable": false,
    "id": "8575fe05"
   },
   "outputs": [],
   "source": [
    "data = data.drop_duplicates()"
   ]
  },
  {
   "cell_type": "markdown",
   "id": "9694239b",
   "metadata": {
    "deletable": false,
    "editable": false,
    "id": "9904cf55"
   },
   "source": [
    "### Категоризация данных"
   ]
  },
  {
   "cell_type": "markdown",
   "id": "160a868a",
   "metadata": {
    "deletable": false,
    "editable": false,
    "id": "72fcc8a2"
   },
   "source": [
    "**Задание 16. На основании диапазонов, указанных ниже, создайте в датафрейме `data` столбец `total_income_category` с категориями:**\n",
    "\n",
    "- 0–30000 — `'E'`;\n",
    "- 30001–50000 — `'D'`;\n",
    "- 50001–200000 — `'C'`;\n",
    "- 200001–1000000 — `'B'`;\n",
    "- 1000001 и выше — `'A'`.\n",
    "\n",
    "\n",
    "**Например, кредитополучателю с доходом 25000 нужно назначить категорию `'E'`, а клиенту, получающему 235000, — `'B'`. Используйте собственную функцию с именем `categorize_income()` и метод `apply()`.**"
   ]
  },
  {
   "cell_type": "code",
   "execution_count": 54,
   "id": "878a24dc",
   "metadata": {
    "deletable": false,
    "id": "e1771346"
   },
   "outputs": [],
   "source": [
    "def categorize_income(income):\n",
    "    try:\n",
    "        if 0 <= income <= 30000:\n",
    "            return 'E'\n",
    "        elif 30001 <= income <= 50000:\n",
    "            return 'D'\n",
    "        elif 50001 <= income <= 200000:\n",
    "            return 'C'\n",
    "        elif 200001 <= income <= 1000000:\n",
    "            return 'B'\n",
    "        elif income >= 1000001:\n",
    "            return 'A'\n",
    "    except:\n",
    "        pass"
   ]
  },
  {
   "cell_type": "code",
   "execution_count": 55,
   "id": "29a5921e",
   "metadata": {
    "deletable": false,
    "id": "d5f3586d"
   },
   "outputs": [],
   "source": [
    "data['total_income_category'] = data['total_income'].apply(categorize_income)"
   ]
  },
  {
   "cell_type": "markdown",
   "id": "71510860",
   "metadata": {
    "deletable": false,
    "editable": false,
    "id": "dde49b5c"
   },
   "source": [
    "**Задание 17. Выведите на экран перечень уникальных целей взятия кредита из столбца `purpose`.**"
   ]
  },
  {
   "cell_type": "code",
   "execution_count": 56,
   "id": "4cdeff61",
   "metadata": {
    "deletable": false,
    "id": "f67ce9b3",
    "outputId": "673c12d9-7d7e-4ae0-9812-c622c89dd244"
   },
   "outputs": [
    {
     "data": {
      "text/plain": [
       "array(['покупка жилья', 'приобретение автомобиля',\n",
       "       'дополнительное образование', 'сыграть свадьбу',\n",
       "       'операции с жильем', 'образование', 'на проведение свадьбы',\n",
       "       'покупка жилья для семьи', 'покупка недвижимости',\n",
       "       'покупка коммерческой недвижимости', 'покупка жилой недвижимости',\n",
       "       'строительство собственной недвижимости', 'недвижимость',\n",
       "       'строительство недвижимости', 'на покупку подержанного автомобиля',\n",
       "       'на покупку своего автомобиля',\n",
       "       'операции с коммерческой недвижимостью',\n",
       "       'строительство жилой недвижимости', 'жилье',\n",
       "       'операции со своей недвижимостью', 'автомобили',\n",
       "       'заняться образованием', 'сделка с подержанным автомобилем',\n",
       "       'получение образования', 'автомобиль', 'свадьба',\n",
       "       'получение дополнительного образования', 'покупка своего жилья',\n",
       "       'операции с недвижимостью', 'получение высшего образования',\n",
       "       'свой автомобиль', 'сделка с автомобилем',\n",
       "       'профильное образование', 'высшее образование',\n",
       "       'покупка жилья для сдачи', 'на покупку автомобиля', 'ремонт жилью',\n",
       "       'заняться высшим образованием'], dtype=object)"
      ]
     },
     "execution_count": 56,
     "metadata": {},
     "output_type": "execute_result"
    }
   ],
   "source": [
    "data['purpose'].unique()"
   ]
  },
  {
   "cell_type": "markdown",
   "id": "1fd5293d",
   "metadata": {
    "deletable": false,
    "editable": false,
    "id": "85d0aef0"
   },
   "source": [
    "**Задание 18. Создайте функцию, которая на основании данных из столбца `purpose` сформирует новый столбец `purpose_category`, в который войдут следующие категории:**\n",
    "\n",
    "- `'операции с автомобилем'`,\n",
    "- `'операции с недвижимостью'`,\n",
    "- `'проведение свадьбы'`,\n",
    "- `'получение образования'`.\n",
    "\n",
    "**Например, если в столбце `purpose` находится подстрока `'на покупку автомобиля'`, то в столбце `purpose_category` должна появиться строка `'операции с автомобилем'`.**\n",
    "\n",
    "**Используйте собственную функцию с именем `categorize_purpose()` и метод `apply()`. Изучите данные в столбце `purpose` и определите, какие подстроки помогут вам правильно определить категорию.**"
   ]
  },
  {
   "cell_type": "code",
   "execution_count": 57,
   "id": "417e0213",
   "metadata": {
    "deletable": false,
    "id": "e149fab4"
   },
   "outputs": [],
   "source": [
    "def categorize_purpose(row):\n",
    "    try:\n",
    "        if 'автом' in row:\n",
    "            return 'операции с автомобилем'\n",
    "        elif 'жил' in row or 'недвиж' in row:\n",
    "            return 'операции с недвижимостью'\n",
    "        elif 'свад' in row:\n",
    "            return 'проведение свадьбы'\n",
    "        elif 'образов' in row:\n",
    "            return 'получение образования'\n",
    "    except:\n",
    "        return 'нет категории'"
   ]
  },
  {
   "cell_type": "code",
   "execution_count": 58,
   "id": "d5513c6e",
   "metadata": {
    "deletable": false,
    "id": "bf36e69b"
   },
   "outputs": [],
   "source": [
    "data['purpose_category'] = data['purpose'].apply(categorize_purpose)"
   ]
  },
  {
   "cell_type": "markdown",
   "id": "0f7bffaa",
   "metadata": {
    "deletable": false,
    "editable": false,
    "id": "09b242bf"
   },
   "source": [
    "### Шаг 3. Исследуйте данные и ответьте на вопросы"
   ]
  },
  {
   "cell_type": "markdown",
   "id": "aca8bc98",
   "metadata": {
    "deletable": false,
    "editable": false,
    "id": "c5d66278"
   },
   "source": [
    "#### 3.1 Есть ли зависимость между количеством детей и возвратом кредита в срок?"
   ]
  },
  {
   "cell_type": "code",
   "execution_count": 59,
   "id": "34087608",
   "metadata": {
    "deletable": false,
    "id": "2cacfc4a",
    "scrolled": true
   },
   "outputs": [
    {
     "data": {
      "text/html": [
       "<div>\n",
       "<style scoped>\n",
       "    .dataframe tbody tr th:only-of-type {\n",
       "        vertical-align: middle;\n",
       "    }\n",
       "\n",
       "    .dataframe tbody tr th {\n",
       "        vertical-align: top;\n",
       "    }\n",
       "\n",
       "    .dataframe thead th {\n",
       "        text-align: right;\n",
       "    }\n",
       "</style>\n",
       "<table border=\"1\" class=\"dataframe\">\n",
       "  <thead>\n",
       "    <tr style=\"text-align: right;\">\n",
       "      <th></th>\n",
       "      <th>children_count</th>\n",
       "      <th>children_sum</th>\n",
       "      <th>children_final</th>\n",
       "    </tr>\n",
       "    <tr>\n",
       "      <th>children</th>\n",
       "      <th></th>\n",
       "      <th></th>\n",
       "      <th></th>\n",
       "    </tr>\n",
       "  </thead>\n",
       "  <tbody>\n",
       "    <tr>\n",
       "      <th>0</th>\n",
       "      <td>14091</td>\n",
       "      <td>1063</td>\n",
       "      <td>0.075438</td>\n",
       "    </tr>\n",
       "    <tr>\n",
       "      <th>1</th>\n",
       "      <td>4808</td>\n",
       "      <td>444</td>\n",
       "      <td>0.092346</td>\n",
       "    </tr>\n",
       "    <tr>\n",
       "      <th>2</th>\n",
       "      <td>2052</td>\n",
       "      <td>194</td>\n",
       "      <td>0.094542</td>\n",
       "    </tr>\n",
       "    <tr>\n",
       "      <th>3</th>\n",
       "      <td>330</td>\n",
       "      <td>27</td>\n",
       "      <td>0.081818</td>\n",
       "    </tr>\n",
       "    <tr>\n",
       "      <th>4</th>\n",
       "      <td>41</td>\n",
       "      <td>4</td>\n",
       "      <td>0.097561</td>\n",
       "    </tr>\n",
       "    <tr>\n",
       "      <th>5</th>\n",
       "      <td>9</td>\n",
       "      <td>0</td>\n",
       "      <td>0.000000</td>\n",
       "    </tr>\n",
       "  </tbody>\n",
       "</table>\n",
       "</div>"
      ],
      "text/plain": [
       "          children_count  children_sum  children_final\n",
       "children                                              \n",
       "0                  14091          1063        0.075438\n",
       "1                   4808           444        0.092346\n",
       "2                   2052           194        0.094542\n",
       "3                    330            27        0.081818\n",
       "4                     41             4        0.097561\n",
       "5                      9             0        0.000000"
      ]
     },
     "execution_count": 59,
     "metadata": {},
     "output_type": "execute_result"
    }
   ],
   "source": [
    "#создаем пустой датафрейм\n",
    "children_debt = pd.DataFrame()\n",
    "#создаем столбец, показывающий количество заемщиков по количеству детей\n",
    "children_debt['children_count'] = data.groupby('children')['debt'].count() \n",
    "#создаем столбец, показывающий количество просрочек оплаты по кредиту по количеству детей\n",
    "children_debt['children_sum'] = data.groupby('children')['debt'].sum()\n",
    "#создаем столбец, показывающий долю людей, которые просрочили оплату, по количеству детей\n",
    "children_debt['children_final'] = children_debt['children_sum'] / children_debt['children_count'] \n",
    "#сортируем по количеству детей, по возрастанию\n",
    "children_debt = children_debt.sort_values('children', ascending = True)\n",
    "children_debt"
   ]
  },
  {
   "cell_type": "code",
   "execution_count": 60,
   "id": "8209ac67",
   "metadata": {},
   "outputs": [
    {
     "data": {
      "text/plain": [
       "<AxesSubplot:xlabel='children', ylabel='children_final'>"
      ]
     },
     "execution_count": 60,
     "metadata": {},
     "output_type": "execute_result"
    },
    {
     "data": {
      "image/png": "[encoded data removed]",
      "text/plain": [
       "<Figure size 842.4x595.44 with 1 Axes>"
      ]
     },
     "metadata": {},
     "output_type": "display_data"
    }
   ],
   "source": [
    "sns.set(rc={'figure.figsize':(11.7,8.27)})\n",
    "\n",
    "children_debt = data.groupby('children', as_index=False).agg(\n",
    "    debt_count = ('debt', 'count'), debt_sum = ('debt', 'sum')\n",
    ")\n",
    "children_debt['children_final'] = children_debt['debt_sum'] \\\n",
    "/ children_debt['debt_count'] \n",
    "sns.barplot(data=children_debt, x='children', y='children_final')\n"
   ]
  },
  {
   "cell_type": "markdown",
   "id": "bf23ac5e",
   "metadata": {
    "deletable": false,
    "id": "3a6b99ec"
   },
   "source": [
    "**Вывод:** #согласно полученным значениям: \n",
    "Заемщики без детей чаще оплачивают кредит в срок.\n",
    "Заемщики имеющие 1-2 ребенка оплачивают кредит в срок реже, чем заемщики без детей, возможно из-за повышения расходов на содержание детей.\n",
    "Заемщики имеющие 3 детей так же оплачивают кредит в срок реже, чем заемщики без детей, но чаще чем заемщики имеющие 1-2 ребенка, возможно, так как большое количество детей имеют более обеспеченные заемщики.\n",
    "Количество заемщиков с 4 и 5 детьми мало, сравнивать эти показатели может быть нецелесообразно."
   ]
  },
  {
   "cell_type": "markdown",
   "id": "f9ba89e7",
   "metadata": {
    "deletable": false,
    "editable": false,
    "id": "97be82ca"
   },
   "source": [
    "#### 3.2 Есть ли зависимость между семейным положением и возвратом кредита в срок?"
   ]
  },
  {
   "cell_type": "code",
   "execution_count": 61,
   "id": "3964f69e",
   "metadata": {
    "deletable": false,
    "id": "dc3f7ee8"
   },
   "outputs": [
    {
     "data": {
      "text/html": [
       "<div>\n",
       "<style scoped>\n",
       "    .dataframe tbody tr th:only-of-type {\n",
       "        vertical-align: middle;\n",
       "    }\n",
       "\n",
       "    .dataframe tbody tr th {\n",
       "        vertical-align: top;\n",
       "    }\n",
       "\n",
       "    .dataframe thead th {\n",
       "        text-align: right;\n",
       "    }\n",
       "</style>\n",
       "<table border=\"1\" class=\"dataframe\">\n",
       "  <thead>\n",
       "    <tr style=\"text-align: right;\">\n",
       "      <th></th>\n",
       "      <th>family_status_sum</th>\n",
       "      <th>family_status_count</th>\n",
       "      <th>family_status_final</th>\n",
       "    </tr>\n",
       "    <tr>\n",
       "      <th>family_status</th>\n",
       "      <th></th>\n",
       "      <th></th>\n",
       "      <th></th>\n",
       "    </tr>\n",
       "  </thead>\n",
       "  <tbody>\n",
       "    <tr>\n",
       "      <th>вдовец / вдова</th>\n",
       "      <td>63</td>\n",
       "      <td>951</td>\n",
       "      <td>0.066246</td>\n",
       "    </tr>\n",
       "    <tr>\n",
       "      <th>в разводе</th>\n",
       "      <td>84</td>\n",
       "      <td>1189</td>\n",
       "      <td>0.070648</td>\n",
       "    </tr>\n",
       "    <tr>\n",
       "      <th>женат / замужем</th>\n",
       "      <td>927</td>\n",
       "      <td>12261</td>\n",
       "      <td>0.075606</td>\n",
       "    </tr>\n",
       "    <tr>\n",
       "      <th>гражданский брак</th>\n",
       "      <td>385</td>\n",
       "      <td>4134</td>\n",
       "      <td>0.093130</td>\n",
       "    </tr>\n",
       "    <tr>\n",
       "      <th>Не женат / не замужем</th>\n",
       "      <td>273</td>\n",
       "      <td>2796</td>\n",
       "      <td>0.097639</td>\n",
       "    </tr>\n",
       "  </tbody>\n",
       "</table>\n",
       "</div>"
      ],
      "text/plain": [
       "                       family_status_sum  family_status_count  \\\n",
       "family_status                                                   \n",
       "вдовец / вдова                        63                  951   \n",
       "в разводе                             84                 1189   \n",
       "женат / замужем                      927                12261   \n",
       "гражданский брак                     385                 4134   \n",
       "Не женат / не замужем                273                 2796   \n",
       "\n",
       "                       family_status_final  \n",
       "family_status                               \n",
       "вдовец / вдова                    0.066246  \n",
       "в разводе                         0.070648  \n",
       "женат / замужем                   0.075606  \n",
       "гражданский брак                  0.093130  \n",
       "Не женат / не замужем             0.097639  "
      ]
     },
     "execution_count": 61,
     "metadata": {},
     "output_type": "execute_result"
    }
   ],
   "source": [
    "# решение аналогичено предудущей задаче\n",
    "family_status_debt = pd.DataFrame()\n",
    "family_status_debt['family_status_sum'] = data.groupby('family_status')['debt'].sum()\n",
    "family_status_debt['family_status_count'] = data.groupby('family_status')['debt'].count()\n",
    "family_status_debt['family_status_final'] = family_status_debt['family_status_sum'] / family_status_debt['family_status_count'] \n",
    "family_status_debt.sort_values('family_status_final', ascending = True)"
   ]
  },
  {
   "cell_type": "code",
   "execution_count": 62,
   "id": "afc002bb",
   "metadata": {},
   "outputs": [
    {
     "data": {
      "text/plain": [
       "<AxesSubplot:xlabel='family_status', ylabel='family_status_final'>"
      ]
     },
     "execution_count": 62,
     "metadata": {},
     "output_type": "execute_result"
    },
    {
     "data": {
      "image/png": "[encoded data removed]",
      "text/plain": [
       "<Figure size 842.4x595.44 with 1 Axes>"
      ]
     },
     "metadata": {},
     "output_type": "display_data"
    }
   ],
   "source": [
    "sns.set(rc={'figure.figsize':(11.7,8.27)})\n",
    "\n",
    "family_status_debt = data.groupby('family_status', as_index=False).agg(\n",
    "    debt_count = ('debt', 'count'), debt_sum = ('debt', 'sum')\n",
    ")\n",
    "family_status_debt['family_status_final'] = family_status_debt['debt_sum'] \\\n",
    "/ family_status_debt['debt_count'] \n",
    "sns.barplot(data=family_status_debt, x='family_status', y='family_status_final')\n",
    "\n"
   ]
  },
  {
   "cell_type": "markdown",
   "id": "cd74d393",
   "metadata": {
    "deletable": false,
    "id": "1cef7837"
   },
   "source": [
    "**Вывод:** Зависимоть между семейным положением и возвратом кредита в срок есть:\n",
    "Заемщики-вдовцы и заемщики в разводе чаще платят в срок, чем люди в браке.\n",
    "Не женатые и не замужные не платят в срок чаще всех."
   ]
  },
  {
   "cell_type": "markdown",
   "id": "4209bf0c",
   "metadata": {
    "deletable": false,
    "editable": false,
    "id": "1e8b2fca"
   },
   "source": [
    "#### 3.3 Есть ли зависимость между уровнем дохода и возвратом кредита в срок?"
   ]
  },
  {
   "cell_type": "code",
   "execution_count": 63,
   "id": "91ac6e24",
   "metadata": {
    "deletable": false,
    "id": "cd7e3720"
   },
   "outputs": [
    {
     "data": {
      "text/html": [
       "<div>\n",
       "<style scoped>\n",
       "    .dataframe tbody tr th:only-of-type {\n",
       "        vertical-align: middle;\n",
       "    }\n",
       "\n",
       "    .dataframe tbody tr th {\n",
       "        vertical-align: top;\n",
       "    }\n",
       "\n",
       "    .dataframe thead th {\n",
       "        text-align: right;\n",
       "    }\n",
       "</style>\n",
       "<table border=\"1\" class=\"dataframe\">\n",
       "  <thead>\n",
       "    <tr style=\"text-align: right;\">\n",
       "      <th></th>\n",
       "      <th>income_debt_sum</th>\n",
       "      <th>income_debt_count</th>\n",
       "      <th>income_debt_final</th>\n",
       "    </tr>\n",
       "    <tr>\n",
       "      <th>total_income_category</th>\n",
       "      <th></th>\n",
       "      <th></th>\n",
       "      <th></th>\n",
       "    </tr>\n",
       "  </thead>\n",
       "  <tbody>\n",
       "    <tr>\n",
       "      <th>A</th>\n",
       "      <td>2</td>\n",
       "      <td>25</td>\n",
       "      <td>0.080000</td>\n",
       "    </tr>\n",
       "    <tr>\n",
       "      <th>B</th>\n",
       "      <td>354</td>\n",
       "      <td>5014</td>\n",
       "      <td>0.070602</td>\n",
       "    </tr>\n",
       "    <tr>\n",
       "      <th>C</th>\n",
       "      <td>1353</td>\n",
       "      <td>15921</td>\n",
       "      <td>0.084982</td>\n",
       "    </tr>\n",
       "    <tr>\n",
       "      <th>D</th>\n",
       "      <td>21</td>\n",
       "      <td>349</td>\n",
       "      <td>0.060172</td>\n",
       "    </tr>\n",
       "    <tr>\n",
       "      <th>E</th>\n",
       "      <td>2</td>\n",
       "      <td>22</td>\n",
       "      <td>0.090909</td>\n",
       "    </tr>\n",
       "  </tbody>\n",
       "</table>\n",
       "</div>"
      ],
      "text/plain": [
       "                       income_debt_sum  income_debt_count  income_debt_final\n",
       "total_income_category                                                       \n",
       "A                                    2                 25           0.080000\n",
       "B                                  354               5014           0.070602\n",
       "C                                 1353              15921           0.084982\n",
       "D                                   21                349           0.060172\n",
       "E                                    2                 22           0.090909"
      ]
     },
     "execution_count": 63,
     "metadata": {},
     "output_type": "execute_result"
    }
   ],
   "source": [
    "# решение анолагично предыдущей задаче\n",
    "# А-заемщики с наибольшими зарплатами, ..., E - заемщики с наименьшими зарплатами\n",
    "income_debt = pd.DataFrame()\n",
    "income_debt['income_debt_sum'] = data.groupby('total_income_category')['debt'].sum()\n",
    "income_debt['income_debt_count'] = data.groupby('total_income_category')['debt'].count()\n",
    "income_debt['income_debt_final'] = income_debt['income_debt_sum'] / income_debt['income_debt_count'] \n",
    "income_debt.sort_values('total_income_category', ascending = True)"
   ]
  },
  {
   "cell_type": "markdown",
   "id": "f5b62e41",
   "metadata": {
    "deletable": false,
    "id": "e8593def"
   },
   "source": [
    "**Вывод:** выплата кредита в срок не зависит от уровня дохода заемщика"
   ]
  },
  {
   "cell_type": "code",
   "execution_count": 64,
   "id": "5e4184ee",
   "metadata": {},
   "outputs": [
    {
     "data": {
      "text/html": [
       "<div>\n",
       "<style scoped>\n",
       "    .dataframe tbody tr th:only-of-type {\n",
       "        vertical-align: middle;\n",
       "    }\n",
       "\n",
       "    .dataframe tbody tr th {\n",
       "        vertical-align: top;\n",
       "    }\n",
       "\n",
       "    .dataframe thead th {\n",
       "        text-align: right;\n",
       "    }\n",
       "</style>\n",
       "<table border=\"1\" class=\"dataframe\">\n",
       "  <thead>\n",
       "    <tr style=\"text-align: right;\">\n",
       "      <th></th>\n",
       "      <th>income_debt_sum</th>\n",
       "      <th>income_debt_count</th>\n",
       "      <th>income_debt_final</th>\n",
       "    </tr>\n",
       "    <tr>\n",
       "      <th>total_income_category</th>\n",
       "      <th></th>\n",
       "      <th></th>\n",
       "      <th></th>\n",
       "    </tr>\n",
       "  </thead>\n",
       "  <tbody>\n",
       "    <tr>\n",
       "      <th>низкий доход</th>\n",
       "      <td>23</td>\n",
       "      <td>371</td>\n",
       "      <td>0.061995</td>\n",
       "    </tr>\n",
       "    <tr>\n",
       "      <th>высокий доход</th>\n",
       "      <td>356</td>\n",
       "      <td>5039</td>\n",
       "      <td>0.070649</td>\n",
       "    </tr>\n",
       "    <tr>\n",
       "      <th>средний доход</th>\n",
       "      <td>1353</td>\n",
       "      <td>15921</td>\n",
       "      <td>0.084982</td>\n",
       "    </tr>\n",
       "  </tbody>\n",
       "</table>\n",
       "</div>"
      ],
      "text/plain": [
       "                       income_debt_sum  income_debt_count  income_debt_final\n",
       "total_income_category                                                       \n",
       "низкий доход                        23                371           0.061995\n",
       "высокий доход                      356               5039           0.070649\n",
       "средний доход                     1353              15921           0.084982"
      ]
     },
     "execution_count": 64,
     "metadata": {},
     "output_type": "execute_result"
    }
   ],
   "source": [
    "def categorize_income(income):\n",
    "    try:\n",
    "        if 0 <= income <= 50000:\n",
    "            return 'низкий доход'\n",
    "        elif 50001 <= income <= 200000:\n",
    "            return 'средний доход'\n",
    "        elif income >= 200000:\n",
    "            return 'высокий доход'\n",
    "    except:\n",
    "        pass\n",
    "\n",
    "data['total_income_category'] = data['total_income'].apply(categorize_income)\n",
    "\n",
    "income_debt = pd.DataFrame()\n",
    "income_debt['income_debt_sum'] = data.groupby('total_income_category')['debt'].sum()\n",
    "income_debt['income_debt_count'] = data.groupby('total_income_category')['debt'].count()\n",
    "income_debt['income_debt_final'] = income_debt['income_debt_sum'] / income_debt['income_debt_count'] \n",
    "#расположим по возрастанию строки таблицы по доле заемщиков просрочивших оплату \n",
    "income_debt.sort_values('income_debt_final', ascending = True)\n",
    "\n"
   ]
  },
  {
   "cell_type": "markdown",
   "id": "e28576b7",
   "metadata": {
    "deletable": false,
    "editable": false,
    "id": "99ecbd1f"
   },
   "source": [
    "#### 3.4 Как разные цели кредита влияют на его возврат в срок?"
   ]
  },
  {
   "cell_type": "code",
   "execution_count": 65,
   "id": "bf9d2d18",
   "metadata": {
    "deletable": false,
    "id": "2b687290"
   },
   "outputs": [
    {
     "data": {
      "text/html": [
       "<div>\n",
       "<style scoped>\n",
       "    .dataframe tbody tr th:only-of-type {\n",
       "        vertical-align: middle;\n",
       "    }\n",
       "\n",
       "    .dataframe tbody tr th {\n",
       "        vertical-align: top;\n",
       "    }\n",
       "\n",
       "    .dataframe thead th {\n",
       "        text-align: right;\n",
       "    }\n",
       "</style>\n",
       "<table border=\"1\" class=\"dataframe\">\n",
       "  <thead>\n",
       "    <tr style=\"text-align: right;\">\n",
       "      <th></th>\n",
       "      <th>sum_purpose_category</th>\n",
       "      <th>count_purpose_category</th>\n",
       "      <th>result_purpose_category</th>\n",
       "    </tr>\n",
       "    <tr>\n",
       "      <th>purpose_category</th>\n",
       "      <th></th>\n",
       "      <th></th>\n",
       "      <th></th>\n",
       "    </tr>\n",
       "  </thead>\n",
       "  <tbody>\n",
       "    <tr>\n",
       "      <th>операции с недвижимостью</th>\n",
       "      <td>780</td>\n",
       "      <td>10751</td>\n",
       "      <td>0.072551</td>\n",
       "    </tr>\n",
       "    <tr>\n",
       "      <th>проведение свадьбы</th>\n",
       "      <td>183</td>\n",
       "      <td>2313</td>\n",
       "      <td>0.079118</td>\n",
       "    </tr>\n",
       "    <tr>\n",
       "      <th>получение образования</th>\n",
       "      <td>369</td>\n",
       "      <td>3988</td>\n",
       "      <td>0.092528</td>\n",
       "    </tr>\n",
       "    <tr>\n",
       "      <th>операции с автомобилем</th>\n",
       "      <td>400</td>\n",
       "      <td>4279</td>\n",
       "      <td>0.093480</td>\n",
       "    </tr>\n",
       "  </tbody>\n",
       "</table>\n",
       "</div>"
      ],
      "text/plain": [
       "                          sum_purpose_category  count_purpose_category  \\\n",
       "purpose_category                                                         \n",
       "операции с недвижимостью                   780                   10751   \n",
       "проведение свадьбы                         183                    2313   \n",
       "получение образования                      369                    3988   \n",
       "операции с автомобилем                     400                    4279   \n",
       "\n",
       "                          result_purpose_category  \n",
       "purpose_category                                   \n",
       "операции с недвижимостью                 0.072551  \n",
       "проведение свадьбы                       0.079118  \n",
       "получение образования                    0.092528  \n",
       "операции с автомобилем                   0.093480  "
      ]
     },
     "execution_count": 65,
     "metadata": {},
     "output_type": "execute_result"
    }
   ],
   "source": [
    "# решение аналогично предыдущей задаче\n",
    "debt_from_purpose_category = pd.DataFrame()\n",
    "debt_from_purpose_category['sum_purpose_category'] = data.groupby('purpose_category')['debt'].sum()\n",
    "debt_from_purpose_category['count_purpose_category'] = data.groupby('purpose_category')['debt'].count()\n",
    "debt_from_purpose_category['result_purpose_category'] = debt_from_purpose_category['sum_purpose_category'] / debt_from_purpose_category['count_purpose_category'] \n",
    "debt_from_purpose_category.sort_values('result_purpose_category', ascending = True)# Ваш код будет здесь. Вы можете создавать новые ячейки."
   ]
  },
  {
   "cell_type": "markdown",
   "id": "b7a70724",
   "metadata": {
    "deletable": false,
    "id": "b4bb2ce6"
   },
   "source": [
    "**Вывод:** анализируя данные из таблицы, мы видим, что заемщики берущие кредит на недвижимость и на проведение свадьбы, чаще платят в срок, чем заемщики берущие кредит на автомобили и образование"
   ]
  },
  {
   "cell_type": "markdown",
   "id": "bed7c069",
   "metadata": {
    "deletable": false,
    "editable": false,
    "id": "09c3ac4c"
   },
   "source": [
    "#### 3.5 Приведите возможные причины появления пропусков в исходных данных."
   ]
  },
  {
   "cell_type": "markdown",
   "id": "16e0c414",
   "metadata": {
    "deletable": false,
    "id": "9da2ceda"
   },
   "source": [
    "*Ответ:* Причинами появления пропусков могут быть: \n",
    "Технологические ошибки - возникают при копировании, считывании, смене формата. Сбой может произойти даже во время записи данных. \n",
    "Человеческий фактор - ошибки человека или сокрытие информации.\n",
    "Такой информации нет."
   ]
  },
  {
   "cell_type": "markdown",
   "id": "63d9a0d0",
   "metadata": {
    "deletable": false,
    "editable": false,
    "id": "7b0487d6"
   },
   "source": [
    "#### 3.6 Объясните, почему заполнить пропуски медианным значением — лучшее решение для количественных переменных."
   ]
  },
  {
   "cell_type": "markdown",
   "id": "654ffae3",
   "metadata": {
    "deletable": false,
    "id": "7ecf2b8e"
   },
   "source": [
    "*Ответ:* когда мы заполняем пропуска медианными значениями, мы меньше искажаем результат при анализе, чем если бы заполняли нулям."
   ]
  },
  {
   "cell_type": "code",
   "execution_count": 66,
   "id": "b32a0141",
   "metadata": {},
   "outputs": [
    {
     "name": "stdout",
     "output_type": "stream",
     "text": [
      "Зарплата выросла на 33%\n"
     ]
    }
   ],
   "source": [
    "old_staff = pd.Series([100, 100, 100, 100, 100])\n",
    "new_director = pd.Series([100, 100, 100, 100, 100, 300]) \n",
    "old_staff_mean = old_staff.mean()\n",
    "new_director_mean = new_director.mean()\n",
    "new_director_mean / old_staff_mean - 1  \n",
    "print(f'Зарплата выросла на {new_director_mean / old_staff_mean - 1:.0%}') "
   ]
  },
  {
   "cell_type": "code",
   "execution_count": 67,
   "id": "493cbe89",
   "metadata": {},
   "outputs": [
    {
     "name": "stdout",
     "output_type": "stream",
     "text": [
      "100.0\n"
     ]
    }
   ],
   "source": [
    "new_director_median = new_director.median()\n",
    "print(new_director_median) "
   ]
  },
  {
   "cell_type": "markdown",
   "id": "64c7b18c",
   "metadata": {
    "deletable": false,
    "editable": false,
    "id": "6db5255a"
   },
   "source": [
    "### Шаг 4: общий вывод."
   ]
  },
  {
   "cell_type": "markdown",
   "id": "b32a90e7",
   "metadata": {
    "deletable": false,
    "id": "bad65432"
   },
   "source": [
    "На основании анализа данных, мы приходим к выводу, что банкам выгоднее давать кредиты людям без детей, вдовцам, разведенным, людям состоящим в браке, чем не состоящим в браке, берущих кредит на операции с недвижимостью. Уровень дохода не влияет на своевременность оплаты кредита. "
   ]
  },
  {
   "cell_type": "markdown",
   "id": "65603e7c",
   "metadata": {},
   "source": [
    "   Кредитным отделом банка была поставлена задачи:\n",
    "   1. Определить влияет ли семейное положение на факт погашения кредита в срок;\n",
    "   2. Определить влияет ли количество детей клиента на факт погашения кредита в срок.\n",
    "   \n",
    "Проведен анализ данных из статистики платежеспособности клиентов, полученного от кредитного отдела банка.\n",
    "Сделаны следующие выводы:\n",
    "\n",
    "1. **Семейное положение влияет** на факт погашения кредита в срок соедующим образом:"
   ]
  },
  {
   "attachments": {
    "1.png": {
     "image/png": "[encoded data removed]"
    }
   },
   "cell_type": "markdown",
   "id": "2c8d793e",
   "metadata": {},
   "source": [
    "![1.png](attachment:1.png)"
   ]
  },
  {
   "cell_type": "markdown",
   "id": "4e245f69",
   "metadata": {},
   "source": [
    "На столбчатой диаграме:\n",
    "По вертикальной оси расположено значение доли заемщиков которые просрочили оплату,\n",
    "по горизонтальной оси расположены виды семейного положения заемщиков.\n",
    "\n",
    "* Доля заемщиков-вдовцов просрочивших оплату - 6,6 %\n",
    "* Доля заемщиков в разводе просрочивших оплату - 7 %\n",
    "* Доля заемщиков в официальном браке просрочивших оплату - 7,5 %\n",
    "* Доля заемщиков в гражданском браке просрочивших оплату - 9,3 %\n",
    "* Доля заемщиков не состоящих в браке просрочивших оплату - 9,7 %\n",
    "\n",
    "**Вывод:** Заемщики-вдовцы и заемщики в разводе чаще платят в срок, чем люди в браке.\n",
    "Не женатые и не замужные не платят в срок чаще всех."
   ]
  },
  {
   "cell_type": "markdown",
   "id": "92e635a3",
   "metadata": {},
   "source": [
    "2. **Количество детей влияет** на факт погашения кредита в срок следующим образом:"
   ]
  },
  {
   "attachments": {
    "image-2.png": {
     "image/png": "[encoded data removed]"
    }
   },
   "cell_type": "markdown",
   "id": "7308eba5",
   "metadata": {},
   "source": [
    "![image-2.png](attachment:image-2.png)"
   ]
  },
  {
   "cell_type": "markdown",
   "id": "1604f3fe",
   "metadata": {},
   "source": [
    "На столбчатой диаграме:\n",
    "По вертикальной оси расположено значение доли заемщиков которые просрочили оплату,\n",
    "по горизонтальной оси расположено количество детей у заемщика."
   ]
  },
  {
   "cell_type": "markdown",
   "id": "394269a7",
   "metadata": {},
   "source": [
    "* Доля заемщиков без детей просрочивших оплату - 7,5 %\n",
    "* Доля заемщиков с 3 детьми просрочивших оплату - 8,1 %\n",
    "* Доля заемщиков с 1 ребенком просрочивших оплату - 9,2 %\n",
    "* Доля заемщиков с 2 детьми просрочивших оплату - 9,4 %\n"
   ]
  },
  {
   "cell_type": "markdown",
   "id": "81e0bd0b",
   "metadata": {},
   "source": [
    "**Вывод:** согласно полученным значениям: \n",
    "Заемщики без детей чаще оплачивают кредит в срок.\n",
    "Заемщики имеющие 1-2 ребенка оплачивают кредит в срок реже, чем заемщики без детей, возможно из-за повышения расходов на содержание детей.\n",
    "Заемщики имеющие 3 детей так же оплачивают кредит в срок реже, чем заемщики без детей, но чаще чем заемщики имеющие 1-2 ребенка, возможно, так как большое количество детей имеют более обеспеченные заемщики.\n",
    "Количество заемщиков с 4 и 5 детьми мало, сравнивать эти показатели может быть нецелесообразно.\n",
    "\n",
    "\n"
   ]
  },
  {
   "cell_type": "markdown",
   "id": "6601f3be",
   "metadata": {},
   "source": [
    "Так же на основании данных сделаны **дополнительные выводы:**\n",
    "\n",
    "Заемщики с доходом менее 50000 руб./мес., чаще платят за кредит в срок, чем заемщики получающие больше 50000 руб./мес.\n",
    "\n",
    "Заемщики у которых целью кредита является пробретение недвижимости, чаще платят за кредит в срок, чем заемщики с целью проведения свадьбы, получения образования и приобретения автомомбиля.\n",
    "\n"
   ]
  }
 ],
 "metadata": {
  "ExecuteTimeLog": [
   {
    "duration": 51,
    "start_time": "2023-02-07T12:43:16.888Z"
   },
   {
    "duration": 8,
    "start_time": "2023-02-07T12:43:29.510Z"
   },
   {
    "duration": 10,
    "start_time": "2023-02-07T12:43:40.976Z"
   },
   {
    "duration": 15,
    "start_time": "2023-02-07T12:43:44.770Z"
   },
   {
    "duration": 657,
    "start_time": "2023-02-07T12:43:54.996Z"
   },
   {
    "duration": 26,
    "start_time": "2023-02-07T12:43:55.655Z"
   },
   {
    "duration": 16,
    "start_time": "2023-02-07T12:43:55.692Z"
   },
   {
    "duration": 11,
    "start_time": "2023-02-07T12:43:56.378Z"
   },
   {
    "duration": 36,
    "start_time": "2023-02-07T12:43:56.723Z"
   },
   {
    "duration": 4,
    "start_time": "2023-02-07T12:43:57.242Z"
   },
   {
    "duration": 11,
    "start_time": "2023-02-07T12:43:57.611Z"
   },
   {
    "duration": 7,
    "start_time": "2023-02-07T12:43:58.168Z"
   },
   {
    "duration": 8,
    "start_time": "2023-02-07T12:43:58.541Z"
   },
   {
    "duration": 6,
    "start_time": "2023-02-07T12:43:58.925Z"
   },
   {
    "duration": 52,
    "start_time": "2023-02-07T12:43:59.660Z"
   },
   {
    "duration": 12,
    "start_time": "2023-02-07T12:44:00.011Z"
   },
   {
    "duration": 5,
    "start_time": "2023-02-07T12:44:00.566Z"
   },
   {
    "duration": 17,
    "start_time": "2023-02-07T12:44:01.186Z"
   },
   {
    "duration": 24,
    "start_time": "2023-02-07T12:44:02.406Z"
   },
   {
    "duration": 33,
    "start_time": "2023-02-07T12:44:02.742Z"
   },
   {
    "duration": 4,
    "start_time": "2023-02-07T12:44:03.461Z"
   },
   {
    "duration": 11,
    "start_time": "2023-02-07T12:44:03.617Z"
   },
   {
    "duration": 7,
    "start_time": "2023-02-07T12:44:04.404Z"
   },
   {
    "duration": 4,
    "start_time": "2023-02-07T12:44:05.475Z"
   },
   {
    "duration": 9,
    "start_time": "2023-02-07T12:44:05.931Z"
   },
   {
    "duration": 41,
    "start_time": "2023-02-07T12:44:07.641Z"
   },
   {
    "duration": 3,
    "start_time": "2023-02-07T12:49:57.585Z"
   },
   {
    "duration": 9,
    "start_time": "2023-02-07T12:51:51.108Z"
   },
   {
    "duration": 78,
    "start_time": "2023-02-07T12:54:22.871Z"
   },
   {
    "duration": 81,
    "start_time": "2023-02-07T12:54:29.915Z"
   },
   {
    "duration": 85,
    "start_time": "2023-02-07T12:54:37.307Z"
   },
   {
    "duration": 7,
    "start_time": "2023-02-07T12:54:41.812Z"
   },
   {
    "duration": 16,
    "start_time": "2023-02-07T12:58:18.201Z"
   },
   {
    "duration": 9,
    "start_time": "2023-02-07T13:00:02.308Z"
   },
   {
    "duration": 15,
    "start_time": "2023-02-07T13:00:15.838Z"
   },
   {
    "duration": 15,
    "start_time": "2023-02-07T13:00:46.277Z"
   },
   {
    "duration": 14,
    "start_time": "2023-02-07T13:00:58.485Z"
   },
   {
    "duration": 14,
    "start_time": "2023-02-07T13:01:15.672Z"
   },
   {
    "duration": 14,
    "start_time": "2023-02-07T13:01:24.078Z"
   },
   {
    "duration": 14,
    "start_time": "2023-02-07T13:10:01.918Z"
   },
   {
    "duration": 16,
    "start_time": "2023-02-07T13:10:53.490Z"
   },
   {
    "duration": 19,
    "start_time": "2023-02-07T13:17:46.757Z"
   },
   {
    "duration": 1426,
    "start_time": "2023-02-07T13:22:28.870Z"
   },
   {
    "duration": 1344,
    "start_time": "2023-02-07T13:22:31.790Z"
   },
   {
    "duration": 1355,
    "start_time": "2023-02-07T13:23:06.948Z"
   },
   {
    "duration": 17,
    "start_time": "2023-02-07T13:23:35.759Z"
   },
   {
    "duration": 92,
    "start_time": "2023-02-07T13:35:27.062Z"
   },
   {
    "duration": 968,
    "start_time": "2023-02-07T13:35:30.652Z"
   },
   {
    "duration": 1703,
    "start_time": "2023-02-07T13:36:18.191Z"
   },
   {
    "duration": 16,
    "start_time": "2023-02-07T13:36:50.451Z"
   },
   {
    "duration": 2193,
    "start_time": "2023-02-07T13:37:19.712Z"
   },
   {
    "duration": 1557,
    "start_time": "2023-02-07T13:38:14.472Z"
   },
   {
    "duration": 2236,
    "start_time": "2023-02-07T13:39:34.581Z"
   },
   {
    "duration": 2110,
    "start_time": "2023-02-07T13:39:49.911Z"
   },
   {
    "duration": 29,
    "start_time": "2023-02-07T13:42:24.654Z"
   },
   {
    "duration": 203,
    "start_time": "2023-02-07T13:42:51.072Z"
   },
   {
    "duration": 20,
    "start_time": "2023-02-07T13:43:47.811Z"
   },
   {
    "duration": 171,
    "start_time": "2023-02-07T13:44:53.501Z"
   },
   {
    "duration": 16,
    "start_time": "2023-02-07T13:46:34.043Z"
   },
   {
    "duration": 159,
    "start_time": "2023-02-07T13:46:35.912Z"
   },
   {
    "duration": 206,
    "start_time": "2023-02-07T13:48:55.362Z"
   },
   {
    "duration": 186,
    "start_time": "2023-02-07T13:49:44.872Z"
   },
   {
    "duration": 15,
    "start_time": "2023-02-07T13:51:28.674Z"
   },
   {
    "duration": 13,
    "start_time": "2023-02-07T13:51:47.331Z"
   },
   {
    "duration": 14,
    "start_time": "2023-02-07T13:51:52.098Z"
   },
   {
    "duration": 14,
    "start_time": "2023-02-07T13:52:00.081Z"
   },
   {
    "duration": 13,
    "start_time": "2023-02-07T13:52:10.840Z"
   },
   {
    "duration": 166,
    "start_time": "2023-02-07T13:52:45.991Z"
   },
   {
    "duration": 164,
    "start_time": "2023-02-07T13:52:57.649Z"
   },
   {
    "duration": 91,
    "start_time": "2023-02-07T13:53:05.520Z"
   },
   {
    "duration": 16,
    "start_time": "2023-02-07T13:53:05.874Z"
   },
   {
    "duration": 16,
    "start_time": "2023-02-07T13:53:06.213Z"
   },
   {
    "duration": 13,
    "start_time": "2023-02-07T13:53:06.914Z"
   },
   {
    "duration": 37,
    "start_time": "2023-02-07T13:53:07.274Z"
   },
   {
    "duration": 4,
    "start_time": "2023-02-07T13:53:07.794Z"
   },
   {
    "duration": 8,
    "start_time": "2023-02-07T13:53:08.105Z"
   },
   {
    "duration": 5,
    "start_time": "2023-02-07T13:53:08.680Z"
   },
   {
    "duration": 6,
    "start_time": "2023-02-07T13:53:09.000Z"
   },
   {
    "duration": 6,
    "start_time": "2023-02-07T13:53:09.421Z"
   },
   {
    "duration": 33,
    "start_time": "2023-02-07T13:53:09.996Z"
   },
   {
    "duration": 10,
    "start_time": "2023-02-07T13:53:10.393Z"
   },
   {
    "duration": 4,
    "start_time": "2023-02-07T13:53:10.960Z"
   },
   {
    "duration": 13,
    "start_time": "2023-02-07T13:53:11.554Z"
   },
   {
    "duration": 21,
    "start_time": "2023-02-07T13:53:11.920Z"
   },
   {
    "duration": 20,
    "start_time": "2023-02-07T13:53:12.061Z"
   },
   {
    "duration": 4,
    "start_time": "2023-02-07T13:53:13.404Z"
   },
   {
    "duration": 12,
    "start_time": "2023-02-07T13:53:13.590Z"
   },
   {
    "duration": 7,
    "start_time": "2023-02-07T13:53:13.955Z"
   },
   {
    "duration": 4,
    "start_time": "2023-02-07T13:53:14.920Z"
   },
   {
    "duration": 9,
    "start_time": "2023-02-07T13:53:15.360Z"
   },
   {
    "duration": 16,
    "start_time": "2023-02-07T13:53:16.236Z"
   },
   {
    "duration": 252,
    "start_time": "2023-02-07T13:53:17.115Z"
   },
   {
    "duration": 188,
    "start_time": "2023-02-07T13:53:37.583Z"
   },
   {
    "duration": 20,
    "start_time": "2023-02-07T13:53:43.243Z"
   },
   {
    "duration": 19,
    "start_time": "2023-02-07T13:53:52.182Z"
   },
   {
    "duration": 21,
    "start_time": "2023-02-07T13:54:07.132Z"
   },
   {
    "duration": 27,
    "start_time": "2023-02-07T13:58:35.380Z"
   },
   {
    "duration": 13,
    "start_time": "2023-02-07T13:58:38.798Z"
   },
   {
    "duration": 26,
    "start_time": "2023-02-07T14:00:27.053Z"
   },
   {
    "duration": 32,
    "start_time": "2023-02-07T14:08:13.998Z"
   },
   {
    "duration": 14,
    "start_time": "2023-02-07T14:12:19.281Z"
   },
   {
    "duration": 14,
    "start_time": "2023-02-07T14:12:35.848Z"
   },
   {
    "duration": 19,
    "start_time": "2023-02-07T14:14:33.837Z"
   },
   {
    "duration": 23,
    "start_time": "2023-02-07T14:15:52.243Z"
   },
   {
    "duration": 27,
    "start_time": "2023-02-07T14:18:05.278Z"
   },
   {
    "duration": 804,
    "start_time": "2023-02-07T16:40:19.136Z"
   },
   {
    "duration": 21,
    "start_time": "2023-02-07T16:40:20.131Z"
   },
   {
    "duration": 14,
    "start_time": "2023-02-07T16:40:23.069Z"
   },
   {
    "duration": 18,
    "start_time": "2023-02-07T16:40:28.130Z"
   },
   {
    "duration": 35,
    "start_time": "2023-02-07T16:40:29.846Z"
   },
   {
    "duration": 4,
    "start_time": "2023-02-07T16:41:18.269Z"
   },
   {
    "duration": 7,
    "start_time": "2023-02-07T16:41:19.463Z"
   },
   {
    "duration": 67,
    "start_time": "2023-02-07T16:50:24.527Z"
   },
   {
    "duration": 20,
    "start_time": "2023-02-07T16:57:42.148Z"
   },
   {
    "duration": 14,
    "start_time": "2023-02-07T16:57:53.894Z"
   },
   {
    "duration": 6,
    "start_time": "2023-02-07T17:00:42.020Z"
   },
   {
    "duration": 95,
    "start_time": "2023-02-07T17:00:59.058Z"
   },
   {
    "duration": 93,
    "start_time": "2023-02-07T17:01:10.456Z"
   },
   {
    "duration": 82,
    "start_time": "2023-02-07T17:01:20.147Z"
   },
   {
    "duration": 6,
    "start_time": "2023-02-07T17:01:25.439Z"
   },
   {
    "duration": 13,
    "start_time": "2023-02-07T17:04:55.871Z"
   },
   {
    "duration": 50,
    "start_time": "2023-02-07T17:11:36.129Z"
   },
   {
    "duration": 14,
    "start_time": "2023-02-07T17:15:02.699Z"
   },
   {
    "duration": 8,
    "start_time": "2023-02-07T17:15:24.353Z"
   },
   {
    "duration": 8,
    "start_time": "2023-02-07T17:16:28.047Z"
   },
   {
    "duration": 8,
    "start_time": "2023-02-07T17:16:50.165Z"
   },
   {
    "duration": 7,
    "start_time": "2023-02-07T17:19:05.050Z"
   },
   {
    "duration": 87,
    "start_time": "2023-02-07T17:21:10.635Z"
   },
   {
    "duration": 3,
    "start_time": "2023-02-07T17:21:14.288Z"
   },
   {
    "duration": 26,
    "start_time": "2023-02-07T17:21:14.791Z"
   },
   {
    "duration": 14,
    "start_time": "2023-02-07T17:22:32.963Z"
   },
   {
    "duration": 20,
    "start_time": "2023-02-07T17:22:48.148Z"
   },
   {
    "duration": 23,
    "start_time": "2023-02-07T17:22:52.235Z"
   },
   {
    "duration": 1116,
    "start_time": "2023-02-07T17:25:52.645Z"
   },
   {
    "duration": 10,
    "start_time": "2023-02-07T17:26:19.350Z"
   },
   {
    "duration": 508,
    "start_time": "2023-02-07T17:27:05.272Z"
   },
   {
    "duration": 39,
    "start_time": "2023-02-07T17:27:43.799Z"
   },
   {
    "duration": 537,
    "start_time": "2023-02-07T17:28:25.343Z"
   },
   {
    "duration": 19,
    "start_time": "2023-02-07T17:30:56.376Z"
   },
   {
    "duration": 14,
    "start_time": "2023-02-07T17:31:11.168Z"
   },
   {
    "duration": 19,
    "start_time": "2023-02-07T17:31:19.537Z"
   },
   {
    "duration": 85,
    "start_time": "2023-02-07T17:31:36.443Z"
   },
   {
    "duration": 20,
    "start_time": "2023-02-07T17:31:36.780Z"
   },
   {
    "duration": 32,
    "start_time": "2023-02-07T17:31:37.106Z"
   },
   {
    "duration": 12,
    "start_time": "2023-02-07T17:31:37.766Z"
   },
   {
    "duration": 64,
    "start_time": "2023-02-07T17:31:38.098Z"
   },
   {
    "duration": 7,
    "start_time": "2023-02-07T17:31:38.635Z"
   },
   {
    "duration": 8,
    "start_time": "2023-02-07T17:31:38.962Z"
   },
   {
    "duration": 6,
    "start_time": "2023-02-07T17:31:39.551Z"
   },
   {
    "duration": 12,
    "start_time": "2023-02-07T17:31:39.924Z"
   },
   {
    "duration": 6,
    "start_time": "2023-02-07T17:31:40.273Z"
   },
   {
    "duration": 72,
    "start_time": "2023-02-07T17:31:41.290Z"
   },
   {
    "duration": 13,
    "start_time": "2023-02-07T17:31:41.945Z"
   },
   {
    "duration": 4,
    "start_time": "2023-02-07T17:31:42.995Z"
   },
   {
    "duration": 11,
    "start_time": "2023-02-07T17:31:44.164Z"
   },
   {
    "duration": 20,
    "start_time": "2023-02-07T17:31:44.955Z"
   },
   {
    "duration": 28,
    "start_time": "2023-02-07T17:31:45.333Z"
   },
   {
    "duration": 9,
    "start_time": "2023-02-07T17:31:46.348Z"
   },
   {
    "duration": 17,
    "start_time": "2023-02-07T17:31:46.876Z"
   },
   {
    "duration": 7,
    "start_time": "2023-02-07T17:31:47.961Z"
   },
   {
    "duration": 5,
    "start_time": "2023-02-07T17:31:48.746Z"
   },
   {
    "duration": 10,
    "start_time": "2023-02-07T17:31:49.176Z"
   },
   {
    "duration": 17,
    "start_time": "2023-02-07T17:31:50.644Z"
   },
   {
    "duration": 471,
    "start_time": "2023-02-07T17:31:53.184Z"
   },
   {
    "duration": 1605,
    "start_time": "2023-02-07T17:38:29.131Z"
   },
   {
    "duration": 19,
    "start_time": "2023-02-07T17:43:42.200Z"
   },
   {
    "duration": 24,
    "start_time": "2023-02-07T17:43:49.327Z"
   },
   {
    "duration": 9,
    "start_time": "2023-02-07T17:43:49.950Z"
   },
   {
    "duration": 228,
    "start_time": "2023-02-07T17:44:13.739Z"
   },
   {
    "duration": 29,
    "start_time": "2023-02-07T17:45:41.541Z"
   },
   {
    "duration": 28,
    "start_time": "2023-02-07T17:45:53.234Z"
   },
   {
    "duration": 19,
    "start_time": "2023-02-07T17:46:11.581Z"
   },
   {
    "duration": 154,
    "start_time": "2023-02-07T17:46:12.558Z"
   },
   {
    "duration": 14,
    "start_time": "2023-02-07T17:48:28.744Z"
   },
   {
    "duration": 25,
    "start_time": "2023-02-07T17:48:36.397Z"
   },
   {
    "duration": 212,
    "start_time": "2023-02-07T17:48:36.992Z"
   },
   {
    "duration": 65,
    "start_time": "2023-02-07T17:49:34.092Z"
   },
   {
    "duration": 14,
    "start_time": "2023-02-07T17:50:02.762Z"
   },
   {
    "duration": 27,
    "start_time": "2023-02-07T17:51:18.531Z"
   },
   {
    "duration": 204,
    "start_time": "2023-02-07T17:51:25.633Z"
   },
   {
    "duration": 13,
    "start_time": "2023-02-07T17:52:18.062Z"
   },
   {
    "duration": 26,
    "start_time": "2023-02-07T17:52:22.870Z"
   },
   {
    "duration": 14,
    "start_time": "2023-02-07T17:52:23.484Z"
   },
   {
    "duration": 18,
    "start_time": "2023-02-07T17:54:37.249Z"
   },
   {
    "duration": 13,
    "start_time": "2023-02-07T17:54:41.959Z"
   },
   {
    "duration": 15,
    "start_time": "2023-02-07T17:58:00.049Z"
   },
   {
    "duration": 27,
    "start_time": "2023-02-07T17:58:14.377Z"
   },
   {
    "duration": 18,
    "start_time": "2023-02-07T18:01:56.782Z"
   },
   {
    "duration": 20,
    "start_time": "2023-02-07T18:04:05.131Z"
   },
   {
    "duration": 88,
    "start_time": "2023-02-07T18:07:41.798Z"
   },
   {
    "duration": 18,
    "start_time": "2023-02-07T18:07:42.259Z"
   },
   {
    "duration": 22,
    "start_time": "2023-02-07T18:07:42.659Z"
   },
   {
    "duration": 18,
    "start_time": "2023-02-07T18:07:43.401Z"
   },
   {
    "duration": 42,
    "start_time": "2023-02-07T18:07:43.785Z"
   },
   {
    "duration": 13,
    "start_time": "2023-02-07T18:07:43.973Z"
   },
   {
    "duration": 4,
    "start_time": "2023-02-07T18:07:44.535Z"
   },
   {
    "duration": 10,
    "start_time": "2023-02-07T18:07:44.897Z"
   },
   {
    "duration": 5,
    "start_time": "2023-02-07T18:07:45.088Z"
   },
   {
    "duration": 4,
    "start_time": "2023-02-07T18:07:45.636Z"
   },
   {
    "duration": 6,
    "start_time": "2023-02-07T18:07:45.995Z"
   },
   {
    "duration": 5,
    "start_time": "2023-02-07T18:07:46.363Z"
   },
   {
    "duration": 44,
    "start_time": "2023-02-07T18:07:46.940Z"
   },
   {
    "duration": 22,
    "start_time": "2023-02-07T18:07:47.302Z"
   },
   {
    "duration": 6,
    "start_time": "2023-02-07T18:07:47.837Z"
   },
   {
    "duration": 20,
    "start_time": "2023-02-07T18:07:48.420Z"
   },
   {
    "duration": 99,
    "start_time": "2023-02-07T18:07:48.768Z"
   },
   {
    "duration": 17,
    "start_time": "2023-02-07T18:07:48.953Z"
   },
   {
    "duration": 4,
    "start_time": "2023-02-07T18:07:49.554Z"
   },
   {
    "duration": 16,
    "start_time": "2023-02-07T18:07:49.764Z"
   },
   {
    "duration": 6,
    "start_time": "2023-02-07T18:07:50.148Z"
   },
   {
    "duration": 4,
    "start_time": "2023-02-07T18:07:50.538Z"
   },
   {
    "duration": 9,
    "start_time": "2023-02-07T18:07:50.751Z"
   },
   {
    "duration": 17,
    "start_time": "2023-02-07T18:07:51.336Z"
   },
   {
    "duration": 20,
    "start_time": "2023-02-07T18:07:51.942Z"
   },
   {
    "duration": 32,
    "start_time": "2023-02-07T18:07:52.496Z"
   },
   {
    "duration": 28,
    "start_time": "2023-02-07T18:07:53.136Z"
   },
   {
    "duration": 738,
    "start_time": "2023-02-08T15:37:26.318Z"
   },
   {
    "duration": 27,
    "start_time": "2023-02-08T15:37:27.059Z"
   },
   {
    "duration": 20,
    "start_time": "2023-02-08T15:37:27.088Z"
   },
   {
    "duration": 12,
    "start_time": "2023-02-08T15:37:27.110Z"
   },
   {
    "duration": 59,
    "start_time": "2023-02-08T15:37:27.124Z"
   },
   {
    "duration": 11,
    "start_time": "2023-02-08T15:37:27.184Z"
   },
   {
    "duration": 11,
    "start_time": "2023-02-08T15:37:27.197Z"
   },
   {
    "duration": 20,
    "start_time": "2023-02-08T15:37:27.210Z"
   },
   {
    "duration": 13,
    "start_time": "2023-02-08T15:37:27.232Z"
   },
   {
    "duration": 15,
    "start_time": "2023-02-08T15:37:27.250Z"
   },
   {
    "duration": 31,
    "start_time": "2023-02-08T15:37:27.267Z"
   },
   {
    "duration": 24,
    "start_time": "2023-02-08T15:37:27.300Z"
   },
   {
    "duration": 55,
    "start_time": "2023-02-08T15:37:27.325Z"
   },
   {
    "duration": 12,
    "start_time": "2023-02-08T15:37:27.382Z"
   },
   {
    "duration": 10,
    "start_time": "2023-02-08T15:37:27.396Z"
   },
   {
    "duration": 16,
    "start_time": "2023-02-08T15:37:27.408Z"
   },
   {
    "duration": 34,
    "start_time": "2023-02-08T15:37:27.426Z"
   },
   {
    "duration": 17,
    "start_time": "2023-02-08T15:37:27.462Z"
   },
   {
    "duration": 5,
    "start_time": "2023-02-08T15:37:27.481Z"
   },
   {
    "duration": 22,
    "start_time": "2023-02-08T15:37:27.487Z"
   },
   {
    "duration": 11,
    "start_time": "2023-02-08T15:37:27.511Z"
   },
   {
    "duration": 11,
    "start_time": "2023-02-08T15:37:27.523Z"
   },
   {
    "duration": 21,
    "start_time": "2023-02-08T15:37:27.535Z"
   },
   {
    "duration": 22,
    "start_time": "2023-02-08T15:37:27.558Z"
   },
   {
    "duration": 28,
    "start_time": "2023-02-08T15:37:27.582Z"
   },
   {
    "duration": 20,
    "start_time": "2023-02-08T15:37:27.612Z"
   },
   {
    "duration": 25,
    "start_time": "2023-02-08T15:37:27.633Z"
   },
   {
    "duration": 71,
    "start_time": "2023-02-08T19:50:04.798Z"
   },
   {
    "duration": 548,
    "start_time": "2023-02-08T19:50:13.758Z"
   },
   {
    "duration": 33,
    "start_time": "2023-02-08T19:50:14.326Z"
   },
   {
    "duration": 23,
    "start_time": "2023-02-08T19:50:14.632Z"
   },
   {
    "duration": 16,
    "start_time": "2023-02-08T19:50:15.326Z"
   },
   {
    "duration": 49,
    "start_time": "2023-02-08T19:50:15.675Z"
   },
   {
    "duration": 17,
    "start_time": "2023-02-08T19:50:15.818Z"
   },
   {
    "duration": 4,
    "start_time": "2023-02-08T19:50:16.329Z"
   },
   {
    "duration": 13,
    "start_time": "2023-02-08T19:50:16.672Z"
   },
   {
    "duration": 6,
    "start_time": "2023-02-08T19:50:16.883Z"
   },
   {
    "duration": 5,
    "start_time": "2023-02-08T19:50:17.718Z"
   },
   {
    "duration": 8,
    "start_time": "2023-02-08T19:50:17.749Z"
   },
   {
    "duration": 6,
    "start_time": "2023-02-08T19:50:18.136Z"
   },
   {
    "duration": 56,
    "start_time": "2023-02-08T19:50:18.922Z"
   },
   {
    "duration": 15,
    "start_time": "2023-02-08T19:50:19.196Z"
   },
   {
    "duration": 7,
    "start_time": "2023-02-08T19:50:19.731Z"
   },
   {
    "duration": 17,
    "start_time": "2023-02-08T19:50:20.501Z"
   },
   {
    "duration": 28,
    "start_time": "2023-02-08T19:50:20.781Z"
   },
   {
    "duration": 27,
    "start_time": "2023-02-08T19:50:20.811Z"
   },
   {
    "duration": 5,
    "start_time": "2023-02-08T19:50:21.355Z"
   },
   {
    "duration": 16,
    "start_time": "2023-02-08T19:50:21.666Z"
   },
   {
    "duration": 8,
    "start_time": "2023-02-08T19:50:23.028Z"
   },
   {
    "duration": 13,
    "start_time": "2023-02-08T19:50:23.038Z"
   },
   {
    "duration": 13,
    "start_time": "2023-02-08T19:50:23.396Z"
   },
   {
    "duration": 17,
    "start_time": "2023-02-08T19:50:24.641Z"
   },
   {
    "duration": 19,
    "start_time": "2023-02-08T19:50:26.681Z"
   },
   {
    "duration": 19,
    "start_time": "2023-02-08T19:50:27.947Z"
   },
   {
    "duration": 22,
    "start_time": "2023-02-08T19:50:31.772Z"
   },
   {
    "duration": 24,
    "start_time": "2023-02-08T19:52:57.243Z"
   },
   {
    "duration": 26,
    "start_time": "2023-02-08T19:53:00.369Z"
   },
   {
    "duration": 32,
    "start_time": "2023-02-08T19:53:45.329Z"
   },
   {
    "duration": 31,
    "start_time": "2023-02-08T20:04:43.038Z"
   },
   {
    "duration": 34,
    "start_time": "2023-02-08T20:07:51.876Z"
   },
   {
    "duration": 33,
    "start_time": "2023-02-08T20:09:15.203Z"
   },
   {
    "duration": 24,
    "start_time": "2023-02-08T20:10:22.442Z"
   },
   {
    "duration": 34,
    "start_time": "2023-02-08T20:10:33.588Z"
   },
   {
    "duration": 5,
    "start_time": "2023-02-08T20:13:15.756Z"
   },
   {
    "duration": 5,
    "start_time": "2023-02-08T20:13:21.361Z"
   },
   {
    "duration": 32,
    "start_time": "2023-02-08T20:13:22.744Z"
   },
   {
    "duration": 33,
    "start_time": "2023-02-08T20:13:59.531Z"
   },
   {
    "duration": 69,
    "start_time": "2023-02-08T20:14:02.083Z"
   },
   {
    "duration": 32,
    "start_time": "2023-02-08T20:15:07.468Z"
   },
   {
    "duration": 23,
    "start_time": "2023-02-08T20:16:51.268Z"
   },
   {
    "duration": 23,
    "start_time": "2023-02-08T20:57:33.368Z"
   },
   {
    "duration": 16,
    "start_time": "2023-02-08T21:04:33.967Z"
   },
   {
    "duration": 5,
    "start_time": "2023-02-08T21:05:21.925Z"
   },
   {
    "duration": 12,
    "start_time": "2023-02-08T21:05:38.516Z"
   },
   {
    "duration": 7,
    "start_time": "2023-02-08T21:05:54.553Z"
   },
   {
    "duration": 18,
    "start_time": "2023-02-08T21:06:18.559Z"
   },
   {
    "duration": 15,
    "start_time": "2023-02-08T21:06:48.460Z"
   },
   {
    "duration": 5,
    "start_time": "2023-02-08T21:07:44.119Z"
   },
   {
    "duration": 18,
    "start_time": "2023-02-08T21:08:17.994Z"
   },
   {
    "duration": 67,
    "start_time": "2023-02-08T21:08:28.588Z"
   },
   {
    "duration": 14,
    "start_time": "2023-02-08T21:08:29.459Z"
   },
   {
    "duration": 19,
    "start_time": "2023-02-08T21:08:33.464Z"
   },
   {
    "duration": 10,
    "start_time": "2023-02-08T21:08:37.635Z"
   },
   {
    "duration": 12,
    "start_time": "2023-02-08T21:08:40.028Z"
   },
   {
    "duration": 40,
    "start_time": "2023-02-08T21:08:40.480Z"
   },
   {
    "duration": 12,
    "start_time": "2023-02-08T21:09:07.524Z"
   },
   {
    "duration": 8,
    "start_time": "2023-02-08T21:10:03.637Z"
   },
   {
    "duration": 31,
    "start_time": "2023-02-08T21:10:10.591Z"
   },
   {
    "duration": 7,
    "start_time": "2023-02-08T21:10:57.702Z"
   },
   {
    "duration": 64,
    "start_time": "2023-02-08T21:12:37.821Z"
   },
   {
    "duration": 7,
    "start_time": "2023-02-08T21:12:49.410Z"
   },
   {
    "duration": 18,
    "start_time": "2023-02-08T21:13:34.525Z"
   },
   {
    "duration": 8,
    "start_time": "2023-02-08T21:13:52.438Z"
   },
   {
    "duration": 13,
    "start_time": "2023-02-08T21:14:06.608Z"
   },
   {
    "duration": 7,
    "start_time": "2023-02-08T21:14:11.129Z"
   },
   {
    "duration": 7,
    "start_time": "2023-02-08T21:14:19.486Z"
   },
   {
    "duration": 21,
    "start_time": "2023-02-08T21:14:27.844Z"
   },
   {
    "duration": 71,
    "start_time": "2023-02-08T21:15:33.236Z"
   },
   {
    "duration": 14,
    "start_time": "2023-02-08T21:15:33.596Z"
   },
   {
    "duration": 13,
    "start_time": "2023-02-08T21:15:33.916Z"
   },
   {
    "duration": 11,
    "start_time": "2023-02-08T21:15:35.600Z"
   },
   {
    "duration": 23,
    "start_time": "2023-02-08T21:15:37.195Z"
   },
   {
    "duration": 24,
    "start_time": "2023-02-08T21:15:50.977Z"
   },
   {
    "duration": 11,
    "start_time": "2023-02-08T21:21:56.307Z"
   },
   {
    "duration": 21,
    "start_time": "2023-02-08T21:23:39.827Z"
   },
   {
    "duration": 10,
    "start_time": "2023-02-08T21:26:01.353Z"
   },
   {
    "duration": 7,
    "start_time": "2023-02-08T21:26:14.752Z"
   },
   {
    "duration": 6,
    "start_time": "2023-02-08T21:26:51.630Z"
   },
   {
    "duration": 7,
    "start_time": "2023-02-08T21:27:49.708Z"
   },
   {
    "duration": 19,
    "start_time": "2023-02-08T21:35:21.471Z"
   },
   {
    "duration": 77,
    "start_time": "2023-02-08T22:03:04.668Z"
   },
   {
    "duration": 5,
    "start_time": "2023-02-08T22:10:47.828Z"
   },
   {
    "duration": 4,
    "start_time": "2023-02-08T22:12:38.827Z"
   },
   {
    "duration": 68,
    "start_time": "2023-02-08T22:13:55.365Z"
   },
   {
    "duration": 3,
    "start_time": "2023-02-08T22:14:07.930Z"
   },
   {
    "duration": 5,
    "start_time": "2023-02-08T22:15:32.278Z"
   },
   {
    "duration": 957,
    "start_time": "2023-02-08T23:28:01.193Z"
   },
   {
    "duration": 15,
    "start_time": "2023-02-08T23:28:02.152Z"
   },
   {
    "duration": 14,
    "start_time": "2023-02-08T23:28:02.391Z"
   },
   {
    "duration": 10,
    "start_time": "2023-02-08T23:28:03.267Z"
   },
   {
    "duration": 19,
    "start_time": "2023-02-08T23:28:03.467Z"
   },
   {
    "duration": 31,
    "start_time": "2023-02-08T23:28:03.843Z"
   },
   {
    "duration": 3,
    "start_time": "2023-02-08T23:28:04.390Z"
   },
   {
    "duration": 8,
    "start_time": "2023-02-08T23:28:04.756Z"
   },
   {
    "duration": 6,
    "start_time": "2023-02-08T23:28:04.950Z"
   },
   {
    "duration": 5,
    "start_time": "2023-02-08T23:28:05.485Z"
   },
   {
    "duration": 6,
    "start_time": "2023-02-08T23:28:05.884Z"
   },
   {
    "duration": 8,
    "start_time": "2023-02-08T23:28:06.276Z"
   },
   {
    "duration": 32,
    "start_time": "2023-02-08T23:28:06.836Z"
   },
   {
    "duration": 9,
    "start_time": "2023-02-08T23:28:07.227Z"
   },
   {
    "duration": 4,
    "start_time": "2023-02-08T23:28:07.926Z"
   },
   {
    "duration": 10,
    "start_time": "2023-02-08T23:28:08.594Z"
   },
   {
    "duration": 18,
    "start_time": "2023-02-08T23:28:08.996Z"
   },
   {
    "duration": 18,
    "start_time": "2023-02-08T23:28:09.153Z"
   },
   {
    "duration": 4,
    "start_time": "2023-02-08T23:28:09.845Z"
   },
   {
    "duration": 9,
    "start_time": "2023-02-08T23:28:10.713Z"
   },
   {
    "duration": 6,
    "start_time": "2023-02-08T23:28:11.845Z"
   },
   {
    "duration": 4,
    "start_time": "2023-02-08T23:28:37.512Z"
   },
   {
    "duration": 13,
    "start_time": "2023-02-08T23:28:37.917Z"
   },
   {
    "duration": 22,
    "start_time": "2023-02-08T23:28:51.088Z"
   },
   {
    "duration": 15,
    "start_time": "2023-02-08T23:28:55.083Z"
   },
   {
    "duration": 16,
    "start_time": "2023-02-08T23:28:56.024Z"
   },
   {
    "duration": 30,
    "start_time": "2023-02-08T23:28:57.349Z"
   },
   {
    "duration": 16,
    "start_time": "2023-02-08T23:28:58.226Z"
   },
   {
    "duration": 5,
    "start_time": "2023-02-08T23:29:02.308Z"
   },
   {
    "duration": 4,
    "start_time": "2023-02-08T23:29:02.689Z"
   },
   {
    "duration": 135,
    "start_time": "2023-02-08T23:31:08.476Z"
   },
   {
    "duration": 116,
    "start_time": "2023-02-08T23:34:22.439Z"
   },
   {
    "duration": 66,
    "start_time": "2023-02-08T23:37:52.079Z"
   },
   {
    "duration": 22,
    "start_time": "2023-02-08T23:38:05.768Z"
   },
   {
    "duration": 21,
    "start_time": "2023-02-08T23:38:06.868Z"
   },
   {
    "duration": 20,
    "start_time": "2023-02-08T23:40:13.264Z"
   },
   {
    "duration": 20,
    "start_time": "2023-02-08T23:41:10.148Z"
   },
   {
    "duration": 1114,
    "start_time": "2023-02-08T23:42:01.609Z"
   },
   {
    "duration": 15,
    "start_time": "2023-02-08T23:43:10.285Z"
   },
   {
    "duration": 1115,
    "start_time": "2023-02-08T23:43:10.908Z"
   },
   {
    "duration": 133,
    "start_time": "2023-02-08T23:44:30.644Z"
   },
   {
    "duration": 157,
    "start_time": "2023-02-08T23:45:37.303Z"
   },
   {
    "duration": 162,
    "start_time": "2023-02-08T23:46:13.553Z"
   },
   {
    "duration": 26,
    "start_time": "2023-02-08T23:47:44.671Z"
   },
   {
    "duration": 1157,
    "start_time": "2023-02-08T23:54:07.405Z"
   },
   {
    "duration": 17,
    "start_time": "2023-02-08T23:54:08.564Z"
   },
   {
    "duration": 24,
    "start_time": "2023-02-08T23:54:10.828Z"
   },
   {
    "duration": 11,
    "start_time": "2023-02-08T23:54:12.444Z"
   },
   {
    "duration": 32,
    "start_time": "2023-02-08T23:54:12.627Z"
   },
   {
    "duration": 38,
    "start_time": "2023-02-08T23:54:13.009Z"
   },
   {
    "duration": 3,
    "start_time": "2023-02-08T23:54:14.006Z"
   },
   {
    "duration": 10,
    "start_time": "2023-02-08T23:54:14.757Z"
   },
   {
    "duration": 6,
    "start_time": "2023-02-08T23:54:15.243Z"
   },
   {
    "duration": 5,
    "start_time": "2023-02-08T23:54:16.511Z"
   },
   {
    "duration": 9,
    "start_time": "2023-02-08T23:54:16.995Z"
   },
   {
    "duration": 5,
    "start_time": "2023-02-08T23:54:17.743Z"
   },
   {
    "duration": 30,
    "start_time": "2023-02-08T23:54:19.421Z"
   },
   {
    "duration": 10,
    "start_time": "2023-02-08T23:54:20.163Z"
   },
   {
    "duration": 3,
    "start_time": "2023-02-08T23:54:21.327Z"
   },
   {
    "duration": 11,
    "start_time": "2023-02-08T23:54:21.926Z"
   },
   {
    "duration": 19,
    "start_time": "2023-02-08T23:54:22.595Z"
   },
   {
    "duration": 16,
    "start_time": "2023-02-08T23:54:22.752Z"
   },
   {
    "duration": 4,
    "start_time": "2023-02-08T23:54:23.398Z"
   },
   {
    "duration": 9,
    "start_time": "2023-02-08T23:54:23.608Z"
   },
   {
    "duration": 6,
    "start_time": "2023-02-08T23:54:24.043Z"
   },
   {
    "duration": 4,
    "start_time": "2023-02-08T23:54:24.443Z"
   },
   {
    "duration": 9,
    "start_time": "2023-02-08T23:54:24.635Z"
   },
   {
    "duration": 13,
    "start_time": "2023-02-08T23:54:25.321Z"
   },
   {
    "duration": 162,
    "start_time": "2023-02-08T23:54:25.560Z"
   },
   {
    "duration": 16,
    "start_time": "2023-02-08T23:54:27.955Z"
   },
   {
    "duration": 159,
    "start_time": "2023-02-08T23:54:28.183Z"
   },
   {
    "duration": 15,
    "start_time": "2023-02-08T23:54:31.524Z"
   },
   {
    "duration": 21,
    "start_time": "2023-02-08T23:54:37.746Z"
   },
   {
    "duration": 327,
    "start_time": "2023-02-08T23:54:39.294Z"
   },
   {
    "duration": 1181,
    "start_time": "2023-02-08T23:57:14.592Z"
   },
   {
    "duration": 18,
    "start_time": "2023-02-08T23:57:15.776Z"
   },
   {
    "duration": 15,
    "start_time": "2023-02-08T23:57:16.805Z"
   },
   {
    "duration": 9,
    "start_time": "2023-02-08T23:57:17.793Z"
   },
   {
    "duration": 19,
    "start_time": "2023-02-08T23:57:17.991Z"
   },
   {
    "duration": 31,
    "start_time": "2023-02-08T23:57:18.407Z"
   },
   {
    "duration": 4,
    "start_time": "2023-02-08T23:57:19.151Z"
   },
   {
    "duration": 8,
    "start_time": "2023-02-08T23:57:19.436Z"
   },
   {
    "duration": 5,
    "start_time": "2023-02-08T23:57:19.636Z"
   },
   {
    "duration": 4,
    "start_time": "2023-02-08T23:57:20.227Z"
   },
   {
    "duration": 7,
    "start_time": "2023-02-08T23:57:20.570Z"
   },
   {
    "duration": 5,
    "start_time": "2023-02-08T23:57:20.964Z"
   },
   {
    "duration": 36,
    "start_time": "2023-02-08T23:57:21.806Z"
   },
   {
    "duration": 10,
    "start_time": "2023-02-08T23:57:22.398Z"
   },
   {
    "duration": 4,
    "start_time": "2023-02-08T23:57:22.764Z"
   },
   {
    "duration": 11,
    "start_time": "2023-02-08T23:57:23.428Z"
   },
   {
    "duration": 19,
    "start_time": "2023-02-08T23:57:23.837Z"
   },
   {
    "duration": 16,
    "start_time": "2023-02-08T23:57:24.050Z"
   },
   {
    "duration": 4,
    "start_time": "2023-02-08T23:57:24.879Z"
   },
   {
    "duration": 9,
    "start_time": "2023-02-08T23:57:25.448Z"
   },
   {
    "duration": 6,
    "start_time": "2023-02-08T23:57:25.751Z"
   },
   {
    "duration": 4,
    "start_time": "2023-02-08T23:57:26.679Z"
   },
   {
    "duration": 8,
    "start_time": "2023-02-08T23:57:27.076Z"
   },
   {
    "duration": 14,
    "start_time": "2023-02-08T23:57:28.036Z"
   },
   {
    "duration": 185,
    "start_time": "2023-02-08T23:57:28.407Z"
   },
   {
    "duration": 16,
    "start_time": "2023-02-08T23:57:32.544Z"
   },
   {
    "duration": 159,
    "start_time": "2023-02-08T23:57:34.045Z"
   },
   {
    "duration": 14,
    "start_time": "2023-02-08T23:57:39.320Z"
   },
   {
    "duration": 23,
    "start_time": "2023-02-08T23:57:43.169Z"
   },
   {
    "duration": 109,
    "start_time": "2023-02-08T23:58:41.550Z"
   },
   {
    "duration": 1247,
    "start_time": "2023-02-09T00:01:01.477Z"
   },
   {
    "duration": 18,
    "start_time": "2023-02-09T00:01:02.726Z"
   },
   {
    "duration": 60,
    "start_time": "2023-02-09T00:01:02.747Z"
   },
   {
    "duration": 10,
    "start_time": "2023-02-09T00:01:04.486Z"
   },
   {
    "duration": 19,
    "start_time": "2023-02-09T00:01:06.708Z"
   },
   {
    "duration": 33,
    "start_time": "2023-02-09T00:01:07.067Z"
   },
   {
    "duration": 4,
    "start_time": "2023-02-09T00:01:07.595Z"
   },
   {
    "duration": 9,
    "start_time": "2023-02-09T00:01:07.957Z"
   },
   {
    "duration": 5,
    "start_time": "2023-02-09T00:01:08.115Z"
   },
   {
    "duration": 6,
    "start_time": "2023-02-09T00:01:08.682Z"
   },
   {
    "duration": 10,
    "start_time": "2023-02-09T00:01:09.076Z"
   },
   {
    "duration": 6,
    "start_time": "2023-02-09T00:01:09.430Z"
   },
   {
    "duration": 50,
    "start_time": "2023-02-09T00:01:10.002Z"
   },
   {
    "duration": 10,
    "start_time": "2023-02-09T00:01:10.395Z"
   },
   {
    "duration": 4,
    "start_time": "2023-02-09T00:01:10.990Z"
   },
   {
    "duration": 11,
    "start_time": "2023-02-09T00:01:11.565Z"
   },
   {
    "duration": 19,
    "start_time": "2023-02-09T00:01:11.988Z"
   },
   {
    "duration": 17,
    "start_time": "2023-02-09T00:01:12.129Z"
   },
   {
    "duration": 5,
    "start_time": "2023-02-09T00:01:12.823Z"
   },
   {
    "duration": 9,
    "start_time": "2023-02-09T00:01:12.944Z"
   },
   {
    "duration": 7,
    "start_time": "2023-02-09T00:01:13.835Z"
   },
   {
    "duration": 3,
    "start_time": "2023-02-09T00:01:14.509Z"
   },
   {
    "duration": 8,
    "start_time": "2023-02-09T00:01:14.904Z"
   },
   {
    "duration": 16,
    "start_time": "2023-02-09T00:01:21.151Z"
   },
   {
    "duration": 164,
    "start_time": "2023-02-09T00:01:30.038Z"
   },
   {
    "duration": 16,
    "start_time": "2023-02-09T00:01:33.844Z"
   },
   {
    "duration": 164,
    "start_time": "2023-02-09T00:01:35.147Z"
   },
   {
    "duration": 14,
    "start_time": "2023-02-09T00:01:44.823Z"
   },
   {
    "duration": 21,
    "start_time": "2023-02-09T00:01:52.984Z"
   },
   {
    "duration": 16,
    "start_time": "2023-02-09T00:02:47.089Z"
   },
   {
    "duration": 5,
    "start_time": "2023-02-09T00:02:54.358Z"
   },
   {
    "duration": 5,
    "start_time": "2023-02-09T00:02:54.794Z"
   },
   {
    "duration": 71,
    "start_time": "2023-02-09T00:36:44.685Z"
   },
   {
    "duration": 72,
    "start_time": "2023-02-09T00:49:21.119Z"
   },
   {
    "duration": 4,
    "start_time": "2023-02-09T00:49:45.136Z"
   },
   {
    "duration": 75,
    "start_time": "2023-02-09T00:54:57.829Z"
   },
   {
    "duration": 14,
    "start_time": "2023-02-09T00:54:58.554Z"
   },
   {
    "duration": 13,
    "start_time": "2023-02-09T00:54:59.404Z"
   },
   {
    "duration": 10,
    "start_time": "2023-02-09T00:55:00.585Z"
   },
   {
    "duration": 18,
    "start_time": "2023-02-09T00:55:00.780Z"
   },
   {
    "duration": 33,
    "start_time": "2023-02-09T00:55:01.447Z"
   },
   {
    "duration": 4,
    "start_time": "2023-02-09T00:55:02.190Z"
   },
   {
    "duration": 7,
    "start_time": "2023-02-09T00:55:02.589Z"
   },
   {
    "duration": 5,
    "start_time": "2023-02-09T00:55:02.794Z"
   },
   {
    "duration": 4,
    "start_time": "2023-02-09T00:55:03.447Z"
   },
   {
    "duration": 7,
    "start_time": "2023-02-09T00:55:03.883Z"
   },
   {
    "duration": 5,
    "start_time": "2023-02-09T00:55:04.499Z"
   },
   {
    "duration": 31,
    "start_time": "2023-02-09T00:55:05.189Z"
   },
   {
    "duration": 11,
    "start_time": "2023-02-09T00:55:05.626Z"
   },
   {
    "duration": 5,
    "start_time": "2023-02-09T00:55:06.308Z"
   },
   {
    "duration": 10,
    "start_time": "2023-02-09T00:55:06.926Z"
   },
   {
    "duration": 17,
    "start_time": "2023-02-09T00:55:07.405Z"
   },
   {
    "duration": 17,
    "start_time": "2023-02-09T00:55:07.754Z"
   },
   {
    "duration": 4,
    "start_time": "2023-02-09T00:55:09.152Z"
   },
   {
    "duration": 15,
    "start_time": "2023-02-09T00:55:09.158Z"
   },
   {
    "duration": 6,
    "start_time": "2023-02-09T00:55:09.448Z"
   },
   {
    "duration": 3,
    "start_time": "2023-02-09T00:55:09.875Z"
   },
   {
    "duration": 8,
    "start_time": "2023-02-09T00:55:10.386Z"
   },
   {
    "duration": 15,
    "start_time": "2023-02-09T00:55:10.947Z"
   },
   {
    "duration": 160,
    "start_time": "2023-02-09T00:55:11.190Z"
   },
   {
    "duration": 16,
    "start_time": "2023-02-09T00:55:13.592Z"
   },
   {
    "duration": 161,
    "start_time": "2023-02-09T00:55:13.824Z"
   },
   {
    "duration": 15,
    "start_time": "2023-02-09T00:55:15.666Z"
   },
   {
    "duration": 21,
    "start_time": "2023-02-09T00:55:17.398Z"
   },
   {
    "duration": 17,
    "start_time": "2023-02-09T00:55:19.383Z"
   },
   {
    "duration": 4,
    "start_time": "2023-02-09T00:55:28.366Z"
   },
   {
    "duration": 4,
    "start_time": "2023-02-09T00:55:28.916Z"
   },
   {
    "duration": 1306,
    "start_time": "2023-03-01T10:53:43.645Z"
   },
   {
    "duration": 20,
    "start_time": "2023-03-01T10:53:44.953Z"
   },
   {
    "duration": 15,
    "start_time": "2023-03-01T10:53:44.975Z"
   },
   {
    "duration": 12,
    "start_time": "2023-03-01T10:53:45.625Z"
   },
   {
    "duration": 21,
    "start_time": "2023-03-01T10:53:46.228Z"
   },
   {
    "duration": 41,
    "start_time": "2023-03-01T10:53:46.637Z"
   },
   {
    "duration": 4,
    "start_time": "2023-03-01T10:53:47.193Z"
   },
   {
    "duration": 3,
    "start_time": "2023-03-01T10:53:52.793Z"
   }
  ],
  "colab": {
   "name": "dpp_template_part2.ipynb",
   "provenance": []
  },
  "kernelspec": {
   "display_name": "Python 3 (ipykernel)",
   "language": "python",
   "name": "python3"
  },
  "language_info": {
   "codemirror_mode": {
    "name": "ipython",
    "version": 3
   },
   "file_extension": ".py",
   "mimetype": "text/x-python",
   "name": "python",
   "nbconvert_exporter": "python",
   "pygments_lexer": "ipython3",
   "version": "3.9.13"
  },
  "toc": {
   "base_numbering": 1,
   "nav_menu": {},
   "number_sections": true,
   "sideBar": true,
   "skip_h1_title": true,
   "title_cell": "Table of Contents",
   "title_sidebar": "Contents",
   "toc_cell": false,
   "toc_position": {
    "height": "calc(100% - 180px)",
    "left": "10px",
    "top": "150px",
    "width": "340px"
   },
   "toc_section_display": true,
   "toc_window_display": true
  }
 },
 "nbformat": 4,
 "nbformat_minor": 5
}
