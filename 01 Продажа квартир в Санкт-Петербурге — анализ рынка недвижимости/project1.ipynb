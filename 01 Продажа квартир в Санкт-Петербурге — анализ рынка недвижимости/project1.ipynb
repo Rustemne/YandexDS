{
 "cells": [
  {
   "cell_type": "markdown",
   "metadata": {},
   "source": [
    "# Исследование объявлений о продаже квартир\n",
    "\n",
    "В вашем распоряжении данные сервиса Яндекс.Недвижимость — архив объявлений о продаже квартир в Санкт-Петербурге и соседних населённых пунктов за несколько лет. Нужно научиться определять рыночную стоимость объектов недвижимости. Ваша задача — установить параметры. Это позволит построить автоматизированную систему: она отследит аномалии и мошенническую деятельность. \n",
    "\n",
    "По каждой квартире на продажу доступны два вида данных. Первые вписаны пользователем, вторые — получены автоматически на основе картографических данных. Например, расстояние до центра, аэропорта, ближайшего парка и водоёма. "
   ]
  },
  {
   "cell_type": "markdown",
   "metadata": {},
   "source": [
    "### Откройте файл с данными и изучите общую информацию. "
   ]
  },
  {
   "cell_type": "code",
   "execution_count": 2,
   "metadata": {},
   "outputs": [],
   "source": [
    "#импортируем библиотеки, создаем переменную data и сохраним в ней наш датасет, используем сепаратор для разделения\n",
    "import pandas as pd\n",
    "import seaborn as sns\n",
    "import matplotlib.pyplot as plt\n",
    "data = pd.read_csv('/datasets/real_estate_data.csv', sep='\\t')"
   ]
  },
  {
   "cell_type": "code",
   "execution_count": 3,
   "metadata": {},
   "outputs": [
    {
     "data": {
      "text/html": [
       "<div>\n",
       "<style scoped>\n",
       "    .dataframe tbody tr th:only-of-type {\n",
       "        vertical-align: middle;\n",
       "    }\n",
       "\n",
       "    .dataframe tbody tr th {\n",
       "        vertical-align: top;\n",
       "    }\n",
       "\n",
       "    .dataframe thead th {\n",
       "        text-align: right;\n",
       "    }\n",
       "</style>\n",
       "<table border=\"1\" class=\"dataframe\">\n",
       "  <thead>\n",
       "    <tr style=\"text-align: right;\">\n",
       "      <th></th>\n",
       "      <th>total_images</th>\n",
       "      <th>last_price</th>\n",
       "      <th>total_area</th>\n",
       "      <th>first_day_exposition</th>\n",
       "      <th>rooms</th>\n",
       "      <th>ceiling_height</th>\n",
       "      <th>floors_total</th>\n",
       "      <th>living_area</th>\n",
       "      <th>floor</th>\n",
       "      <th>is_apartment</th>\n",
       "      <th>...</th>\n",
       "      <th>kitchen_area</th>\n",
       "      <th>balcony</th>\n",
       "      <th>locality_name</th>\n",
       "      <th>airports_nearest</th>\n",
       "      <th>cityCenters_nearest</th>\n",
       "      <th>parks_around3000</th>\n",
       "      <th>parks_nearest</th>\n",
       "      <th>ponds_around3000</th>\n",
       "      <th>ponds_nearest</th>\n",
       "      <th>days_exposition</th>\n",
       "    </tr>\n",
       "  </thead>\n",
       "  <tbody>\n",
       "    <tr>\n",
       "      <th>0</th>\n",
       "      <td>20</td>\n",
       "      <td>13000000.0</td>\n",
       "      <td>108.00</td>\n",
       "      <td>2019-03-07T00:00:00</td>\n",
       "      <td>3</td>\n",
       "      <td>2.70</td>\n",
       "      <td>16.0</td>\n",
       "      <td>51.0</td>\n",
       "      <td>8</td>\n",
       "      <td>NaN</td>\n",
       "      <td>...</td>\n",
       "      <td>25.00</td>\n",
       "      <td>NaN</td>\n",
       "      <td>Санкт-Петербург</td>\n",
       "      <td>18863.0</td>\n",
       "      <td>16028.0</td>\n",
       "      <td>1.0</td>\n",
       "      <td>482.0</td>\n",
       "      <td>2.0</td>\n",
       "      <td>755.0</td>\n",
       "      <td>NaN</td>\n",
       "    </tr>\n",
       "    <tr>\n",
       "      <th>1</th>\n",
       "      <td>7</td>\n",
       "      <td>3350000.0</td>\n",
       "      <td>40.40</td>\n",
       "      <td>2018-12-04T00:00:00</td>\n",
       "      <td>1</td>\n",
       "      <td>NaN</td>\n",
       "      <td>11.0</td>\n",
       "      <td>18.6</td>\n",
       "      <td>1</td>\n",
       "      <td>NaN</td>\n",
       "      <td>...</td>\n",
       "      <td>11.00</td>\n",
       "      <td>2.0</td>\n",
       "      <td>посёлок Шушары</td>\n",
       "      <td>12817.0</td>\n",
       "      <td>18603.0</td>\n",
       "      <td>0.0</td>\n",
       "      <td>NaN</td>\n",
       "      <td>0.0</td>\n",
       "      <td>NaN</td>\n",
       "      <td>81.0</td>\n",
       "    </tr>\n",
       "    <tr>\n",
       "      <th>2</th>\n",
       "      <td>10</td>\n",
       "      <td>5196000.0</td>\n",
       "      <td>56.00</td>\n",
       "      <td>2015-08-20T00:00:00</td>\n",
       "      <td>2</td>\n",
       "      <td>NaN</td>\n",
       "      <td>5.0</td>\n",
       "      <td>34.3</td>\n",
       "      <td>4</td>\n",
       "      <td>NaN</td>\n",
       "      <td>...</td>\n",
       "      <td>8.30</td>\n",
       "      <td>0.0</td>\n",
       "      <td>Санкт-Петербург</td>\n",
       "      <td>21741.0</td>\n",
       "      <td>13933.0</td>\n",
       "      <td>1.0</td>\n",
       "      <td>90.0</td>\n",
       "      <td>2.0</td>\n",
       "      <td>574.0</td>\n",
       "      <td>558.0</td>\n",
       "    </tr>\n",
       "    <tr>\n",
       "      <th>3</th>\n",
       "      <td>0</td>\n",
       "      <td>64900000.0</td>\n",
       "      <td>159.00</td>\n",
       "      <td>2015-07-24T00:00:00</td>\n",
       "      <td>3</td>\n",
       "      <td>NaN</td>\n",
       "      <td>14.0</td>\n",
       "      <td>NaN</td>\n",
       "      <td>9</td>\n",
       "      <td>NaN</td>\n",
       "      <td>...</td>\n",
       "      <td>NaN</td>\n",
       "      <td>0.0</td>\n",
       "      <td>Санкт-Петербург</td>\n",
       "      <td>28098.0</td>\n",
       "      <td>6800.0</td>\n",
       "      <td>2.0</td>\n",
       "      <td>84.0</td>\n",
       "      <td>3.0</td>\n",
       "      <td>234.0</td>\n",
       "      <td>424.0</td>\n",
       "    </tr>\n",
       "    <tr>\n",
       "      <th>4</th>\n",
       "      <td>2</td>\n",
       "      <td>10000000.0</td>\n",
       "      <td>100.00</td>\n",
       "      <td>2018-06-19T00:00:00</td>\n",
       "      <td>2</td>\n",
       "      <td>3.03</td>\n",
       "      <td>14.0</td>\n",
       "      <td>32.0</td>\n",
       "      <td>13</td>\n",
       "      <td>NaN</td>\n",
       "      <td>...</td>\n",
       "      <td>41.00</td>\n",
       "      <td>NaN</td>\n",
       "      <td>Санкт-Петербург</td>\n",
       "      <td>31856.0</td>\n",
       "      <td>8098.0</td>\n",
       "      <td>2.0</td>\n",
       "      <td>112.0</td>\n",
       "      <td>1.0</td>\n",
       "      <td>48.0</td>\n",
       "      <td>121.0</td>\n",
       "    </tr>\n",
       "    <tr>\n",
       "      <th>...</th>\n",
       "      <td>...</td>\n",
       "      <td>...</td>\n",
       "      <td>...</td>\n",
       "      <td>...</td>\n",
       "      <td>...</td>\n",
       "      <td>...</td>\n",
       "      <td>...</td>\n",
       "      <td>...</td>\n",
       "      <td>...</td>\n",
       "      <td>...</td>\n",
       "      <td>...</td>\n",
       "      <td>...</td>\n",
       "      <td>...</td>\n",
       "      <td>...</td>\n",
       "      <td>...</td>\n",
       "      <td>...</td>\n",
       "      <td>...</td>\n",
       "      <td>...</td>\n",
       "      <td>...</td>\n",
       "      <td>...</td>\n",
       "      <td>...</td>\n",
       "    </tr>\n",
       "    <tr>\n",
       "      <th>23694</th>\n",
       "      <td>9</td>\n",
       "      <td>9700000.0</td>\n",
       "      <td>133.81</td>\n",
       "      <td>2017-03-21T00:00:00</td>\n",
       "      <td>3</td>\n",
       "      <td>3.70</td>\n",
       "      <td>5.0</td>\n",
       "      <td>73.3</td>\n",
       "      <td>3</td>\n",
       "      <td>NaN</td>\n",
       "      <td>...</td>\n",
       "      <td>13.83</td>\n",
       "      <td>NaN</td>\n",
       "      <td>Санкт-Петербург</td>\n",
       "      <td>24665.0</td>\n",
       "      <td>4232.0</td>\n",
       "      <td>1.0</td>\n",
       "      <td>796.0</td>\n",
       "      <td>3.0</td>\n",
       "      <td>381.0</td>\n",
       "      <td>NaN</td>\n",
       "    </tr>\n",
       "    <tr>\n",
       "      <th>23695</th>\n",
       "      <td>14</td>\n",
       "      <td>3100000.0</td>\n",
       "      <td>59.00</td>\n",
       "      <td>2018-01-15T00:00:00</td>\n",
       "      <td>3</td>\n",
       "      <td>NaN</td>\n",
       "      <td>5.0</td>\n",
       "      <td>38.0</td>\n",
       "      <td>4</td>\n",
       "      <td>NaN</td>\n",
       "      <td>...</td>\n",
       "      <td>8.50</td>\n",
       "      <td>NaN</td>\n",
       "      <td>Тосно</td>\n",
       "      <td>NaN</td>\n",
       "      <td>NaN</td>\n",
       "      <td>NaN</td>\n",
       "      <td>NaN</td>\n",
       "      <td>NaN</td>\n",
       "      <td>NaN</td>\n",
       "      <td>45.0</td>\n",
       "    </tr>\n",
       "    <tr>\n",
       "      <th>23696</th>\n",
       "      <td>18</td>\n",
       "      <td>2500000.0</td>\n",
       "      <td>56.70</td>\n",
       "      <td>2018-02-11T00:00:00</td>\n",
       "      <td>2</td>\n",
       "      <td>NaN</td>\n",
       "      <td>3.0</td>\n",
       "      <td>29.7</td>\n",
       "      <td>1</td>\n",
       "      <td>NaN</td>\n",
       "      <td>...</td>\n",
       "      <td>NaN</td>\n",
       "      <td>NaN</td>\n",
       "      <td>село Рождествено</td>\n",
       "      <td>NaN</td>\n",
       "      <td>NaN</td>\n",
       "      <td>NaN</td>\n",
       "      <td>NaN</td>\n",
       "      <td>NaN</td>\n",
       "      <td>NaN</td>\n",
       "      <td>NaN</td>\n",
       "    </tr>\n",
       "    <tr>\n",
       "      <th>23697</th>\n",
       "      <td>13</td>\n",
       "      <td>11475000.0</td>\n",
       "      <td>76.75</td>\n",
       "      <td>2017-03-28T00:00:00</td>\n",
       "      <td>2</td>\n",
       "      <td>3.00</td>\n",
       "      <td>17.0</td>\n",
       "      <td>NaN</td>\n",
       "      <td>12</td>\n",
       "      <td>NaN</td>\n",
       "      <td>...</td>\n",
       "      <td>23.30</td>\n",
       "      <td>2.0</td>\n",
       "      <td>Санкт-Петербург</td>\n",
       "      <td>39140.0</td>\n",
       "      <td>10364.0</td>\n",
       "      <td>2.0</td>\n",
       "      <td>173.0</td>\n",
       "      <td>3.0</td>\n",
       "      <td>196.0</td>\n",
       "      <td>602.0</td>\n",
       "    </tr>\n",
       "    <tr>\n",
       "      <th>23698</th>\n",
       "      <td>4</td>\n",
       "      <td>1350000.0</td>\n",
       "      <td>32.30</td>\n",
       "      <td>2017-07-21T00:00:00</td>\n",
       "      <td>1</td>\n",
       "      <td>2.50</td>\n",
       "      <td>5.0</td>\n",
       "      <td>12.3</td>\n",
       "      <td>1</td>\n",
       "      <td>NaN</td>\n",
       "      <td>...</td>\n",
       "      <td>9.00</td>\n",
       "      <td>NaN</td>\n",
       "      <td>поселок Новый Учхоз</td>\n",
       "      <td>NaN</td>\n",
       "      <td>NaN</td>\n",
       "      <td>NaN</td>\n",
       "      <td>NaN</td>\n",
       "      <td>NaN</td>\n",
       "      <td>NaN</td>\n",
       "      <td>NaN</td>\n",
       "    </tr>\n",
       "  </tbody>\n",
       "</table>\n",
       "<p>23699 rows × 22 columns</p>\n",
       "</div>"
      ],
      "text/plain": [
       "       total_images  last_price  total_area first_day_exposition  rooms  \\\n",
       "0                20  13000000.0      108.00  2019-03-07T00:00:00      3   \n",
       "1                 7   3350000.0       40.40  2018-12-04T00:00:00      1   \n",
       "2                10   5196000.0       56.00  2015-08-20T00:00:00      2   \n",
       "3                 0  64900000.0      159.00  2015-07-24T00:00:00      3   \n",
       "4                 2  10000000.0      100.00  2018-06-19T00:00:00      2   \n",
       "...             ...         ...         ...                  ...    ...   \n",
       "23694             9   9700000.0      133.81  2017-03-21T00:00:00      3   \n",
       "23695            14   3100000.0       59.00  2018-01-15T00:00:00      3   \n",
       "23696            18   2500000.0       56.70  2018-02-11T00:00:00      2   \n",
       "23697            13  11475000.0       76.75  2017-03-28T00:00:00      2   \n",
       "23698             4   1350000.0       32.30  2017-07-21T00:00:00      1   \n",
       "\n",
       "       ceiling_height  floors_total  living_area  floor is_apartment  ...  \\\n",
       "0                2.70          16.0         51.0      8          NaN  ...   \n",
       "1                 NaN          11.0         18.6      1          NaN  ...   \n",
       "2                 NaN           5.0         34.3      4          NaN  ...   \n",
       "3                 NaN          14.0          NaN      9          NaN  ...   \n",
       "4                3.03          14.0         32.0     13          NaN  ...   \n",
       "...               ...           ...          ...    ...          ...  ...   \n",
       "23694            3.70           5.0         73.3      3          NaN  ...   \n",
       "23695             NaN           5.0         38.0      4          NaN  ...   \n",
       "23696             NaN           3.0         29.7      1          NaN  ...   \n",
       "23697            3.00          17.0          NaN     12          NaN  ...   \n",
       "23698            2.50           5.0         12.3      1          NaN  ...   \n",
       "\n",
       "       kitchen_area  balcony        locality_name  airports_nearest  \\\n",
       "0             25.00      NaN      Санкт-Петербург           18863.0   \n",
       "1             11.00      2.0       посёлок Шушары           12817.0   \n",
       "2              8.30      0.0      Санкт-Петербург           21741.0   \n",
       "3               NaN      0.0      Санкт-Петербург           28098.0   \n",
       "4             41.00      NaN      Санкт-Петербург           31856.0   \n",
       "...             ...      ...                  ...               ...   \n",
       "23694         13.83      NaN      Санкт-Петербург           24665.0   \n",
       "23695          8.50      NaN                Тосно               NaN   \n",
       "23696           NaN      NaN     село Рождествено               NaN   \n",
       "23697         23.30      2.0      Санкт-Петербург           39140.0   \n",
       "23698          9.00      NaN  поселок Новый Учхоз               NaN   \n",
       "\n",
       "      cityCenters_nearest  parks_around3000  parks_nearest  ponds_around3000  \\\n",
       "0                 16028.0               1.0          482.0               2.0   \n",
       "1                 18603.0               0.0            NaN               0.0   \n",
       "2                 13933.0               1.0           90.0               2.0   \n",
       "3                  6800.0               2.0           84.0               3.0   \n",
       "4                  8098.0               2.0          112.0               1.0   \n",
       "...                   ...               ...            ...               ...   \n",
       "23694              4232.0               1.0          796.0               3.0   \n",
       "23695                 NaN               NaN            NaN               NaN   \n",
       "23696                 NaN               NaN            NaN               NaN   \n",
       "23697             10364.0               2.0          173.0               3.0   \n",
       "23698                 NaN               NaN            NaN               NaN   \n",
       "\n",
       "       ponds_nearest  days_exposition  \n",
       "0              755.0              NaN  \n",
       "1                NaN             81.0  \n",
       "2              574.0            558.0  \n",
       "3              234.0            424.0  \n",
       "4               48.0            121.0  \n",
       "...              ...              ...  \n",
       "23694          381.0              NaN  \n",
       "23695            NaN             45.0  \n",
       "23696            NaN              NaN  \n",
       "23697          196.0            602.0  \n",
       "23698            NaN              NaN  \n",
       "\n",
       "[23699 rows x 22 columns]"
      ]
     },
     "execution_count": 3,
     "metadata": {},
     "output_type": "execute_result"
    }
   ],
   "source": [
    "data"
   ]
  },
  {
   "cell_type": "code",
   "execution_count": 4,
   "metadata": {},
   "outputs": [
    {
     "name": "stdout",
     "output_type": "stream",
     "text": [
      "<class 'pandas.core.frame.DataFrame'>\n",
      "RangeIndex: 23699 entries, 0 to 23698\n",
      "Data columns (total 22 columns):\n",
      " #   Column                Non-Null Count  Dtype  \n",
      "---  ------                --------------  -----  \n",
      " 0   total_images          23699 non-null  int64  \n",
      " 1   last_price            23699 non-null  float64\n",
      " 2   total_area            23699 non-null  float64\n",
      " 3   first_day_exposition  23699 non-null  object \n",
      " 4   rooms                 23699 non-null  int64  \n",
      " 5   ceiling_height        14504 non-null  float64\n",
      " 6   floors_total          23613 non-null  float64\n",
      " 7   living_area           21796 non-null  float64\n",
      " 8   floor                 23699 non-null  int64  \n",
      " 9   is_apartment          2775 non-null   object \n",
      " 10  studio                23699 non-null  bool   \n",
      " 11  open_plan             23699 non-null  bool   \n",
      " 12  kitchen_area          21421 non-null  float64\n",
      " 13  balcony               12180 non-null  float64\n",
      " 14  locality_name         23650 non-null  object \n",
      " 15  airports_nearest      18157 non-null  float64\n",
      " 16  cityCenters_nearest   18180 non-null  float64\n",
      " 17  parks_around3000      18181 non-null  float64\n",
      " 18  parks_nearest         8079 non-null   float64\n",
      " 19  ponds_around3000      18181 non-null  float64\n",
      " 20  ponds_nearest         9110 non-null   float64\n",
      " 21  days_exposition       20518 non-null  float64\n",
      "dtypes: bool(2), float64(14), int64(3), object(3)\n",
      "memory usage: 3.7+ MB\n"
     ]
    }
   ],
   "source": [
    "#рассмотрим датафрейм подробнее\n",
    "data.info()"
   ]
  },
  {
   "cell_type": "code",
   "execution_count": 5,
   "metadata": {},
   "outputs": [],
   "source": [
    "#исправим_стилистическую_ошибку\n",
    "data = data.rename(columns={'cityCenters_nearest': 'city_centers_nearest'})"
   ]
  },
  {
   "cell_type": "code",
   "execution_count": 6,
   "metadata": {},
   "outputs": [
    {
     "data": {
      "text/html": [
       "<div>\n",
       "<style scoped>\n",
       "    .dataframe tbody tr th:only-of-type {\n",
       "        vertical-align: middle;\n",
       "    }\n",
       "\n",
       "    .dataframe tbody tr th {\n",
       "        vertical-align: top;\n",
       "    }\n",
       "\n",
       "    .dataframe thead th {\n",
       "        text-align: right;\n",
       "    }\n",
       "</style>\n",
       "<table border=\"1\" class=\"dataframe\">\n",
       "  <thead>\n",
       "    <tr style=\"text-align: right;\">\n",
       "      <th></th>\n",
       "      <th>total_images</th>\n",
       "      <th>last_price</th>\n",
       "      <th>total_area</th>\n",
       "      <th>first_day_exposition</th>\n",
       "      <th>rooms</th>\n",
       "      <th>ceiling_height</th>\n",
       "      <th>floors_total</th>\n",
       "      <th>living_area</th>\n",
       "      <th>floor</th>\n",
       "      <th>is_apartment</th>\n",
       "      <th>...</th>\n",
       "      <th>kitchen_area</th>\n",
       "      <th>balcony</th>\n",
       "      <th>locality_name</th>\n",
       "      <th>airports_nearest</th>\n",
       "      <th>city_centers_nearest</th>\n",
       "      <th>parks_around3000</th>\n",
       "      <th>parks_nearest</th>\n",
       "      <th>ponds_around3000</th>\n",
       "      <th>ponds_nearest</th>\n",
       "      <th>days_exposition</th>\n",
       "    </tr>\n",
       "  </thead>\n",
       "  <tbody>\n",
       "    <tr>\n",
       "      <th>0</th>\n",
       "      <td>20</td>\n",
       "      <td>13000000.0</td>\n",
       "      <td>108.0</td>\n",
       "      <td>2019-03-07T00:00:00</td>\n",
       "      <td>3</td>\n",
       "      <td>2.70</td>\n",
       "      <td>16.0</td>\n",
       "      <td>51.0</td>\n",
       "      <td>8</td>\n",
       "      <td>NaN</td>\n",
       "      <td>...</td>\n",
       "      <td>25.0</td>\n",
       "      <td>NaN</td>\n",
       "      <td>Санкт-Петербург</td>\n",
       "      <td>18863.0</td>\n",
       "      <td>16028.0</td>\n",
       "      <td>1.0</td>\n",
       "      <td>482.0</td>\n",
       "      <td>2.0</td>\n",
       "      <td>755.0</td>\n",
       "      <td>NaN</td>\n",
       "    </tr>\n",
       "    <tr>\n",
       "      <th>1</th>\n",
       "      <td>7</td>\n",
       "      <td>3350000.0</td>\n",
       "      <td>40.4</td>\n",
       "      <td>2018-12-04T00:00:00</td>\n",
       "      <td>1</td>\n",
       "      <td>NaN</td>\n",
       "      <td>11.0</td>\n",
       "      <td>18.6</td>\n",
       "      <td>1</td>\n",
       "      <td>NaN</td>\n",
       "      <td>...</td>\n",
       "      <td>11.0</td>\n",
       "      <td>2.0</td>\n",
       "      <td>посёлок Шушары</td>\n",
       "      <td>12817.0</td>\n",
       "      <td>18603.0</td>\n",
       "      <td>0.0</td>\n",
       "      <td>NaN</td>\n",
       "      <td>0.0</td>\n",
       "      <td>NaN</td>\n",
       "      <td>81.0</td>\n",
       "    </tr>\n",
       "    <tr>\n",
       "      <th>2</th>\n",
       "      <td>10</td>\n",
       "      <td>5196000.0</td>\n",
       "      <td>56.0</td>\n",
       "      <td>2015-08-20T00:00:00</td>\n",
       "      <td>2</td>\n",
       "      <td>NaN</td>\n",
       "      <td>5.0</td>\n",
       "      <td>34.3</td>\n",
       "      <td>4</td>\n",
       "      <td>NaN</td>\n",
       "      <td>...</td>\n",
       "      <td>8.3</td>\n",
       "      <td>0.0</td>\n",
       "      <td>Санкт-Петербург</td>\n",
       "      <td>21741.0</td>\n",
       "      <td>13933.0</td>\n",
       "      <td>1.0</td>\n",
       "      <td>90.0</td>\n",
       "      <td>2.0</td>\n",
       "      <td>574.0</td>\n",
       "      <td>558.0</td>\n",
       "    </tr>\n",
       "    <tr>\n",
       "      <th>3</th>\n",
       "      <td>0</td>\n",
       "      <td>64900000.0</td>\n",
       "      <td>159.0</td>\n",
       "      <td>2015-07-24T00:00:00</td>\n",
       "      <td>3</td>\n",
       "      <td>NaN</td>\n",
       "      <td>14.0</td>\n",
       "      <td>NaN</td>\n",
       "      <td>9</td>\n",
       "      <td>NaN</td>\n",
       "      <td>...</td>\n",
       "      <td>NaN</td>\n",
       "      <td>0.0</td>\n",
       "      <td>Санкт-Петербург</td>\n",
       "      <td>28098.0</td>\n",
       "      <td>6800.0</td>\n",
       "      <td>2.0</td>\n",
       "      <td>84.0</td>\n",
       "      <td>3.0</td>\n",
       "      <td>234.0</td>\n",
       "      <td>424.0</td>\n",
       "    </tr>\n",
       "    <tr>\n",
       "      <th>4</th>\n",
       "      <td>2</td>\n",
       "      <td>10000000.0</td>\n",
       "      <td>100.0</td>\n",
       "      <td>2018-06-19T00:00:00</td>\n",
       "      <td>2</td>\n",
       "      <td>3.03</td>\n",
       "      <td>14.0</td>\n",
       "      <td>32.0</td>\n",
       "      <td>13</td>\n",
       "      <td>NaN</td>\n",
       "      <td>...</td>\n",
       "      <td>41.0</td>\n",
       "      <td>NaN</td>\n",
       "      <td>Санкт-Петербург</td>\n",
       "      <td>31856.0</td>\n",
       "      <td>8098.0</td>\n",
       "      <td>2.0</td>\n",
       "      <td>112.0</td>\n",
       "      <td>1.0</td>\n",
       "      <td>48.0</td>\n",
       "      <td>121.0</td>\n",
       "    </tr>\n",
       "  </tbody>\n",
       "</table>\n",
       "<p>5 rows × 22 columns</p>\n",
       "</div>"
      ],
      "text/plain": [
       "   total_images  last_price  total_area first_day_exposition  rooms  \\\n",
       "0            20  13000000.0       108.0  2019-03-07T00:00:00      3   \n",
       "1             7   3350000.0        40.4  2018-12-04T00:00:00      1   \n",
       "2            10   5196000.0        56.0  2015-08-20T00:00:00      2   \n",
       "3             0  64900000.0       159.0  2015-07-24T00:00:00      3   \n",
       "4             2  10000000.0       100.0  2018-06-19T00:00:00      2   \n",
       "\n",
       "   ceiling_height  floors_total  living_area  floor is_apartment  ...  \\\n",
       "0            2.70          16.0         51.0      8          NaN  ...   \n",
       "1             NaN          11.0         18.6      1          NaN  ...   \n",
       "2             NaN           5.0         34.3      4          NaN  ...   \n",
       "3             NaN          14.0          NaN      9          NaN  ...   \n",
       "4            3.03          14.0         32.0     13          NaN  ...   \n",
       "\n",
       "   kitchen_area  balcony    locality_name  airports_nearest  \\\n",
       "0          25.0      NaN  Санкт-Петербург           18863.0   \n",
       "1          11.0      2.0   посёлок Шушары           12817.0   \n",
       "2           8.3      0.0  Санкт-Петербург           21741.0   \n",
       "3           NaN      0.0  Санкт-Петербург           28098.0   \n",
       "4          41.0      NaN  Санкт-Петербург           31856.0   \n",
       "\n",
       "  city_centers_nearest  parks_around3000  parks_nearest  ponds_around3000  \\\n",
       "0              16028.0               1.0          482.0               2.0   \n",
       "1              18603.0               0.0            NaN               0.0   \n",
       "2              13933.0               1.0           90.0               2.0   \n",
       "3               6800.0               2.0           84.0               3.0   \n",
       "4               8098.0               2.0          112.0               1.0   \n",
       "\n",
       "   ponds_nearest  days_exposition  \n",
       "0          755.0              NaN  \n",
       "1            NaN             81.0  \n",
       "2          574.0            558.0  \n",
       "3          234.0            424.0  \n",
       "4           48.0            121.0  \n",
       "\n",
       "[5 rows x 22 columns]"
      ]
     },
     "execution_count": 6,
     "metadata": {},
     "output_type": "execute_result"
    }
   ],
   "source": [
    "#рассмотрим исправленный датафрейм\n",
    "data.head()"
   ]
  },
  {
   "cell_type": "code",
   "execution_count": 7,
   "metadata": {},
   "outputs": [],
   "source": [
    "#Приводим к типу даты дату публикации\n",
    "data['first_day_exposition'] = pd.to_datetime(data['first_day_exposition'], format='%Y-%m-%d')"
   ]
  },
  {
   "cell_type": "code",
   "execution_count": 8,
   "metadata": {},
   "outputs": [
    {
     "data": {
      "text/html": [
       "<div>\n",
       "<style scoped>\n",
       "    .dataframe tbody tr th:only-of-type {\n",
       "        vertical-align: middle;\n",
       "    }\n",
       "\n",
       "    .dataframe tbody tr th {\n",
       "        vertical-align: top;\n",
       "    }\n",
       "\n",
       "    .dataframe thead th {\n",
       "        text-align: right;\n",
       "    }\n",
       "</style>\n",
       "<table border=\"1\" class=\"dataframe\">\n",
       "  <thead>\n",
       "    <tr style=\"text-align: right;\">\n",
       "      <th></th>\n",
       "      <th>total_images</th>\n",
       "      <th>last_price</th>\n",
       "      <th>total_area</th>\n",
       "      <th>first_day_exposition</th>\n",
       "      <th>rooms</th>\n",
       "      <th>ceiling_height</th>\n",
       "      <th>floors_total</th>\n",
       "      <th>living_area</th>\n",
       "      <th>floor</th>\n",
       "      <th>is_apartment</th>\n",
       "      <th>...</th>\n",
       "      <th>kitchen_area</th>\n",
       "      <th>balcony</th>\n",
       "      <th>locality_name</th>\n",
       "      <th>airports_nearest</th>\n",
       "      <th>city_centers_nearest</th>\n",
       "      <th>parks_around3000</th>\n",
       "      <th>parks_nearest</th>\n",
       "      <th>ponds_around3000</th>\n",
       "      <th>ponds_nearest</th>\n",
       "      <th>days_exposition</th>\n",
       "    </tr>\n",
       "  </thead>\n",
       "  <tbody>\n",
       "    <tr>\n",
       "      <th>0</th>\n",
       "      <td>20</td>\n",
       "      <td>13000000.0</td>\n",
       "      <td>108.0</td>\n",
       "      <td>2019-03-07</td>\n",
       "      <td>3</td>\n",
       "      <td>2.70</td>\n",
       "      <td>16.0</td>\n",
       "      <td>51.0</td>\n",
       "      <td>8</td>\n",
       "      <td>NaN</td>\n",
       "      <td>...</td>\n",
       "      <td>25.0</td>\n",
       "      <td>NaN</td>\n",
       "      <td>Санкт-Петербург</td>\n",
       "      <td>18863.0</td>\n",
       "      <td>16028.0</td>\n",
       "      <td>1.0</td>\n",
       "      <td>482.0</td>\n",
       "      <td>2.0</td>\n",
       "      <td>755.0</td>\n",
       "      <td>NaN</td>\n",
       "    </tr>\n",
       "    <tr>\n",
       "      <th>1</th>\n",
       "      <td>7</td>\n",
       "      <td>3350000.0</td>\n",
       "      <td>40.4</td>\n",
       "      <td>2018-12-04</td>\n",
       "      <td>1</td>\n",
       "      <td>NaN</td>\n",
       "      <td>11.0</td>\n",
       "      <td>18.6</td>\n",
       "      <td>1</td>\n",
       "      <td>NaN</td>\n",
       "      <td>...</td>\n",
       "      <td>11.0</td>\n",
       "      <td>2.0</td>\n",
       "      <td>посёлок Шушары</td>\n",
       "      <td>12817.0</td>\n",
       "      <td>18603.0</td>\n",
       "      <td>0.0</td>\n",
       "      <td>NaN</td>\n",
       "      <td>0.0</td>\n",
       "      <td>NaN</td>\n",
       "      <td>81.0</td>\n",
       "    </tr>\n",
       "    <tr>\n",
       "      <th>2</th>\n",
       "      <td>10</td>\n",
       "      <td>5196000.0</td>\n",
       "      <td>56.0</td>\n",
       "      <td>2015-08-20</td>\n",
       "      <td>2</td>\n",
       "      <td>NaN</td>\n",
       "      <td>5.0</td>\n",
       "      <td>34.3</td>\n",
       "      <td>4</td>\n",
       "      <td>NaN</td>\n",
       "      <td>...</td>\n",
       "      <td>8.3</td>\n",
       "      <td>0.0</td>\n",
       "      <td>Санкт-Петербург</td>\n",
       "      <td>21741.0</td>\n",
       "      <td>13933.0</td>\n",
       "      <td>1.0</td>\n",
       "      <td>90.0</td>\n",
       "      <td>2.0</td>\n",
       "      <td>574.0</td>\n",
       "      <td>558.0</td>\n",
       "    </tr>\n",
       "    <tr>\n",
       "      <th>3</th>\n",
       "      <td>0</td>\n",
       "      <td>64900000.0</td>\n",
       "      <td>159.0</td>\n",
       "      <td>2015-07-24</td>\n",
       "      <td>3</td>\n",
       "      <td>NaN</td>\n",
       "      <td>14.0</td>\n",
       "      <td>NaN</td>\n",
       "      <td>9</td>\n",
       "      <td>NaN</td>\n",
       "      <td>...</td>\n",
       "      <td>NaN</td>\n",
       "      <td>0.0</td>\n",
       "      <td>Санкт-Петербург</td>\n",
       "      <td>28098.0</td>\n",
       "      <td>6800.0</td>\n",
       "      <td>2.0</td>\n",
       "      <td>84.0</td>\n",
       "      <td>3.0</td>\n",
       "      <td>234.0</td>\n",
       "      <td>424.0</td>\n",
       "    </tr>\n",
       "    <tr>\n",
       "      <th>4</th>\n",
       "      <td>2</td>\n",
       "      <td>10000000.0</td>\n",
       "      <td>100.0</td>\n",
       "      <td>2018-06-19</td>\n",
       "      <td>2</td>\n",
       "      <td>3.03</td>\n",
       "      <td>14.0</td>\n",
       "      <td>32.0</td>\n",
       "      <td>13</td>\n",
       "      <td>NaN</td>\n",
       "      <td>...</td>\n",
       "      <td>41.0</td>\n",
       "      <td>NaN</td>\n",
       "      <td>Санкт-Петербург</td>\n",
       "      <td>31856.0</td>\n",
       "      <td>8098.0</td>\n",
       "      <td>2.0</td>\n",
       "      <td>112.0</td>\n",
       "      <td>1.0</td>\n",
       "      <td>48.0</td>\n",
       "      <td>121.0</td>\n",
       "    </tr>\n",
       "  </tbody>\n",
       "</table>\n",
       "<p>5 rows × 22 columns</p>\n",
       "</div>"
      ],
      "text/plain": [
       "   total_images  last_price  total_area first_day_exposition  rooms  \\\n",
       "0            20  13000000.0       108.0           2019-03-07      3   \n",
       "1             7   3350000.0        40.4           2018-12-04      1   \n",
       "2            10   5196000.0        56.0           2015-08-20      2   \n",
       "3             0  64900000.0       159.0           2015-07-24      3   \n",
       "4             2  10000000.0       100.0           2018-06-19      2   \n",
       "\n",
       "   ceiling_height  floors_total  living_area  floor is_apartment  ...  \\\n",
       "0            2.70          16.0         51.0      8          NaN  ...   \n",
       "1             NaN          11.0         18.6      1          NaN  ...   \n",
       "2             NaN           5.0         34.3      4          NaN  ...   \n",
       "3             NaN          14.0          NaN      9          NaN  ...   \n",
       "4            3.03          14.0         32.0     13          NaN  ...   \n",
       "\n",
       "   kitchen_area  balcony    locality_name  airports_nearest  \\\n",
       "0          25.0      NaN  Санкт-Петербург           18863.0   \n",
       "1          11.0      2.0   посёлок Шушары           12817.0   \n",
       "2           8.3      0.0  Санкт-Петербург           21741.0   \n",
       "3           NaN      0.0  Санкт-Петербург           28098.0   \n",
       "4          41.0      NaN  Санкт-Петербург           31856.0   \n",
       "\n",
       "  city_centers_nearest  parks_around3000  parks_nearest  ponds_around3000  \\\n",
       "0              16028.0               1.0          482.0               2.0   \n",
       "1              18603.0               0.0            NaN               0.0   \n",
       "2              13933.0               1.0           90.0               2.0   \n",
       "3               6800.0               2.0           84.0               3.0   \n",
       "4               8098.0               2.0          112.0               1.0   \n",
       "\n",
       "   ponds_nearest  days_exposition  \n",
       "0          755.0              NaN  \n",
       "1            NaN             81.0  \n",
       "2          574.0            558.0  \n",
       "3          234.0            424.0  \n",
       "4           48.0            121.0  \n",
       "\n",
       "[5 rows x 22 columns]"
      ]
     },
     "execution_count": 8,
     "metadata": {},
     "output_type": "execute_result"
    }
   ],
   "source": [
    "data.head()"
   ]
  },
  {
   "cell_type": "code",
   "execution_count": 9,
   "metadata": {},
   "outputs": [
    {
     "data": {
      "text/plain": [
       "array([[<AxesSubplot:title={'center':'total_images'}>,\n",
       "        <AxesSubplot:title={'center':'last_price'}>,\n",
       "        <AxesSubplot:title={'center':'total_area'}>,\n",
       "        <AxesSubplot:title={'center':'first_day_exposition'}>],\n",
       "       [<AxesSubplot:title={'center':'rooms'}>,\n",
       "        <AxesSubplot:title={'center':'ceiling_height'}>,\n",
       "        <AxesSubplot:title={'center':'floors_total'}>,\n",
       "        <AxesSubplot:title={'center':'living_area'}>],\n",
       "       [<AxesSubplot:title={'center':'floor'}>,\n",
       "        <AxesSubplot:title={'center':'kitchen_area'}>,\n",
       "        <AxesSubplot:title={'center':'balcony'}>,\n",
       "        <AxesSubplot:title={'center':'airports_nearest'}>],\n",
       "       [<AxesSubplot:title={'center':'city_centers_nearest'}>,\n",
       "        <AxesSubplot:title={'center':'parks_around3000'}>,\n",
       "        <AxesSubplot:title={'center':'parks_nearest'}>,\n",
       "        <AxesSubplot:title={'center':'ponds_around3000'}>],\n",
       "       [<AxesSubplot:title={'center':'ponds_nearest'}>,\n",
       "        <AxesSubplot:title={'center':'days_exposition'}>, <AxesSubplot:>,\n",
       "        <AxesSubplot:>]], dtype=object)"
      ]
     },
     "execution_count": 9,
     "metadata": {},
     "output_type": "execute_result"
    },
    {
     "data": {
      "image/png": "[encoded data removed]",
      "text/plain": [
       "<Figure size 1080x1440 with 20 Axes>"
      ]
     },
     "metadata": {
      "needs_background": "light"
     },
     "output_type": "display_data"
    }
   ],
   "source": [
    "#построим гистограммы\n",
    "data.hist(figsize=(15, 20))"
   ]
  },
  {
   "cell_type": "markdown",
   "metadata": {},
   "source": [
    "### Предобработка данных"
   ]
  },
  {
   "cell_type": "markdown",
   "metadata": {},
   "source": [
    "Приступим к поиску и устранению пропусков, для начала выведем названия столбцов и посчитаем кол-во пропусков в них"
   ]
  },
  {
   "cell_type": "code",
   "execution_count": 10,
   "metadata": {},
   "outputs": [
    {
     "name": "stdout",
     "output_type": "stream",
     "text": [
      "total_images                0\n",
      "last_price                  0\n",
      "total_area                  0\n",
      "first_day_exposition        0\n",
      "rooms                       0\n",
      "ceiling_height           9195\n",
      "floors_total               86\n",
      "living_area              1903\n",
      "floor                       0\n",
      "is_apartment            20924\n",
      "studio                      0\n",
      "open_plan                   0\n",
      "kitchen_area             2278\n",
      "balcony                 11519\n",
      "locality_name              49\n",
      "airports_nearest         5542\n",
      "city_centers_nearest     5519\n",
      "parks_around3000         5518\n",
      "parks_nearest           15620\n",
      "ponds_around3000         5518\n",
      "ponds_nearest           14589\n",
      "days_exposition          3181\n",
      "dtype: int64\n"
     ]
    }
   ],
   "source": [
    "print(data.isna().sum())"
   ]
  },
  {
   "cell_type": "markdown",
   "metadata": {},
   "source": [
    "Количество пропусков достаточно большое, будем рассматривать каждый столбец с пропусками и решать что с ним будем делать."
   ]
  },
  {
   "cell_type": "markdown",
   "metadata": {},
   "source": [
    "**is_apartment:**   Заменим все пустые значения is_apartment на false, так как скорее всего, если они пропущены, значит это квартиры."
   ]
  },
  {
   "cell_type": "code",
   "execution_count": 11,
   "metadata": {},
   "outputs": [],
   "source": [
    "data['is_apartment'] = data['is_apartment'].fillna(False)"
   ]
  },
  {
   "cell_type": "markdown",
   "metadata": {},
   "source": [
    "**balcony:**\n",
    "Если продавец не указал число балконов, то, скорее всего, в его квартире их нет.\n",
    "Такие пропуски правильно заменить на 0:"
   ]
  },
  {
   "cell_type": "markdown",
   "metadata": {},
   "source": [
    "Число балконов должно быть целым."
   ]
  },
  {
   "cell_type": "code",
   "execution_count": 12,
   "metadata": {},
   "outputs": [],
   "source": [
    "data['balcony'] = data['balcony'].fillna(0)\n",
    "data['balcony'] = data['balcony'].astype(int)"
   ]
  },
  {
   "cell_type": "markdown",
   "metadata": {},
   "source": [
    "**locality_name:** Название населенного пункта мы заполнить не сможем, пропущенных значений 49, будем считать что это не повлияет на наши расчеты и удалим эти пропуски"
   ]
  },
  {
   "cell_type": "code",
   "execution_count": 13,
   "metadata": {},
   "outputs": [],
   "source": [
    "data.dropna(subset=['locality_name'], inplace=True)"
   ]
  },
  {
   "cell_type": "markdown",
   "metadata": {},
   "source": [
    "**floors_total:** 86 пропусков этажности зданий, выбросив эти строки, мы не исказим анализ. И переведем этажность здания в целочисленный тип данных, так как количесвтво этажей не может быть дробным."
   ]
  },
  {
   "cell_type": "code",
   "execution_count": 14,
   "metadata": {},
   "outputs": [],
   "source": [
    "data.dropna(subset=['floors_total'], inplace=True)\n",
    "data['floors_total'] = data['floors_total'].astype(int)"
   ]
  },
  {
   "cell_type": "markdown",
   "metadata": {},
   "source": [
    "**ceiling_height:** Высота потолков не самый важный параметр при покупке недвижимости, поэтому так много пропусков. В среднем по всем квартирам они не сильно отличаются, поэтому заполним пропуски высоты потолков медиальным значением "
   ]
  },
  {
   "cell_type": "code",
   "execution_count": 15,
   "metadata": {},
   "outputs": [],
   "source": [
    "data['ceiling_height'].fillna(data['ceiling_height'].median(), inplace=True)"
   ]
  },
  {
   "cell_type": "markdown",
   "metadata": {},
   "source": [
    "**living_area:** Жилая площадь-важный параметр который часто забывают заполнять, но заполнить пропуски в этом столбце как в предыдущих случаях не получится, так как этот параметр входит в общую площадь квартиры. Предлагаю вычислить коэфициент, который будет отношением медианы всех значений жилых площадей к медиане всех значений общих площадей и умножить этот коэфициент на общую площадь. И этим результатом будем заполнять пропуска"
   ]
  },
  {
   "cell_type": "code",
   "execution_count": 16,
   "metadata": {},
   "outputs": [],
   "source": [
    "living_index = data['living_area'].median() / data['total_area'].median()\n",
    "data['living_area'].fillna(living_index * data['total_area'], inplace=True)"
   ]
  },
  {
   "cell_type": "markdown",
   "metadata": {},
   "source": [
    "**kitchen_area:** Аналогично предыдущему случаю, заполним столбец площадь кухни"
   ]
  },
  {
   "cell_type": "code",
   "execution_count": 17,
   "metadata": {},
   "outputs": [],
   "source": [
    "kitchen_index = data['kitchen_area'].median() / data['total_area'].median()\n",
    "data['kitchen_area'].fillna(kitchen_index * data['total_area'], inplace=True)"
   ]
  },
  {
   "cell_type": "markdown",
   "metadata": {},
   "source": [
    "**parks_around3000 и ponds_around3000:** Логично, что если пропущены значения в этих столбцах, значит их нет в радиусе 3000 м. Заменим пропуски на 0 и переведем в целый тип данных"
   ]
  },
  {
   "cell_type": "code",
   "execution_count": 18,
   "metadata": {},
   "outputs": [],
   "source": [
    "data['parks_around3000'] = data['parks_around3000'].fillna(value=0).astype(int)\n",
    "data['ponds_around3000'] = data['ponds_around3000'].fillna(value=0).astype(int)"
   ]
  },
  {
   "cell_type": "code",
   "execution_count": 19,
   "metadata": {},
   "outputs": [
    {
     "data": {
      "text/plain": [
       "total_images                0\n",
       "last_price                  0\n",
       "total_area                  0\n",
       "first_day_exposition        0\n",
       "rooms                       0\n",
       "ceiling_height              0\n",
       "floors_total                0\n",
       "living_area                 0\n",
       "floor                       0\n",
       "is_apartment                0\n",
       "studio                      0\n",
       "open_plan                   0\n",
       "kitchen_area                0\n",
       "balcony                     0\n",
       "locality_name               0\n",
       "airports_nearest         5524\n",
       "city_centers_nearest     5501\n",
       "parks_around3000            0\n",
       "parks_nearest           15535\n",
       "ponds_around3000            0\n",
       "ponds_nearest           14529\n",
       "days_exposition          3171\n",
       "dtype: int64"
      ]
     },
     "execution_count": 19,
     "metadata": {},
     "output_type": "execute_result"
    }
   ],
   "source": [
    "data.isnull().sum()"
   ]
  },
  {
   "cell_type": "code",
   "execution_count": 20,
   "metadata": {},
   "outputs": [
    {
     "data": {
      "text/html": [
       "<div>\n",
       "<style scoped>\n",
       "    .dataframe tbody tr th:only-of-type {\n",
       "        vertical-align: middle;\n",
       "    }\n",
       "\n",
       "    .dataframe tbody tr th {\n",
       "        vertical-align: top;\n",
       "    }\n",
       "\n",
       "    .dataframe thead th {\n",
       "        text-align: right;\n",
       "    }\n",
       "</style>\n",
       "<table border=\"1\" class=\"dataframe\">\n",
       "  <thead>\n",
       "    <tr style=\"text-align: right;\">\n",
       "      <th></th>\n",
       "      <th>total_images</th>\n",
       "      <th>last_price</th>\n",
       "      <th>total_area</th>\n",
       "      <th>first_day_exposition</th>\n",
       "      <th>rooms</th>\n",
       "      <th>ceiling_height</th>\n",
       "      <th>floors_total</th>\n",
       "      <th>living_area</th>\n",
       "      <th>floor</th>\n",
       "      <th>is_apartment</th>\n",
       "      <th>...</th>\n",
       "      <th>kitchen_area</th>\n",
       "      <th>balcony</th>\n",
       "      <th>locality_name</th>\n",
       "      <th>airports_nearest</th>\n",
       "      <th>city_centers_nearest</th>\n",
       "      <th>parks_around3000</th>\n",
       "      <th>parks_nearest</th>\n",
       "      <th>ponds_around3000</th>\n",
       "      <th>ponds_nearest</th>\n",
       "      <th>days_exposition</th>\n",
       "    </tr>\n",
       "  </thead>\n",
       "  <tbody>\n",
       "    <tr>\n",
       "      <th>5</th>\n",
       "      <td>10</td>\n",
       "      <td>2890000.0</td>\n",
       "      <td>30.40</td>\n",
       "      <td>2018-09-10</td>\n",
       "      <td>1</td>\n",
       "      <td>2.65</td>\n",
       "      <td>12</td>\n",
       "      <td>14.400000</td>\n",
       "      <td>5</td>\n",
       "      <td>False</td>\n",
       "      <td>...</td>\n",
       "      <td>9.1000</td>\n",
       "      <td>0</td>\n",
       "      <td>городской посёлок Янино-1</td>\n",
       "      <td>NaN</td>\n",
       "      <td>NaN</td>\n",
       "      <td>0</td>\n",
       "      <td>NaN</td>\n",
       "      <td>0</td>\n",
       "      <td>NaN</td>\n",
       "      <td>55.0</td>\n",
       "    </tr>\n",
       "    <tr>\n",
       "      <th>8</th>\n",
       "      <td>20</td>\n",
       "      <td>2900000.0</td>\n",
       "      <td>33.16</td>\n",
       "      <td>2018-05-23</td>\n",
       "      <td>1</td>\n",
       "      <td>2.65</td>\n",
       "      <td>27</td>\n",
       "      <td>15.430000</td>\n",
       "      <td>26</td>\n",
       "      <td>False</td>\n",
       "      <td>...</td>\n",
       "      <td>8.8100</td>\n",
       "      <td>0</td>\n",
       "      <td>посёлок Мурино</td>\n",
       "      <td>NaN</td>\n",
       "      <td>NaN</td>\n",
       "      <td>0</td>\n",
       "      <td>NaN</td>\n",
       "      <td>0</td>\n",
       "      <td>NaN</td>\n",
       "      <td>189.0</td>\n",
       "    </tr>\n",
       "    <tr>\n",
       "      <th>12</th>\n",
       "      <td>10</td>\n",
       "      <td>3890000.0</td>\n",
       "      <td>54.00</td>\n",
       "      <td>2016-06-30</td>\n",
       "      <td>2</td>\n",
       "      <td>2.65</td>\n",
       "      <td>5</td>\n",
       "      <td>30.000000</td>\n",
       "      <td>5</td>\n",
       "      <td>False</td>\n",
       "      <td>...</td>\n",
       "      <td>9.0000</td>\n",
       "      <td>0</td>\n",
       "      <td>Сертолово</td>\n",
       "      <td>NaN</td>\n",
       "      <td>NaN</td>\n",
       "      <td>0</td>\n",
       "      <td>NaN</td>\n",
       "      <td>0</td>\n",
       "      <td>NaN</td>\n",
       "      <td>90.0</td>\n",
       "    </tr>\n",
       "    <tr>\n",
       "      <th>22</th>\n",
       "      <td>20</td>\n",
       "      <td>5000000.0</td>\n",
       "      <td>58.00</td>\n",
       "      <td>2017-04-24</td>\n",
       "      <td>2</td>\n",
       "      <td>2.75</td>\n",
       "      <td>25</td>\n",
       "      <td>30.000000</td>\n",
       "      <td>15</td>\n",
       "      <td>False</td>\n",
       "      <td>...</td>\n",
       "      <td>11.0000</td>\n",
       "      <td>2</td>\n",
       "      <td>деревня Кудрово</td>\n",
       "      <td>NaN</td>\n",
       "      <td>NaN</td>\n",
       "      <td>0</td>\n",
       "      <td>NaN</td>\n",
       "      <td>0</td>\n",
       "      <td>NaN</td>\n",
       "      <td>60.0</td>\n",
       "    </tr>\n",
       "    <tr>\n",
       "      <th>30</th>\n",
       "      <td>12</td>\n",
       "      <td>2200000.0</td>\n",
       "      <td>32.80</td>\n",
       "      <td>2018-02-19</td>\n",
       "      <td>1</td>\n",
       "      <td>2.65</td>\n",
       "      <td>9</td>\n",
       "      <td>18.923077</td>\n",
       "      <td>2</td>\n",
       "      <td>False</td>\n",
       "      <td>...</td>\n",
       "      <td>5.7400</td>\n",
       "      <td>0</td>\n",
       "      <td>Коммунар</td>\n",
       "      <td>NaN</td>\n",
       "      <td>NaN</td>\n",
       "      <td>0</td>\n",
       "      <td>NaN</td>\n",
       "      <td>0</td>\n",
       "      <td>NaN</td>\n",
       "      <td>63.0</td>\n",
       "    </tr>\n",
       "    <tr>\n",
       "      <th>...</th>\n",
       "      <td>...</td>\n",
       "      <td>...</td>\n",
       "      <td>...</td>\n",
       "      <td>...</td>\n",
       "      <td>...</td>\n",
       "      <td>...</td>\n",
       "      <td>...</td>\n",
       "      <td>...</td>\n",
       "      <td>...</td>\n",
       "      <td>...</td>\n",
       "      <td>...</td>\n",
       "      <td>...</td>\n",
       "      <td>...</td>\n",
       "      <td>...</td>\n",
       "      <td>...</td>\n",
       "      <td>...</td>\n",
       "      <td>...</td>\n",
       "      <td>...</td>\n",
       "      <td>...</td>\n",
       "      <td>...</td>\n",
       "      <td>...</td>\n",
       "    </tr>\n",
       "    <tr>\n",
       "      <th>23683</th>\n",
       "      <td>16</td>\n",
       "      <td>2100000.0</td>\n",
       "      <td>62.80</td>\n",
       "      <td>2018-09-18</td>\n",
       "      <td>4</td>\n",
       "      <td>2.50</td>\n",
       "      <td>5</td>\n",
       "      <td>45.500000</td>\n",
       "      <td>3</td>\n",
       "      <td>False</td>\n",
       "      <td>...</td>\n",
       "      <td>5.5000</td>\n",
       "      <td>0</td>\n",
       "      <td>посёлок Дзержинского</td>\n",
       "      <td>NaN</td>\n",
       "      <td>NaN</td>\n",
       "      <td>0</td>\n",
       "      <td>NaN</td>\n",
       "      <td>0</td>\n",
       "      <td>NaN</td>\n",
       "      <td>NaN</td>\n",
       "    </tr>\n",
       "    <tr>\n",
       "      <th>23692</th>\n",
       "      <td>2</td>\n",
       "      <td>1350000.0</td>\n",
       "      <td>30.00</td>\n",
       "      <td>2017-07-07</td>\n",
       "      <td>1</td>\n",
       "      <td>2.65</td>\n",
       "      <td>5</td>\n",
       "      <td>17.500000</td>\n",
       "      <td>4</td>\n",
       "      <td>False</td>\n",
       "      <td>...</td>\n",
       "      <td>6.0000</td>\n",
       "      <td>0</td>\n",
       "      <td>Тихвин</td>\n",
       "      <td>NaN</td>\n",
       "      <td>NaN</td>\n",
       "      <td>0</td>\n",
       "      <td>NaN</td>\n",
       "      <td>0</td>\n",
       "      <td>NaN</td>\n",
       "      <td>413.0</td>\n",
       "    </tr>\n",
       "    <tr>\n",
       "      <th>23695</th>\n",
       "      <td>14</td>\n",
       "      <td>3100000.0</td>\n",
       "      <td>59.00</td>\n",
       "      <td>2018-01-15</td>\n",
       "      <td>3</td>\n",
       "      <td>2.65</td>\n",
       "      <td>5</td>\n",
       "      <td>38.000000</td>\n",
       "      <td>4</td>\n",
       "      <td>False</td>\n",
       "      <td>...</td>\n",
       "      <td>8.5000</td>\n",
       "      <td>0</td>\n",
       "      <td>Тосно</td>\n",
       "      <td>NaN</td>\n",
       "      <td>NaN</td>\n",
       "      <td>0</td>\n",
       "      <td>NaN</td>\n",
       "      <td>0</td>\n",
       "      <td>NaN</td>\n",
       "      <td>45.0</td>\n",
       "    </tr>\n",
       "    <tr>\n",
       "      <th>23696</th>\n",
       "      <td>18</td>\n",
       "      <td>2500000.0</td>\n",
       "      <td>56.70</td>\n",
       "      <td>2018-02-11</td>\n",
       "      <td>2</td>\n",
       "      <td>2.65</td>\n",
       "      <td>3</td>\n",
       "      <td>29.700000</td>\n",
       "      <td>1</td>\n",
       "      <td>False</td>\n",
       "      <td>...</td>\n",
       "      <td>9.9225</td>\n",
       "      <td>0</td>\n",
       "      <td>село Рождествено</td>\n",
       "      <td>NaN</td>\n",
       "      <td>NaN</td>\n",
       "      <td>0</td>\n",
       "      <td>NaN</td>\n",
       "      <td>0</td>\n",
       "      <td>NaN</td>\n",
       "      <td>NaN</td>\n",
       "    </tr>\n",
       "    <tr>\n",
       "      <th>23698</th>\n",
       "      <td>4</td>\n",
       "      <td>1350000.0</td>\n",
       "      <td>32.30</td>\n",
       "      <td>2017-07-21</td>\n",
       "      <td>1</td>\n",
       "      <td>2.50</td>\n",
       "      <td>5</td>\n",
       "      <td>12.300000</td>\n",
       "      <td>1</td>\n",
       "      <td>False</td>\n",
       "      <td>...</td>\n",
       "      <td>9.0000</td>\n",
       "      <td>0</td>\n",
       "      <td>поселок Новый Учхоз</td>\n",
       "      <td>NaN</td>\n",
       "      <td>NaN</td>\n",
       "      <td>0</td>\n",
       "      <td>NaN</td>\n",
       "      <td>0</td>\n",
       "      <td>NaN</td>\n",
       "      <td>NaN</td>\n",
       "    </tr>\n",
       "  </tbody>\n",
       "</table>\n",
       "<p>5524 rows × 22 columns</p>\n",
       "</div>"
      ],
      "text/plain": [
       "       total_images  last_price  total_area first_day_exposition  rooms  \\\n",
       "5                10   2890000.0       30.40           2018-09-10      1   \n",
       "8                20   2900000.0       33.16           2018-05-23      1   \n",
       "12               10   3890000.0       54.00           2016-06-30      2   \n",
       "22               20   5000000.0       58.00           2017-04-24      2   \n",
       "30               12   2200000.0       32.80           2018-02-19      1   \n",
       "...             ...         ...         ...                  ...    ...   \n",
       "23683            16   2100000.0       62.80           2018-09-18      4   \n",
       "23692             2   1350000.0       30.00           2017-07-07      1   \n",
       "23695            14   3100000.0       59.00           2018-01-15      3   \n",
       "23696            18   2500000.0       56.70           2018-02-11      2   \n",
       "23698             4   1350000.0       32.30           2017-07-21      1   \n",
       "\n",
       "       ceiling_height  floors_total  living_area  floor  is_apartment  ...  \\\n",
       "5                2.65            12    14.400000      5         False  ...   \n",
       "8                2.65            27    15.430000     26         False  ...   \n",
       "12               2.65             5    30.000000      5         False  ...   \n",
       "22               2.75            25    30.000000     15         False  ...   \n",
       "30               2.65             9    18.923077      2         False  ...   \n",
       "...               ...           ...          ...    ...           ...  ...   \n",
       "23683            2.50             5    45.500000      3         False  ...   \n",
       "23692            2.65             5    17.500000      4         False  ...   \n",
       "23695            2.65             5    38.000000      4         False  ...   \n",
       "23696            2.65             3    29.700000      1         False  ...   \n",
       "23698            2.50             5    12.300000      1         False  ...   \n",
       "\n",
       "       kitchen_area  balcony              locality_name  airports_nearest  \\\n",
       "5            9.1000        0  городской посёлок Янино-1               NaN   \n",
       "8            8.8100        0             посёлок Мурино               NaN   \n",
       "12           9.0000        0                  Сертолово               NaN   \n",
       "22          11.0000        2            деревня Кудрово               NaN   \n",
       "30           5.7400        0                   Коммунар               NaN   \n",
       "...             ...      ...                        ...               ...   \n",
       "23683        5.5000        0       посёлок Дзержинского               NaN   \n",
       "23692        6.0000        0                     Тихвин               NaN   \n",
       "23695        8.5000        0                      Тосно               NaN   \n",
       "23696        9.9225        0           село Рождествено               NaN   \n",
       "23698        9.0000        0        поселок Новый Учхоз               NaN   \n",
       "\n",
       "      city_centers_nearest  parks_around3000  parks_nearest  ponds_around3000  \\\n",
       "5                      NaN                 0            NaN                 0   \n",
       "8                      NaN                 0            NaN                 0   \n",
       "12                     NaN                 0            NaN                 0   \n",
       "22                     NaN                 0            NaN                 0   \n",
       "30                     NaN                 0            NaN                 0   \n",
       "...                    ...               ...            ...               ...   \n",
       "23683                  NaN                 0            NaN                 0   \n",
       "23692                  NaN                 0            NaN                 0   \n",
       "23695                  NaN                 0            NaN                 0   \n",
       "23696                  NaN                 0            NaN                 0   \n",
       "23698                  NaN                 0            NaN                 0   \n",
       "\n",
       "       ponds_nearest  days_exposition  \n",
       "5                NaN             55.0  \n",
       "8                NaN            189.0  \n",
       "12               NaN             90.0  \n",
       "22               NaN             60.0  \n",
       "30               NaN             63.0  \n",
       "...              ...              ...  \n",
       "23683            NaN              NaN  \n",
       "23692            NaN            413.0  \n",
       "23695            NaN             45.0  \n",
       "23696            NaN              NaN  \n",
       "23698            NaN              NaN  \n",
       "\n",
       "[5524 rows x 22 columns]"
      ]
     },
     "execution_count": 20,
     "metadata": {},
     "output_type": "execute_result"
    }
   ],
   "source": [
    "data[data['airports_nearest'].isna()]"
   ]
  },
  {
   "cell_type": "markdown",
   "metadata": {},
   "source": [
    "Рассмотрев пропуски связанные с геолокацией, мы понимаем, что заполнить эти пропуски невозможно, а удалять их нельзя, так как мы потеряем огромную часть данных. Оставляем как есть."
   ]
  },
  {
   "cell_type": "markdown",
   "metadata": {},
   "source": [
    "**days_exposition:** Пропуски в этом столбце возможно объяснить, что эти объявления еще не сняты с публикциии. Оставляем как есть."
   ]
  },
  {
   "cell_type": "code",
   "execution_count": 21,
   "metadata": {},
   "outputs": [
    {
     "name": "stdout",
     "output_type": "stream",
     "text": [
      "<class 'pandas.core.frame.DataFrame'>\n",
      "Int64Index: 23565 entries, 0 to 23698\n",
      "Data columns (total 22 columns):\n",
      " #   Column                Non-Null Count  Dtype         \n",
      "---  ------                --------------  -----         \n",
      " 0   total_images          23565 non-null  int64         \n",
      " 1   last_price            23565 non-null  float64       \n",
      " 2   total_area            23565 non-null  float64       \n",
      " 3   first_day_exposition  23565 non-null  datetime64[ns]\n",
      " 4   rooms                 23565 non-null  int64         \n",
      " 5   ceiling_height        23565 non-null  float64       \n",
      " 6   floors_total          23565 non-null  int64         \n",
      " 7   living_area           23565 non-null  float64       \n",
      " 8   floor                 23565 non-null  int64         \n",
      " 9   is_apartment          23565 non-null  bool          \n",
      " 10  studio                23565 non-null  bool          \n",
      " 11  open_plan             23565 non-null  bool          \n",
      " 12  kitchen_area          23565 non-null  float64       \n",
      " 13  balcony               23565 non-null  int64         \n",
      " 14  locality_name         23565 non-null  object        \n",
      " 15  airports_nearest      18041 non-null  float64       \n",
      " 16  city_centers_nearest  18064 non-null  float64       \n",
      " 17  parks_around3000      23565 non-null  int64         \n",
      " 18  parks_nearest         8030 non-null   float64       \n",
      " 19  ponds_around3000      23565 non-null  int64         \n",
      " 20  ponds_nearest         9036 non-null   float64       \n",
      " 21  days_exposition       20394 non-null  float64       \n",
      "dtypes: bool(3), datetime64[ns](1), float64(10), int64(7), object(1)\n",
      "memory usage: 3.7+ MB\n"
     ]
    }
   ],
   "source": [
    "data.info()"
   ]
  },
  {
   "cell_type": "markdown",
   "metadata": {},
   "source": [
    "Рассмотрев еще раз типы данных: площадь, высота потолков, расстояние может быть дробным числом, а вот цену выставляют продавцы и редко бывает, что в стоимости недвижимсти указываются копейки, переведем цену в целые числа."
   ]
  },
  {
   "cell_type": "code",
   "execution_count": 22,
   "metadata": {},
   "outputs": [],
   "source": [
    "#Приводим в целочисленный тип стоимость квартиры\n",
    "data['last_price'] = data['last_price'].astype(int)"
   ]
  },
  {
   "cell_type": "code",
   "execution_count": 23,
   "metadata": {},
   "outputs": [
    {
     "name": "stdout",
     "output_type": "stream",
     "text": [
      "<class 'pandas.core.frame.DataFrame'>\n",
      "Int64Index: 23565 entries, 0 to 23698\n",
      "Data columns (total 22 columns):\n",
      " #   Column                Non-Null Count  Dtype         \n",
      "---  ------                --------------  -----         \n",
      " 0   total_images          23565 non-null  int64         \n",
      " 1   last_price            23565 non-null  int64         \n",
      " 2   total_area            23565 non-null  float64       \n",
      " 3   first_day_exposition  23565 non-null  datetime64[ns]\n",
      " 4   rooms                 23565 non-null  int64         \n",
      " 5   ceiling_height        23565 non-null  float64       \n",
      " 6   floors_total          23565 non-null  int64         \n",
      " 7   living_area           23565 non-null  float64       \n",
      " 8   floor                 23565 non-null  int64         \n",
      " 9   is_apartment          23565 non-null  bool          \n",
      " 10  studio                23565 non-null  bool          \n",
      " 11  open_plan             23565 non-null  bool          \n",
      " 12  kitchen_area          23565 non-null  float64       \n",
      " 13  balcony               23565 non-null  int64         \n",
      " 14  locality_name         23565 non-null  object        \n",
      " 15  airports_nearest      18041 non-null  float64       \n",
      " 16  city_centers_nearest  18064 non-null  float64       \n",
      " 17  parks_around3000      23565 non-null  int64         \n",
      " 18  parks_nearest         8030 non-null   float64       \n",
      " 19  ponds_around3000      23565 non-null  int64         \n",
      " 20  ponds_nearest         9036 non-null   float64       \n",
      " 21  days_exposition       20394 non-null  float64       \n",
      "dtypes: bool(3), datetime64[ns](1), float64(9), int64(8), object(1)\n",
      "memory usage: 3.7+ MB\n"
     ]
    }
   ],
   "source": [
    "data.info()"
   ]
  },
  {
   "cell_type": "markdown",
   "metadata": {},
   "source": [
    "**Рассмотрим наличие явных дубликатов**"
   ]
  },
  {
   "cell_type": "code",
   "execution_count": 24,
   "metadata": {},
   "outputs": [
    {
     "data": {
      "text/plain": [
       "0"
      ]
     },
     "execution_count": 24,
     "metadata": {},
     "output_type": "execute_result"
    }
   ],
   "source": [
    "data.duplicated().sum()"
   ]
  },
  {
   "cell_type": "markdown",
   "metadata": {},
   "source": [
    "Явные дубликаты отсутствуют, рассмотрим наличие неявных дубликатов. Нас интересуют названия населенных пунктов."
   ]
  },
  {
   "cell_type": "code",
   "execution_count": 25,
   "metadata": {},
   "outputs": [
    {
     "data": {
      "text/plain": [
       "364"
      ]
     },
     "execution_count": 25,
     "metadata": {},
     "output_type": "execute_result"
    }
   ],
   "source": [
    "len(data['locality_name'].dropna().unique())"
   ]
  },
  {
   "cell_type": "code",
   "execution_count": 26,
   "metadata": {},
   "outputs": [
    {
     "data": {
      "text/plain": [
       "array(['Санкт-Петербург', 'посёлок Шушары', 'городской посёлок Янино-1',\n",
       "       'посёлок Парголово', 'посёлок Мурино', 'Ломоносов', 'Сертолово',\n",
       "       'Петергоф', 'Пушкин', 'деревня Кудрово', 'Коммунар', 'Колпино',\n",
       "       'поселок городского типа Красный Бор', 'Гатчина', 'поселок Мурино',\n",
       "       'деревня Фёдоровское', 'Выборг', 'Кронштадт', 'Кировск',\n",
       "       'деревня Новое Девяткино', 'посёлок Металлострой',\n",
       "       'посёлок городского типа Лебяжье',\n",
       "       'посёлок городского типа Сиверский', 'поселок Молодцово',\n",
       "       'поселок городского типа Кузьмоловский',\n",
       "       'садовое товарищество Новая Ропша', 'Павловск',\n",
       "       'деревня Пикколово', 'Всеволожск', 'Волхов', 'Кингисепп',\n",
       "       'Приозерск', 'Сестрорецк', 'деревня Куттузи', 'посёлок Аннино',\n",
       "       'поселок городского типа Ефимовский', 'посёлок Плодовое',\n",
       "       'деревня Заклинье', 'поселок Торковичи', 'поселок Первомайское',\n",
       "       'Красное Село', 'посёлок Понтонный', 'Сясьстрой', 'деревня Старая',\n",
       "       'деревня Лесколово', 'посёлок Новый Свет', 'Сланцы',\n",
       "       'село Путилово', 'Ивангород', 'Мурино', 'Шлиссельбург',\n",
       "       'Никольское', 'Зеленогорск', 'Сосновый Бор', 'поселок Новый Свет',\n",
       "       'деревня Оржицы', 'деревня Кальтино', 'Кудрово',\n",
       "       'поселок Романовка', 'посёлок Бугры', 'поселок Бугры',\n",
       "       'поселок городского типа Рощино', 'Кириши', 'Луга', 'Волосово',\n",
       "       'Отрадное', 'село Павлово', 'поселок Оредеж', 'село Копорье',\n",
       "       'посёлок городского типа Красный Бор', 'посёлок Молодёжное',\n",
       "       'Тихвин', 'посёлок Победа', 'деревня Нурма',\n",
       "       'поселок городского типа Синявино', 'Тосно',\n",
       "       'посёлок городского типа Кузьмоловский', 'посёлок Стрельна',\n",
       "       'Бокситогорск', 'посёлок Александровская', 'деревня Лопухинка',\n",
       "       'Пикалёво', 'поселок Терволово',\n",
       "       'поселок городского типа Советский', 'Подпорожье',\n",
       "       'посёлок Петровское', 'посёлок городского типа Токсово',\n",
       "       'поселок Сельцо', 'посёлок городского типа Вырица',\n",
       "       'деревня Кипень', 'деревня Келози', 'деревня Вартемяги',\n",
       "       'посёлок Тельмана', 'поселок Севастьяново',\n",
       "       'городской поселок Большая Ижора', 'городской посёлок Павлово',\n",
       "       'деревня Агалатово', 'посёлок Новогорелово',\n",
       "       'городской посёлок Лесогорский', 'деревня Лаголово',\n",
       "       'поселок Цвелодубово', 'поселок городского типа Рахья',\n",
       "       'поселок городского типа Вырица', 'деревня Белогорка',\n",
       "       'поселок Заводской', 'городской посёлок Новоселье',\n",
       "       'деревня Большие Колпаны', 'деревня Горбунки', 'деревня Батово',\n",
       "       'деревня Заневка', 'деревня Иссад', 'Приморск',\n",
       "       'городской посёлок Фёдоровское', 'деревня Мистолово',\n",
       "       'Новая Ладога', 'поселок Зимитицы', 'поселок Барышево',\n",
       "       'деревня Разметелево', 'поселок городского типа имени Свердлова',\n",
       "       'деревня Пеники', 'поселок Рябово', 'деревня Пудомяги',\n",
       "       'поселок станции Корнево', 'деревня Низино', 'деревня Бегуницы',\n",
       "       'посёлок Поляны', 'городской посёлок Мга', 'поселок Елизаветино',\n",
       "       'посёлок городского типа Кузнечное', 'деревня Колтуши',\n",
       "       'поселок Запорожское', 'посёлок городского типа Рощино',\n",
       "       'деревня Гостилицы', 'деревня Малое Карлино',\n",
       "       'посёлок Мичуринское', 'посёлок городского типа имени Морозова',\n",
       "       'посёлок Песочный', 'посёлок Сосново', 'деревня Аро',\n",
       "       'поселок Ильичёво', 'посёлок городского типа Тайцы',\n",
       "       'деревня Малое Верево', 'деревня Извара', 'поселок станции Вещево',\n",
       "       'село Паша', 'деревня Калитино',\n",
       "       'посёлок городского типа Ульяновка', 'деревня Чудской Бор',\n",
       "       'поселок городского типа Дубровка', 'деревня Мины',\n",
       "       'поселок Войсковицы', 'посёлок городского типа имени Свердлова',\n",
       "       'деревня Коркино', 'посёлок Ропша',\n",
       "       'поселок городского типа Приладожский', 'посёлок Щеглово',\n",
       "       'посёлок Гаврилово', 'Лодейное Поле', 'деревня Рабитицы',\n",
       "       'поселок городского типа Никольский', 'деревня Кузьмолово',\n",
       "       'деревня Малые Колпаны', 'поселок Тельмана',\n",
       "       'посёлок Петро-Славянка', 'городской посёлок Назия',\n",
       "       'посёлок Репино', 'посёлок Ильичёво', 'поселок Углово',\n",
       "       'поселок Старая Малукса', 'садовое товарищество Рахья',\n",
       "       'поселок Аннино', 'поселок Победа', 'деревня Меньково',\n",
       "       'деревня Старые Бегуницы', 'посёлок Сапёрный', 'поселок Семрино',\n",
       "       'поселок Гаврилово', 'поселок Глажево', 'поселок Кобринское',\n",
       "       'деревня Гарболово', 'деревня Юкки',\n",
       "       'поселок станции Приветнинское', 'деревня Мануйлово',\n",
       "       'деревня Пчева', 'поселок Поляны', 'поселок Цвылёво',\n",
       "       'поселок Мельниково', 'посёлок Пудость', 'посёлок Усть-Луга',\n",
       "       'Светогорск', 'Любань', 'поселок Селезнёво',\n",
       "       'поселок городского типа Рябово', 'Каменногорск', 'деревня Кривко',\n",
       "       'поселок Глебычево', 'деревня Парицы', 'поселок Жилпосёлок',\n",
       "       'посёлок городского типа Мга', 'городской поселок Янино-1',\n",
       "       'посёлок Войскорово', 'село Никольское', 'посёлок Терволово',\n",
       "       'поселок Стеклянный', 'посёлок городского типа Важины',\n",
       "       'посёлок Мыза-Ивановка', 'село Русско-Высоцкое',\n",
       "       'поселок городского типа Лебяжье',\n",
       "       'поселок городского типа Форносово', 'село Старая Ладога',\n",
       "       'поселок Житково', 'городской посёлок Виллози', 'деревня Лампово',\n",
       "       'деревня Шпаньково', 'деревня Лаврики', 'посёлок Сумино',\n",
       "       'посёлок Возрождение', 'деревня Старосиверская',\n",
       "       'посёлок Кикерино', 'поселок Возрождение',\n",
       "       'деревня Старое Хинколово', 'посёлок Пригородный',\n",
       "       'посёлок Торфяное', 'городской посёлок Будогощь',\n",
       "       'поселок Суходолье', 'поселок Красная Долина', 'деревня Хапо-Ое',\n",
       "       'поселок городского типа Дружная Горка', 'поселок Лисий Нос',\n",
       "       'деревня Яльгелево', 'посёлок Стеклянный', 'село Рождествено',\n",
       "       'деревня Старополье', 'посёлок Левашово', 'деревня Сяськелево',\n",
       "       'деревня Камышовка',\n",
       "       'садоводческое некоммерческое товарищество Лесная Поляна',\n",
       "       'деревня Хязельки', 'поселок Жилгородок',\n",
       "       'посёлок городского типа Павлово', 'деревня Ялгино',\n",
       "       'поселок Новый Учхоз', 'городской посёлок Рощино',\n",
       "       'поселок Гончарово', 'поселок Почап', 'посёлок Сапёрное',\n",
       "       'посёлок Платформа 69-й километр', 'поселок Каложицы',\n",
       "       'деревня Фалилеево', 'деревня Пельгора',\n",
       "       'поселок городского типа Лесогорский', 'деревня Торошковичи',\n",
       "       'посёлок Белоостров', 'посёлок Алексеевка', 'поселок Серебрянский',\n",
       "       'поселок Лукаши', 'поселок Петровское', 'деревня Щеглово',\n",
       "       'поселок Мичуринское', 'деревня Тарасово', 'поселок Кингисеппский',\n",
       "       'посёлок при железнодорожной станции Вещево', 'поселок Ушаки',\n",
       "       'деревня Котлы', 'деревня Сижно', 'деревня Торосово',\n",
       "       'посёлок Форт Красная Горка', 'деревня Новолисино',\n",
       "       'посёлок станции Громово', 'деревня Глинка', 'посёлок Мельниково',\n",
       "       'поселок городского типа Назия', 'деревня Старая Пустошь',\n",
       "       'поселок Коммунары', 'поселок Починок',\n",
       "       'посёлок городского типа Вознесенье', 'деревня Разбегаево',\n",
       "       'посёлок городского типа Рябово', 'поселок Гладкое',\n",
       "       'посёлок при железнодорожной станции Приветнинское',\n",
       "       'поселок Тёсово-4', 'посёлок Жилгородок', 'деревня Бор',\n",
       "       'посёлок Коробицыно', 'деревня Большая Вруда', 'деревня Курковицы',\n",
       "       'посёлок Лисий Нос', 'городской посёлок Советский',\n",
       "       'посёлок Кобралово', 'деревня Суоранда', 'поселок Кобралово',\n",
       "       'поселок городского типа Кондратьево',\n",
       "       'коттеджный поселок Счастье', 'поселок Любань', 'деревня Реброво',\n",
       "       'деревня Зимитицы', 'деревня Тойворово', 'поселок Семиозерье',\n",
       "       'поселок Лесное', 'поселок Совхозный', 'поселок Усть-Луга',\n",
       "       'посёлок Ленинское', 'посёлок Суйда',\n",
       "       'посёлок городского типа Форносово', 'деревня Нижние Осельки',\n",
       "       'посёлок станции Свирь', 'поселок Перово', 'Высоцк',\n",
       "       'поселок Гарболово', 'село Шум', 'поселок Котельский',\n",
       "       'поселок станции Лужайка', 'деревня Большая Пустомержа',\n",
       "       'поселок Красносельское', 'деревня Вахнова Кара', 'деревня Пижма',\n",
       "       'коттеджный поселок Кивеннапа Север', 'поселок Коробицыно',\n",
       "       'поселок Ромашки', 'посёлок Перово', 'деревня Каськово',\n",
       "       'деревня Куровицы', 'посёлок Плоское', 'поселок Сумино',\n",
       "       'поселок городского типа Большая Ижора', 'поселок Кирпичное',\n",
       "       'деревня Ям-Тесово', 'деревня Раздолье', 'деревня Терпилицы',\n",
       "       'поселок городского типа Токсово', 'посёлок Шугозеро',\n",
       "       'деревня Ваганово', 'поселок Пушное', 'садовое товарищество Садко',\n",
       "       'посёлок Усть-Ижора', 'деревня Выскатка',\n",
       "       'городской посёлок Свирьстрой', 'поселок Громово',\n",
       "       'деревня Кисельня', 'посёлок Старая Малукса',\n",
       "       'деревня Трубников Бор', 'поселок Калитино',\n",
       "       'посёлок Высокоключевой', 'садовое товарищество Приладожский',\n",
       "       'посёлок Пансионат Зелёный Бор', 'деревня Ненимяки',\n",
       "       'поселок Пансионат Зелёный Бор', 'деревня Снегирёвка',\n",
       "       'деревня Рапполово', 'деревня Пустынка', 'поселок Рабитицы',\n",
       "       'деревня Большой Сабск', 'деревня Русско', 'деревня Лупполово',\n",
       "       'деревня Большое Рейзино', 'деревня Малая Романовка',\n",
       "       'поселок Дружноселье', 'поселок Пчевжа', 'поселок Володарское',\n",
       "       'деревня Нижняя', 'коттеджный посёлок Лесное', 'деревня Тихковицы',\n",
       "       'деревня Борисова Грива', 'посёлок Дзержинского'], dtype=object)"
      ]
     },
     "execution_count": 26,
     "metadata": {},
     "output_type": "execute_result"
    }
   ],
   "source": [
    "data['locality_name'].unique()"
   ]
  },
  {
   "cell_type": "markdown",
   "metadata": {},
   "source": [
    "видим поселок и посёлок - заменим на ё на е"
   ]
  },
  {
   "cell_type": "code",
   "execution_count": 27,
   "metadata": {},
   "outputs": [],
   "source": [
    "data['locality_name'] = data['locality_name'].str.replace(\"ё\", \"е\")"
   ]
  },
  {
   "cell_type": "code",
   "execution_count": 28,
   "metadata": {},
   "outputs": [],
   "source": [
    "data['locality_name'] = data['locality_name'].str.replace(\"поселок городского типа\", \"поселок\")"
   ]
  },
  {
   "cell_type": "code",
   "execution_count": 29,
   "metadata": {},
   "outputs": [
    {
     "data": {
      "text/plain": [
       "array(['Санкт-Петербург', 'поселок Шушары', 'городской поселок Янино-1',\n",
       "       'поселок Парголово', 'поселок Мурино', 'Ломоносов', 'Сертолово',\n",
       "       'Петергоф', 'Пушкин', 'деревня Кудрово', 'Коммунар', 'Колпино',\n",
       "       'поселок Красный Бор', 'Гатчина', 'деревня Федоровское', 'Выборг',\n",
       "       'Кронштадт', 'Кировск', 'деревня Новое Девяткино',\n",
       "       'поселок Металлострой', 'поселок Лебяжье', 'поселок Сиверский',\n",
       "       'поселок Молодцово', 'поселок Кузьмоловский',\n",
       "       'садовое товарищество Новая Ропша', 'Павловск',\n",
       "       'деревня Пикколово', 'Всеволожск', 'Волхов', 'Кингисепп',\n",
       "       'Приозерск', 'Сестрорецк', 'деревня Куттузи', 'поселок Аннино',\n",
       "       'поселок Ефимовский', 'поселок Плодовое', 'деревня Заклинье',\n",
       "       'поселок Торковичи', 'поселок Первомайское', 'Красное Село',\n",
       "       'поселок Понтонный', 'Сясьстрой', 'деревня Старая',\n",
       "       'деревня Лесколово', 'поселок Новый Свет', 'Сланцы',\n",
       "       'село Путилово', 'Ивангород', 'Мурино', 'Шлиссельбург',\n",
       "       'Никольское', 'Зеленогорск', 'Сосновый Бор', 'деревня Оржицы',\n",
       "       'деревня Кальтино', 'Кудрово', 'поселок Романовка',\n",
       "       'поселок Бугры', 'поселок Рощино', 'Кириши', 'Луга', 'Волосово',\n",
       "       'Отрадное', 'село Павлово', 'поселок Оредеж', 'село Копорье',\n",
       "       'поселок Молодежное', 'Тихвин', 'поселок Победа', 'деревня Нурма',\n",
       "       'поселок Синявино', 'Тосно', 'поселок Стрельна', 'Бокситогорск',\n",
       "       'поселок Александровская', 'деревня Лопухинка', 'Пикалево',\n",
       "       'поселок Терволово', 'поселок Советский', 'Подпорожье',\n",
       "       'поселок Петровское', 'поселок Токсово', 'поселок Сельцо',\n",
       "       'поселок Вырица', 'деревня Кипень', 'деревня Келози',\n",
       "       'деревня Вартемяги', 'поселок Тельмана', 'поселок Севастьяново',\n",
       "       'городской поселок Большая Ижора', 'городской поселок Павлово',\n",
       "       'деревня Агалатово', 'поселок Новогорелово',\n",
       "       'городской поселок Лесогорский', 'деревня Лаголово',\n",
       "       'поселок Цвелодубово', 'поселок Рахья', 'деревня Белогорка',\n",
       "       'поселок Заводской', 'городской поселок Новоселье',\n",
       "       'деревня Большие Колпаны', 'деревня Горбунки', 'деревня Батово',\n",
       "       'деревня Заневка', 'деревня Иссад', 'Приморск',\n",
       "       'городской поселок Федоровское', 'деревня Мистолово',\n",
       "       'Новая Ладога', 'поселок Зимитицы', 'поселок Барышево',\n",
       "       'деревня Разметелево', 'поселок имени Свердлова', 'деревня Пеники',\n",
       "       'поселок Рябово', 'деревня Пудомяги', 'поселок станции Корнево',\n",
       "       'деревня Низино', 'деревня Бегуницы', 'поселок Поляны',\n",
       "       'городской поселок Мга', 'поселок Елизаветино',\n",
       "       'поселок Кузнечное', 'деревня Колтуши', 'поселок Запорожское',\n",
       "       'деревня Гостилицы', 'деревня Малое Карлино',\n",
       "       'поселок Мичуринское', 'поселок имени Морозова',\n",
       "       'поселок Песочный', 'поселок Сосново', 'деревня Аро',\n",
       "       'поселок Ильичево', 'поселок Тайцы', 'деревня Малое Верево',\n",
       "       'деревня Извара', 'поселок станции Вещево', 'село Паша',\n",
       "       'деревня Калитино', 'поселок Ульяновка', 'деревня Чудской Бор',\n",
       "       'поселок Дубровка', 'деревня Мины', 'поселок Войсковицы',\n",
       "       'деревня Коркино', 'поселок Ропша', 'поселок Приладожский',\n",
       "       'поселок Щеглово', 'поселок Гаврилово', 'Лодейное Поле',\n",
       "       'деревня Рабитицы', 'поселок Никольский', 'деревня Кузьмолово',\n",
       "       'деревня Малые Колпаны', 'поселок Петро-Славянка',\n",
       "       'городской поселок Назия', 'поселок Репино', 'поселок Углово',\n",
       "       'поселок Старая Малукса', 'садовое товарищество Рахья',\n",
       "       'деревня Меньково', 'деревня Старые Бегуницы', 'поселок Саперный',\n",
       "       'поселок Семрино', 'поселок Глажево', 'поселок Кобринское',\n",
       "       'деревня Гарболово', 'деревня Юкки',\n",
       "       'поселок станции Приветнинское', 'деревня Мануйлово',\n",
       "       'деревня Пчева', 'поселок Цвылево', 'поселок Мельниково',\n",
       "       'поселок Пудость', 'поселок Усть-Луга', 'Светогорск', 'Любань',\n",
       "       'поселок Селезнево', 'Каменногорск', 'деревня Кривко',\n",
       "       'поселок Глебычево', 'деревня Парицы', 'поселок Жилпоселок',\n",
       "       'поселок Мга', 'поселок Войскорово', 'село Никольское',\n",
       "       'поселок Стеклянный', 'поселок Важины', 'поселок Мыза-Ивановка',\n",
       "       'село Русско-Высоцкое', 'поселок Форносово', 'село Старая Ладога',\n",
       "       'поселок Житково', 'городской поселок Виллози', 'деревня Лампово',\n",
       "       'деревня Шпаньково', 'деревня Лаврики', 'поселок Сумино',\n",
       "       'поселок Возрождение', 'деревня Старосиверская',\n",
       "       'поселок Кикерино', 'деревня Старое Хинколово',\n",
       "       'поселок Пригородный', 'поселок Торфяное',\n",
       "       'городской поселок Будогощь', 'поселок Суходолье',\n",
       "       'поселок Красная Долина', 'деревня Хапо-Ое',\n",
       "       'поселок Дружная Горка', 'поселок Лисий Нос', 'деревня Яльгелево',\n",
       "       'село Рождествено', 'деревня Старополье', 'поселок Левашово',\n",
       "       'деревня Сяськелево', 'деревня Камышовка',\n",
       "       'садоводческое некоммерческое товарищество Лесная Поляна',\n",
       "       'деревня Хязельки', 'поселок Жилгородок', 'поселок Павлово',\n",
       "       'деревня Ялгино', 'поселок Новый Учхоз',\n",
       "       'городской поселок Рощино', 'поселок Гончарово', 'поселок Почап',\n",
       "       'поселок Саперное', 'поселок Платформа 69-й километр',\n",
       "       'поселок Каложицы', 'деревня Фалилеево', 'деревня Пельгора',\n",
       "       'поселок Лесогорский', 'деревня Торошковичи', 'поселок Белоостров',\n",
       "       'поселок Алексеевка', 'поселок Серебрянский', 'поселок Лукаши',\n",
       "       'деревня Щеглово', 'деревня Тарасово', 'поселок Кингисеппский',\n",
       "       'поселок при железнодорожной станции Вещево', 'поселок Ушаки',\n",
       "       'деревня Котлы', 'деревня Сижно', 'деревня Торосово',\n",
       "       'поселок Форт Красная Горка', 'деревня Новолисино',\n",
       "       'поселок станции Громово', 'деревня Глинка', 'поселок Назия',\n",
       "       'деревня Старая Пустошь', 'поселок Коммунары', 'поселок Починок',\n",
       "       'поселок Вознесенье', 'деревня Разбегаево', 'поселок Гладкое',\n",
       "       'поселок при железнодорожной станции Приветнинское',\n",
       "       'поселок Тесово-4', 'деревня Бор', 'поселок Коробицыно',\n",
       "       'деревня Большая Вруда', 'деревня Курковицы',\n",
       "       'городской поселок Советский', 'поселок Кобралово',\n",
       "       'деревня Суоранда', 'поселок Кондратьево',\n",
       "       'коттеджный поселок Счастье', 'поселок Любань', 'деревня Реброво',\n",
       "       'деревня Зимитицы', 'деревня Тойворово', 'поселок Семиозерье',\n",
       "       'поселок Лесное', 'поселок Совхозный', 'поселок Ленинское',\n",
       "       'поселок Суйда', 'деревня Нижние Осельки', 'поселок станции Свирь',\n",
       "       'поселок Перово', 'Высоцк', 'поселок Гарболово', 'село Шум',\n",
       "       'поселок Котельский', 'поселок станции Лужайка',\n",
       "       'деревня Большая Пустомержа', 'поселок Красносельское',\n",
       "       'деревня Вахнова Кара', 'деревня Пижма',\n",
       "       'коттеджный поселок Кивеннапа Север', 'поселок Ромашки',\n",
       "       'деревня Каськово', 'деревня Куровицы', 'поселок Плоское',\n",
       "       'поселок Большая Ижора', 'поселок Кирпичное', 'деревня Ям-Тесово',\n",
       "       'деревня Раздолье', 'деревня Терпилицы', 'поселок Шугозеро',\n",
       "       'деревня Ваганово', 'поселок Пушное', 'садовое товарищество Садко',\n",
       "       'поселок Усть-Ижора', 'деревня Выскатка',\n",
       "       'городской поселок Свирьстрой', 'поселок Громово',\n",
       "       'деревня Кисельня', 'деревня Трубников Бор', 'поселок Калитино',\n",
       "       'поселок Высокоключевой', 'садовое товарищество Приладожский',\n",
       "       'поселок Пансионат Зеленый Бор', 'деревня Ненимяки',\n",
       "       'деревня Снегиревка', 'деревня Рапполово', 'деревня Пустынка',\n",
       "       'поселок Рабитицы', 'деревня Большой Сабск', 'деревня Русско',\n",
       "       'деревня Лупполово', 'деревня Большое Рейзино',\n",
       "       'деревня Малая Романовка', 'поселок Дружноселье', 'поселок Пчевжа',\n",
       "       'поселок Володарское', 'деревня Нижняя',\n",
       "       'коттеджный поселок Лесное', 'деревня Тихковицы',\n",
       "       'деревня Борисова Грива', 'поселок Дзержинского'], dtype=object)"
      ]
     },
     "execution_count": 29,
     "metadata": {},
     "output_type": "execute_result"
    }
   ],
   "source": [
    "data['locality_name'].unique()"
   ]
  },
  {
   "cell_type": "code",
   "execution_count": 30,
   "metadata": {
    "scrolled": true
   },
   "outputs": [
    {
     "data": {
      "text/plain": [
       "329"
      ]
     },
     "execution_count": 30,
     "metadata": {},
     "output_type": "execute_result"
    }
   ],
   "source": [
    "len(data['locality_name'].dropna().unique())"
   ]
  },
  {
   "cell_type": "markdown",
   "metadata": {},
   "source": [
    "приведем к все к нижнему регистру"
   ]
  },
  {
   "cell_type": "code",
   "execution_count": 31,
   "metadata": {},
   "outputs": [],
   "source": [
    "data['locality_name'] = data['locality_name'].str.lower()"
   ]
  },
  {
   "cell_type": "code",
   "execution_count": 32,
   "metadata": {},
   "outputs": [
    {
     "data": {
      "text/plain": [
       "329"
      ]
     },
     "execution_count": 32,
     "metadata": {},
     "output_type": "execute_result"
    }
   ],
   "source": [
    "len(data['locality_name'].dropna().unique())"
   ]
  },
  {
   "cell_type": "markdown",
   "metadata": {},
   "source": [
    "убрали 35 неявных дубликатов"
   ]
  },
  {
   "cell_type": "markdown",
   "metadata": {},
   "source": [
    "**Рассмотрим редкие и выбивающиеся значения (аномалии) во всех столбцах**"
   ]
  },
  {
   "cell_type": "code",
   "execution_count": 33,
   "metadata": {},
   "outputs": [
    {
     "name": "stdout",
     "output_type": "stream",
     "text": [
      "<class 'pandas.core.frame.DataFrame'>\n",
      "Int64Index: 23565 entries, 0 to 23698\n",
      "Data columns (total 22 columns):\n",
      " #   Column                Non-Null Count  Dtype         \n",
      "---  ------                --------------  -----         \n",
      " 0   total_images          23565 non-null  int64         \n",
      " 1   last_price            23565 non-null  int64         \n",
      " 2   total_area            23565 non-null  float64       \n",
      " 3   first_day_exposition  23565 non-null  datetime64[ns]\n",
      " 4   rooms                 23565 non-null  int64         \n",
      " 5   ceiling_height        23565 non-null  float64       \n",
      " 6   floors_total          23565 non-null  int64         \n",
      " 7   living_area           23565 non-null  float64       \n",
      " 8   floor                 23565 non-null  int64         \n",
      " 9   is_apartment          23565 non-null  bool          \n",
      " 10  studio                23565 non-null  bool          \n",
      " 11  open_plan             23565 non-null  bool          \n",
      " 12  kitchen_area          23565 non-null  float64       \n",
      " 13  balcony               23565 non-null  int64         \n",
      " 14  locality_name         23565 non-null  object        \n",
      " 15  airports_nearest      18041 non-null  float64       \n",
      " 16  city_centers_nearest  18064 non-null  float64       \n",
      " 17  parks_around3000      23565 non-null  int64         \n",
      " 18  parks_nearest         8030 non-null   float64       \n",
      " 19  ponds_around3000      23565 non-null  int64         \n",
      " 20  ponds_nearest         9036 non-null   float64       \n",
      " 21  days_exposition       20394 non-null  float64       \n",
      "dtypes: bool(3), datetime64[ns](1), float64(9), int64(8), object(1)\n",
      "memory usage: 3.7+ MB\n"
     ]
    }
   ],
   "source": [
    "data.info()"
   ]
  },
  {
   "cell_type": "code",
   "execution_count": 34,
   "metadata": {},
   "outputs": [
    {
     "data": {
      "text/plain": [
       "count    23565.000000\n",
       "mean         9.878421\n",
       "std          5.681156\n",
       "min          0.000000\n",
       "25%          6.000000\n",
       "50%          9.000000\n",
       "75%         14.000000\n",
       "max         50.000000\n",
       "Name: total_images, dtype: float64"
      ]
     },
     "execution_count": 34,
     "metadata": {},
     "output_type": "execute_result"
    }
   ],
   "source": [
    "#рассмотрим столбец total_images\n",
    "data['total_images'].describe()\n",
    "#здесь ничего необычного"
   ]
  },
  {
   "cell_type": "code",
   "execution_count": 35,
   "metadata": {},
   "outputs": [
    {
     "data": {
      "text/plain": [
       "count    2.356500e+04\n",
       "mean     6.540058e+06\n",
       "std      1.091093e+07\n",
       "min      1.219000e+04\n",
       "25%      3.400000e+06\n",
       "50%      4.646000e+06\n",
       "75%      6.790000e+06\n",
       "max      7.630000e+08\n",
       "Name: last_price, dtype: float64"
      ]
     },
     "execution_count": 35,
     "metadata": {},
     "output_type": "execute_result"
    }
   ],
   "source": [
    "#рассмотрим столбец last_price\n",
    "data['last_price'].describe()"
   ]
  },
  {
   "cell_type": "code",
   "execution_count": 36,
   "metadata": {},
   "outputs": [],
   "source": [
    "data = data[(data['last_price'] > 500000) & (data['last_price'] < 100000000)]"
   ]
  },
  {
   "cell_type": "code",
   "execution_count": 37,
   "metadata": {},
   "outputs": [
    {
     "data": {
      "text/plain": [
       "4630000.0"
      ]
     },
     "execution_count": 37,
     "metadata": {},
     "output_type": "execute_result"
    }
   ],
   "source": [
    "data['last_price'].median()"
   ]
  },
  {
   "cell_type": "markdown",
   "metadata": {},
   "source": [
    "Цена - понятие субъективное, каждый в праве выставлять свою квартиру по любой цене, будем считать, что квартиры стоимостью менее 500 тыс.руб и более 100 млн руб. это не реальные объявления, выбросим их из датафрейма."
   ]
  },
  {
   "cell_type": "code",
   "execution_count": 38,
   "metadata": {},
   "outputs": [
    {
     "data": {
      "text/plain": [
       "count    23510.000000\n",
       "mean        59.912805\n",
       "std         33.467572\n",
       "min         12.000000\n",
       "25%         40.000000\n",
       "50%         52.000000\n",
       "75%         69.500000\n",
       "max        590.000000\n",
       "Name: total_area, dtype: float64"
      ]
     },
     "execution_count": 38,
     "metadata": {},
     "output_type": "execute_result"
    }
   ],
   "source": [
    "data['total_area'].describe()"
   ]
  },
  {
   "cell_type": "code",
   "execution_count": 39,
   "metadata": {},
   "outputs": [
    {
     "data": {
      "text/plain": [
       "<AxesSubplot:>"
      ]
     },
     "execution_count": 39,
     "metadata": {},
     "output_type": "execute_result"
    },
    {
     "data": {
      "image/png": "[encoded data removed]",
      "text/plain": [
       "<Figure size 432x288 with 1 Axes>"
      ]
     },
     "metadata": {
      "needs_background": "light"
     },
     "output_type": "display_data"
    }
   ],
   "source": [
    "data['total_area'].hist(bins=100)"
   ]
  },
  {
   "cell_type": "code",
   "execution_count": 40,
   "metadata": {},
   "outputs": [],
   "source": [
    "data = data[(data['total_area'] < 200)]"
   ]
  },
  {
   "cell_type": "code",
   "execution_count": 41,
   "metadata": {},
   "outputs": [
    {
     "data": {
      "text/plain": [
       "51.7"
      ]
     },
     "execution_count": 41,
     "metadata": {},
     "output_type": "execute_result"
    }
   ],
   "source": [
    "data['total_area'].median()"
   ]
  },
  {
   "cell_type": "markdown",
   "metadata": {},
   "source": [
    "Выбросим квартиры площадью более 200 квадратных метров, так как мы исследуем квартиры, а не загородные дома."
   ]
  },
  {
   "cell_type": "code",
   "execution_count": 42,
   "metadata": {},
   "outputs": [
    {
     "name": "stderr",
     "output_type": "stream",
     "text": [
      "/tmp/ipykernel_104/546544682.py:1: FutureWarning: Treating datetime data as categorical rather than numeric in `.describe` is deprecated and will be removed in a future version of pandas. Specify `datetime_is_numeric=True` to silence this warning and adopt the future behavior now.\n",
      "  data['first_day_exposition'].describe()\n"
     ]
    },
    {
     "data": {
      "text/plain": [
       "count                   23311\n",
       "unique                   1487\n",
       "top       2018-02-01 00:00:00\n",
       "freq                      362\n",
       "first     2014-11-27 00:00:00\n",
       "last      2019-05-03 00:00:00\n",
       "Name: first_day_exposition, dtype: object"
      ]
     },
     "execution_count": 42,
     "metadata": {},
     "output_type": "execute_result"
    }
   ],
   "source": [
    "data['first_day_exposition'].describe()"
   ]
  },
  {
   "cell_type": "markdown",
   "metadata": {},
   "source": [
    "Замечаний по этому столбцу нет, первое объявление в 2014г, последнее 2019."
   ]
  },
  {
   "cell_type": "code",
   "execution_count": 43,
   "metadata": {},
   "outputs": [
    {
     "data": {
      "text/plain": [
       "count    23311.000000\n",
       "mean         2.034404\n",
       "std          0.995192\n",
       "min          0.000000\n",
       "25%          1.000000\n",
       "50%          2.000000\n",
       "75%          3.000000\n",
       "max         11.000000\n",
       "Name: rooms, dtype: float64"
      ]
     },
     "execution_count": 43,
     "metadata": {},
     "output_type": "execute_result"
    }
   ],
   "source": [
    "data['rooms'].describe()"
   ]
  },
  {
   "cell_type": "code",
   "execution_count": 44,
   "metadata": {},
   "outputs": [
    {
     "data": {
      "text/plain": [
       "<AxesSubplot:>"
      ]
     },
     "execution_count": 44,
     "metadata": {},
     "output_type": "execute_result"
    },
    {
     "data": {
      "image/png": "[encoded data removed]",
      "text/plain": [
       "<Figure size 432x288 with 1 Axes>"
      ]
     },
     "metadata": {
      "needs_background": "light"
     },
     "output_type": "display_data"
    }
   ],
   "source": [
    "data['rooms'].hist(bins=10)"
   ]
  },
  {
   "cell_type": "code",
   "execution_count": 45,
   "metadata": {},
   "outputs": [],
   "source": [
    "data = data[(data['rooms'] < 7)]"
   ]
  },
  {
   "cell_type": "markdown",
   "metadata": {},
   "source": [
    "Выбросим из датафрейма квартиры, с количеством комнат больше 7"
   ]
  },
  {
   "cell_type": "code",
   "execution_count": 46,
   "metadata": {},
   "outputs": [
    {
     "data": {
      "text/plain": [
       "count    23287.000000\n",
       "mean         2.719832\n",
       "std          0.994054\n",
       "min          1.000000\n",
       "25%          2.600000\n",
       "50%          2.650000\n",
       "75%          2.700000\n",
       "max        100.000000\n",
       "Name: ceiling_height, dtype: float64"
      ]
     },
     "execution_count": 46,
     "metadata": {},
     "output_type": "execute_result"
    }
   ],
   "source": [
    "data['ceiling_height'].describe()"
   ]
  },
  {
   "cell_type": "code",
   "execution_count": 47,
   "metadata": {},
   "outputs": [],
   "source": [
    "data = data[(data['ceiling_height'] >= 2.4) & (data['ceiling_height'] < 5)]"
   ]
  },
  {
   "cell_type": "code",
   "execution_count": 48,
   "metadata": {},
   "outputs": [
    {
     "data": {
      "text/plain": [
       "count    23233.000000\n",
       "mean         2.691925\n",
       "std          0.205192\n",
       "min          2.400000\n",
       "25%          2.600000\n",
       "50%          2.650000\n",
       "75%          2.700000\n",
       "max          4.800000\n",
       "Name: ceiling_height, dtype: float64"
      ]
     },
     "execution_count": 48,
     "metadata": {},
     "output_type": "execute_result"
    }
   ],
   "source": [
    "data['ceiling_height'].describe()"
   ]
  },
  {
   "cell_type": "markdown",
   "metadata": {},
   "source": [
    "Выбросим объявления квартир с потолками более 5 м."
   ]
  },
  {
   "cell_type": "code",
   "execution_count": 49,
   "metadata": {},
   "outputs": [
    {
     "data": {
      "text/plain": [
       "count    23233.000000\n",
       "mean        10.733655\n",
       "std          6.599882\n",
       "min          1.000000\n",
       "25%          5.000000\n",
       "50%          9.000000\n",
       "75%         16.000000\n",
       "max         60.000000\n",
       "Name: floors_total, dtype: float64"
      ]
     },
     "execution_count": 49,
     "metadata": {},
     "output_type": "execute_result"
    }
   ],
   "source": [
    "data['floors_total'].describe()"
   ]
  },
  {
   "cell_type": "code",
   "execution_count": 50,
   "metadata": {},
   "outputs": [],
   "source": [
    "data = data[(data['floors_total'] < 35)]"
   ]
  },
  {
   "cell_type": "markdown",
   "metadata": {},
   "source": [
    "Выбросим объявления с выстой здания более 35 этажей."
   ]
  },
  {
   "cell_type": "code",
   "execution_count": 51,
   "metadata": {},
   "outputs": [
    {
     "data": {
      "text/plain": [
       "count    23205.000000\n",
       "mean        33.239734\n",
       "std         17.083461\n",
       "min          2.000000\n",
       "25%         19.000000\n",
       "50%         30.000000\n",
       "75%         42.000000\n",
       "max        164.700000\n",
       "Name: living_area, dtype: float64"
      ]
     },
     "execution_count": 51,
     "metadata": {},
     "output_type": "execute_result"
    }
   ],
   "source": [
    "data['living_area'].describe()"
   ]
  },
  {
   "cell_type": "markdown",
   "metadata": {},
   "source": [
    "В total_area поставили максимум 200 квадратных метров, а здесь 164, поэтому оставим без изменений."
   ]
  },
  {
   "cell_type": "code",
   "execution_count": 52,
   "metadata": {},
   "outputs": [
    {
     "data": {
      "text/plain": [
       "count    23205.000000\n",
       "mean         5.881189\n",
       "std          4.858156\n",
       "min          1.000000\n",
       "25%          2.000000\n",
       "50%          4.000000\n",
       "75%          8.000000\n",
       "max         32.000000\n",
       "Name: floor, dtype: float64"
      ]
     },
     "execution_count": 52,
     "metadata": {},
     "output_type": "execute_result"
    }
   ],
   "source": [
    "data['floor'].describe()"
   ]
  },
  {
   "cell_type": "markdown",
   "metadata": {},
   "source": [
    "Максимальное значение не превышает максимальное значение в floors_total, оставляем столбец без изменений."
   ]
  },
  {
   "cell_type": "markdown",
   "metadata": {},
   "source": [
    "Столбцы с типом bool проверять нет смысла. Пропускаем их."
   ]
  },
  {
   "cell_type": "code",
   "execution_count": 53,
   "metadata": {},
   "outputs": [
    {
     "data": {
      "text/plain": [
       "count    23205.000000\n",
       "mean        10.263274\n",
       "std          5.288454\n",
       "min          1.300000\n",
       "25%          7.000000\n",
       "50%          9.000000\n",
       "75%         11.800000\n",
       "max         93.200000\n",
       "Name: kitchen_area, dtype: float64"
      ]
     },
     "execution_count": 53,
     "metadata": {},
     "output_type": "execute_result"
    }
   ],
   "source": [
    "data['kitchen_area'].describe()"
   ]
  },
  {
   "cell_type": "code",
   "execution_count": 54,
   "metadata": {},
   "outputs": [
    {
     "data": {
      "text/plain": [
       "<AxesSubplot:>"
      ]
     },
     "execution_count": 54,
     "metadata": {},
     "output_type": "execute_result"
    },
    {
     "data": {
      "image/png": "[encoded data removed]",
      "text/plain": [
       "<Figure size 432x288 with 1 Axes>"
      ]
     },
     "metadata": {
      "needs_background": "light"
     },
     "output_type": "display_data"
    }
   ],
   "source": [
    "data['kitchen_area'].hist(bins=10)"
   ]
  },
  {
   "cell_type": "code",
   "execution_count": 55,
   "metadata": {},
   "outputs": [],
   "source": [
    "data = data[(data['kitchen_area'] < 40)]"
   ]
  },
  {
   "cell_type": "markdown",
   "metadata": {},
   "source": [
    "Кухни более 40 кв.м. считаем выбивающимися значениями и выбрасываем их."
   ]
  },
  {
   "cell_type": "code",
   "execution_count": 56,
   "metadata": {},
   "outputs": [
    {
     "data": {
      "text/plain": [
       "count    23099.000000\n",
       "mean         0.595350\n",
       "std          0.959992\n",
       "min          0.000000\n",
       "25%          0.000000\n",
       "50%          0.000000\n",
       "75%          1.000000\n",
       "max          5.000000\n",
       "Name: balcony, dtype: float64"
      ]
     },
     "execution_count": 56,
     "metadata": {},
     "output_type": "execute_result"
    }
   ],
   "source": [
    "data['balcony'].describe()"
   ]
  },
  {
   "cell_type": "code",
   "execution_count": 57,
   "metadata": {},
   "outputs": [
    {
     "data": {
      "text/plain": [
       "<AxesSubplot:>"
      ]
     },
     "execution_count": 57,
     "metadata": {},
     "output_type": "execute_result"
    },
    {
     "data": {
      "image/png": "[encoded data removed]",
      "text/plain": [
       "<Figure size 432x288 with 1 Axes>"
      ]
     },
     "metadata": {
      "needs_background": "light"
     },
     "output_type": "display_data"
    }
   ],
   "source": [
    "data['balcony'].hist(bins=6)"
   ]
  },
  {
   "cell_type": "markdown",
   "metadata": {},
   "source": [
    "Замечаний по этому столбцу нет. Оставляем как есть."
   ]
  },
  {
   "cell_type": "markdown",
   "metadata": {},
   "source": [
    "Остались пропуски в столбцах с геолокацией для них предобработку не проводим."
   ]
  },
  {
   "cell_type": "code",
   "execution_count": 58,
   "metadata": {},
   "outputs": [
    {
     "name": "stdout",
     "output_type": "stream",
     "text": [
      "<class 'pandas.core.frame.DataFrame'>\n",
      "Int64Index: 23099 entries, 0 to 23698\n",
      "Data columns (total 22 columns):\n",
      " #   Column                Non-Null Count  Dtype         \n",
      "---  ------                --------------  -----         \n",
      " 0   total_images          23099 non-null  int64         \n",
      " 1   last_price            23099 non-null  int64         \n",
      " 2   total_area            23099 non-null  float64       \n",
      " 3   first_day_exposition  23099 non-null  datetime64[ns]\n",
      " 4   rooms                 23099 non-null  int64         \n",
      " 5   ceiling_height        23099 non-null  float64       \n",
      " 6   floors_total          23099 non-null  int64         \n",
      " 7   living_area           23099 non-null  float64       \n",
      " 8   floor                 23099 non-null  int64         \n",
      " 9   is_apartment          23099 non-null  bool          \n",
      " 10  studio                23099 non-null  bool          \n",
      " 11  open_plan             23099 non-null  bool          \n",
      " 12  kitchen_area          23099 non-null  float64       \n",
      " 13  balcony               23099 non-null  int64         \n",
      " 14  locality_name         23099 non-null  object        \n",
      " 15  airports_nearest      17629 non-null  float64       \n",
      " 16  city_centers_nearest  17649 non-null  float64       \n",
      " 17  parks_around3000      23099 non-null  int64         \n",
      " 18  parks_nearest         7776 non-null   float64       \n",
      " 19  ponds_around3000      23099 non-null  int64         \n",
      " 20  ponds_nearest         8754 non-null   float64       \n",
      " 21  days_exposition       20047 non-null  float64       \n",
      "dtypes: bool(3), datetime64[ns](1), float64(9), int64(8), object(1)\n",
      "memory usage: 3.6+ MB\n"
     ]
    }
   ],
   "source": [
    "data.info()"
   ]
  },
  {
   "attachments": {
    "image.png": {
     "image/png": "[encoded data removed]"
    }
   },
   "cell_type": "markdown",
   "metadata": {},
   "source": [
    "![image.png](attachment:image.png)"
   ]
  },
  {
   "cell_type": "code",
   "execution_count": 59,
   "metadata": {},
   "outputs": [
    {
     "data": {
      "text/plain": [
       "2.4"
      ]
     },
     "execution_count": 59,
     "metadata": {},
     "output_type": "execute_result"
    }
   ],
   "source": [
    "round((23699-23119) / 23699 * 100, 1)"
   ]
  },
  {
   "cell_type": "markdown",
   "metadata": {},
   "source": [
    "**Посмотрев начальное количество строк и количество строк после предобработки, выясняем, что удалено 2,4 % от всех строк.\n",
    "Типы столбцов соответствуют их содержимому. Будем считать, что с предобработкой данных справились.**"
   ]
  },
  {
   "cell_type": "markdown",
   "metadata": {},
   "source": [
    "# Посчитайте и добавьте в таблицу новые столбцы"
   ]
  },
  {
   "cell_type": "markdown",
   "metadata": {},
   "source": [
    "Добавим столбец со стоимостью 1 квадратного метра."
   ]
  },
  {
   "cell_type": "code",
   "execution_count": 60,
   "metadata": {},
   "outputs": [],
   "source": [
    "#разделим цену квартиры на общую площадь\n",
    "data['price_per_m2'] = data['last_price'] / data['total_area'] /1000"
   ]
  },
  {
   "cell_type": "code",
   "execution_count": 61,
   "metadata": {},
   "outputs": [
    {
     "data": {
      "text/plain": [
       "count    23099.000000\n",
       "mean        97.810532\n",
       "std         41.442778\n",
       "min         10.185185\n",
       "25%         76.451438\n",
       "50%         94.722598\n",
       "75%        113.623981\n",
       "max        848.484848\n",
       "Name: price_per_m2, dtype: float64"
      ]
     },
     "execution_count": 61,
     "metadata": {},
     "output_type": "execute_result"
    }
   ],
   "source": [
    "data['price_per_m2'].describe()"
   ]
  },
  {
   "cell_type": "markdown",
   "metadata": {},
   "source": [
    "Добавим столбец дня недели публикации"
   ]
  },
  {
   "cell_type": "code",
   "execution_count": 62,
   "metadata": {},
   "outputs": [],
   "source": [
    "data['weekday'] = data['first_day_exposition'].dt.weekday"
   ]
  },
  {
   "cell_type": "code",
   "execution_count": 63,
   "metadata": {},
   "outputs": [
    {
     "data": {
      "text/plain": [
       "array([3, 1, 4, 0, 2, 6, 5])"
      ]
     },
     "execution_count": 63,
     "metadata": {},
     "output_type": "execute_result"
    }
   ],
   "source": [
    "data['weekday'].unique()"
   ]
  },
  {
   "cell_type": "markdown",
   "metadata": {},
   "source": [
    "Добавим столбец месяц публикации"
   ]
  },
  {
   "cell_type": "code",
   "execution_count": 64,
   "metadata": {},
   "outputs": [],
   "source": [
    "data['month'] = data['first_day_exposition'].dt.month"
   ]
  },
  {
   "cell_type": "code",
   "execution_count": 65,
   "metadata": {},
   "outputs": [
    {
     "data": {
      "text/plain": [
       "array([ 3, 12,  8,  7,  9, 11,  4,  5,  2,  6,  1, 10])"
      ]
     },
     "execution_count": 65,
     "metadata": {},
     "output_type": "execute_result"
    }
   ],
   "source": [
    "data['month'].unique()"
   ]
  },
  {
   "cell_type": "markdown",
   "metadata": {},
   "source": [
    "Добавим столбец год публикации"
   ]
  },
  {
   "cell_type": "code",
   "execution_count": 66,
   "metadata": {},
   "outputs": [],
   "source": [
    "data['year'] = data['first_day_exposition'].dt.year"
   ]
  },
  {
   "cell_type": "code",
   "execution_count": 67,
   "metadata": {},
   "outputs": [
    {
     "data": {
      "text/plain": [
       "array([2019, 2018, 2015, 2017, 2016, 2014])"
      ]
     },
     "execution_count": 67,
     "metadata": {},
     "output_type": "execute_result"
    }
   ],
   "source": [
    "data['year'].unique()"
   ]
  },
  {
   "cell_type": "markdown",
   "metadata": {},
   "source": [
    "Добавим столбец тип этажа"
   ]
  },
  {
   "cell_type": "code",
   "execution_count": 68,
   "metadata": {},
   "outputs": [],
   "source": [
    "data['floor_type'] = 'other'"
   ]
  },
  {
   "cell_type": "code",
   "execution_count": 69,
   "metadata": {},
   "outputs": [],
   "source": [
    "data.loc[data['floor'] == 1, 'floor_type'] = 'first'"
   ]
  },
  {
   "cell_type": "code",
   "execution_count": 70,
   "metadata": {},
   "outputs": [],
   "source": [
    "data.loc[data['floor'] == data['floors_total'], 'floor_type'] = 'last'"
   ]
  },
  {
   "cell_type": "code",
   "execution_count": 71,
   "metadata": {},
   "outputs": [
    {
     "name": "stdout",
     "output_type": "stream",
     "text": [
      "<class 'pandas.core.frame.DataFrame'>\n",
      "Int64Index: 23099 entries, 0 to 23698\n",
      "Data columns (total 27 columns):\n",
      " #   Column                Non-Null Count  Dtype         \n",
      "---  ------                --------------  -----         \n",
      " 0   total_images          23099 non-null  int64         \n",
      " 1   last_price            23099 non-null  int64         \n",
      " 2   total_area            23099 non-null  float64       \n",
      " 3   first_day_exposition  23099 non-null  datetime64[ns]\n",
      " 4   rooms                 23099 non-null  int64         \n",
      " 5   ceiling_height        23099 non-null  float64       \n",
      " 6   floors_total          23099 non-null  int64         \n",
      " 7   living_area           23099 non-null  float64       \n",
      " 8   floor                 23099 non-null  int64         \n",
      " 9   is_apartment          23099 non-null  bool          \n",
      " 10  studio                23099 non-null  bool          \n",
      " 11  open_plan             23099 non-null  bool          \n",
      " 12  kitchen_area          23099 non-null  float64       \n",
      " 13  balcony               23099 non-null  int64         \n",
      " 14  locality_name         23099 non-null  object        \n",
      " 15  airports_nearest      17629 non-null  float64       \n",
      " 16  city_centers_nearest  17649 non-null  float64       \n",
      " 17  parks_around3000      23099 non-null  int64         \n",
      " 18  parks_nearest         7776 non-null   float64       \n",
      " 19  ponds_around3000      23099 non-null  int64         \n",
      " 20  ponds_nearest         8754 non-null   float64       \n",
      " 21  days_exposition       20047 non-null  float64       \n",
      " 22  price_per_m2          23099 non-null  float64       \n",
      " 23  weekday               23099 non-null  int64         \n",
      " 24  month                 23099 non-null  int64         \n",
      " 25  year                  23099 non-null  int64         \n",
      " 26  floor_type            23099 non-null  object        \n",
      "dtypes: bool(3), datetime64[ns](1), float64(10), int64(11), object(2)\n",
      "memory usage: 4.5+ MB\n"
     ]
    }
   ],
   "source": [
    "data.info()"
   ]
  },
  {
   "cell_type": "markdown",
   "metadata": {},
   "source": [
    "Добавим столбец растояние до центра в километрах"
   ]
  },
  {
   "cell_type": "code",
   "execution_count": 72,
   "metadata": {},
   "outputs": [],
   "source": [
    "data['citycenters_nearest_km'] = round(data['city_centers_nearest'] / 1000, 1)"
   ]
  },
  {
   "cell_type": "code",
   "execution_count": 73,
   "metadata": {},
   "outputs": [
    {
     "data": {
      "text/plain": [
       "0        16.0\n",
       "1        18.6\n",
       "2        13.9\n",
       "3         6.8\n",
       "5         NaN\n",
       "         ... \n",
       "23694     4.2\n",
       "23695     NaN\n",
       "23696     NaN\n",
       "23697    10.4\n",
       "23698     NaN\n",
       "Name: citycenters_nearest_km, Length: 23099, dtype: float64"
      ]
     },
     "execution_count": 73,
     "metadata": {},
     "output_type": "execute_result"
    }
   ],
   "source": [
    "data['citycenters_nearest_km']"
   ]
  },
  {
   "cell_type": "markdown",
   "metadata": {},
   "source": [
    "### Проведите исследовательский анализ данных"
   ]
  },
  {
   "cell_type": "markdown",
   "metadata": {},
   "source": [
    "Исследуем основные параметры квартир."
   ]
  },
  {
   "cell_type": "markdown",
   "metadata": {},
   "source": [
    "Общая площадь:"
   ]
  },
  {
   "cell_type": "code",
   "execution_count": 74,
   "metadata": {},
   "outputs": [
    {
     "name": "stdout",
     "output_type": "stream",
     "text": [
      "<class 'pandas.core.frame.DataFrame'>\n",
      "Int64Index: 23099 entries, 0 to 23698\n",
      "Data columns (total 28 columns):\n",
      " #   Column                  Non-Null Count  Dtype         \n",
      "---  ------                  --------------  -----         \n",
      " 0   total_images            23099 non-null  int64         \n",
      " 1   last_price              23099 non-null  int64         \n",
      " 2   total_area              23099 non-null  float64       \n",
      " 3   first_day_exposition    23099 non-null  datetime64[ns]\n",
      " 4   rooms                   23099 non-null  int64         \n",
      " 5   ceiling_height          23099 non-null  float64       \n",
      " 6   floors_total            23099 non-null  int64         \n",
      " 7   living_area             23099 non-null  float64       \n",
      " 8   floor                   23099 non-null  int64         \n",
      " 9   is_apartment            23099 non-null  bool          \n",
      " 10  studio                  23099 non-null  bool          \n",
      " 11  open_plan               23099 non-null  bool          \n",
      " 12  kitchen_area            23099 non-null  float64       \n",
      " 13  balcony                 23099 non-null  int64         \n",
      " 14  locality_name           23099 non-null  object        \n",
      " 15  airports_nearest        17629 non-null  float64       \n",
      " 16  city_centers_nearest    17649 non-null  float64       \n",
      " 17  parks_around3000        23099 non-null  int64         \n",
      " 18  parks_nearest           7776 non-null   float64       \n",
      " 19  ponds_around3000        23099 non-null  int64         \n",
      " 20  ponds_nearest           8754 non-null   float64       \n",
      " 21  days_exposition         20047 non-null  float64       \n",
      " 22  price_per_m2            23099 non-null  float64       \n",
      " 23  weekday                 23099 non-null  int64         \n",
      " 24  month                   23099 non-null  int64         \n",
      " 25  year                    23099 non-null  int64         \n",
      " 26  floor_type              23099 non-null  object        \n",
      " 27  citycenters_nearest_km  17649 non-null  float64       \n",
      "dtypes: bool(3), datetime64[ns](1), float64(11), int64(11), object(2)\n",
      "memory usage: 4.6+ MB\n"
     ]
    }
   ],
   "source": [
    "data.info()"
   ]
  },
  {
   "cell_type": "code",
   "execution_count": 75,
   "metadata": {},
   "outputs": [
    {
     "data": {
      "text/plain": [
       "<AxesSubplot:>"
      ]
     },
     "execution_count": 75,
     "metadata": {},
     "output_type": "execute_result"
    },
    {
     "data": {
      "image/png": "[encoded data removed]",
      "text/plain": [
       "<Figure size 432x288 with 1 Axes>"
      ]
     },
     "metadata": {
      "needs_background": "light"
     },
     "output_type": "display_data"
    }
   ],
   "source": [
    "data['total_area'].hist(bins=80)"
   ]
  },
  {
   "cell_type": "markdown",
   "metadata": {},
   "source": [
    "Большинство квартир на рынке недвижимости площадью от 30 до 75 квадратных метров."
   ]
  },
  {
   "cell_type": "markdown",
   "metadata": {},
   "source": [
    "Жилая площадь:"
   ]
  },
  {
   "cell_type": "code",
   "execution_count": 76,
   "metadata": {},
   "outputs": [
    {
     "data": {
      "text/plain": [
       "<AxesSubplot:>"
      ]
     },
     "execution_count": 76,
     "metadata": {},
     "output_type": "execute_result"
    },
    {
     "data": {
      "image/png": "[encoded data removed]",
      "text/plain": [
       "<Figure size 432x288 with 1 Axes>"
      ]
     },
     "metadata": {
      "needs_background": "light"
     },
     "output_type": "display_data"
    }
   ],
   "source": [
    "data['living_area'].hist(bins=80)"
   ]
  },
  {
   "cell_type": "code",
   "execution_count": 77,
   "metadata": {},
   "outputs": [
    {
     "data": {
      "text/plain": [
       "<AxesSubplot:ylabel='Frequency'>"
      ]
     },
     "execution_count": 77,
     "metadata": {},
     "output_type": "execute_result"
    },
    {
     "data": {
      "image/png": "[encoded data removed]",
      "text/plain": [
       "<Figure size 432x288 with 1 Axes>"
      ]
     },
     "metadata": {
      "needs_background": "light"
     },
     "output_type": "display_data"
    }
   ],
   "source": [
    "ax = data.plot(\n",
    "    kind='hist',\n",
    "    y='living_area',\n",
    "    histtype='step',\n",
    "    range=(0, 200),\n",
    "    bins=100,\n",
    "    linewidth=5,\n",
    "    alpha=0.7,\n",
    "    label='living',\n",
    ")\n",
    "data.plot(\n",
    "    kind='hist',\n",
    "    y='total_area',\n",
    "    histtype='step',\n",
    "    range=(0, 200),\n",
    "    bins=100,\n",
    "    linewidth=5,\n",
    "    alpha=0.7,\n",
    "    label='total',\n",
    "    ax=ax,\n",
    "    grid=True,\n",
    "    legend=True,\n",
    ") "
   ]
  },
  {
   "cell_type": "markdown",
   "metadata": {},
   "source": [
    "Видим что графики жилой площади и общей площади прямопроцопрциональны, со смещением, так как общая площадь больше."
   ]
  },
  {
   "cell_type": "markdown",
   "metadata": {},
   "source": [
    "Площадь кухни:"
   ]
  },
  {
   "cell_type": "code",
   "execution_count": 78,
   "metadata": {},
   "outputs": [
    {
     "data": {
      "text/plain": [
       "<AxesSubplot:>"
      ]
     },
     "execution_count": 78,
     "metadata": {},
     "output_type": "execute_result"
    },
    {
     "data": {
      "image/png": "[encoded data removed]",
      "text/plain": [
       "<Figure size 432x288 with 1 Axes>"
      ]
     },
     "metadata": {
      "needs_background": "light"
     },
     "output_type": "display_data"
    }
   ],
   "source": [
    "data['kitchen_area'].hist(bins=10)"
   ]
  },
  {
   "cell_type": "markdown",
   "metadata": {},
   "source": [
    "В большинстве квартир площадь кухни равна от 5 до 15 квадратных метров."
   ]
  },
  {
   "cell_type": "markdown",
   "metadata": {},
   "source": [
    "Цена объекта:"
   ]
  },
  {
   "cell_type": "code",
   "execution_count": 79,
   "metadata": {},
   "outputs": [
    {
     "data": {
      "text/plain": [
       "<AxesSubplot:>"
      ]
     },
     "execution_count": 79,
     "metadata": {},
     "output_type": "execute_result"
    },
    {
     "data": {
      "image/png": "[encoded data removed]",
      "text/plain": [
       "<Figure size 432x288 with 1 Axes>"
      ]
     },
     "metadata": {
      "needs_background": "light"
     },
     "output_type": "display_data"
    }
   ],
   "source": [
    "data['last_price'].hist(bins=100)"
   ]
  },
  {
   "cell_type": "code",
   "execution_count": 80,
   "metadata": {},
   "outputs": [
    {
     "data": {
      "text/plain": [
       "count    2.309900e+04\n",
       "mean     5.882019e+06\n",
       "std      5.101134e+06\n",
       "min      5.200000e+05\n",
       "25%      3.400000e+06\n",
       "50%      4.600000e+06\n",
       "75%      6.600000e+06\n",
       "max      9.800000e+07\n",
       "Name: last_price, dtype: float64"
      ]
     },
     "execution_count": 80,
     "metadata": {},
     "output_type": "execute_result"
    }
   ],
   "source": [
    "data['last_price'].describe()"
   ]
  },
  {
   "cell_type": "markdown",
   "metadata": {},
   "source": [
    "Средняя цена на квартиры равна около 6 млн руб"
   ]
  },
  {
   "cell_type": "markdown",
   "metadata": {},
   "source": [
    "Количество комнат."
   ]
  },
  {
   "cell_type": "code",
   "execution_count": 81,
   "metadata": {},
   "outputs": [
    {
     "data": {
      "text/plain": [
       "<AxesSubplot:>"
      ]
     },
     "execution_count": 81,
     "metadata": {},
     "output_type": "execute_result"
    },
    {
     "data": {
      "image/png": "[encoded data removed]",
      "text/plain": [
       "<Figure size 432x288 with 1 Axes>"
      ]
     },
     "metadata": {
      "needs_background": "light"
     },
     "output_type": "display_data"
    }
   ],
   "source": [
    "data['rooms'].hist(bins=10)"
   ]
  },
  {
   "cell_type": "markdown",
   "metadata": {},
   "source": [
    "Чаще всего встречаются 1,2,3 комнатные квартиры."
   ]
  },
  {
   "cell_type": "markdown",
   "metadata": {},
   "source": [
    "Высота потолков."
   ]
  },
  {
   "cell_type": "code",
   "execution_count": 82,
   "metadata": {},
   "outputs": [
    {
     "data": {
      "text/plain": [
       "<AxesSubplot:>"
      ]
     },
     "execution_count": 82,
     "metadata": {},
     "output_type": "execute_result"
    },
    {
     "data": {
      "image/png": "[encoded data removed]",
      "text/plain": [
       "<Figure size 432x288 with 1 Axes>"
      ]
     },
     "metadata": {
      "needs_background": "light"
     },
     "output_type": "display_data"
    }
   ],
   "source": [
    "data['ceiling_height'].hist(bins=5)"
   ]
  },
  {
   "cell_type": "markdown",
   "metadata": {},
   "source": [
    "Самая распространенная высота потолков от 2,5 до 3 метров."
   ]
  },
  {
   "cell_type": "markdown",
   "metadata": {},
   "source": [
    "Этаж квартиры"
   ]
  },
  {
   "cell_type": "code",
   "execution_count": 83,
   "metadata": {},
   "outputs": [
    {
     "data": {
      "text/plain": [
       "<AxesSubplot:>"
      ]
     },
     "execution_count": 83,
     "metadata": {},
     "output_type": "execute_result"
    },
    {
     "data": {
      "image/png": "[encoded data removed]",
      "text/plain": [
       "<Figure size 432x288 with 1 Axes>"
      ]
     },
     "metadata": {
      "needs_background": "light"
     },
     "output_type": "display_data"
    }
   ],
   "source": [
    "data['floor'].hist(bins=20)"
   ]
  },
  {
   "cell_type": "markdown",
   "metadata": {},
   "source": [
    "Чаще всего в продаже квартиры на 1,2,3,4 этаже."
   ]
  },
  {
   "cell_type": "markdown",
   "metadata": {},
   "source": [
    "Тип этажа."
   ]
  },
  {
   "cell_type": "code",
   "execution_count": 84,
   "metadata": {},
   "outputs": [
    {
     "data": {
      "text/plain": [
       "<AxesSubplot:>"
      ]
     },
     "execution_count": 84,
     "metadata": {},
     "output_type": "execute_result"
    },
    {
     "data": {
      "image/png": "[encoded data removed]",
      "text/plain": [
       "<Figure size 432x288 with 1 Axes>"
      ]
     },
     "metadata": {
      "needs_background": "light"
     },
     "output_type": "display_data"
    }
   ],
   "source": [
    "data['floor_type'].hist(bins=10)"
   ]
  },
  {
   "cell_type": "markdown",
   "metadata": {},
   "source": [
    "Продают квартиры на первом или последнем этаже примерно одинаково часто. Первый и последний этаж составляет примерно по 10% от всех квартир."
   ]
  },
  {
   "cell_type": "markdown",
   "metadata": {},
   "source": [
    "Общее количество этажей в доме."
   ]
  },
  {
   "cell_type": "code",
   "execution_count": 85,
   "metadata": {},
   "outputs": [
    {
     "data": {
      "text/plain": [
       "<AxesSubplot:>"
      ]
     },
     "execution_count": 85,
     "metadata": {},
     "output_type": "execute_result"
    },
    {
     "data": {
      "image/png": "[encoded data removed]",
      "text/plain": [
       "<Figure size 432x288 with 1 Axes>"
      ]
     },
     "metadata": {
      "needs_background": "light"
     },
     "output_type": "display_data"
    }
   ],
   "source": [
    "data['floors_total'].hist(bins=30)"
   ]
  },
  {
   "cell_type": "markdown",
   "metadata": {},
   "source": [
    "Чаще всего попадаются 5 или 9 этажные дома."
   ]
  },
  {
   "cell_type": "markdown",
   "metadata": {},
   "source": [
    "Расстояние до центра."
   ]
  },
  {
   "cell_type": "code",
   "execution_count": 86,
   "metadata": {},
   "outputs": [
    {
     "data": {
      "text/plain": [
       "<AxesSubplot:>"
      ]
     },
     "execution_count": 86,
     "metadata": {},
     "output_type": "execute_result"
    },
    {
     "data": {
      "image/png": "[encoded data removed]",
      "text/plain": [
       "<Figure size 432x288 with 1 Axes>"
      ]
     },
     "metadata": {
      "needs_background": "light"
     },
     "output_type": "display_data"
    }
   ],
   "source": [
    "data['city_centers_nearest'].hist(bins=100)"
   ]
  },
  {
   "cell_type": "markdown",
   "metadata": {},
   "source": [
    "Большинство квартир продаются от 10 до 15 км от центра"
   ]
  },
  {
   "cell_type": "markdown",
   "metadata": {},
   "source": [
    "Расстояние до аэропорта."
   ]
  },
  {
   "cell_type": "code",
   "execution_count": 87,
   "metadata": {},
   "outputs": [
    {
     "data": {
      "text/plain": [
       "<AxesSubplot:>"
      ]
     },
     "execution_count": 87,
     "metadata": {},
     "output_type": "execute_result"
    },
    {
     "data": {
      "image/png": "[encoded data removed]",
      "text/plain": [
       "<Figure size 432x288 with 1 Axes>"
      ]
     },
     "metadata": {
      "needs_background": "light"
     },
     "output_type": "display_data"
    }
   ],
   "source": [
    "data['airports_nearest'].hist(bins=10)"
   ]
  },
  {
   "cell_type": "markdown",
   "metadata": {},
   "source": [
    "В среднем квартиры располагаются от 10 до 25 км от аэропорта."
   ]
  },
  {
   "cell_type": "markdown",
   "metadata": {},
   "source": [
    "Расстояние до парка."
   ]
  },
  {
   "cell_type": "code",
   "execution_count": 88,
   "metadata": {},
   "outputs": [
    {
     "data": {
      "text/plain": [
       "<AxesSubplot:>"
      ]
     },
     "execution_count": 88,
     "metadata": {},
     "output_type": "execute_result"
    },
    {
     "data": {
      "image/png": "[encoded data removed]",
      "text/plain": [
       "<Figure size 432x288 with 1 Axes>"
      ]
     },
     "metadata": {
      "needs_background": "light"
     },
     "output_type": "display_data"
    }
   ],
   "source": [
    "data['parks_nearest'].hist(bins=20)"
   ]
  },
  {
   "cell_type": "markdown",
   "metadata": {},
   "source": [
    "Большинство квартир располагаются в 200-600 м от парка."
   ]
  },
  {
   "cell_type": "markdown",
   "metadata": {},
   "source": [
    "Дни недели публикации объявления."
   ]
  },
  {
   "cell_type": "code",
   "execution_count": 89,
   "metadata": {},
   "outputs": [
    {
     "data": {
      "text/plain": [
       "<AxesSubplot:>"
      ]
     },
     "execution_count": 89,
     "metadata": {},
     "output_type": "execute_result"
    },
    {
     "data": {
      "image/png": "[encoded data removed]",
      "text/plain": [
       "<Figure size 432x288 with 1 Axes>"
      ]
     },
     "metadata": {
      "needs_background": "light"
     },
     "output_type": "display_data"
    }
   ],
   "source": [
    "data['weekday'].hist(bins=7)"
   ]
  },
  {
   "cell_type": "markdown",
   "metadata": {},
   "source": [
    "Чаще объявления публикуют в будние дни."
   ]
  },
  {
   "cell_type": "markdown",
   "metadata": {},
   "source": [
    "Месяц публикации объявления."
   ]
  },
  {
   "cell_type": "code",
   "execution_count": 90,
   "metadata": {},
   "outputs": [
    {
     "data": {
      "text/plain": [
       "<AxesSubplot:>"
      ]
     },
     "execution_count": 90,
     "metadata": {},
     "output_type": "execute_result"
    },
    {
     "data": {
      "image/png": "[encoded data removed]",
      "text/plain": [
       "<Figure size 432x288 with 1 Axes>"
      ]
     },
     "metadata": {
      "needs_background": "light"
     },
     "output_type": "display_data"
    }
   ],
   "source": [
    "data['month'].hist(bins=12)"
   ]
  },
  {
   "cell_type": "markdown",
   "metadata": {},
   "source": [
    "Реже выкладывают в месяца до и после нового года и летом. (Возможно, что лето-сезон отпусков, а до нового года людям не до этого, а после нового года, люди отдыхают."
   ]
  },
  {
   "cell_type": "markdown",
   "metadata": {},
   "source": [
    "**Рассмотрел гистограммы основных параметров, по каждому сделал коменнтарии, можно сделать вывод, что после предобработки данные \"не исказились\".**"
   ]
  },
  {
   "cell_type": "markdown",
   "metadata": {},
   "source": [
    "**Изучим как быстро продавались квартиры:**"
   ]
  },
  {
   "cell_type": "markdown",
   "metadata": {},
   "source": [
    "В данном столбце находятся квартиры, которые проданы и не проданы. Нас интересуют только проданные квартиры, поэтому создадим новую переменную и оставим в ней, только заполненные значения."
   ]
  },
  {
   "cell_type": "code",
   "execution_count": 91,
   "metadata": {},
   "outputs": [],
   "source": [
    "solded = data[~data['days_exposition'].isna()]"
   ]
  },
  {
   "cell_type": "code",
   "execution_count": 92,
   "metadata": {},
   "outputs": [
    {
     "data": {
      "text/plain": [
       "<AxesSubplot:>"
      ]
     },
     "execution_count": 92,
     "metadata": {},
     "output_type": "execute_result"
    },
    {
     "data": {
      "image/png": "[encoded data removed]",
      "text/plain": [
       "<Figure size 432x288 with 1 Axes>"
      ]
     },
     "metadata": {
      "needs_background": "light"
     },
     "output_type": "display_data"
    }
   ],
   "source": [
    "solded['days_exposition'].hist(bins=50)"
   ]
  },
  {
   "cell_type": "code",
   "execution_count": 93,
   "metadata": {},
   "outputs": [
    {
     "data": {
      "text/plain": [
       "count    20047.000000\n",
       "mean       179.185763\n",
       "std        217.952511\n",
       "min          1.000000\n",
       "25%         45.000000\n",
       "50%         94.000000\n",
       "75%        229.000000\n",
       "max       1580.000000\n",
       "Name: days_exposition, dtype: float64"
      ]
     },
     "execution_count": 93,
     "metadata": {},
     "output_type": "execute_result"
    }
   ],
   "source": [
    "solded['days_exposition'].describe()"
   ]
  },
  {
   "cell_type": "code",
   "execution_count": 94,
   "metadata": {},
   "outputs": [
    {
     "data": {
      "text/plain": [
       "179.18576345587869"
      ]
     },
     "execution_count": 94,
     "metadata": {},
     "output_type": "execute_result"
    }
   ],
   "source": [
    "#посчитаем среднее\n",
    "solded['days_exposition'].mean()"
   ]
  },
  {
   "cell_type": "code",
   "execution_count": 95,
   "metadata": {},
   "outputs": [
    {
     "data": {
      "text/plain": [
       "94.0"
      ]
     },
     "execution_count": 95,
     "metadata": {},
     "output_type": "execute_result"
    }
   ],
   "source": [
    "#посчитаем медиану\n",
    "solded['days_exposition'].median()"
   ]
  },
  {
   "cell_type": "markdown",
   "metadata": {},
   "source": [
    "Согласно графику, чаще всего квартиру продают около 3 месяцев, а если быть точнее от 60 до 120 дней. Примем это время за среднее время продажи квартиры. Быстрые продажи это до 60 дней, долгие больше 120 дней. Но так же мы видим, что реже, но бывают продажи квартир больее года, отнесем такие продажи к \"очень долгим\"."
   ]
  },
  {
   "cell_type": "code",
   "execution_count": 96,
   "metadata": {},
   "outputs": [
    {
     "name": "stdout",
     "output_type": "stream",
     "text": [
      "23099\n"
     ]
    },
    {
     "data": {
      "text/html": [
       "<div>\n",
       "<style scoped>\n",
       "    .dataframe tbody tr th:only-of-type {\n",
       "        vertical-align: middle;\n",
       "    }\n",
       "\n",
       "    .dataframe tbody tr th {\n",
       "        vertical-align: top;\n",
       "    }\n",
       "\n",
       "    .dataframe thead th {\n",
       "        text-align: right;\n",
       "    }\n",
       "</style>\n",
       "<table border=\"1\" class=\"dataframe\">\n",
       "  <thead>\n",
       "    <tr style=\"text-align: right;\">\n",
       "      <th></th>\n",
       "      <th>last_price</th>\n",
       "      <th>total_area</th>\n",
       "      <th>rooms</th>\n",
       "    </tr>\n",
       "  </thead>\n",
       "  <tbody>\n",
       "    <tr>\n",
       "      <th>min</th>\n",
       "      <td>520000.0</td>\n",
       "      <td>12.0</td>\n",
       "      <td>0.0</td>\n",
       "    </tr>\n",
       "    <tr>\n",
       "      <th>max</th>\n",
       "      <td>98000000.0</td>\n",
       "      <td>199.2</td>\n",
       "      <td>6.0</td>\n",
       "    </tr>\n",
       "  </tbody>\n",
       "</table>\n",
       "</div>"
      ],
      "text/plain": [
       "     last_price  total_area  rooms\n",
       "min    520000.0        12.0    0.0\n",
       "max  98000000.0       199.2    6.0"
      ]
     },
     "execution_count": 96,
     "metadata": {},
     "output_type": "execute_result"
    }
   ],
   "source": [
    "# КОД РЕВЬЮЕРА\n",
    "\n",
    "print(len(data))\n",
    "\n",
    "data[['last_price', 'total_area','rooms']].describe().loc[['min', 'max']]"
   ]
  },
  {
   "cell_type": "markdown",
   "metadata": {},
   "source": [
    "**Определим какие факторы больше всего влияют на общую (полную) стоимость объекта**"
   ]
  },
  {
   "cell_type": "markdown",
   "metadata": {},
   "source": [
    "Построим диаграммы рассеивания, а потом рассмотрим коэфициент корреляции, для определения зависимости."
   ]
  },
  {
   "cell_type": "code",
   "execution_count": 97,
   "metadata": {},
   "outputs": [],
   "source": [
    "#Запишем в список интересующие нас параметры\n",
    "list=(['last_price',\n",
    "       'total_area',\n",
    "       'living_area',\n",
    "       'kitchen_area',\n",
    "       'rooms',\n",
    "       'floor_type',\n",
    "       'weekday',\n",
    "       'month',\n",
    "       'year'\n",
    "      ])"
   ]
  },
  {
   "cell_type": "code",
   "execution_count": 98,
   "metadata": {},
   "outputs": [
    {
     "data": {
      "text/plain": [
       "array([[<AxesSubplot:xlabel='last_price', ylabel='last_price'>,\n",
       "        <AxesSubplot:xlabel='total_area', ylabel='last_price'>,\n",
       "        <AxesSubplot:xlabel='living_area', ylabel='last_price'>,\n",
       "        <AxesSubplot:xlabel='kitchen_area', ylabel='last_price'>,\n",
       "        <AxesSubplot:xlabel='rooms', ylabel='last_price'>,\n",
       "        <AxesSubplot:xlabel='weekday', ylabel='last_price'>,\n",
       "        <AxesSubplot:xlabel='month', ylabel='last_price'>,\n",
       "        <AxesSubplot:xlabel='year', ylabel='last_price'>],\n",
       "       [<AxesSubplot:xlabel='last_price', ylabel='total_area'>,\n",
       "        <AxesSubplot:xlabel='total_area', ylabel='total_area'>,\n",
       "        <AxesSubplot:xlabel='living_area', ylabel='total_area'>,\n",
       "        <AxesSubplot:xlabel='kitchen_area', ylabel='total_area'>,\n",
       "        <AxesSubplot:xlabel='rooms', ylabel='total_area'>,\n",
       "        <AxesSubplot:xlabel='weekday', ylabel='total_area'>,\n",
       "        <AxesSubplot:xlabel='month', ylabel='total_area'>,\n",
       "        <AxesSubplot:xlabel='year', ylabel='total_area'>],\n",
       "       [<AxesSubplot:xlabel='last_price', ylabel='living_area'>,\n",
       "        <AxesSubplot:xlabel='total_area', ylabel='living_area'>,\n",
       "        <AxesSubplot:xlabel='living_area', ylabel='living_area'>,\n",
       "        <AxesSubplot:xlabel='kitchen_area', ylabel='living_area'>,\n",
       "        <AxesSubplot:xlabel='rooms', ylabel='living_area'>,\n",
       "        <AxesSubplot:xlabel='weekday', ylabel='living_area'>,\n",
       "        <AxesSubplot:xlabel='month', ylabel='living_area'>,\n",
       "        <AxesSubplot:xlabel='year', ylabel='living_area'>],\n",
       "       [<AxesSubplot:xlabel='last_price', ylabel='kitchen_area'>,\n",
       "        <AxesSubplot:xlabel='total_area', ylabel='kitchen_area'>,\n",
       "        <AxesSubplot:xlabel='living_area', ylabel='kitchen_area'>,\n",
       "        <AxesSubplot:xlabel='kitchen_area', ylabel='kitchen_area'>,\n",
       "        <AxesSubplot:xlabel='rooms', ylabel='kitchen_area'>,\n",
       "        <AxesSubplot:xlabel='weekday', ylabel='kitchen_area'>,\n",
       "        <AxesSubplot:xlabel='month', ylabel='kitchen_area'>,\n",
       "        <AxesSubplot:xlabel='year', ylabel='kitchen_area'>],\n",
       "       [<AxesSubplot:xlabel='last_price', ylabel='rooms'>,\n",
       "        <AxesSubplot:xlabel='total_area', ylabel='rooms'>,\n",
       "        <AxesSubplot:xlabel='living_area', ylabel='rooms'>,\n",
       "        <AxesSubplot:xlabel='kitchen_area', ylabel='rooms'>,\n",
       "        <AxesSubplot:xlabel='rooms', ylabel='rooms'>,\n",
       "        <AxesSubplot:xlabel='weekday', ylabel='rooms'>,\n",
       "        <AxesSubplot:xlabel='month', ylabel='rooms'>,\n",
       "        <AxesSubplot:xlabel='year', ylabel='rooms'>],\n",
       "       [<AxesSubplot:xlabel='last_price', ylabel='weekday'>,\n",
       "        <AxesSubplot:xlabel='total_area', ylabel='weekday'>,\n",
       "        <AxesSubplot:xlabel='living_area', ylabel='weekday'>,\n",
       "        <AxesSubplot:xlabel='kitchen_area', ylabel='weekday'>,\n",
       "        <AxesSubplot:xlabel='rooms', ylabel='weekday'>,\n",
       "        <AxesSubplot:xlabel='weekday', ylabel='weekday'>,\n",
       "        <AxesSubplot:xlabel='month', ylabel='weekday'>,\n",
       "        <AxesSubplot:xlabel='year', ylabel='weekday'>],\n",
       "       [<AxesSubplot:xlabel='last_price', ylabel='month'>,\n",
       "        <AxesSubplot:xlabel='total_area', ylabel='month'>,\n",
       "        <AxesSubplot:xlabel='living_area', ylabel='month'>,\n",
       "        <AxesSubplot:xlabel='kitchen_area', ylabel='month'>,\n",
       "        <AxesSubplot:xlabel='rooms', ylabel='month'>,\n",
       "        <AxesSubplot:xlabel='weekday', ylabel='month'>,\n",
       "        <AxesSubplot:xlabel='month', ylabel='month'>,\n",
       "        <AxesSubplot:xlabel='year', ylabel='month'>],\n",
       "       [<AxesSubplot:xlabel='last_price', ylabel='year'>,\n",
       "        <AxesSubplot:xlabel='total_area', ylabel='year'>,\n",
       "        <AxesSubplot:xlabel='living_area', ylabel='year'>,\n",
       "        <AxesSubplot:xlabel='kitchen_area', ylabel='year'>,\n",
       "        <AxesSubplot:xlabel='rooms', ylabel='year'>,\n",
       "        <AxesSubplot:xlabel='weekday', ylabel='year'>,\n",
       "        <AxesSubplot:xlabel='month', ylabel='year'>,\n",
       "        <AxesSubplot:xlabel='year', ylabel='year'>]], dtype=object)"
      ]
     },
     "execution_count": 98,
     "metadata": {},
     "output_type": "execute_result"
    },
    {
     "data": {
      "image/png": "[encoded data removed]",
      "text/plain": [
       "<Figure size 648x648 with 64 Axes>"
      ]
     },
     "metadata": {
      "needs_background": "light"
     },
     "output_type": "display_data"
    }
   ],
   "source": [
    "pd.plotting.scatter_matrix(data.loc[:,list], figsize=(9, 9))"
   ]
  },
  {
   "cell_type": "code",
   "execution_count": 99,
   "metadata": {},
   "outputs": [
    {
     "data": {
      "text/html": [
       "<div>\n",
       "<style scoped>\n",
       "    .dataframe tbody tr th:only-of-type {\n",
       "        vertical-align: middle;\n",
       "    }\n",
       "\n",
       "    .dataframe tbody tr th {\n",
       "        vertical-align: top;\n",
       "    }\n",
       "\n",
       "    .dataframe thead th {\n",
       "        text-align: right;\n",
       "    }\n",
       "</style>\n",
       "<table border=\"1\" class=\"dataframe\">\n",
       "  <thead>\n",
       "    <tr style=\"text-align: right;\">\n",
       "      <th></th>\n",
       "      <th>last_price</th>\n",
       "      <th>total_area</th>\n",
       "      <th>living_area</th>\n",
       "      <th>kitchen_area</th>\n",
       "      <th>rooms</th>\n",
       "      <th>weekday</th>\n",
       "      <th>month</th>\n",
       "      <th>year</th>\n",
       "    </tr>\n",
       "  </thead>\n",
       "  <tbody>\n",
       "    <tr>\n",
       "      <th>last_price</th>\n",
       "      <td>1.000000</td>\n",
       "      <td>0.727897</td>\n",
       "      <td>0.633470</td>\n",
       "      <td>0.553514</td>\n",
       "      <td>0.434996</td>\n",
       "      <td>-0.011757</td>\n",
       "      <td>0.012671</td>\n",
       "      <td>-0.046662</td>\n",
       "    </tr>\n",
       "    <tr>\n",
       "      <th>total_area</th>\n",
       "      <td>0.727897</td>\n",
       "      <td>1.000000</td>\n",
       "      <td>0.933583</td>\n",
       "      <td>0.606398</td>\n",
       "      <td>0.790109</td>\n",
       "      <td>-0.015701</td>\n",
       "      <td>0.011525</td>\n",
       "      <td>-0.083307</td>\n",
       "    </tr>\n",
       "    <tr>\n",
       "      <th>living_area</th>\n",
       "      <td>0.633470</td>\n",
       "      <td>0.933583</td>\n",
       "      <td>1.000000</td>\n",
       "      <td>0.396706</td>\n",
       "      <td>0.862311</td>\n",
       "      <td>-0.011764</td>\n",
       "      <td>0.003906</td>\n",
       "      <td>-0.071091</td>\n",
       "    </tr>\n",
       "    <tr>\n",
       "      <th>kitchen_area</th>\n",
       "      <td>0.553514</td>\n",
       "      <td>0.606398</td>\n",
       "      <td>0.396706</td>\n",
       "      <td>1.000000</td>\n",
       "      <td>0.259249</td>\n",
       "      <td>-0.012865</td>\n",
       "      <td>0.015562</td>\n",
       "      <td>-0.055142</td>\n",
       "    </tr>\n",
       "    <tr>\n",
       "      <th>rooms</th>\n",
       "      <td>0.434996</td>\n",
       "      <td>0.790109</td>\n",
       "      <td>0.862311</td>\n",
       "      <td>0.259249</td>\n",
       "      <td>1.000000</td>\n",
       "      <td>-0.006107</td>\n",
       "      <td>-0.002616</td>\n",
       "      <td>-0.048924</td>\n",
       "    </tr>\n",
       "    <tr>\n",
       "      <th>weekday</th>\n",
       "      <td>-0.011757</td>\n",
       "      <td>-0.015701</td>\n",
       "      <td>-0.011764</td>\n",
       "      <td>-0.012865</td>\n",
       "      <td>-0.006107</td>\n",
       "      <td>1.000000</td>\n",
       "      <td>0.012258</td>\n",
       "      <td>-0.001109</td>\n",
       "    </tr>\n",
       "    <tr>\n",
       "      <th>month</th>\n",
       "      <td>0.012671</td>\n",
       "      <td>0.011525</td>\n",
       "      <td>0.003906</td>\n",
       "      <td>0.015562</td>\n",
       "      <td>-0.002616</td>\n",
       "      <td>0.012258</td>\n",
       "      <td>1.000000</td>\n",
       "      <td>-0.272674</td>\n",
       "    </tr>\n",
       "    <tr>\n",
       "      <th>year</th>\n",
       "      <td>-0.046662</td>\n",
       "      <td>-0.083307</td>\n",
       "      <td>-0.071091</td>\n",
       "      <td>-0.055142</td>\n",
       "      <td>-0.048924</td>\n",
       "      <td>-0.001109</td>\n",
       "      <td>-0.272674</td>\n",
       "      <td>1.000000</td>\n",
       "    </tr>\n",
       "  </tbody>\n",
       "</table>\n",
       "</div>"
      ],
      "text/plain": [
       "              last_price  total_area  living_area  kitchen_area     rooms  \\\n",
       "last_price      1.000000    0.727897     0.633470      0.553514  0.434996   \n",
       "total_area      0.727897    1.000000     0.933583      0.606398  0.790109   \n",
       "living_area     0.633470    0.933583     1.000000      0.396706  0.862311   \n",
       "kitchen_area    0.553514    0.606398     0.396706      1.000000  0.259249   \n",
       "rooms           0.434996    0.790109     0.862311      0.259249  1.000000   \n",
       "weekday        -0.011757   -0.015701    -0.011764     -0.012865 -0.006107   \n",
       "month           0.012671    0.011525     0.003906      0.015562 -0.002616   \n",
       "year           -0.046662   -0.083307    -0.071091     -0.055142 -0.048924   \n",
       "\n",
       "               weekday     month      year  \n",
       "last_price   -0.011757  0.012671 -0.046662  \n",
       "total_area   -0.015701  0.011525 -0.083307  \n",
       "living_area  -0.011764  0.003906 -0.071091  \n",
       "kitchen_area -0.012865  0.015562 -0.055142  \n",
       "rooms        -0.006107 -0.002616 -0.048924  \n",
       "weekday       1.000000  0.012258 -0.001109  \n",
       "month         0.012258  1.000000 -0.272674  \n",
       "year         -0.001109 -0.272674  1.000000  "
      ]
     },
     "execution_count": 99,
     "metadata": {},
     "output_type": "execute_result"
    }
   ],
   "source": [
    "data.loc[:,list].corr()"
   ]
  },
  {
   "cell_type": "markdown",
   "metadata": {},
   "source": [
    "Можно сделать вывод, что общая площадь, жилая площадь, площадь кухни и количество комнат влияют на цену. А день недели, месяц и год объявления не влияют на цену."
   ]
  },
  {
   "cell_type": "code",
   "execution_count": 100,
   "metadata": {},
   "outputs": [
    {
     "data": {
      "text/plain": [
       "<AxesSubplot:xlabel='total_area', ylabel='last_price'>"
      ]
     },
     "execution_count": 100,
     "metadata": {},
     "output_type": "execute_result"
    },
    {
     "data": {
      "image/png": "[encoded data removed]",
      "text/plain": [
       "<Figure size 432x288 with 1 Axes>"
      ]
     },
     "metadata": {
      "needs_background": "light"
     },
     "output_type": "display_data"
    }
   ],
   "source": [
    "(data.plot(\n",
    "           x='total_area', \n",
    "           y='last_price', \n",
    "           kind='scatter', \n",
    "           grid=True, \n",
    "           alpha=0.9))"
   ]
  },
  {
   "cell_type": "code",
   "execution_count": 101,
   "metadata": {},
   "outputs": [
    {
     "data": {
      "text/plain": [
       "<AxesSubplot:xlabel='rooms'>"
      ]
     },
     "execution_count": 101,
     "metadata": {},
     "output_type": "execute_result"
    },
    {
     "data": {
      "image/png": "[encoded data removed]",
      "text/plain": [
       "<Figure size 432x288 with 1 Axes>"
      ]
     },
     "metadata": {
      "needs_background": "light"
     },
     "output_type": "display_data"
    }
   ],
   "source": [
    "data.pivot_table(index='rooms', values='last_price', aggfunc='mean').plot(style='o-')"
   ]
  },
  {
   "cell_type": "code",
   "execution_count": 102,
   "metadata": {},
   "outputs": [
    {
     "data": {
      "text/plain": [
       "<AxesSubplot:xlabel='floor_type', ylabel='last_price'>"
      ]
     },
     "execution_count": 102,
     "metadata": {},
     "output_type": "execute_result"
    },
    {
     "data": {
      "image/png": "[encoded data removed]",
      "text/plain": [
       "<Figure size 432x288 with 1 Axes>"
      ]
     },
     "metadata": {
      "needs_background": "light"
     },
     "output_type": "display_data"
    }
   ],
   "source": [
    "(data.plot(\n",
    "           x='floor_type', \n",
    "           y='last_price', \n",
    "           kind='scatter', \n",
    "           grid=True, \n",
    "           alpha=0.9))"
   ]
  },
  {
   "cell_type": "code",
   "execution_count": 103,
   "metadata": {},
   "outputs": [
    {
     "data": {
      "text/plain": [
       "<AxesSubplot:xlabel='floor_type'>"
      ]
     },
     "execution_count": 103,
     "metadata": {},
     "output_type": "execute_result"
    },
    {
     "data": {
      "image/png": "[encoded data removed]",
      "text/plain": [
       "<Figure size 432x288 with 1 Axes>"
      ]
     },
     "metadata": {
      "needs_background": "light"
     },
     "output_type": "display_data"
    }
   ],
   "source": [
    "data.pivot_table(index='floor_type', values='last_price', aggfunc='mean').plot(style='o-')"
   ]
  },
  {
   "cell_type": "code",
   "execution_count": 104,
   "metadata": {},
   "outputs": [
    {
     "data": {
      "text/plain": [
       "<AxesSubplot:xlabel='year'>"
      ]
     },
     "execution_count": 104,
     "metadata": {},
     "output_type": "execute_result"
    },
    {
     "data": {
      "image/png": "[encoded data removed]",
      "text/plain": [
       "<Figure size 432x288 with 1 Axes>"
      ]
     },
     "metadata": {
      "needs_background": "light"
     },
     "output_type": "display_data"
    }
   ],
   "source": [
    "data.pivot_table(index='year', values='price_per_m2', aggfunc='mean').plot(style='o-')"
   ]
  },
  {
   "cell_type": "code",
   "execution_count": 105,
   "metadata": {},
   "outputs": [
    {
     "data": {
      "text/plain": [
       "<AxesSubplot:xlabel='year'>"
      ]
     },
     "execution_count": 105,
     "metadata": {},
     "output_type": "execute_result"
    },
    {
     "data": {
      "image/png": "[encoded data removed]",
      "text/plain": [
       "<Figure size 432x288 with 1 Axes>"
      ]
     },
     "metadata": {
      "needs_background": "light"
     },
     "output_type": "display_data"
    }
   ],
   "source": [
    "data.pivot_table(index='year', values='last_price', aggfunc='mean').plot(style='o-')"
   ]
  },
  {
   "cell_type": "markdown",
   "metadata": {},
   "source": [
    "Больше всего на цену влияет общая площадь квартиры. Так же мы видим корреляцию между общей и жилой площадью."
   ]
  },
  {
   "cell_type": "markdown",
   "metadata": {},
   "source": [
    "**Посчитаем среднюю цену одного квадратного метра в 10 населённых пунктах с наибольшим числом объявлений**"
   ]
  },
  {
   "cell_type": "markdown",
   "metadata": {},
   "source": [
    "Для начала выберем 10 населенных пунктов, с наибольшим количеством объёявлений"
   ]
  },
  {
   "cell_type": "code",
   "execution_count": 106,
   "metadata": {},
   "outputs": [
    {
     "data": {
      "text/plain": [
       "Index(['санкт-петербург', 'поселок мурино', 'поселок шушары', 'всеволожск',\n",
       "       'пушкин', 'колпино', 'поселок парголово', 'гатчина', 'деревня кудрово',\n",
       "       'выборг'],\n",
       "      dtype='object')"
      ]
     },
     "execution_count": 106,
     "metadata": {},
     "output_type": "execute_result"
    }
   ],
   "source": [
    "i = data['locality_name'].value_counts().index[0:10]\n",
    "i"
   ]
  },
  {
   "cell_type": "markdown",
   "metadata": {},
   "source": [
    "Построим таблицу, в которой указана цена за каждый квадратный метр 10 населенных пунктов с наибольшим количеством объявлений."
   ]
  },
  {
   "cell_type": "code",
   "execution_count": 107,
   "metadata": {},
   "outputs": [
    {
     "data": {
      "text/html": [
       "<div>\n",
       "<style scoped>\n",
       "    .dataframe tbody tr th:only-of-type {\n",
       "        vertical-align: middle;\n",
       "    }\n",
       "\n",
       "    .dataframe tbody tr th {\n",
       "        vertical-align: top;\n",
       "    }\n",
       "\n",
       "    .dataframe thead th {\n",
       "        text-align: right;\n",
       "    }\n",
       "</style>\n",
       "<table border=\"1\" class=\"dataframe\">\n",
       "  <thead>\n",
       "    <tr style=\"text-align: right;\">\n",
       "      <th></th>\n",
       "      <th>price_per_m2</th>\n",
       "    </tr>\n",
       "    <tr>\n",
       "      <th>locality_name</th>\n",
       "      <th></th>\n",
       "    </tr>\n",
       "  </thead>\n",
       "  <tbody>\n",
       "    <tr>\n",
       "      <th>санкт-петербург</th>\n",
       "      <td>112.654579</td>\n",
       "    </tr>\n",
       "    <tr>\n",
       "      <th>пушкин</th>\n",
       "      <td>102.826254</td>\n",
       "    </tr>\n",
       "    <tr>\n",
       "      <th>деревня кудрово</th>\n",
       "      <td>92.473548</td>\n",
       "    </tr>\n",
       "    <tr>\n",
       "      <th>поселок парголово</th>\n",
       "      <td>90.332263</td>\n",
       "    </tr>\n",
       "    <tr>\n",
       "      <th>поселок мурино</th>\n",
       "      <td>85.602501</td>\n",
       "    </tr>\n",
       "    <tr>\n",
       "      <th>поселок шушары</th>\n",
       "      <td>78.577015</td>\n",
       "    </tr>\n",
       "    <tr>\n",
       "      <th>колпино</th>\n",
       "      <td>75.333296</td>\n",
       "    </tr>\n",
       "    <tr>\n",
       "      <th>гатчина</th>\n",
       "      <td>68.757679</td>\n",
       "    </tr>\n",
       "    <tr>\n",
       "      <th>всеволожск</th>\n",
       "      <td>68.719320</td>\n",
       "    </tr>\n",
       "    <tr>\n",
       "      <th>выборг</th>\n",
       "      <td>58.238143</td>\n",
       "    </tr>\n",
       "  </tbody>\n",
       "</table>\n",
       "</div>"
      ],
      "text/plain": [
       "                   price_per_m2\n",
       "locality_name                  \n",
       "санкт-петербург      112.654579\n",
       "пушкин               102.826254\n",
       "деревня кудрово       92.473548\n",
       "поселок парголово     90.332263\n",
       "поселок мурино        85.602501\n",
       "поселок шушары        78.577015\n",
       "колпино               75.333296\n",
       "гатчина               68.757679\n",
       "всеволожск            68.719320\n",
       "выборг                58.238143"
      ]
     },
     "execution_count": 107,
     "metadata": {},
     "output_type": "execute_result"
    }
   ],
   "source": [
    "(data.query('locality_name in @i')\n",
    " .pivot_table(index='locality_name', values='price_per_m2', aggfunc='mean')\n",
    " .sort_values(by='price_per_m2',ascending=False))"
   ]
  },
  {
   "cell_type": "markdown",
   "metadata": {},
   "source": [
    "Сохраним самую маленькую и самую большую среднюю цену квадратного метра по населенному пункту."
   ]
  },
  {
   "cell_type": "code",
   "execution_count": 108,
   "metadata": {},
   "outputs": [],
   "source": [
    "#mix_price_per_m2 = data.groupby('locality_name')['price_per_m2'].mean().min()\n",
    "#max_price_per_m2 = data.groupby('locality_name')['price_per_m2'].mean().max()"
   ]
  },
  {
   "cell_type": "markdown",
   "metadata": {},
   "source": [
    "Выведем самый недорогой населенный пункт по средней цене за квадратный метр."
   ]
  },
  {
   "cell_type": "code",
   "execution_count": 109,
   "metadata": {},
   "outputs": [],
   "source": [
    "#data.pivot_table(index='locality_name', values='price_per_m2', aggfunc='mean').query('price_per_m2 == @mix_price_per_m2')"
   ]
  },
  {
   "cell_type": "markdown",
   "metadata": {},
   "source": [
    "Выведем самый дорогой населенный пункт по средней цене за квадратный метр."
   ]
  },
  {
   "cell_type": "code",
   "execution_count": 110,
   "metadata": {},
   "outputs": [],
   "source": [
    "#data.pivot_table(index='locality_name', values='price_per_m2', aggfunc='mean').query('price_per_m2 == @max_price_per_m2')"
   ]
  },
  {
   "cell_type": "markdown",
   "metadata": {},
   "source": [
    "Вывели 10 населенных пунктов по количеству объявлений, лидером является Санкт-Петербург.\n",
    "Самым дорогим населенным пунктом по цене за квадратный метр является-Зеленогорск.\n",
    "Самым недорогим-поселок Совхозный."
   ]
  },
  {
   "cell_type": "code",
   "execution_count": 111,
   "metadata": {},
   "outputs": [
    {
     "data": {
      "text/html": [
       "<div>\n",
       "<style scoped>\n",
       "    .dataframe tbody tr th:only-of-type {\n",
       "        vertical-align: middle;\n",
       "    }\n",
       "\n",
       "    .dataframe tbody tr th {\n",
       "        vertical-align: top;\n",
       "    }\n",
       "\n",
       "    .dataframe thead th {\n",
       "        text-align: right;\n",
       "    }\n",
       "</style>\n",
       "<table border=\"1\" class=\"dataframe\">\n",
       "  <thead>\n",
       "    <tr style=\"text-align: right;\">\n",
       "      <th></th>\n",
       "      <th>price_per_m2</th>\n",
       "    </tr>\n",
       "    <tr>\n",
       "      <th>locality_name</th>\n",
       "      <th></th>\n",
       "    </tr>\n",
       "  </thead>\n",
       "  <tbody>\n",
       "    <tr>\n",
       "      <th>санкт-петербург</th>\n",
       "      <td>112.654579</td>\n",
       "    </tr>\n",
       "    <tr>\n",
       "      <th>пушкин</th>\n",
       "      <td>102.826254</td>\n",
       "    </tr>\n",
       "    <tr>\n",
       "      <th>деревня кудрово</th>\n",
       "      <td>92.473548</td>\n",
       "    </tr>\n",
       "    <tr>\n",
       "      <th>поселок парголово</th>\n",
       "      <td>90.332263</td>\n",
       "    </tr>\n",
       "    <tr>\n",
       "      <th>поселок мурино</th>\n",
       "      <td>85.602501</td>\n",
       "    </tr>\n",
       "    <tr>\n",
       "      <th>поселок шушары</th>\n",
       "      <td>78.577015</td>\n",
       "    </tr>\n",
       "    <tr>\n",
       "      <th>колпино</th>\n",
       "      <td>75.333296</td>\n",
       "    </tr>\n",
       "    <tr>\n",
       "      <th>гатчина</th>\n",
       "      <td>68.757679</td>\n",
       "    </tr>\n",
       "    <tr>\n",
       "      <th>всеволожск</th>\n",
       "      <td>68.719320</td>\n",
       "    </tr>\n",
       "    <tr>\n",
       "      <th>выборг</th>\n",
       "      <td>58.238143</td>\n",
       "    </tr>\n",
       "  </tbody>\n",
       "</table>\n",
       "</div>"
      ],
      "text/plain": [
       "                   price_per_m2\n",
       "locality_name                  \n",
       "санкт-петербург      112.654579\n",
       "пушкин               102.826254\n",
       "деревня кудрово       92.473548\n",
       "поселок парголово     90.332263\n",
       "поселок мурино        85.602501\n",
       "поселок шушары        78.577015\n",
       "колпино               75.333296\n",
       "гатчина               68.757679\n",
       "всеволожск            68.719320\n",
       "выборг                58.238143"
      ]
     },
     "execution_count": 111,
     "metadata": {},
     "output_type": "execute_result"
    }
   ],
   "source": [
    "(data.query('locality_name in @i')\n",
    " .pivot_table(index='locality_name', values='price_per_m2', aggfunc='mean')\n",
    " .sort_values(by='price_per_m2',ascending=False))"
   ]
  },
  {
   "cell_type": "markdown",
   "metadata": {},
   "source": [
    "Рассмотрим как в Санкт-Петербурге стоимость квартиры зависит от расстояния до центра."
   ]
  },
  {
   "cell_type": "markdown",
   "metadata": {},
   "source": [
    "Построим гистограмму рассеивания цены квадратного метра от расстояния до центра."
   ]
  },
  {
   "cell_type": "code",
   "execution_count": 112,
   "metadata": {},
   "outputs": [
    {
     "data": {
      "text/plain": [
       "<AxesSubplot:xlabel='citycenters_nearest_km', ylabel='price_per_m2'>"
      ]
     },
     "execution_count": 112,
     "metadata": {},
     "output_type": "execute_result"
    },
    {
     "data": {
      "image/png": "[encoded data removed]",
      "text/plain": [
       "<Figure size 432x288 with 1 Axes>"
      ]
     },
     "metadata": {
      "needs_background": "light"
     },
     "output_type": "display_data"
    }
   ],
   "source": [
    "(data[data['locality_name'] == 'санкт-петербург']\n",
    "       .plot(\n",
    "           x='citycenters_nearest_km', \n",
    "           y='price_per_m2', \n",
    "           kind='scatter', \n",
    "           grid=True, \n",
    "           alpha=0.3))"
   ]
  },
  {
   "cell_type": "markdown",
   "metadata": {},
   "source": [
    "Цена квадратного метра квартиры уменьшается при удалении от центра."
   ]
  },
  {
   "cell_type": "markdown",
   "metadata": {},
   "source": [
    "Рассмотрим цену каждого км от центра"
   ]
  },
  {
   "cell_type": "code",
   "execution_count": 113,
   "metadata": {},
   "outputs": [
    {
     "data": {
      "text/plain": [
       "<AxesSubplot:xlabel='km'>"
      ]
     },
     "execution_count": 113,
     "metadata": {},
     "output_type": "execute_result"
    },
    {
     "data": {
      "image/png": "[encoded data removed]",
      "text/plain": [
       "<Figure size 432x288 with 1 Axes>"
      ]
     },
     "metadata": {
      "needs_background": "light"
     },
     "output_type": "display_data"
    }
   ],
   "source": [
    "piter = (data[data['locality_name'] == 'санкт-петербург']\n",
    "       .pivot_table(index='citycenters_nearest_km', values='price_per_m2', aggfunc='mean'))\n",
    "piter['km'] = piter.index.astype('int')\n",
    "piter.plot( x='km', y='price_per_m2', kind='bar', grid=True)"
   ]
  },
  {
   "cell_type": "code",
   "execution_count": 121,
   "metadata": {},
   "outputs": [
    {
     "data": {
      "image/png": "[encoded data removed]",
      "text/plain": [
       "<Figure size 432x288 with 1 Axes>"
      ]
     },
     "metadata": {
      "needs_background": "light"
     },
     "output_type": "display_data"
    }
   ],
   "source": [
    "# КОД РЕВЬЮЕРА\n",
    "\n",
    "df = data.copy() \n",
    "\n",
    "df['citycenters_nearest_km'] = round(df['citycenters_nearest_km']).astype('Int64')\n",
    "\n",
    "(df[df['locality_name'] == 'санкт-петербург']\n",
    "    .pivot_table(index='citycenters_nearest_km', values='price_per_m2', aggfunc='mean')\n",
    "    .plot())\n",
    "\n",
    "plt.title('Заголовок')\n",
    "plt.xlabel('Подпись')\n",
    "plt.ylabel('Подпись')\n",
    "plt.show()"
   ]
  },
  {
   "cell_type": "markdown",
   "metadata": {},
   "source": [
    "Так же видим, что чем дальше от центра, тем стоимость меньше."
   ]
  },
  {
   "cell_type": "code",
   "execution_count": 115,
   "metadata": {},
   "outputs": [
    {
     "data": {
      "text/plain": [
       "-0.7082064112321832"
      ]
     },
     "execution_count": 115,
     "metadata": {},
     "output_type": "execute_result"
    }
   ],
   "source": [
    "piter['km'].corr(piter['price_per_m2'])"
   ]
  },
  {
   "cell_type": "markdown",
   "metadata": {},
   "source": [
    "Коэфициент корреляции подтверждает, что есть зависимость цены квартиры за квадратный метр в зависимости от расстояния до центра."
   ]
  },
  {
   "cell_type": "markdown",
   "metadata": {},
   "source": [
    "# Общий вывод"
   ]
  },
  {
   "cell_type": "markdown",
   "metadata": {},
   "source": [
    "В данном проекте я улучшил свои навыки предобработки данных, выяснил где есть пропуски, заменял их нулями, медианными значениями или оставлял как есть в зависимости от параметра. Поменял типы данных в столбцах, в которых это было необходимо. Выявлял и устранял дубликаты. Удалял строки с нереальными значениями. Добавлял в таблицу новые столбцы. Рассматривал различные зависимости, узнал где самый дорогой и дешевый квадратный метр площади в Лен.области. Узнал какие параметры больше влияют на стоимость квартиры. Стоил гистограммы и графики. Проект был объёмный и интересный. Я хорошо прокачался."
   ]
  },
  {
   "cell_type": "markdown",
   "metadata": {},
   "source": [
    "В ходе выполнения проекта выявлены следующие набюдения: \n",
    "</div>\n",
    "\n",
    "1. Чем больше площадь квартиры, тем выше ее цена.\n",
    "\n",
    "2. Чем ближе квартира к центру, тем выше ее цена.\n",
    "\n",
    "3. На первом этаже квартиры, в среднем, стоят дешевле, чем на более высоких.\n",
    "\n",
    "4. Стоимость квартир с 2014 по 2018 понижалась, а в 2019 повышалась.\n",
    "\n",
    "5. В Лен.области больше всего объявлений в Санкт-Петербурге.\n",
    "\n",
    "6. Средняя цена за квадратный метр в Санкт-Петербурге с 2014 по 2019 год - 112 тыс.руб.\n",
    "\n",
    "7. В среднем квартиры продаются за 3 месяца\n",
    "\n",
    "8. 4600000 руб. -  медиана цены.\n",
    "\n",
    "9. 51.4 квадратных метра - медиана площади.\n",
    "</div>"
   ]
  },
  {
   "cell_type": "markdown",
   "metadata": {},
   "source": [
    "Спасибо за уделенное время!"
   ]
  }
 ],
 "metadata": {
  "ExecuteTimeLog": [
   {
    "duration": 518,
    "start_time": "2023-02-21T13:10:00.557Z"
   },
   {
    "duration": 58,
    "start_time": "2023-02-21T13:10:13.802Z"
   },
   {
    "duration": 57,
    "start_time": "2023-02-21T13:10:16.032Z"
   },
   {
    "duration": 45,
    "start_time": "2023-02-21T13:10:33.103Z"
   },
   {
    "duration": 70,
    "start_time": "2023-02-21T13:11:52.540Z"
   },
   {
    "duration": 53,
    "start_time": "2023-02-21T13:15:53.272Z"
   },
   {
    "duration": 325,
    "start_time": "2023-02-21T13:19:58.924Z"
   },
   {
    "duration": 95,
    "start_time": "2023-02-21T13:20:04.302Z"
   },
   {
    "duration": 119,
    "start_time": "2023-02-21T13:22:37.413Z"
   },
   {
    "duration": 209,
    "start_time": "2023-02-21T13:28:09.013Z"
   },
   {
    "duration": 165,
    "start_time": "2023-02-21T13:32:12.333Z"
   },
   {
    "duration": 18,
    "start_time": "2023-02-21T13:32:26.014Z"
   },
   {
    "duration": 148,
    "start_time": "2023-02-21T13:34:33.853Z"
   },
   {
    "duration": 17,
    "start_time": "2023-02-21T13:34:35.852Z"
   },
   {
    "duration": 2767,
    "start_time": "2023-02-21T13:34:36.573Z"
   },
   {
    "duration": 788,
    "start_time": "2023-02-21T17:38:51.548Z"
   },
   {
    "duration": 17,
    "start_time": "2023-02-21T17:38:52.339Z"
   },
   {
    "duration": 2561,
    "start_time": "2023-02-21T17:39:46.590Z"
   },
   {
    "duration": 142,
    "start_time": "2023-02-21T17:40:44.163Z"
   },
   {
    "duration": 15,
    "start_time": "2023-02-21T17:41:23.006Z"
   },
   {
    "duration": 2178,
    "start_time": "2023-02-21T17:41:34.371Z"
   },
   {
    "duration": 132,
    "start_time": "2023-02-21T17:41:40.554Z"
   },
   {
    "duration": 17,
    "start_time": "2023-02-21T17:41:40.970Z"
   },
   {
    "duration": 2127,
    "start_time": "2023-02-21T17:41:44.554Z"
   },
   {
    "duration": 1994,
    "start_time": "2023-02-21T17:41:53.864Z"
   },
   {
    "duration": 128,
    "start_time": "2023-02-21T17:43:39.389Z"
   },
   {
    "duration": 14,
    "start_time": "2023-02-21T17:43:40.145Z"
   },
   {
    "duration": 6,
    "start_time": "2023-02-21T17:43:41.214Z"
   },
   {
    "duration": 2199,
    "start_time": "2023-02-21T17:43:43.410Z"
   },
   {
    "duration": 84,
    "start_time": "2023-02-21T17:49:05.493Z"
   },
   {
    "duration": 27,
    "start_time": "2023-02-21T17:49:12.987Z"
   },
   {
    "duration": 12,
    "start_time": "2023-02-21T20:42:24.428Z"
   },
   {
    "duration": 4,
    "start_time": "2023-02-21T20:52:22.781Z"
   },
   {
    "duration": 87,
    "start_time": "2023-02-21T21:04:19.739Z"
   },
   {
    "duration": 5,
    "start_time": "2023-02-21T21:06:59.961Z"
   },
   {
    "duration": 7,
    "start_time": "2023-02-21T21:07:08.256Z"
   },
   {
    "duration": 654,
    "start_time": "2023-02-26T13:50:02.582Z"
   },
   {
    "duration": 13,
    "start_time": "2023-02-26T13:50:04.086Z"
   },
   {
    "duration": 4,
    "start_time": "2023-02-26T13:50:04.796Z"
   },
   {
    "duration": 22,
    "start_time": "2023-02-26T13:50:05.436Z"
   },
   {
    "duration": 2238,
    "start_time": "2023-02-26T13:50:06.238Z"
   },
   {
    "duration": 8,
    "start_time": "2023-02-26T13:50:14.145Z"
   },
   {
    "duration": 4,
    "start_time": "2023-02-26T13:50:24.253Z"
   },
   {
    "duration": 132,
    "start_time": "2023-02-26T14:04:52.098Z"
   },
   {
    "duration": 17,
    "start_time": "2023-02-26T14:04:53.364Z"
   },
   {
    "duration": 4,
    "start_time": "2023-02-26T14:04:54.053Z"
   },
   {
    "duration": 23,
    "start_time": "2023-02-26T14:04:56.272Z"
   },
   {
    "duration": 1756,
    "start_time": "2023-02-26T14:04:56.684Z"
   },
   {
    "duration": 8,
    "start_time": "2023-02-26T14:05:41.950Z"
   },
   {
    "duration": 8,
    "start_time": "2023-02-26T14:17:06.889Z"
   },
   {
    "duration": 6,
    "start_time": "2023-02-26T14:18:56.525Z"
   },
   {
    "duration": 4,
    "start_time": "2023-02-26T14:20:09.779Z"
   },
   {
    "duration": 4,
    "start_time": "2023-02-26T14:20:12.003Z"
   },
   {
    "duration": 543,
    "start_time": "2023-03-01T07:37:40.586Z"
   },
   {
    "duration": 15,
    "start_time": "2023-03-01T07:37:41.437Z"
   },
   {
    "duration": 5,
    "start_time": "2023-03-01T07:37:41.974Z"
   },
   {
    "duration": 25,
    "start_time": "2023-03-01T07:37:43.027Z"
   },
   {
    "duration": 2534,
    "start_time": "2023-03-01T07:37:44.554Z"
   },
   {
    "duration": 11,
    "start_time": "2023-03-01T07:37:47.090Z"
   },
   {
    "duration": 6,
    "start_time": "2023-03-01T07:37:51.868Z"
   },
   {
    "duration": 4,
    "start_time": "2023-03-01T07:37:53.123Z"
   },
   {
    "duration": 129,
    "start_time": "2023-03-01T07:43:17.664Z"
   },
   {
    "duration": 15,
    "start_time": "2023-03-01T07:43:18.056Z"
   },
   {
    "duration": 4,
    "start_time": "2023-03-01T07:43:18.527Z"
   },
   {
    "duration": 26,
    "start_time": "2023-03-01T07:43:18.987Z"
   },
   {
    "duration": 2097,
    "start_time": "2023-03-01T07:43:19.504Z"
   },
   {
    "duration": 8,
    "start_time": "2023-03-01T07:43:21.603Z"
   },
   {
    "duration": 5,
    "start_time": "2023-03-01T07:43:23.062Z"
   },
   {
    "duration": 4,
    "start_time": "2023-03-01T07:43:24.653Z"
   },
   {
    "duration": 12,
    "start_time": "2023-03-01T07:43:25.277Z"
   },
   {
    "duration": 22,
    "start_time": "2023-03-01T07:47:40.738Z"
   },
   {
    "duration": 9,
    "start_time": "2023-03-01T07:47:51.261Z"
   },
   {
    "duration": 7,
    "start_time": "2023-03-01T07:51:29.124Z"
   },
   {
    "duration": 5,
    "start_time": "2023-03-01T07:52:04.875Z"
   },
   {
    "duration": 8,
    "start_time": "2023-03-01T07:52:11.588Z"
   },
   {
    "duration": 278,
    "start_time": "2023-03-01T08:06:00.323Z"
   },
   {
    "duration": 9,
    "start_time": "2023-03-01T08:06:08.273Z"
   },
   {
    "duration": 89,
    "start_time": "2023-03-01T08:07:01.133Z"
   },
   {
    "duration": 9,
    "start_time": "2023-03-01T08:07:10.499Z"
   },
   {
    "duration": 63,
    "start_time": "2023-03-01T08:07:11.927Z"
   },
   {
    "duration": 10,
    "start_time": "2023-03-01T08:07:13.504Z"
   },
   {
    "duration": 14,
    "start_time": "2023-03-01T08:11:50.148Z"
   },
   {
    "duration": 9,
    "start_time": "2023-03-01T08:11:50.683Z"
   },
   {
    "duration": 62,
    "start_time": "2023-03-01T08:11:55.498Z"
   },
   {
    "duration": 16,
    "start_time": "2023-03-01T08:11:56.533Z"
   },
   {
    "duration": 56,
    "start_time": "2023-03-01T08:15:51.875Z"
   },
   {
    "duration": 113,
    "start_time": "2023-03-01T08:17:36.602Z"
   },
   {
    "duration": 13,
    "start_time": "2023-03-01T08:29:02.169Z"
   },
   {
    "duration": 16,
    "start_time": "2023-03-01T08:29:02.733Z"
   },
   {
    "duration": 61,
    "start_time": "2023-03-01T08:29:04.633Z"
   },
   {
    "duration": 133,
    "start_time": "2023-03-01T08:30:27.387Z"
   },
   {
    "duration": 16,
    "start_time": "2023-03-01T08:30:27.699Z"
   },
   {
    "duration": 6,
    "start_time": "2023-03-01T08:30:27.992Z"
   },
   {
    "duration": 28,
    "start_time": "2023-03-01T08:30:28.254Z"
   },
   {
    "duration": 2105,
    "start_time": "2023-03-01T08:30:28.532Z"
   },
   {
    "duration": 9,
    "start_time": "2023-03-01T08:30:30.648Z"
   },
   {
    "duration": 6,
    "start_time": "2023-03-01T08:30:30.961Z"
   },
   {
    "duration": 4,
    "start_time": "2023-03-01T08:30:31.953Z"
   },
   {
    "duration": 8,
    "start_time": "2023-03-01T08:30:32.617Z"
   },
   {
    "duration": 15,
    "start_time": "2023-03-01T08:30:33.731Z"
   },
   {
    "duration": 23,
    "start_time": "2023-03-01T08:30:34.824Z"
   },
   {
    "duration": 8,
    "start_time": "2023-03-01T08:30:35.573Z"
   },
   {
    "duration": 31,
    "start_time": "2023-03-01T08:36:10.559Z"
   },
   {
    "duration": 21,
    "start_time": "2023-03-01T08:36:18.736Z"
   },
   {
    "duration": 8,
    "start_time": "2023-03-01T08:36:39.071Z"
   },
   {
    "duration": 29,
    "start_time": "2023-03-01T08:37:56.992Z"
   },
   {
    "duration": 9,
    "start_time": "2023-03-01T08:38:04.860Z"
   },
   {
    "duration": 25,
    "start_time": "2023-03-01T08:38:23.506Z"
   },
   {
    "duration": 499,
    "start_time": "2023-03-01T08:42:42.619Z"
   },
   {
    "duration": 4,
    "start_time": "2023-03-01T08:45:08.085Z"
   },
   {
    "duration": 8,
    "start_time": "2023-03-01T08:45:17.985Z"
   },
   {
    "duration": 963,
    "start_time": "2023-03-01T08:49:04.129Z"
   },
   {
    "duration": 1407,
    "start_time": "2023-03-01T08:49:26.385Z"
   },
   {
    "duration": 10,
    "start_time": "2023-03-01T08:49:37.969Z"
   },
   {
    "duration": 1511,
    "start_time": "2023-03-01T08:50:42.127Z"
   },
   {
    "duration": 20,
    "start_time": "2023-03-01T08:50:43.640Z"
   },
   {
    "duration": 138,
    "start_time": "2023-03-01T08:57:48.060Z"
   },
   {
    "duration": 15,
    "start_time": "2023-03-01T08:57:48.383Z"
   },
   {
    "duration": 4,
    "start_time": "2023-03-01T08:57:48.857Z"
   },
   {
    "duration": 31,
    "start_time": "2023-03-01T08:57:49.291Z"
   },
   {
    "duration": 2187,
    "start_time": "2023-03-01T08:57:49.799Z"
   },
   {
    "duration": 9,
    "start_time": "2023-03-01T08:57:51.989Z"
   },
   {
    "duration": 6,
    "start_time": "2023-03-01T08:57:57.403Z"
   },
   {
    "duration": 4,
    "start_time": "2023-03-01T08:57:58.315Z"
   },
   {
    "duration": 12,
    "start_time": "2023-03-01T08:57:59.154Z"
   },
   {
    "duration": 11,
    "start_time": "2023-03-01T08:58:00.156Z"
   },
   {
    "duration": 44,
    "start_time": "2023-03-01T08:58:01.504Z"
   },
   {
    "duration": 10,
    "start_time": "2023-03-01T08:58:03.361Z"
   },
   {
    "duration": 1560,
    "start_time": "2023-03-01T08:58:06.026Z"
   },
   {
    "duration": 13,
    "start_time": "2023-03-01T08:58:27.130Z"
   },
   {
    "duration": 9,
    "start_time": "2023-03-01T08:59:00.492Z"
   },
   {
    "duration": 42,
    "start_time": "2023-03-01T08:59:01.305Z"
   },
   {
    "duration": 9,
    "start_time": "2023-03-01T08:59:01.715Z"
   },
   {
    "duration": 1551,
    "start_time": "2023-03-01T08:59:03.066Z"
   },
   {
    "duration": 3,
    "start_time": "2023-03-01T08:59:50.392Z"
   },
   {
    "duration": 8,
    "start_time": "2023-03-01T08:59:51.205Z"
   },
   {
    "duration": 36,
    "start_time": "2023-03-01T08:59:51.706Z"
   },
   {
    "duration": 16,
    "start_time": "2023-03-01T08:59:51.935Z"
   },
   {
    "duration": 1500,
    "start_time": "2023-03-01T08:59:53.421Z"
   },
   {
    "duration": 143,
    "start_time": "2023-03-01T09:00:57.222Z"
   },
   {
    "duration": 14,
    "start_time": "2023-03-01T09:00:57.387Z"
   },
   {
    "duration": 4,
    "start_time": "2023-03-01T09:00:57.560Z"
   },
   {
    "duration": 26,
    "start_time": "2023-03-01T09:00:57.699Z"
   },
   {
    "duration": 2298,
    "start_time": "2023-03-01T09:00:57.891Z"
   },
   {
    "duration": 11,
    "start_time": "2023-03-01T09:01:00.191Z"
   },
   {
    "duration": 31,
    "start_time": "2023-03-01T09:01:00.204Z"
   },
   {
    "duration": 51,
    "start_time": "2023-03-01T09:01:00.242Z"
   },
   {
    "duration": 28,
    "start_time": "2023-03-01T09:01:00.295Z"
   },
   {
    "duration": 62,
    "start_time": "2023-03-01T09:01:00.325Z"
   },
   {
    "duration": 36,
    "start_time": "2023-03-01T09:01:00.528Z"
   },
   {
    "duration": 23,
    "start_time": "2023-03-01T09:01:01.232Z"
   },
   {
    "duration": 1484,
    "start_time": "2023-03-01T09:01:02.434Z"
   },
   {
    "duration": 8,
    "start_time": "2023-03-01T09:01:07.505Z"
   },
   {
    "duration": 11,
    "start_time": "2023-03-01T09:01:24.958Z"
   },
   {
    "duration": 9,
    "start_time": "2023-03-01T09:01:25.693Z"
   },
   {
    "duration": 32,
    "start_time": "2023-03-01T09:01:26.089Z"
   },
   {
    "duration": 9,
    "start_time": "2023-03-01T09:01:26.270Z"
   },
   {
    "duration": 1545,
    "start_time": "2023-03-01T09:01:27.061Z"
   },
   {
    "duration": 8,
    "start_time": "2023-03-01T09:02:43.796Z"
   },
   {
    "duration": 137,
    "start_time": "2023-03-01T09:02:52.639Z"
   },
   {
    "duration": 13,
    "start_time": "2023-03-01T09:02:52.813Z"
   },
   {
    "duration": 4,
    "start_time": "2023-03-01T09:02:52.995Z"
   },
   {
    "duration": 26,
    "start_time": "2023-03-01T09:02:53.172Z"
   },
   {
    "duration": 2162,
    "start_time": "2023-03-01T09:02:53.360Z"
   },
   {
    "duration": 14,
    "start_time": "2023-03-01T09:02:55.524Z"
   },
   {
    "duration": 5,
    "start_time": "2023-03-01T09:02:59.982Z"
   },
   {
    "duration": 4,
    "start_time": "2023-03-01T09:03:01.924Z"
   },
   {
    "duration": 9,
    "start_time": "2023-03-01T09:03:03.684Z"
   },
   {
    "duration": 8,
    "start_time": "2023-03-01T09:03:04.808Z"
   },
   {
    "duration": 20,
    "start_time": "2023-03-01T09:03:25.157Z"
   },
   {
    "duration": 30,
    "start_time": "2023-03-01T09:03:29.383Z"
   },
   {
    "duration": 8,
    "start_time": "2023-03-01T09:03:30.280Z"
   },
   {
    "duration": 1500,
    "start_time": "2023-03-01T09:03:35.483Z"
   },
   {
    "duration": 76,
    "start_time": "2023-03-01T09:04:34.380Z"
   },
   {
    "duration": 9,
    "start_time": "2023-03-01T09:04:36.376Z"
   },
   {
    "duration": 128,
    "start_time": "2023-03-01T09:04:47.096Z"
   },
   {
    "duration": 14,
    "start_time": "2023-03-01T09:04:47.275Z"
   },
   {
    "duration": 5,
    "start_time": "2023-03-01T09:04:47.459Z"
   },
   {
    "duration": 32,
    "start_time": "2023-03-01T09:04:47.639Z"
   },
   {
    "duration": 2364,
    "start_time": "2023-03-01T09:04:47.801Z"
   },
   {
    "duration": 10,
    "start_time": "2023-03-01T09:04:50.170Z"
   },
   {
    "duration": 21,
    "start_time": "2023-03-01T09:04:50.182Z"
   },
   {
    "duration": 11,
    "start_time": "2023-03-01T09:04:50.206Z"
   },
   {
    "duration": 19,
    "start_time": "2023-03-01T09:04:50.219Z"
   },
   {
    "duration": 24,
    "start_time": "2023-03-01T09:04:50.244Z"
   },
   {
    "duration": 10,
    "start_time": "2023-03-01T09:04:50.801Z"
   },
   {
    "duration": 32,
    "start_time": "2023-03-01T09:04:51.995Z"
   },
   {
    "duration": 9,
    "start_time": "2023-03-01T09:04:53.961Z"
   },
   {
    "duration": 60,
    "start_time": "2023-03-01T09:04:55.006Z"
   },
   {
    "duration": 14,
    "start_time": "2023-03-01T09:04:56.547Z"
   },
   {
    "duration": 1386,
    "start_time": "2023-03-01T09:05:35.303Z"
   },
   {
    "duration": 8,
    "start_time": "2023-03-01T09:05:36.691Z"
   },
   {
    "duration": 130,
    "start_time": "2023-03-01T09:05:42.372Z"
   },
   {
    "duration": 17,
    "start_time": "2023-03-01T09:05:42.555Z"
   },
   {
    "duration": 5,
    "start_time": "2023-03-01T09:05:42.727Z"
   },
   {
    "duration": 28,
    "start_time": "2023-03-01T09:05:43.089Z"
   },
   {
    "duration": 2130,
    "start_time": "2023-03-01T09:05:43.275Z"
   },
   {
    "duration": 10,
    "start_time": "2023-03-01T09:05:45.408Z"
   },
   {
    "duration": 23,
    "start_time": "2023-03-01T09:05:45.420Z"
   },
   {
    "duration": 18,
    "start_time": "2023-03-01T09:05:45.450Z"
   },
   {
    "duration": 9,
    "start_time": "2023-03-01T09:05:45.470Z"
   },
   {
    "duration": 14,
    "start_time": "2023-03-01T09:05:45.630Z"
   },
   {
    "duration": 9,
    "start_time": "2023-03-01T09:05:47.180Z"
   },
   {
    "duration": 33,
    "start_time": "2023-03-01T09:05:48.296Z"
   },
   {
    "duration": 9,
    "start_time": "2023-03-01T09:05:48.673Z"
   },
   {
    "duration": 1542,
    "start_time": "2023-03-01T09:05:49.960Z"
   },
   {
    "duration": 129,
    "start_time": "2023-03-01T09:06:38.569Z"
   },
   {
    "duration": 14,
    "start_time": "2023-03-01T09:06:38.772Z"
   },
   {
    "duration": 4,
    "start_time": "2023-03-01T09:06:38.990Z"
   },
   {
    "duration": 26,
    "start_time": "2023-03-01T09:06:39.177Z"
   },
   {
    "duration": 2293,
    "start_time": "2023-03-01T09:06:39.361Z"
   },
   {
    "duration": 9,
    "start_time": "2023-03-01T09:06:41.662Z"
   },
   {
    "duration": 8,
    "start_time": "2023-03-01T09:06:41.673Z"
   },
   {
    "duration": 8,
    "start_time": "2023-03-01T09:06:41.684Z"
   },
   {
    "duration": 9,
    "start_time": "2023-03-01T09:06:41.694Z"
   },
   {
    "duration": 11,
    "start_time": "2023-03-01T09:06:41.704Z"
   },
   {
    "duration": 9,
    "start_time": "2023-03-01T09:06:41.876Z"
   },
   {
    "duration": 35,
    "start_time": "2023-03-01T09:06:42.318Z"
   },
   {
    "duration": 20,
    "start_time": "2023-03-01T09:06:42.532Z"
   },
   {
    "duration": 5,
    "start_time": "2023-03-01T09:06:43.860Z"
   },
   {
    "duration": 10,
    "start_time": "2023-03-01T09:06:44.803Z"
   },
   {
    "duration": 120,
    "start_time": "2023-03-01T09:27:45.207Z"
   },
   {
    "duration": 16,
    "start_time": "2023-03-01T09:27:45.387Z"
   },
   {
    "duration": 4,
    "start_time": "2023-03-01T09:27:45.560Z"
   },
   {
    "duration": 28,
    "start_time": "2023-03-01T09:27:45.733Z"
   },
   {
    "duration": 1896,
    "start_time": "2023-03-01T09:27:45.897Z"
   },
   {
    "duration": 8,
    "start_time": "2023-03-01T09:27:47.795Z"
   },
   {
    "duration": 5,
    "start_time": "2023-03-01T09:27:47.805Z"
   },
   {
    "duration": 22,
    "start_time": "2023-03-01T09:27:47.812Z"
   },
   {
    "duration": 8,
    "start_time": "2023-03-01T09:27:47.836Z"
   },
   {
    "duration": 8,
    "start_time": "2023-03-01T09:27:47.928Z"
   },
   {
    "duration": 9,
    "start_time": "2023-03-01T09:27:49.922Z"
   },
   {
    "duration": 5,
    "start_time": "2023-03-01T09:27:50.899Z"
   },
   {
    "duration": 9,
    "start_time": "2023-03-01T09:27:52.708Z"
   },
   {
    "duration": 7,
    "start_time": "2023-03-01T09:28:46.759Z"
   },
   {
    "duration": 10,
    "start_time": "2023-03-01T09:28:59.888Z"
   },
   {
    "duration": 6,
    "start_time": "2023-03-01T09:31:10.017Z"
   },
   {
    "duration": 10,
    "start_time": "2023-03-01T09:31:10.628Z"
   },
   {
    "duration": 131,
    "start_time": "2023-03-01T09:31:15.891Z"
   },
   {
    "duration": 14,
    "start_time": "2023-03-01T09:31:16.055Z"
   },
   {
    "duration": 4,
    "start_time": "2023-03-01T09:31:16.215Z"
   },
   {
    "duration": 27,
    "start_time": "2023-03-01T09:31:16.395Z"
   },
   {
    "duration": 2232,
    "start_time": "2023-03-01T09:31:16.573Z"
   },
   {
    "duration": 10,
    "start_time": "2023-03-01T09:31:18.808Z"
   },
   {
    "duration": 7,
    "start_time": "2023-03-01T09:31:18.835Z"
   },
   {
    "duration": 20,
    "start_time": "2023-03-01T09:31:18.844Z"
   },
   {
    "duration": 16,
    "start_time": "2023-03-01T09:31:18.866Z"
   },
   {
    "duration": 12,
    "start_time": "2023-03-01T09:31:18.884Z"
   },
   {
    "duration": 9,
    "start_time": "2023-03-01T09:31:19.106Z"
   },
   {
    "duration": 5,
    "start_time": "2023-03-01T09:31:20.340Z"
   },
   {
    "duration": 9,
    "start_time": "2023-03-01T09:31:21.184Z"
   },
   {
    "duration": 5,
    "start_time": "2023-03-01T09:31:22.545Z"
   },
   {
    "duration": 9,
    "start_time": "2023-03-01T09:31:23.920Z"
   },
   {
    "duration": 5,
    "start_time": "2023-03-01T09:31:27.196Z"
   },
   {
    "duration": 10,
    "start_time": "2023-03-01T09:31:28.254Z"
   },
   {
    "duration": 6,
    "start_time": "2023-03-01T09:32:56.673Z"
   },
   {
    "duration": 9,
    "start_time": "2023-03-01T09:32:57.205Z"
   },
   {
    "duration": 6,
    "start_time": "2023-03-01T09:32:57.769Z"
   },
   {
    "duration": 10,
    "start_time": "2023-03-01T09:32:58.228Z"
   },
   {
    "duration": 5,
    "start_time": "2023-03-01T09:34:41.625Z"
   },
   {
    "duration": 9,
    "start_time": "2023-03-01T09:34:42.988Z"
   },
   {
    "duration": 6,
    "start_time": "2023-03-01T09:35:00.283Z"
   },
   {
    "duration": 6,
    "start_time": "2023-03-01T09:42:01.421Z"
   },
   {
    "duration": 7,
    "start_time": "2023-03-01T09:42:57.782Z"
   },
   {
    "duration": 9,
    "start_time": "2023-03-01T09:42:58.388Z"
   },
   {
    "duration": 37,
    "start_time": "2023-03-01T09:53:34.444Z"
   },
   {
    "duration": 6,
    "start_time": "2023-03-01T09:54:41.515Z"
   },
   {
    "duration": 36,
    "start_time": "2023-03-01T09:56:20.702Z"
   },
   {
    "duration": 14,
    "start_time": "2023-03-01T10:03:06.112Z"
   },
   {
    "duration": 121,
    "start_time": "2023-03-01T10:04:57.151Z"
   },
   {
    "duration": 15,
    "start_time": "2023-03-01T10:04:57.327Z"
   },
   {
    "duration": 4,
    "start_time": "2023-03-01T10:04:57.499Z"
   },
   {
    "duration": 25,
    "start_time": "2023-03-01T10:04:57.672Z"
   },
   {
    "duration": 1967,
    "start_time": "2023-03-01T10:04:57.847Z"
   },
   {
    "duration": 20,
    "start_time": "2023-03-01T10:04:59.816Z"
   },
   {
    "duration": 5,
    "start_time": "2023-03-01T10:04:59.838Z"
   },
   {
    "duration": 8,
    "start_time": "2023-03-01T10:04:59.845Z"
   },
   {
    "duration": 8,
    "start_time": "2023-03-01T10:04:59.881Z"
   },
   {
    "duration": 8,
    "start_time": "2023-03-01T10:05:00.099Z"
   },
   {
    "duration": 10,
    "start_time": "2023-03-01T10:05:00.507Z"
   },
   {
    "duration": 5,
    "start_time": "2023-03-01T10:05:00.891Z"
   },
   {
    "duration": 9,
    "start_time": "2023-03-01T10:05:01.069Z"
   },
   {
    "duration": 6,
    "start_time": "2023-03-01T10:05:01.420Z"
   },
   {
    "duration": 7,
    "start_time": "2023-03-01T10:05:01.793Z"
   },
   {
    "duration": 10,
    "start_time": "2023-03-01T10:05:01.987Z"
   },
   {
    "duration": 40,
    "start_time": "2023-03-01T10:05:02.170Z"
   },
   {
    "duration": 16,
    "start_time": "2023-03-01T10:05:03.970Z"
   },
   {
    "duration": 15,
    "start_time": "2023-03-01T10:16:42.430Z"
   },
   {
    "duration": 6,
    "start_time": "2023-03-01T10:32:19.432Z"
   },
   {
    "duration": 9,
    "start_time": "2023-03-01T10:32:20.712Z"
   },
   {
    "duration": 38,
    "start_time": "2023-03-01T10:32:24.684Z"
   },
   {
    "duration": 155,
    "start_time": "2023-03-01T10:35:54.074Z"
   },
   {
    "duration": 19,
    "start_time": "2023-03-01T10:35:54.252Z"
   },
   {
    "duration": 4,
    "start_time": "2023-03-01T10:35:54.441Z"
   },
   {
    "duration": 26,
    "start_time": "2023-03-01T10:35:54.645Z"
   },
   {
    "duration": 8,
    "start_time": "2023-03-01T10:35:55.700Z"
   },
   {
    "duration": 27,
    "start_time": "2023-03-01T10:35:56.922Z"
   },
   {
    "duration": 2224,
    "start_time": "2023-03-01T10:36:06.191Z"
   },
   {
    "duration": 17,
    "start_time": "2023-03-01T10:36:08.417Z"
   },
   {
    "duration": 14,
    "start_time": "2023-03-01T10:36:08.436Z"
   },
   {
    "duration": 18,
    "start_time": "2023-03-01T10:36:08.452Z"
   },
   {
    "duration": 18,
    "start_time": "2023-03-01T10:36:08.471Z"
   },
   {
    "duration": 9,
    "start_time": "2023-03-01T10:36:08.604Z"
   },
   {
    "duration": 5,
    "start_time": "2023-03-01T10:36:08.986Z"
   },
   {
    "duration": 6,
    "start_time": "2023-03-01T10:36:09.342Z"
   },
   {
    "duration": 6,
    "start_time": "2023-03-01T10:36:09.730Z"
   },
   {
    "duration": 7,
    "start_time": "2023-03-01T10:36:10.230Z"
   },
   {
    "duration": 8,
    "start_time": "2023-03-01T10:36:10.607Z"
   },
   {
    "duration": 42,
    "start_time": "2023-03-01T10:36:10.796Z"
   },
   {
    "duration": 13,
    "start_time": "2023-03-01T10:36:11.384Z"
   },
   {
    "duration": 4,
    "start_time": "2023-03-01T10:36:11.762Z"
   },
   {
    "duration": 4,
    "start_time": "2023-03-01T10:38:01.359Z"
   },
   {
    "duration": 16,
    "start_time": "2023-03-01T10:38:08.199Z"
   },
   {
    "duration": 8,
    "start_time": "2023-03-01T10:43:06.511Z"
   },
   {
    "duration": 6,
    "start_time": "2023-03-01T10:43:51.761Z"
   },
   {
    "duration": 6,
    "start_time": "2023-03-01T10:43:52.702Z"
   },
   {
    "duration": 6,
    "start_time": "2023-03-01T10:43:53.423Z"
   },
   {
    "duration": 6,
    "start_time": "2023-03-01T10:43:54.423Z"
   },
   {
    "duration": 10,
    "start_time": "2023-03-01T10:43:54.693Z"
   },
   {
    "duration": 38,
    "start_time": "2023-03-01T10:43:55.837Z"
   },
   {
    "duration": 148,
    "start_time": "2023-03-01T10:45:38.975Z"
   },
   {
    "duration": 13,
    "start_time": "2023-03-01T10:45:39.136Z"
   },
   {
    "duration": 4,
    "start_time": "2023-03-01T10:45:39.313Z"
   },
   {
    "duration": 28,
    "start_time": "2023-03-01T10:45:39.469Z"
   },
   {
    "duration": 8,
    "start_time": "2023-03-01T10:45:39.637Z"
   },
   {
    "duration": 26,
    "start_time": "2023-03-01T10:45:39.813Z"
   },
   {
    "duration": 2541,
    "start_time": "2023-03-01T10:45:39.984Z"
   },
   {
    "duration": 11,
    "start_time": "2023-03-01T10:45:42.534Z"
   },
   {
    "duration": 7,
    "start_time": "2023-03-01T10:45:42.547Z"
   },
   {
    "duration": 10,
    "start_time": "2023-03-01T10:45:42.556Z"
   },
   {
    "duration": 9,
    "start_time": "2023-03-01T10:45:42.567Z"
   },
   {
    "duration": 9,
    "start_time": "2023-03-01T10:45:42.925Z"
   },
   {
    "duration": 5,
    "start_time": "2023-03-01T10:45:43.347Z"
   },
   {
    "duration": 9,
    "start_time": "2023-03-01T10:45:44.661Z"
   },
   {
    "duration": 7,
    "start_time": "2023-03-01T10:45:46.074Z"
   },
   {
    "duration": 7,
    "start_time": "2023-03-01T10:45:46.880Z"
   },
   {
    "duration": 11,
    "start_time": "2023-03-01T10:45:47.691Z"
   },
   {
    "duration": 40,
    "start_time": "2023-03-01T10:46:23.638Z"
   },
   {
    "duration": 14,
    "start_time": "2023-03-01T10:46:26.956Z"
   },
   {
    "duration": 5,
    "start_time": "2023-03-01T10:46:28.935Z"
   },
   {
    "duration": 15,
    "start_time": "2023-03-01T10:46:30.347Z"
   },
   {
    "duration": 20,
    "start_time": "2023-03-01T10:56:40.229Z"
   },
   {
    "duration": 10,
    "start_time": "2023-03-01T11:00:38.536Z"
   },
   {
    "duration": 8,
    "start_time": "2023-03-01T11:00:47.803Z"
   },
   {
    "duration": 8,
    "start_time": "2023-03-01T11:01:02.936Z"
   },
   {
    "duration": 7,
    "start_time": "2023-03-01T11:05:17.708Z"
   },
   {
    "duration": 7,
    "start_time": "2023-03-01T12:02:14.672Z"
   },
   {
    "duration": 13,
    "start_time": "2023-03-01T12:02:15.747Z"
   },
   {
    "duration": 7,
    "start_time": "2023-03-01T12:02:16.456Z"
   },
   {
    "duration": 21,
    "start_time": "2023-03-01T12:03:21.381Z"
   },
   {
    "duration": 8,
    "start_time": "2023-03-01T12:03:28.868Z"
   },
   {
    "duration": 11,
    "start_time": "2023-03-01T12:19:19.958Z"
   },
   {
    "duration": 7,
    "start_time": "2023-03-01T12:19:21.055Z"
   },
   {
    "duration": 7,
    "start_time": "2023-03-01T12:19:23.874Z"
   },
   {
    "duration": 12,
    "start_time": "2023-03-01T12:19:29.907Z"
   },
   {
    "duration": 7,
    "start_time": "2023-03-01T12:19:30.347Z"
   },
   {
    "duration": 7,
    "start_time": "2023-03-01T12:19:30.970Z"
   },
   {
    "duration": 22,
    "start_time": "2023-03-01T12:20:24.155Z"
   },
   {
    "duration": 11,
    "start_time": "2023-03-01T12:20:30.628Z"
   },
   {
    "duration": 45,
    "start_time": "2023-03-01T12:21:08.243Z"
   },
   {
    "duration": 16,
    "start_time": "2023-03-01T12:21:08.647Z"
   },
   {
    "duration": 14,
    "start_time": "2023-03-01T12:21:13.707Z"
   },
   {
    "duration": 11,
    "start_time": "2023-03-01T12:21:14.297Z"
   },
   {
    "duration": 13,
    "start_time": "2023-03-01T15:16:40.269Z"
   },
   {
    "duration": 9,
    "start_time": "2023-03-01T15:17:27.566Z"
   },
   {
    "duration": 9,
    "start_time": "2023-03-01T15:21:20.307Z"
   },
   {
    "duration": 10,
    "start_time": "2023-03-01T15:33:06.870Z"
   },
   {
    "duration": 10,
    "start_time": "2023-03-01T15:33:09.649Z"
   },
   {
    "duration": 9,
    "start_time": "2023-03-01T15:33:38.758Z"
   },
   {
    "duration": 8,
    "start_time": "2023-03-01T15:33:41.435Z"
   },
   {
    "duration": 10,
    "start_time": "2023-03-01T15:33:42.653Z"
   },
   {
    "duration": 9,
    "start_time": "2023-03-01T15:33:54.587Z"
   },
   {
    "duration": 9,
    "start_time": "2023-03-01T15:39:06.458Z"
   },
   {
    "duration": 9,
    "start_time": "2023-03-01T15:39:19.491Z"
   },
   {
    "duration": 10,
    "start_time": "2023-03-01T15:44:25.370Z"
   },
   {
    "duration": 9,
    "start_time": "2023-03-01T15:49:59.546Z"
   },
   {
    "duration": 9,
    "start_time": "2023-03-01T15:50:01.772Z"
   },
   {
    "duration": 135,
    "start_time": "2023-03-01T15:50:05.513Z"
   },
   {
    "duration": 15,
    "start_time": "2023-03-01T15:50:05.674Z"
   },
   {
    "duration": 4,
    "start_time": "2023-03-01T15:50:05.850Z"
   },
   {
    "duration": 39,
    "start_time": "2023-03-01T15:50:06.007Z"
   },
   {
    "duration": 8,
    "start_time": "2023-03-01T15:50:06.181Z"
   },
   {
    "duration": 27,
    "start_time": "2023-03-01T15:50:06.353Z"
   },
   {
    "duration": 2215,
    "start_time": "2023-03-01T15:50:06.529Z"
   },
   {
    "duration": 8,
    "start_time": "2023-03-01T15:50:08.747Z"
   },
   {
    "duration": 6,
    "start_time": "2023-03-01T15:50:08.757Z"
   },
   {
    "duration": 6,
    "start_time": "2023-03-01T15:50:08.765Z"
   },
   {
    "duration": 9,
    "start_time": "2023-03-01T15:50:08.773Z"
   },
   {
    "duration": 10,
    "start_time": "2023-03-01T15:50:08.835Z"
   },
   {
    "duration": 5,
    "start_time": "2023-03-01T15:50:09.217Z"
   },
   {
    "duration": 7,
    "start_time": "2023-03-01T15:50:09.586Z"
   },
   {
    "duration": 6,
    "start_time": "2023-03-01T15:50:09.989Z"
   },
   {
    "duration": 6,
    "start_time": "2023-03-01T15:50:10.365Z"
   },
   {
    "duration": 9,
    "start_time": "2023-03-01T15:50:10.552Z"
   },
   {
    "duration": 40,
    "start_time": "2023-03-01T15:50:10.749Z"
   },
   {
    "duration": 14,
    "start_time": "2023-03-01T15:50:11.344Z"
   },
   {
    "duration": 5,
    "start_time": "2023-03-01T15:50:11.708Z"
   },
   {
    "duration": 14,
    "start_time": "2023-03-01T15:50:11.888Z"
   },
   {
    "duration": 19,
    "start_time": "2023-03-01T15:50:12.272Z"
   },
   {
    "duration": 7,
    "start_time": "2023-03-01T15:50:12.623Z"
   },
   {
    "duration": 8,
    "start_time": "2023-03-01T15:50:12.792Z"
   },
   {
    "duration": 12,
    "start_time": "2023-03-01T15:50:13.506Z"
   },
   {
    "duration": 7,
    "start_time": "2023-03-01T15:50:13.667Z"
   },
   {
    "duration": 7,
    "start_time": "2023-03-01T15:50:13.863Z"
   },
   {
    "duration": 18,
    "start_time": "2023-03-01T15:50:14.248Z"
   },
   {
    "duration": 13,
    "start_time": "2023-03-01T15:50:14.418Z"
   },
   {
    "duration": 13,
    "start_time": "2023-03-01T15:50:15.006Z"
   },
   {
    "duration": 9,
    "start_time": "2023-03-01T15:50:15.210Z"
   },
   {
    "duration": 9,
    "start_time": "2023-03-01T15:50:15.486Z"
   },
   {
    "duration": 10,
    "start_time": "2023-03-01T15:54:29.697Z"
   },
   {
    "duration": 1201,
    "start_time": "2023-03-02T16:22:06.797Z"
   },
   {
    "duration": 12,
    "start_time": "2023-03-02T16:22:08.000Z"
   },
   {
    "duration": 3,
    "start_time": "2023-03-02T16:22:08.013Z"
   },
   {
    "duration": 35,
    "start_time": "2023-03-02T16:22:08.018Z"
   },
   {
    "duration": 17,
    "start_time": "2023-03-02T16:22:08.057Z"
   },
   {
    "duration": 23,
    "start_time": "2023-03-02T16:22:08.076Z"
   },
   {
    "duration": 2527,
    "start_time": "2023-03-02T16:22:08.100Z"
   },
   {
    "duration": 7,
    "start_time": "2023-03-02T16:22:10.629Z"
   },
   {
    "duration": 6,
    "start_time": "2023-03-02T16:22:10.637Z"
   },
   {
    "duration": 38,
    "start_time": "2023-03-02T16:22:10.644Z"
   },
   {
    "duration": 13,
    "start_time": "2023-03-02T16:22:10.683Z"
   },
   {
    "duration": 7,
    "start_time": "2023-03-02T16:22:10.698Z"
   },
   {
    "duration": 5,
    "start_time": "2023-03-02T16:22:10.989Z"
   },
   {
    "duration": 10,
    "start_time": "2023-03-02T16:22:11.374Z"
   },
   {
    "duration": 13,
    "start_time": "2023-03-02T16:22:11.760Z"
   },
   {
    "duration": 5,
    "start_time": "2023-03-02T16:22:12.179Z"
   },
   {
    "duration": 8,
    "start_time": "2023-03-02T16:22:12.386Z"
   },
   {
    "duration": 36,
    "start_time": "2023-03-02T16:22:12.594Z"
   },
   {
    "duration": 13,
    "start_time": "2023-03-02T16:22:13.227Z"
   },
   {
    "duration": 4,
    "start_time": "2023-03-02T16:22:13.676Z"
   },
   {
    "duration": 16,
    "start_time": "2023-03-02T16:22:13.884Z"
   },
   {
    "duration": 23,
    "start_time": "2023-03-02T16:22:14.330Z"
   },
   {
    "duration": 6,
    "start_time": "2023-03-02T16:22:14.784Z"
   },
   {
    "duration": 7,
    "start_time": "2023-03-02T16:22:15.084Z"
   },
   {
    "duration": 12,
    "start_time": "2023-03-02T16:22:15.715Z"
   },
   {
    "duration": 8,
    "start_time": "2023-03-02T16:22:15.975Z"
   },
   {
    "duration": 8,
    "start_time": "2023-03-02T16:22:16.188Z"
   },
   {
    "duration": 12,
    "start_time": "2023-03-02T16:22:16.608Z"
   },
   {
    "duration": 10,
    "start_time": "2023-03-02T16:22:17.826Z"
   },
   {
    "duration": 12,
    "start_time": "2023-03-02T16:22:19.628Z"
   },
   {
    "duration": 10,
    "start_time": "2023-03-02T16:22:20.096Z"
   },
   {
    "duration": 10,
    "start_time": "2023-03-02T16:22:20.787Z"
   },
   {
    "duration": 9,
    "start_time": "2023-03-02T16:38:07.373Z"
   },
   {
    "duration": 233,
    "start_time": "2023-03-02T16:38:30.293Z"
   },
   {
    "duration": 8,
    "start_time": "2023-03-02T16:51:17.763Z"
   },
   {
    "duration": 7,
    "start_time": "2023-03-02T16:54:34.965Z"
   },
   {
    "duration": 9,
    "start_time": "2023-03-02T16:54:42.855Z"
   },
   {
    "duration": 75,
    "start_time": "2023-03-02T16:59:57.590Z"
   },
   {
    "duration": 8,
    "start_time": "2023-03-02T17:00:15.562Z"
   },
   {
    "duration": 9,
    "start_time": "2023-03-02T17:00:25.023Z"
   },
   {
    "duration": 8,
    "start_time": "2023-03-02T17:00:45.461Z"
   },
   {
    "duration": 9,
    "start_time": "2023-03-02T17:00:45.965Z"
   },
   {
    "duration": 11,
    "start_time": "2023-03-02T17:01:09.360Z"
   },
   {
    "duration": 9,
    "start_time": "2023-03-02T17:01:45.094Z"
   },
   {
    "duration": 232,
    "start_time": "2023-03-02T17:01:47.604Z"
   },
   {
    "duration": 9,
    "start_time": "2023-03-02T17:01:49.915Z"
   },
   {
    "duration": 8,
    "start_time": "2023-03-02T17:01:51.698Z"
   },
   {
    "duration": 9,
    "start_time": "2023-03-02T17:03:19.426Z"
   },
   {
    "duration": 88,
    "start_time": "2023-03-02T17:04:22.299Z"
   },
   {
    "duration": 25,
    "start_time": "2023-03-02T17:04:22.958Z"
   },
   {
    "duration": 2139,
    "start_time": "2023-03-02T17:04:23.168Z"
   },
   {
    "duration": 10,
    "start_time": "2023-03-02T17:04:25.309Z"
   },
   {
    "duration": 27,
    "start_time": "2023-03-02T17:04:25.322Z"
   },
   {
    "duration": 12,
    "start_time": "2023-03-02T17:04:25.354Z"
   },
   {
    "duration": 28,
    "start_time": "2023-03-02T17:04:25.368Z"
   },
   {
    "duration": 10,
    "start_time": "2023-03-02T17:04:25.432Z"
   },
   {
    "duration": 5,
    "start_time": "2023-03-02T17:04:25.800Z"
   },
   {
    "duration": 7,
    "start_time": "2023-03-02T17:04:26.149Z"
   },
   {
    "duration": 7,
    "start_time": "2023-03-02T17:04:26.498Z"
   },
   {
    "duration": 6,
    "start_time": "2023-03-02T17:04:27.011Z"
   },
   {
    "duration": 7,
    "start_time": "2023-03-02T17:04:27.188Z"
   },
   {
    "duration": 43,
    "start_time": "2023-03-02T17:04:27.377Z"
   },
   {
    "duration": 16,
    "start_time": "2023-03-02T17:04:27.927Z"
   },
   {
    "duration": 4,
    "start_time": "2023-03-02T17:04:28.281Z"
   },
   {
    "duration": 14,
    "start_time": "2023-03-02T17:04:28.470Z"
   },
   {
    "duration": 19,
    "start_time": "2023-03-02T17:04:28.812Z"
   },
   {
    "duration": 8,
    "start_time": "2023-03-02T17:04:29.166Z"
   },
   {
    "duration": 7,
    "start_time": "2023-03-02T17:04:29.370Z"
   },
   {
    "duration": 12,
    "start_time": "2023-03-02T17:04:29.715Z"
   },
   {
    "duration": 8,
    "start_time": "2023-03-02T17:04:29.908Z"
   },
   {
    "duration": 8,
    "start_time": "2023-03-02T17:04:30.094Z"
   },
   {
    "duration": 15,
    "start_time": "2023-03-02T17:04:30.467Z"
   },
   {
    "duration": 9,
    "start_time": "2023-03-02T17:04:30.669Z"
   },
   {
    "duration": 14,
    "start_time": "2023-03-02T17:04:32.091Z"
   },
   {
    "duration": 10,
    "start_time": "2023-03-02T17:04:32.267Z"
   },
   {
    "duration": 9,
    "start_time": "2023-03-02T17:04:32.475Z"
   },
   {
    "duration": 6,
    "start_time": "2023-03-02T17:04:32.648Z"
   },
   {
    "duration": 12,
    "start_time": "2023-03-02T17:04:32.826Z"
   },
   {
    "duration": 12,
    "start_time": "2023-03-02T17:04:33.208Z"
   },
   {
    "duration": 364,
    "start_time": "2023-03-02T17:04:33.400Z"
   },
   {
    "duration": 6,
    "start_time": "2023-03-02T17:04:33.766Z"
   },
   {
    "duration": 16,
    "start_time": "2023-03-02T17:04:33.774Z"
   },
   {
    "duration": 14,
    "start_time": "2023-03-02T17:04:34.807Z"
   },
   {
    "duration": 9,
    "start_time": "2023-03-02T17:06:42.795Z"
   },
   {
    "duration": 157,
    "start_time": "2023-03-02T17:09:52.389Z"
   },
   {
    "duration": 143,
    "start_time": "2023-03-02T17:13:05.373Z"
   },
   {
    "duration": 7,
    "start_time": "2023-03-02T17:13:54.518Z"
   },
   {
    "duration": 9,
    "start_time": "2023-03-02T17:14:03.025Z"
   },
   {
    "duration": 86,
    "start_time": "2023-03-02T17:14:30.514Z"
   },
   {
    "duration": 6,
    "start_time": "2023-03-02T17:14:34.713Z"
   },
   {
    "duration": 13,
    "start_time": "2023-03-02T17:14:35.319Z"
   },
   {
    "duration": 8,
    "start_time": "2023-03-02T17:15:40.357Z"
   },
   {
    "duration": 9,
    "start_time": "2023-03-02T17:15:40.804Z"
   },
   {
    "duration": 9,
    "start_time": "2023-03-02T17:16:15.478Z"
   },
   {
    "duration": 119,
    "start_time": "2023-03-02T17:16:33.510Z"
   },
   {
    "duration": 123,
    "start_time": "2023-03-02T17:16:44.864Z"
   },
   {
    "duration": 111,
    "start_time": "2023-03-02T17:16:48.732Z"
   },
   {
    "duration": 107,
    "start_time": "2023-03-02T17:16:54.106Z"
   },
   {
    "duration": 361,
    "start_time": "2023-03-02T17:17:01.316Z"
   },
   {
    "duration": 127,
    "start_time": "2023-03-02T17:17:07.261Z"
   },
   {
    "duration": 124,
    "start_time": "2023-03-02T17:17:14.114Z"
   },
   {
    "duration": 231,
    "start_time": "2023-03-02T17:17:17.723Z"
   },
   {
    "duration": 8,
    "start_time": "2023-03-02T17:18:06.423Z"
   },
   {
    "duration": 10,
    "start_time": "2023-03-02T17:18:11.061Z"
   },
   {
    "duration": 11,
    "start_time": "2023-03-02T17:19:11.748Z"
   },
   {
    "duration": 6,
    "start_time": "2023-03-02T17:21:58.514Z"
   },
   {
    "duration": 9,
    "start_time": "2023-03-02T17:23:09.739Z"
   },
   {
    "duration": 8,
    "start_time": "2023-03-02T17:25:03.418Z"
   },
   {
    "duration": 6,
    "start_time": "2023-03-02T17:27:31.714Z"
   },
   {
    "duration": 4,
    "start_time": "2023-03-02T17:28:06.921Z"
   },
   {
    "duration": 9,
    "start_time": "2023-03-02T17:29:03.989Z"
   },
   {
    "duration": 135,
    "start_time": "2023-03-02T17:29:40.544Z"
   },
   {
    "duration": 7,
    "start_time": "2023-03-02T17:30:24.390Z"
   },
   {
    "duration": 8,
    "start_time": "2023-03-02T17:33:36.518Z"
   },
   {
    "duration": 132,
    "start_time": "2023-03-02T17:34:02.882Z"
   },
   {
    "duration": 14,
    "start_time": "2023-03-02T17:40:45.013Z"
   },
   {
    "duration": 4,
    "start_time": "2023-03-02T17:43:03.876Z"
   },
   {
    "duration": 4,
    "start_time": "2023-03-02T17:43:13.975Z"
   },
   {
    "duration": 4,
    "start_time": "2023-03-02T17:43:40.372Z"
   },
   {
    "duration": 4,
    "start_time": "2023-03-02T17:43:58.809Z"
   },
   {
    "duration": 74,
    "start_time": "2023-03-02T17:44:22.274Z"
   },
   {
    "duration": 4,
    "start_time": "2023-03-02T17:44:40.167Z"
   },
   {
    "duration": 4,
    "start_time": "2023-03-02T17:44:49.352Z"
   },
   {
    "duration": 11,
    "start_time": "2023-03-02T17:55:59.169Z"
   },
   {
    "duration": 9,
    "start_time": "2023-03-02T17:56:19.319Z"
   },
   {
    "duration": 5,
    "start_time": "2023-03-02T17:56:21.299Z"
   },
   {
    "duration": 6,
    "start_time": "2023-03-02T18:05:29.329Z"
   },
   {
    "duration": 5,
    "start_time": "2023-03-02T18:05:44.981Z"
   },
   {
    "duration": 7,
    "start_time": "2023-03-02T18:05:57.304Z"
   },
   {
    "duration": 9,
    "start_time": "2023-03-02T18:06:07.594Z"
   },
   {
    "duration": 5,
    "start_time": "2023-03-02T18:06:12.528Z"
   },
   {
    "duration": 5,
    "start_time": "2023-03-02T18:06:18.078Z"
   },
   {
    "duration": 6,
    "start_time": "2023-03-02T18:07:22.469Z"
   },
   {
    "duration": 4,
    "start_time": "2023-03-02T18:07:31.519Z"
   },
   {
    "duration": 6,
    "start_time": "2023-03-02T18:09:15.095Z"
   },
   {
    "duration": 4,
    "start_time": "2023-03-02T18:09:15.311Z"
   },
   {
    "duration": 3,
    "start_time": "2023-03-02T18:14:39.784Z"
   },
   {
    "duration": 8,
    "start_time": "2023-03-02T18:16:04.506Z"
   },
   {
    "duration": 5,
    "start_time": "2023-03-02T18:16:23.819Z"
   },
   {
    "duration": 41,
    "start_time": "2023-03-02T18:16:27.387Z"
   },
   {
    "duration": 1160,
    "start_time": "2023-03-02T18:17:23.694Z"
   },
   {
    "duration": 1145,
    "start_time": "2023-03-02T18:17:35.167Z"
   },
   {
    "duration": 6,
    "start_time": "2023-03-02T18:17:58.147Z"
   },
   {
    "duration": 39,
    "start_time": "2023-03-02T18:18:01.398Z"
   },
   {
    "duration": 14,
    "start_time": "2023-03-02T18:19:12.363Z"
   },
   {
    "duration": 13,
    "start_time": "2023-03-02T18:19:24.763Z"
   },
   {
    "duration": 37,
    "start_time": "2023-03-02T18:19:39.325Z"
   },
   {
    "duration": 6,
    "start_time": "2023-03-02T18:20:02.610Z"
   },
   {
    "duration": 7,
    "start_time": "2023-03-02T18:20:16.886Z"
   },
   {
    "duration": 37,
    "start_time": "2023-03-02T18:20:50.108Z"
   },
   {
    "duration": 37,
    "start_time": "2023-03-02T18:22:23.622Z"
   },
   {
    "duration": 14,
    "start_time": "2023-03-02T18:24:49.294Z"
   },
   {
    "duration": 4,
    "start_time": "2023-03-02T18:25:09.602Z"
   },
   {
    "duration": 6,
    "start_time": "2023-03-02T18:25:27.613Z"
   },
   {
    "duration": 3,
    "start_time": "2023-03-02T18:26:12.928Z"
   },
   {
    "duration": 6,
    "start_time": "2023-03-02T18:26:15.070Z"
   },
   {
    "duration": 5,
    "start_time": "2023-03-02T18:26:39.728Z"
   },
   {
    "duration": 6,
    "start_time": "2023-03-02T18:26:40.262Z"
   },
   {
    "duration": 49,
    "start_time": "2023-03-03T09:21:10.988Z"
   },
   {
    "duration": 616,
    "start_time": "2023-03-03T09:21:16.960Z"
   },
   {
    "duration": 18,
    "start_time": "2023-03-03T09:21:17.578Z"
   },
   {
    "duration": 9,
    "start_time": "2023-03-03T09:21:17.599Z"
   },
   {
    "duration": 49,
    "start_time": "2023-03-03T09:21:17.610Z"
   },
   {
    "duration": 19,
    "start_time": "2023-03-03T09:21:17.661Z"
   },
   {
    "duration": 43,
    "start_time": "2023-03-03T09:21:17.793Z"
   },
   {
    "duration": 2852,
    "start_time": "2023-03-03T09:21:17.961Z"
   },
   {
    "duration": 8,
    "start_time": "2023-03-03T09:21:20.815Z"
   },
   {
    "duration": 10,
    "start_time": "2023-03-03T09:21:20.825Z"
   },
   {
    "duration": 21,
    "start_time": "2023-03-03T09:21:20.837Z"
   },
   {
    "duration": 13,
    "start_time": "2023-03-03T09:21:20.861Z"
   },
   {
    "duration": 10,
    "start_time": "2023-03-03T09:21:20.876Z"
   },
   {
    "duration": 5,
    "start_time": "2023-03-03T09:21:20.888Z"
   },
   {
    "duration": 7,
    "start_time": "2023-03-03T09:21:20.986Z"
   },
   {
    "duration": 6,
    "start_time": "2023-03-03T09:21:21.511Z"
   },
   {
    "duration": 7,
    "start_time": "2023-03-03T09:21:21.892Z"
   },
   {
    "duration": 8,
    "start_time": "2023-03-03T09:21:22.074Z"
   },
   {
    "duration": 41,
    "start_time": "2023-03-03T09:21:22.262Z"
   },
   {
    "duration": 17,
    "start_time": "2023-03-03T09:21:22.862Z"
   },
   {
    "duration": 4,
    "start_time": "2023-03-03T09:21:23.178Z"
   },
   {
    "duration": 14,
    "start_time": "2023-03-03T09:21:23.363Z"
   },
   {
    "duration": 29,
    "start_time": "2023-03-03T09:21:23.754Z"
   },
   {
    "duration": 7,
    "start_time": "2023-03-03T09:21:24.076Z"
   },
   {
    "duration": 7,
    "start_time": "2023-03-03T09:21:24.267Z"
   },
   {
    "duration": 11,
    "start_time": "2023-03-03T09:21:24.666Z"
   },
   {
    "duration": 7,
    "start_time": "2023-03-03T09:21:24.856Z"
   },
   {
    "duration": 7,
    "start_time": "2023-03-03T09:21:25.058Z"
   },
   {
    "duration": 14,
    "start_time": "2023-03-03T09:21:25.395Z"
   },
   {
    "duration": 10,
    "start_time": "2023-03-03T09:21:25.581Z"
   },
   {
    "duration": 14,
    "start_time": "2023-03-03T09:21:26.154Z"
   },
   {
    "duration": 10,
    "start_time": "2023-03-03T09:21:26.354Z"
   },
   {
    "duration": 8,
    "start_time": "2023-03-03T09:21:26.525Z"
   },
   {
    "duration": 7,
    "start_time": "2023-03-03T09:21:26.704Z"
   },
   {
    "duration": 9,
    "start_time": "2023-03-03T09:21:27.096Z"
   },
   {
    "duration": 247,
    "start_time": "2023-03-03T09:21:27.284Z"
   },
   {
    "duration": 7,
    "start_time": "2023-03-03T09:21:27.533Z"
   },
   {
    "duration": 13,
    "start_time": "2023-03-03T09:21:27.834Z"
   },
   {
    "duration": 10,
    "start_time": "2023-03-03T09:21:28.203Z"
   },
   {
    "duration": 135,
    "start_time": "2023-03-03T09:21:28.454Z"
   },
   {
    "duration": 7,
    "start_time": "2023-03-03T09:21:28.603Z"
   },
   {
    "duration": 10,
    "start_time": "2023-03-03T09:21:28.979Z"
   },
   {
    "duration": 7,
    "start_time": "2023-03-03T09:21:29.162Z"
   },
   {
    "duration": 9,
    "start_time": "2023-03-03T09:21:29.540Z"
   },
   {
    "duration": 6,
    "start_time": "2023-03-03T09:21:29.754Z"
   },
   {
    "duration": 11,
    "start_time": "2023-03-03T09:21:30.108Z"
   },
   {
    "duration": 11,
    "start_time": "2023-03-03T09:21:30.466Z"
   },
   {
    "duration": 10,
    "start_time": "2023-03-03T09:21:31.060Z"
   },
   {
    "duration": 144,
    "start_time": "2023-03-03T09:21:31.240Z"
   },
   {
    "duration": 7,
    "start_time": "2023-03-03T09:21:31.451Z"
   },
   {
    "duration": 10,
    "start_time": "2023-03-03T09:21:31.853Z"
   },
   {
    "duration": 212,
    "start_time": "2023-03-03T09:21:32.062Z"
   },
   {
    "duration": 14,
    "start_time": "2023-03-03T09:21:32.660Z"
   },
   {
    "duration": 4,
    "start_time": "2023-03-03T09:21:33.071Z"
   },
   {
    "duration": 5,
    "start_time": "2023-03-03T09:21:33.953Z"
   },
   {
    "duration": 9,
    "start_time": "2023-03-03T09:21:34.116Z"
   },
   {
    "duration": 6,
    "start_time": "2023-03-03T09:21:34.540Z"
   },
   {
    "duration": 5,
    "start_time": "2023-03-03T09:21:34.755Z"
   },
   {
    "duration": 7,
    "start_time": "2023-03-03T09:21:35.151Z"
   },
   {
    "duration": 5,
    "start_time": "2023-03-03T09:21:35.364Z"
   },
   {
    "duration": 6,
    "start_time": "2023-03-03T09:21:35.744Z"
   },
   {
    "duration": 5,
    "start_time": "2023-03-03T09:21:35.947Z"
   },
   {
    "duration": 3,
    "start_time": "2023-03-03T09:21:36.310Z"
   },
   {
    "duration": 5,
    "start_time": "2023-03-03T09:21:36.554Z"
   },
   {
    "duration": 5,
    "start_time": "2023-03-03T09:21:36.705Z"
   },
   {
    "duration": 17,
    "start_time": "2023-03-03T09:21:36.876Z"
   },
   {
    "duration": 5,
    "start_time": "2023-03-03T09:21:37.268Z"
   },
   {
    "duration": 6,
    "start_time": "2023-03-03T09:21:37.478Z"
   },
   {
    "duration": 20,
    "start_time": "2023-03-03T09:21:38.280Z"
   },
   {
    "duration": 155,
    "start_time": "2023-03-03T09:21:38.484Z"
   },
   {
    "duration": 124,
    "start_time": "2023-03-03T09:22:43.236Z"
   },
   {
    "duration": 162,
    "start_time": "2023-03-03T09:23:01.172Z"
   },
   {
    "duration": 249,
    "start_time": "2023-03-03T09:23:08.853Z"
   },
   {
    "duration": 237,
    "start_time": "2023-03-03T09:23:35.657Z"
   },
   {
    "duration": 258,
    "start_time": "2023-03-03T09:25:00.994Z"
   },
   {
    "duration": 197,
    "start_time": "2023-03-03T09:26:02.609Z"
   },
   {
    "duration": 262,
    "start_time": "2023-03-03T09:32:24.436Z"
   },
   {
    "duration": 199,
    "start_time": "2023-03-03T09:32:34.996Z"
   },
   {
    "duration": 227,
    "start_time": "2023-03-03T09:36:21.356Z"
   },
   {
    "duration": 134,
    "start_time": "2023-03-03T09:36:27.988Z"
   },
   {
    "duration": 146,
    "start_time": "2023-03-03T09:37:31.417Z"
   },
   {
    "duration": 156,
    "start_time": "2023-03-03T09:38:42.009Z"
   },
   {
    "duration": 139,
    "start_time": "2023-03-03T09:38:47.835Z"
   },
   {
    "duration": 149,
    "start_time": "2023-03-03T09:38:54.863Z"
   },
   {
    "duration": 140,
    "start_time": "2023-03-03T09:39:49.236Z"
   },
   {
    "duration": 259,
    "start_time": "2023-03-03T09:40:11.465Z"
   },
   {
    "duration": 158,
    "start_time": "2023-03-03T09:41:26.093Z"
   },
   {
    "duration": 246,
    "start_time": "2023-03-03T09:41:46.338Z"
   },
   {
    "duration": 9,
    "start_time": "2023-03-03T09:43:36.666Z"
   },
   {
    "duration": 157,
    "start_time": "2023-03-03T09:44:13.607Z"
   },
   {
    "duration": 9,
    "start_time": "2023-03-03T09:44:59.166Z"
   },
   {
    "duration": 143,
    "start_time": "2023-03-03T09:45:58.932Z"
   },
   {
    "duration": 230,
    "start_time": "2023-03-03T09:46:28.409Z"
   },
   {
    "duration": 476,
    "start_time": "2023-03-03T09:46:36.695Z"
   },
   {
    "duration": 743,
    "start_time": "2023-03-03T09:46:54.840Z"
   },
   {
    "duration": 248,
    "start_time": "2023-03-03T09:47:09.155Z"
   },
   {
    "duration": 146,
    "start_time": "2023-03-03T09:48:57.255Z"
   },
   {
    "duration": 159,
    "start_time": "2023-03-03T09:49:15.167Z"
   },
   {
    "duration": 142,
    "start_time": "2023-03-03T09:49:21.293Z"
   },
   {
    "duration": 118,
    "start_time": "2023-03-03T09:49:28.894Z"
   },
   {
    "duration": 148,
    "start_time": "2023-03-03T09:49:34.865Z"
   },
   {
    "duration": 155,
    "start_time": "2023-03-03T09:54:04.900Z"
   },
   {
    "duration": 164,
    "start_time": "2023-03-03T09:54:48.807Z"
   },
   {
    "duration": 153,
    "start_time": "2023-03-03T09:54:55.738Z"
   },
   {
    "duration": 136,
    "start_time": "2023-03-03T09:55:00.933Z"
   },
   {
    "duration": 175,
    "start_time": "2023-03-03T09:55:10.944Z"
   },
   {
    "duration": 137,
    "start_time": "2023-03-03T09:57:05.036Z"
   },
   {
    "duration": 138,
    "start_time": "2023-03-03T09:57:14.747Z"
   },
   {
    "duration": 9,
    "start_time": "2023-03-03T09:57:49.566Z"
   },
   {
    "duration": 930,
    "start_time": "2023-03-03T10:00:03.064Z"
   },
   {
    "duration": 804,
    "start_time": "2023-03-03T10:00:11.011Z"
   },
   {
    "duration": 160,
    "start_time": "2023-03-03T10:00:26.733Z"
   },
   {
    "duration": 151,
    "start_time": "2023-03-03T10:00:32.440Z"
   },
   {
    "duration": 167,
    "start_time": "2023-03-03T10:00:47.261Z"
   },
   {
    "duration": 27,
    "start_time": "2023-03-03T10:09:45.772Z"
   },
   {
    "duration": 166,
    "start_time": "2023-03-03T10:10:25.590Z"
   },
   {
    "duration": 179,
    "start_time": "2023-03-03T10:11:41.590Z"
   },
   {
    "duration": 164,
    "start_time": "2023-03-03T10:13:44.438Z"
   },
   {
    "duration": 303,
    "start_time": "2023-03-03T10:14:30.234Z"
   },
   {
    "duration": 1940,
    "start_time": "2023-03-03T10:19:56.872Z"
   },
   {
    "duration": 51,
    "start_time": "2023-03-03T10:20:47.411Z"
   },
   {
    "duration": 40,
    "start_time": "2023-03-03T10:21:18.974Z"
   },
   {
    "duration": 15,
    "start_time": "2023-03-03T10:21:34.138Z"
   },
   {
    "duration": 750,
    "start_time": "2023-03-03T10:35:23.193Z"
   },
   {
    "duration": 47,
    "start_time": "2023-03-03T10:35:36.768Z"
   },
   {
    "duration": 122,
    "start_time": "2023-03-03T10:36:00.834Z"
   },
   {
    "duration": 14,
    "start_time": "2023-03-03T10:36:01.008Z"
   },
   {
    "duration": 4,
    "start_time": "2023-03-03T10:36:01.169Z"
   },
   {
    "duration": 27,
    "start_time": "2023-03-03T10:36:01.353Z"
   },
   {
    "duration": 7,
    "start_time": "2023-03-03T10:36:01.507Z"
   },
   {
    "duration": 24,
    "start_time": "2023-03-03T10:36:01.682Z"
   },
   {
    "duration": 2004,
    "start_time": "2023-03-03T10:36:01.858Z"
   },
   {
    "duration": 9,
    "start_time": "2023-03-03T10:36:03.864Z"
   },
   {
    "duration": 5,
    "start_time": "2023-03-03T10:36:03.875Z"
   },
   {
    "duration": 6,
    "start_time": "2023-03-03T10:36:03.882Z"
   },
   {
    "duration": 34,
    "start_time": "2023-03-03T10:36:03.889Z"
   },
   {
    "duration": 9,
    "start_time": "2023-03-03T10:36:04.166Z"
   },
   {
    "duration": 4,
    "start_time": "2023-03-03T10:36:04.521Z"
   },
   {
    "duration": 6,
    "start_time": "2023-03-03T10:36:04.887Z"
   },
   {
    "duration": 6,
    "start_time": "2023-03-03T10:36:05.270Z"
   },
   {
    "duration": 7,
    "start_time": "2023-03-03T10:36:05.672Z"
   },
   {
    "duration": 8,
    "start_time": "2023-03-03T10:36:05.851Z"
   },
   {
    "duration": 36,
    "start_time": "2023-03-03T10:36:06.033Z"
   },
   {
    "duration": 12,
    "start_time": "2023-03-03T10:36:06.595Z"
   },
   {
    "duration": 4,
    "start_time": "2023-03-03T10:36:06.957Z"
   },
   {
    "duration": 13,
    "start_time": "2023-03-03T10:36:07.155Z"
   },
   {
    "duration": 19,
    "start_time": "2023-03-03T10:36:07.701Z"
   },
   {
    "duration": 7,
    "start_time": "2023-03-03T10:36:08.072Z"
   },
   {
    "duration": 9,
    "start_time": "2023-03-03T10:36:08.261Z"
   },
   {
    "duration": 10,
    "start_time": "2023-03-03T10:36:08.651Z"
   },
   {
    "duration": 7,
    "start_time": "2023-03-03T10:36:08.849Z"
   },
   {
    "duration": 6,
    "start_time": "2023-03-03T10:36:09.045Z"
   },
   {
    "duration": 14,
    "start_time": "2023-03-03T10:36:09.422Z"
   },
   {
    "duration": 11,
    "start_time": "2023-03-03T10:36:09.620Z"
   },
   {
    "duration": 14,
    "start_time": "2023-03-03T10:36:10.181Z"
   },
   {
    "duration": 12,
    "start_time": "2023-03-03T10:36:10.358Z"
   },
   {
    "duration": 9,
    "start_time": "2023-03-03T10:36:10.553Z"
   },
   {
    "duration": 8,
    "start_time": "2023-03-03T10:36:10.736Z"
   },
   {
    "duration": 9,
    "start_time": "2023-03-03T10:36:11.124Z"
   },
   {
    "duration": 250,
    "start_time": "2023-03-03T10:36:11.330Z"
   },
   {
    "duration": 6,
    "start_time": "2023-03-03T10:36:11.582Z"
   },
   {
    "duration": 9,
    "start_time": "2023-03-03T10:36:11.896Z"
   },
   {
    "duration": 9,
    "start_time": "2023-03-03T10:36:12.290Z"
   },
   {
    "duration": 144,
    "start_time": "2023-03-03T10:36:12.520Z"
   },
   {
    "duration": 7,
    "start_time": "2023-03-03T10:36:12.874Z"
   },
   {
    "duration": 10,
    "start_time": "2023-03-03T10:36:13.263Z"
   },
   {
    "duration": 7,
    "start_time": "2023-03-03T10:36:13.428Z"
   },
   {
    "duration": 11,
    "start_time": "2023-03-03T10:36:13.821Z"
   },
   {
    "duration": 9,
    "start_time": "2023-03-03T10:36:14.027Z"
   },
   {
    "duration": 10,
    "start_time": "2023-03-03T10:36:14.422Z"
   },
   {
    "duration": 9,
    "start_time": "2023-03-03T10:36:14.824Z"
   },
   {
    "duration": 9,
    "start_time": "2023-03-03T10:36:15.406Z"
   },
   {
    "duration": 124,
    "start_time": "2023-03-03T10:36:15.599Z"
   },
   {
    "duration": 6,
    "start_time": "2023-03-03T10:36:15.805Z"
   },
   {
    "duration": 9,
    "start_time": "2023-03-03T10:36:16.230Z"
   },
   {
    "duration": 137,
    "start_time": "2023-03-03T10:36:16.421Z"
   },
   {
    "duration": 14,
    "start_time": "2023-03-03T10:36:16.996Z"
   },
   {
    "duration": 4,
    "start_time": "2023-03-03T10:36:17.370Z"
   },
   {
    "duration": 4,
    "start_time": "2023-03-03T10:36:18.339Z"
   },
   {
    "duration": 8,
    "start_time": "2023-03-03T10:36:18.525Z"
   },
   {
    "duration": 6,
    "start_time": "2023-03-03T10:36:19.248Z"
   },
   {
    "duration": 5,
    "start_time": "2023-03-03T10:36:19.432Z"
   },
   {
    "duration": 6,
    "start_time": "2023-03-03T10:36:19.825Z"
   },
   {
    "duration": 6,
    "start_time": "2023-03-03T10:36:20.032Z"
   },
   {
    "duration": 7,
    "start_time": "2023-03-03T10:36:20.434Z"
   },
   {
    "duration": 4,
    "start_time": "2023-03-03T10:36:20.624Z"
   },
   {
    "duration": 4,
    "start_time": "2023-03-03T10:36:21.030Z"
   },
   {
    "duration": 5,
    "start_time": "2023-03-03T10:36:21.224Z"
   },
   {
    "duration": 5,
    "start_time": "2023-03-03T10:36:21.424Z"
   },
   {
    "duration": 15,
    "start_time": "2023-03-03T10:36:21.624Z"
   },
   {
    "duration": 5,
    "start_time": "2023-03-03T10:36:22.204Z"
   },
   {
    "duration": 5,
    "start_time": "2023-03-03T10:36:22.421Z"
   },
   {
    "duration": 15,
    "start_time": "2023-03-03T10:36:23.262Z"
   },
   {
    "duration": 214,
    "start_time": "2023-03-03T10:36:23.526Z"
   },
   {
    "duration": 218,
    "start_time": "2023-03-03T10:36:24.729Z"
   },
   {
    "duration": 166,
    "start_time": "2023-03-03T10:36:25.088Z"
   },
   {
    "duration": 140,
    "start_time": "2023-03-03T10:36:26.421Z"
   },
   {
    "duration": 227,
    "start_time": "2023-03-03T10:36:27.332Z"
   },
   {
    "duration": 8,
    "start_time": "2023-03-03T10:36:27.647Z"
   },
   {
    "duration": 139,
    "start_time": "2023-03-03T10:36:28.552Z"
   },
   {
    "duration": 152,
    "start_time": "2023-03-03T10:36:29.442Z"
   },
   {
    "duration": 201,
    "start_time": "2023-03-03T10:36:30.324Z"
   },
   {
    "duration": 119,
    "start_time": "2023-03-03T10:36:31.367Z"
   },
   {
    "duration": 152,
    "start_time": "2023-03-03T10:36:32.255Z"
   },
   {
    "duration": 250,
    "start_time": "2023-03-03T10:36:33.930Z"
   },
   {
    "duration": 40,
    "start_time": "2023-03-03T10:36:36.521Z"
   },
   {
    "duration": 15,
    "start_time": "2023-03-03T10:42:27.083Z"
   },
   {
    "duration": 224,
    "start_time": "2023-03-03T10:43:05.978Z"
   },
   {
    "duration": 187,
    "start_time": "2023-03-03T10:43:28.128Z"
   },
   {
    "duration": 124,
    "start_time": "2023-03-03T10:43:33.635Z"
   },
   {
    "duration": 113,
    "start_time": "2023-03-03T10:43:41.299Z"
   },
   {
    "duration": 14,
    "start_time": "2023-03-03T10:44:38.517Z"
   },
   {
    "duration": 134,
    "start_time": "2023-03-03T10:44:50.532Z"
   },
   {
    "duration": 228,
    "start_time": "2023-03-03T10:44:55.333Z"
   },
   {
    "duration": 148,
    "start_time": "2023-03-03T10:45:04.836Z"
   },
   {
    "duration": 147,
    "start_time": "2023-03-03T10:49:15.823Z"
   },
   {
    "duration": 125,
    "start_time": "2023-03-03T10:49:58.305Z"
   },
   {
    "duration": 156,
    "start_time": "2023-03-03T11:02:48.477Z"
   },
   {
    "duration": 15,
    "start_time": "2023-03-03T11:06:12.085Z"
   },
   {
    "duration": 14,
    "start_time": "2023-03-03T11:06:31.867Z"
   },
   {
    "duration": 15,
    "start_time": "2023-03-03T11:06:44.409Z"
   },
   {
    "duration": 181,
    "start_time": "2023-03-03T11:12:35.068Z"
   },
   {
    "duration": 142,
    "start_time": "2023-03-03T11:12:58.663Z"
   },
   {
    "duration": 149,
    "start_time": "2023-03-03T11:13:09.059Z"
   },
   {
    "duration": 8,
    "start_time": "2023-03-03T11:13:32.827Z"
   },
   {
    "duration": 160,
    "start_time": "2023-03-03T11:13:40.423Z"
   },
   {
    "duration": 244,
    "start_time": "2023-03-03T11:15:35.649Z"
   },
   {
    "duration": 211,
    "start_time": "2023-03-03T11:18:11.715Z"
   },
   {
    "duration": 6,
    "start_time": "2023-03-03T12:08:57.666Z"
   },
   {
    "duration": 11,
    "start_time": "2023-03-03T12:09:05.486Z"
   },
   {
    "duration": 6,
    "start_time": "2023-03-03T12:09:10.772Z"
   },
   {
    "duration": 138,
    "start_time": "2023-03-03T12:12:09.672Z"
   },
   {
    "duration": 237,
    "start_time": "2023-03-03T12:12:14.071Z"
   },
   {
    "duration": 159,
    "start_time": "2023-03-03T12:12:26.573Z"
   },
   {
    "duration": 211,
    "start_time": "2023-03-03T12:14:33.963Z"
   },
   {
    "duration": 4,
    "start_time": "2023-03-03T12:29:28.297Z"
   },
   {
    "duration": 6377,
    "start_time": "2023-03-03T12:29:33.574Z"
   },
   {
    "duration": 19,
    "start_time": "2023-03-03T12:31:11.293Z"
   },
   {
    "duration": 10,
    "start_time": "2023-03-03T12:38:46.232Z"
   },
   {
    "duration": 33,
    "start_time": "2023-03-03T12:41:48.336Z"
   },
   {
    "duration": 28,
    "start_time": "2023-03-03T12:42:17.051Z"
   },
   {
    "duration": 6,
    "start_time": "2023-03-03T12:42:19.356Z"
   },
   {
    "duration": 22,
    "start_time": "2023-03-03T12:42:19.954Z"
   },
   {
    "duration": 11,
    "start_time": "2023-03-03T12:42:41.724Z"
   },
   {
    "duration": 24,
    "start_time": "2023-03-03T12:42:43.556Z"
   },
   {
    "duration": 14,
    "start_time": "2023-03-03T12:43:05.477Z"
   },
   {
    "duration": 22,
    "start_time": "2023-03-03T12:43:24.499Z"
   },
   {
    "duration": 19,
    "start_time": "2023-03-03T12:44:12.999Z"
   },
   {
    "duration": 21,
    "start_time": "2023-03-03T12:44:28.392Z"
   },
   {
    "duration": 13,
    "start_time": "2023-03-03T12:47:07.704Z"
   },
   {
    "duration": 11,
    "start_time": "2023-03-03T12:47:18.939Z"
   },
   {
    "duration": 16,
    "start_time": "2023-03-03T12:47:22.898Z"
   },
   {
    "duration": 12,
    "start_time": "2023-03-03T12:48:33.191Z"
   },
   {
    "duration": 11,
    "start_time": "2023-03-03T12:49:02.599Z"
   },
   {
    "duration": 29,
    "start_time": "2023-03-03T12:49:37.754Z"
   },
   {
    "duration": 18,
    "start_time": "2023-03-03T12:49:46.654Z"
   },
   {
    "duration": 19,
    "start_time": "2023-03-03T12:49:47.484Z"
   },
   {
    "duration": 4,
    "start_time": "2023-03-03T12:51:24.566Z"
   },
   {
    "duration": 18,
    "start_time": "2023-03-03T12:53:32.237Z"
   },
   {
    "duration": 18,
    "start_time": "2023-03-03T12:53:33.343Z"
   },
   {
    "duration": 786,
    "start_time": "2023-03-03T15:43:41.002Z"
   },
   {
    "duration": 869,
    "start_time": "2023-03-03T15:43:59.979Z"
   },
   {
    "duration": 16,
    "start_time": "2023-03-03T15:44:11.825Z"
   },
   {
    "duration": 125,
    "start_time": "2023-03-03T15:44:32.129Z"
   },
   {
    "duration": 122,
    "start_time": "2023-03-03T15:44:46.792Z"
   },
   {
    "duration": 126,
    "start_time": "2023-03-03T15:44:49.276Z"
   },
   {
    "duration": 161,
    "start_time": "2023-03-03T15:45:25.672Z"
   },
   {
    "duration": 132,
    "start_time": "2023-03-03T15:47:18.959Z"
   },
   {
    "duration": 13,
    "start_time": "2023-03-03T15:47:19.122Z"
   },
   {
    "duration": 4,
    "start_time": "2023-03-03T15:47:19.288Z"
   },
   {
    "duration": 30,
    "start_time": "2023-03-03T15:47:19.484Z"
   },
   {
    "duration": 8,
    "start_time": "2023-03-03T15:47:19.667Z"
   },
   {
    "duration": 27,
    "start_time": "2023-03-03T15:47:19.867Z"
   },
   {
    "duration": 2314,
    "start_time": "2023-03-03T15:47:20.024Z"
   },
   {
    "duration": 7,
    "start_time": "2023-03-03T15:47:22.340Z"
   },
   {
    "duration": 6,
    "start_time": "2023-03-03T15:47:28.487Z"
   },
   {
    "duration": 5,
    "start_time": "2023-03-03T15:47:28.999Z"
   },
   {
    "duration": 10,
    "start_time": "2023-03-03T15:47:29.334Z"
   },
   {
    "duration": 10,
    "start_time": "2023-03-03T15:47:29.679Z"
   },
   {
    "duration": 5,
    "start_time": "2023-03-03T15:47:30.289Z"
   },
   {
    "duration": 7,
    "start_time": "2023-03-03T15:47:30.638Z"
   },
   {
    "duration": 6,
    "start_time": "2023-03-03T15:47:31.002Z"
   },
   {
    "duration": 6,
    "start_time": "2023-03-03T15:47:31.384Z"
   },
   {
    "duration": 8,
    "start_time": "2023-03-03T15:47:31.569Z"
   },
   {
    "duration": 38,
    "start_time": "2023-03-03T15:47:31.739Z"
   },
   {
    "duration": 13,
    "start_time": "2023-03-03T15:47:32.298Z"
   },
   {
    "duration": 4,
    "start_time": "2023-03-03T15:47:32.692Z"
   },
   {
    "duration": 12,
    "start_time": "2023-03-03T15:47:32.865Z"
   },
   {
    "duration": 19,
    "start_time": "2023-03-03T15:47:33.225Z"
   },
   {
    "duration": 7,
    "start_time": "2023-03-03T15:47:33.595Z"
   },
   {
    "duration": 9,
    "start_time": "2023-03-03T15:47:33.794Z"
   },
   {
    "duration": 11,
    "start_time": "2023-03-03T15:47:34.163Z"
   },
   {
    "duration": 7,
    "start_time": "2023-03-03T15:47:34.362Z"
   },
   {
    "duration": 7,
    "start_time": "2023-03-03T15:47:34.535Z"
   },
   {
    "duration": 13,
    "start_time": "2023-03-03T15:47:34.890Z"
   },
   {
    "duration": 10,
    "start_time": "2023-03-03T15:47:35.071Z"
   },
   {
    "duration": 16,
    "start_time": "2023-03-03T15:47:35.668Z"
   },
   {
    "duration": 9,
    "start_time": "2023-03-03T15:47:35.866Z"
   },
   {
    "duration": 8,
    "start_time": "2023-03-03T15:47:36.031Z"
   },
   {
    "duration": 8,
    "start_time": "2023-03-03T15:47:36.198Z"
   },
   {
    "duration": 9,
    "start_time": "2023-03-03T15:47:36.589Z"
   },
   {
    "duration": 242,
    "start_time": "2023-03-03T15:47:36.788Z"
   },
   {
    "duration": 6,
    "start_time": "2023-03-03T15:47:37.033Z"
   },
   {
    "duration": 10,
    "start_time": "2023-03-03T15:47:37.387Z"
   },
   {
    "duration": 9,
    "start_time": "2023-03-03T15:47:37.793Z"
   },
   {
    "duration": 136,
    "start_time": "2023-03-03T15:47:37.991Z"
   },
   {
    "duration": 6,
    "start_time": "2023-03-03T15:47:38.191Z"
   },
   {
    "duration": 9,
    "start_time": "2023-03-03T15:47:38.576Z"
   },
   {
    "duration": 7,
    "start_time": "2023-03-03T15:47:38.775Z"
   },
   {
    "duration": 9,
    "start_time": "2023-03-03T15:47:39.129Z"
   },
   {
    "duration": 6,
    "start_time": "2023-03-03T15:47:39.327Z"
   },
   {
    "duration": 9,
    "start_time": "2023-03-03T15:47:39.728Z"
   },
   {
    "duration": 9,
    "start_time": "2023-03-03T15:47:40.105Z"
   },
   {
    "duration": 10,
    "start_time": "2023-03-03T15:47:40.700Z"
   },
   {
    "duration": 123,
    "start_time": "2023-03-03T15:47:40.879Z"
   },
   {
    "duration": 7,
    "start_time": "2023-03-03T15:47:41.079Z"
   },
   {
    "duration": 10,
    "start_time": "2023-03-03T15:47:41.467Z"
   },
   {
    "duration": 121,
    "start_time": "2023-03-03T15:47:41.676Z"
   },
   {
    "duration": 13,
    "start_time": "2023-03-03T15:47:42.228Z"
   },
   {
    "duration": 4,
    "start_time": "2023-03-03T15:47:42.628Z"
   },
   {
    "duration": 5,
    "start_time": "2023-03-03T15:47:43.593Z"
   },
   {
    "duration": 9,
    "start_time": "2023-03-03T15:47:43.788Z"
   },
   {
    "duration": 5,
    "start_time": "2023-03-03T15:47:44.176Z"
   },
   {
    "duration": 5,
    "start_time": "2023-03-03T15:47:44.391Z"
   },
   {
    "duration": 5,
    "start_time": "2023-03-03T15:47:44.788Z"
   },
   {
    "duration": 4,
    "start_time": "2023-03-03T15:47:44.984Z"
   },
   {
    "duration": 6,
    "start_time": "2023-03-03T15:47:45.389Z"
   },
   {
    "duration": 5,
    "start_time": "2023-03-03T15:47:45.579Z"
   },
   {
    "duration": 3,
    "start_time": "2023-03-03T15:47:45.990Z"
   },
   {
    "duration": 5,
    "start_time": "2023-03-03T15:47:46.375Z"
   },
   {
    "duration": 5,
    "start_time": "2023-03-03T15:47:46.568Z"
   },
   {
    "duration": 16,
    "start_time": "2023-03-03T15:47:46.786Z"
   },
   {
    "duration": 5,
    "start_time": "2023-03-03T15:47:47.159Z"
   },
   {
    "duration": 5,
    "start_time": "2023-03-03T15:47:47.376Z"
   },
   {
    "duration": 16,
    "start_time": "2023-03-03T15:47:48.146Z"
   },
   {
    "duration": 218,
    "start_time": "2023-03-03T15:47:48.372Z"
   },
   {
    "duration": 218,
    "start_time": "2023-03-03T15:47:48.938Z"
   },
   {
    "duration": 176,
    "start_time": "2023-03-03T15:47:49.158Z"
   },
   {
    "duration": 142,
    "start_time": "2023-03-03T15:47:49.772Z"
   },
   {
    "duration": 244,
    "start_time": "2023-03-03T15:47:50.384Z"
   },
   {
    "duration": 8,
    "start_time": "2023-03-03T15:47:50.629Z"
   },
   {
    "duration": 136,
    "start_time": "2023-03-03T15:47:51.438Z"
   },
   {
    "duration": 134,
    "start_time": "2023-03-03T15:47:52.004Z"
   },
   {
    "duration": 147,
    "start_time": "2023-03-03T15:47:52.667Z"
   },
   {
    "duration": 130,
    "start_time": "2023-03-03T15:47:53.275Z"
   },
   {
    "duration": 155,
    "start_time": "2023-03-03T15:47:53.884Z"
   },
   {
    "duration": 221,
    "start_time": "2023-03-03T15:47:54.538Z"
   },
   {
    "duration": 113,
    "start_time": "2023-03-03T15:47:55.128Z"
   },
   {
    "duration": 165,
    "start_time": "2023-03-03T15:47:55.728Z"
   },
   {
    "duration": 133,
    "start_time": "2023-03-03T15:47:56.334Z"
   },
   {
    "duration": 119,
    "start_time": "2023-03-03T15:47:56.964Z"
   },
   {
    "duration": 13,
    "start_time": "2023-03-03T15:47:57.941Z"
   },
   {
    "duration": 202,
    "start_time": "2023-03-03T15:47:58.163Z"
   },
   {
    "duration": 9,
    "start_time": "2023-03-03T15:47:58.367Z"
   },
   {
    "duration": 5,
    "start_time": "2023-03-03T15:47:58.526Z"
   },
   {
    "duration": 5,
    "start_time": "2023-03-03T15:47:58.776Z"
   },
   {
    "duration": 3,
    "start_time": "2023-03-03T15:47:59.590Z"
   },
   {
    "duration": 7811,
    "start_time": "2023-03-03T15:47:59.784Z"
   },
   {
    "duration": 27,
    "start_time": "2023-03-03T15:48:07.597Z"
   },
   {
    "duration": 8,
    "start_time": "2023-03-03T15:48:07.626Z"
   },
   {
    "duration": 27,
    "start_time": "2023-03-03T15:48:07.637Z"
   },
   {
    "duration": 10,
    "start_time": "2023-03-03T15:48:07.666Z"
   },
   {
    "duration": 17,
    "start_time": "2023-03-03T15:48:07.677Z"
   },
   {
    "duration": 39,
    "start_time": "2023-03-03T15:48:07.696Z"
   },
   {
    "duration": 152,
    "start_time": "2023-03-03T15:48:07.737Z"
   },
   {
    "duration": 14,
    "start_time": "2023-03-03T15:48:07.891Z"
   },
   {
    "duration": 20,
    "start_time": "2023-03-03T15:48:49.383Z"
   },
   {
    "duration": 3,
    "start_time": "2023-03-03T15:48:52.194Z"
   },
   {
    "duration": 2,
    "start_time": "2023-03-03T15:49:06.334Z"
   },
   {
    "duration": 6277,
    "start_time": "2023-03-03T15:49:10.567Z"
   },
   {
    "duration": 21,
    "start_time": "2023-03-03T15:49:17.785Z"
   },
   {
    "duration": 9,
    "start_time": "2023-03-03T15:49:23.528Z"
   },
   {
    "duration": 22,
    "start_time": "2023-03-03T15:49:24.767Z"
   },
   {
    "duration": 10,
    "start_time": "2023-03-03T15:49:25.703Z"
   },
   {
    "duration": 19,
    "start_time": "2023-03-03T15:49:27.129Z"
   },
   {
    "duration": 18,
    "start_time": "2023-03-03T15:49:28.963Z"
   },
   {
    "duration": 140,
    "start_time": "2023-03-03T15:49:30.528Z"
   },
   {
    "duration": 14,
    "start_time": "2023-03-03T15:49:31.267Z"
   },
   {
    "duration": 14,
    "start_time": "2023-03-03T15:50:32.068Z"
   },
   {
    "duration": 715,
    "start_time": "2023-03-03T15:50:54.172Z"
   },
   {
    "duration": 780,
    "start_time": "2023-03-03T15:51:01.030Z"
   },
   {
    "duration": 13,
    "start_time": "2023-03-03T15:51:34.853Z"
   },
   {
    "duration": 701,
    "start_time": "2023-03-03T15:52:00.694Z"
   },
   {
    "duration": 126,
    "start_time": "2023-03-03T15:52:06.089Z"
   },
   {
    "duration": 744,
    "start_time": "2023-03-03T15:52:07.691Z"
   },
   {
    "duration": 141,
    "start_time": "2023-03-03T15:56:18.191Z"
   },
   {
    "duration": 725,
    "start_time": "2023-03-03T15:56:19.972Z"
   },
   {
    "duration": 131,
    "start_time": "2023-03-03T15:56:35.017Z"
   },
   {
    "duration": 165,
    "start_time": "2023-03-03T15:56:42.075Z"
   },
   {
    "duration": 2950,
    "start_time": "2023-03-03T15:56:51.025Z"
   },
   {
    "duration": 2974,
    "start_time": "2023-03-03T15:59:16.737Z"
   },
   {
    "duration": 635,
    "start_time": "2023-03-03T15:59:33.587Z"
   },
   {
    "duration": 4,
    "start_time": "2023-03-03T15:59:52.683Z"
   },
   {
    "duration": 5,
    "start_time": "2023-03-03T16:04:34.089Z"
   },
   {
    "duration": 128,
    "start_time": "2023-03-03T16:14:48.103Z"
   },
   {
    "duration": 14,
    "start_time": "2023-03-03T16:14:49.225Z"
   },
   {
    "duration": 4,
    "start_time": "2023-03-03T16:14:49.771Z"
   },
   {
    "duration": 26,
    "start_time": "2023-03-03T16:14:52.703Z"
   },
   {
    "duration": 8,
    "start_time": "2023-03-03T16:14:53.941Z"
   },
   {
    "duration": 25,
    "start_time": "2023-03-03T16:14:56.587Z"
   },
   {
    "duration": 2023,
    "start_time": "2023-03-03T16:14:57.803Z"
   },
   {
    "duration": 9,
    "start_time": "2023-03-03T16:15:08.975Z"
   },
   {
    "duration": 7,
    "start_time": "2023-03-03T16:15:12.883Z"
   },
   {
    "duration": 6,
    "start_time": "2023-03-03T16:15:13.431Z"
   },
   {
    "duration": 9,
    "start_time": "2023-03-03T16:15:13.879Z"
   },
   {
    "duration": 9,
    "start_time": "2023-03-03T16:15:14.300Z"
   },
   {
    "duration": 5,
    "start_time": "2023-03-03T16:15:14.808Z"
   },
   {
    "duration": 7,
    "start_time": "2023-03-03T16:15:15.238Z"
   },
   {
    "duration": 7,
    "start_time": "2023-03-03T16:15:15.627Z"
   },
   {
    "duration": 7,
    "start_time": "2023-03-03T16:15:16.032Z"
   },
   {
    "duration": 8,
    "start_time": "2023-03-03T16:15:16.263Z"
   },
   {
    "duration": 39,
    "start_time": "2023-03-03T16:15:32.175Z"
   },
   {
    "duration": 15,
    "start_time": "2023-03-03T16:15:33.819Z"
   },
   {
    "duration": 4,
    "start_time": "2023-03-03T16:15:34.983Z"
   },
   {
    "duration": 12,
    "start_time": "2023-03-03T16:15:42.780Z"
   },
   {
    "duration": 20,
    "start_time": "2023-03-03T16:15:47.532Z"
   },
   {
    "duration": 7,
    "start_time": "2023-03-03T16:15:49.181Z"
   },
   {
    "duration": 7,
    "start_time": "2023-03-03T16:15:49.736Z"
   },
   {
    "duration": 10,
    "start_time": "2023-03-03T16:15:50.637Z"
   },
   {
    "duration": 8,
    "start_time": "2023-03-03T16:15:51.237Z"
   },
   {
    "duration": 8,
    "start_time": "2023-03-03T16:15:51.683Z"
   },
   {
    "duration": 16,
    "start_time": "2023-03-03T16:15:53.335Z"
   },
   {
    "duration": 11,
    "start_time": "2023-03-03T16:15:55.425Z"
   },
   {
    "duration": 14,
    "start_time": "2023-03-03T16:15:57.478Z"
   },
   {
    "duration": 9,
    "start_time": "2023-03-03T16:15:58.272Z"
   },
   {
    "duration": 9,
    "start_time": "2023-03-03T16:16:00.504Z"
   },
   {
    "duration": 8,
    "start_time": "2023-03-03T16:16:01.010Z"
   },
   {
    "duration": 9,
    "start_time": "2023-03-03T16:16:02.238Z"
   },
   {
    "duration": 248,
    "start_time": "2023-03-03T16:16:03.009Z"
   },
   {
    "duration": 6,
    "start_time": "2023-03-03T16:16:03.528Z"
   },
   {
    "duration": 12,
    "start_time": "2023-03-03T16:16:04.881Z"
   },
   {
    "duration": 9,
    "start_time": "2023-03-03T16:16:05.987Z"
   },
   {
    "duration": 136,
    "start_time": "2023-03-03T16:16:06.471Z"
   },
   {
    "duration": 7,
    "start_time": "2023-03-03T16:16:06.987Z"
   },
   {
    "duration": 10,
    "start_time": "2023-03-03T16:16:08.196Z"
   },
   {
    "duration": 6,
    "start_time": "2023-03-03T16:16:08.783Z"
   },
   {
    "duration": 9,
    "start_time": "2023-03-03T16:16:09.837Z"
   },
   {
    "duration": 9,
    "start_time": "2023-03-03T16:16:12.276Z"
   },
   {
    "duration": 12,
    "start_time": "2023-03-03T16:16:13.238Z"
   },
   {
    "duration": 10,
    "start_time": "2023-03-03T16:16:13.837Z"
   },
   {
    "duration": 9,
    "start_time": "2023-03-03T16:16:14.699Z"
   },
   {
    "duration": 131,
    "start_time": "2023-03-03T16:16:14.927Z"
   },
   {
    "duration": 6,
    "start_time": "2023-03-03T16:16:15.187Z"
   },
   {
    "duration": 8,
    "start_time": "2023-03-03T16:16:15.621Z"
   },
   {
    "duration": 124,
    "start_time": "2023-03-03T16:16:15.893Z"
   },
   {
    "duration": 14,
    "start_time": "2023-03-03T16:16:16.687Z"
   },
   {
    "duration": 3,
    "start_time": "2023-03-03T16:16:17.383Z"
   },
   {
    "duration": 5,
    "start_time": "2023-03-03T16:16:18.483Z"
   },
   {
    "duration": 9,
    "start_time": "2023-03-03T16:16:18.875Z"
   },
   {
    "duration": 6,
    "start_time": "2023-03-03T16:16:19.871Z"
   },
   {
    "duration": 5,
    "start_time": "2023-03-03T16:16:20.276Z"
   },
   {
    "duration": 7,
    "start_time": "2023-03-03T16:16:21.290Z"
   },
   {
    "duration": 5,
    "start_time": "2023-03-03T16:16:21.724Z"
   },
   {
    "duration": 6,
    "start_time": "2023-03-03T16:16:22.489Z"
   },
   {
    "duration": 5,
    "start_time": "2023-03-03T16:16:22.844Z"
   },
   {
    "duration": 4,
    "start_time": "2023-03-03T16:16:23.505Z"
   },
   {
    "duration": 5,
    "start_time": "2023-03-03T16:16:23.843Z"
   },
   {
    "duration": 5,
    "start_time": "2023-03-03T16:16:24.187Z"
   },
   {
    "duration": 18,
    "start_time": "2023-03-03T16:16:25.016Z"
   },
   {
    "duration": 5,
    "start_time": "2023-03-03T16:16:26.775Z"
   },
   {
    "duration": 7,
    "start_time": "2023-03-03T16:16:27.281Z"
   },
   {
    "duration": 14,
    "start_time": "2023-03-03T16:16:39.723Z"
   },
   {
    "duration": 219,
    "start_time": "2023-03-03T16:16:39.945Z"
   },
   {
    "duration": 212,
    "start_time": "2023-03-03T16:16:40.589Z"
   },
   {
    "duration": 168,
    "start_time": "2023-03-03T16:16:40.839Z"
   },
   {
    "duration": 137,
    "start_time": "2023-03-03T16:16:41.543Z"
   },
   {
    "duration": 227,
    "start_time": "2023-03-03T16:16:42.109Z"
   },
   {
    "duration": 8,
    "start_time": "2023-03-03T16:16:42.338Z"
   },
   {
    "duration": 139,
    "start_time": "2023-03-03T16:16:42.875Z"
   },
   {
    "duration": 132,
    "start_time": "2023-03-03T16:16:43.406Z"
   },
   {
    "duration": 160,
    "start_time": "2023-03-03T16:16:43.981Z"
   },
   {
    "duration": 124,
    "start_time": "2023-03-03T16:16:44.708Z"
   },
   {
    "duration": 156,
    "start_time": "2023-03-03T16:16:45.275Z"
   },
   {
    "duration": 231,
    "start_time": "2023-03-03T16:16:45.840Z"
   },
   {
    "duration": 134,
    "start_time": "2023-03-03T16:16:46.421Z"
   },
   {
    "duration": 180,
    "start_time": "2023-03-03T16:16:46.980Z"
   },
   {
    "duration": 148,
    "start_time": "2023-03-03T16:16:47.579Z"
   },
   {
    "duration": 138,
    "start_time": "2023-03-03T16:16:48.137Z"
   },
   {
    "duration": 13,
    "start_time": "2023-03-03T16:16:49.224Z"
   },
   {
    "duration": 213,
    "start_time": "2023-03-03T16:16:49.757Z"
   },
   {
    "duration": 9,
    "start_time": "2023-03-03T16:16:50.201Z"
   },
   {
    "duration": 6,
    "start_time": "2023-03-03T16:16:50.433Z"
   },
   {
    "duration": 5,
    "start_time": "2023-03-03T16:16:50.729Z"
   },
   {
    "duration": 3,
    "start_time": "2023-03-03T16:16:51.892Z"
   },
   {
    "duration": 6345,
    "start_time": "2023-03-03T16:16:52.127Z"
   },
   {
    "duration": 25,
    "start_time": "2023-03-03T16:16:58.475Z"
   },
   {
    "duration": 25,
    "start_time": "2023-03-03T16:16:58.502Z"
   },
   {
    "duration": 25,
    "start_time": "2023-03-03T16:16:58.529Z"
   },
   {
    "duration": 11,
    "start_time": "2023-03-03T16:16:58.556Z"
   },
   {
    "duration": 8,
    "start_time": "2023-03-03T16:17:10.575Z"
   },
   {
    "duration": 21,
    "start_time": "2023-03-03T16:17:13.471Z"
   },
   {
    "duration": 14,
    "start_time": "2023-03-03T16:17:25.682Z"
   },
   {
    "duration": 26,
    "start_time": "2023-03-03T16:17:28.372Z"
   },
   {
    "duration": 19,
    "start_time": "2023-03-03T16:17:29.771Z"
   },
   {
    "duration": 186,
    "start_time": "2023-03-03T16:17:34.522Z"
   },
   {
    "duration": 3600,
    "start_time": "2023-03-03T16:17:36.289Z"
   },
   {
    "duration": 6,
    "start_time": "2023-03-03T16:17:39.892Z"
   },
   {
    "duration": 2415,
    "start_time": "2023-03-04T06:26:46.900Z"
   },
   {
    "duration": 26,
    "start_time": "2023-03-04T06:26:49.318Z"
   },
   {
    "duration": 14,
    "start_time": "2023-03-04T06:26:49.354Z"
   },
   {
    "duration": 82,
    "start_time": "2023-03-04T06:26:49.374Z"
   },
   {
    "duration": 21,
    "start_time": "2023-03-04T06:26:49.464Z"
   },
   {
    "duration": 65,
    "start_time": "2023-03-04T06:26:49.492Z"
   },
   {
    "duration": 3507,
    "start_time": "2023-03-04T06:26:49.568Z"
   },
   {
    "duration": 11,
    "start_time": "2023-03-04T06:26:53.078Z"
   },
   {
    "duration": 8,
    "start_time": "2023-03-04T06:26:53.093Z"
   },
   {
    "duration": 13,
    "start_time": "2023-03-04T06:26:53.103Z"
   },
   {
    "duration": 33,
    "start_time": "2023-03-04T06:26:53.119Z"
   },
   {
    "duration": 21,
    "start_time": "2023-03-04T06:26:53.156Z"
   },
   {
    "duration": 20,
    "start_time": "2023-03-04T06:26:53.180Z"
   },
   {
    "duration": 14,
    "start_time": "2023-03-04T06:26:53.206Z"
   },
   {
    "duration": 18,
    "start_time": "2023-03-04T06:26:53.223Z"
   },
   {
    "duration": 20,
    "start_time": "2023-03-04T06:26:53.243Z"
   },
   {
    "duration": 48,
    "start_time": "2023-03-04T06:26:53.265Z"
   },
   {
    "duration": 93,
    "start_time": "2023-03-04T06:26:53.315Z"
   },
   {
    "duration": 19,
    "start_time": "2023-03-04T06:26:53.412Z"
   },
   {
    "duration": 5,
    "start_time": "2023-03-04T06:26:53.433Z"
   },
   {
    "duration": 66,
    "start_time": "2023-03-04T06:26:53.440Z"
   },
   {
    "duration": 30,
    "start_time": "2023-03-04T06:26:53.508Z"
   },
   {
    "duration": 13,
    "start_time": "2023-03-04T06:26:53.540Z"
   },
   {
    "duration": 37,
    "start_time": "2023-03-04T06:26:53.566Z"
   },
   {
    "duration": 12,
    "start_time": "2023-03-04T06:26:53.605Z"
   },
   {
    "duration": 13,
    "start_time": "2023-03-04T06:26:53.619Z"
   },
   {
    "duration": 10,
    "start_time": "2023-03-04T06:26:53.635Z"
   },
   {
    "duration": 31,
    "start_time": "2023-03-04T06:26:53.648Z"
   },
   {
    "duration": 26,
    "start_time": "2023-03-04T06:26:53.686Z"
   },
   {
    "duration": 14,
    "start_time": "2023-03-04T06:26:53.714Z"
   },
   {
    "duration": 13,
    "start_time": "2023-03-04T06:26:53.730Z"
   },
   {
    "duration": 29,
    "start_time": "2023-03-04T06:26:53.744Z"
   },
   {
    "duration": 125,
    "start_time": "2023-03-04T06:26:53.775Z"
   },
   {
    "duration": 18,
    "start_time": "2023-03-04T06:26:53.903Z"
   },
   {
    "duration": 364,
    "start_time": "2023-03-04T06:26:53.923Z"
   },
   {
    "duration": 9,
    "start_time": "2023-03-04T06:26:54.290Z"
   },
   {
    "duration": 17,
    "start_time": "2023-03-04T06:26:54.300Z"
   },
   {
    "duration": 27,
    "start_time": "2023-03-04T06:26:54.320Z"
   },
   {
    "duration": 195,
    "start_time": "2023-03-04T06:26:54.353Z"
   },
   {
    "duration": 8,
    "start_time": "2023-03-04T06:26:54.549Z"
   },
   {
    "duration": 31,
    "start_time": "2023-03-04T06:26:54.570Z"
   },
   {
    "duration": 7,
    "start_time": "2023-03-04T06:26:54.602Z"
   },
   {
    "duration": 10,
    "start_time": "2023-03-04T06:26:54.611Z"
   },
   {
    "duration": 6,
    "start_time": "2023-03-04T06:26:54.622Z"
   },
   {
    "duration": 22,
    "start_time": "2023-03-04T06:26:54.633Z"
   },
   {
    "duration": 50,
    "start_time": "2023-03-04T06:26:54.662Z"
   },
   {
    "duration": 14,
    "start_time": "2023-03-04T06:26:54.715Z"
   },
   {
    "duration": 194,
    "start_time": "2023-03-04T06:26:54.732Z"
   },
   {
    "duration": 6,
    "start_time": "2023-03-04T06:26:54.928Z"
   },
   {
    "duration": 21,
    "start_time": "2023-03-04T06:26:54.936Z"
   },
   {
    "duration": 194,
    "start_time": "2023-03-04T06:26:54.958Z"
   },
   {
    "duration": 18,
    "start_time": "2023-03-04T06:26:55.154Z"
   },
   {
    "duration": 48,
    "start_time": "2023-03-04T06:26:55.173Z"
   },
   {
    "duration": 80,
    "start_time": "2023-03-04T06:26:55.226Z"
   },
   {
    "duration": 29,
    "start_time": "2023-03-04T06:26:55.308Z"
   },
   {
    "duration": 48,
    "start_time": "2023-03-04T06:26:55.339Z"
   },
   {
    "duration": 46,
    "start_time": "2023-03-04T06:26:55.389Z"
   },
   {
    "duration": 62,
    "start_time": "2023-03-04T06:26:55.438Z"
   },
   {
    "duration": 16,
    "start_time": "2023-03-04T06:26:55.502Z"
   },
   {
    "duration": 12,
    "start_time": "2023-03-04T06:26:55.520Z"
   },
   {
    "duration": 27,
    "start_time": "2023-03-04T06:26:55.535Z"
   },
   {
    "duration": 55,
    "start_time": "2023-03-04T06:26:55.564Z"
   },
   {
    "duration": 23,
    "start_time": "2023-03-04T06:26:55.621Z"
   },
   {
    "duration": 62,
    "start_time": "2023-03-04T06:26:55.646Z"
   },
   {
    "duration": 117,
    "start_time": "2023-03-04T06:26:55.710Z"
   },
   {
    "duration": 5,
    "start_time": "2023-03-04T06:26:55.829Z"
   },
   {
    "duration": 10,
    "start_time": "2023-03-04T06:26:55.836Z"
   },
   {
    "duration": 64,
    "start_time": "2023-03-04T06:26:55.850Z"
   },
   {
    "duration": 309,
    "start_time": "2023-03-04T06:26:55.916Z"
   },
   {
    "duration": 284,
    "start_time": "2023-03-04T06:26:56.227Z"
   },
   {
    "duration": 252,
    "start_time": "2023-03-04T06:26:56.513Z"
   },
   {
    "duration": 353,
    "start_time": "2023-03-04T06:26:56.770Z"
   },
   {
    "duration": 341,
    "start_time": "2023-03-04T06:26:57.125Z"
   },
   {
    "duration": 25,
    "start_time": "2023-03-04T06:26:57.468Z"
   },
   {
    "duration": 162,
    "start_time": "2023-03-04T06:26:57.496Z"
   },
   {
    "duration": 161,
    "start_time": "2023-03-04T06:26:57.659Z"
   },
   {
    "duration": 214,
    "start_time": "2023-03-04T06:26:57.822Z"
   },
   {
    "duration": 187,
    "start_time": "2023-03-04T06:26:58.038Z"
   },
   {
    "duration": 201,
    "start_time": "2023-03-04T06:26:58.228Z"
   },
   {
    "duration": 308,
    "start_time": "2023-03-04T06:26:58.432Z"
   },
   {
    "duration": 176,
    "start_time": "2023-03-04T06:26:58.742Z"
   },
   {
    "duration": 209,
    "start_time": "2023-03-04T06:26:58.920Z"
   },
   {
    "duration": 183,
    "start_time": "2023-03-04T06:26:59.131Z"
   },
   {
    "duration": 162,
    "start_time": "2023-03-04T06:26:59.315Z"
   },
   {
    "duration": 17,
    "start_time": "2023-03-04T06:26:59.479Z"
   },
   {
    "duration": 402,
    "start_time": "2023-03-04T06:26:59.499Z"
   },
   {
    "duration": 27,
    "start_time": "2023-03-04T06:26:59.906Z"
   },
   {
    "duration": 64,
    "start_time": "2023-03-04T06:26:59.935Z"
   },
   {
    "duration": 22,
    "start_time": "2023-03-04T06:27:00.001Z"
   },
   {
    "duration": 14,
    "start_time": "2023-03-04T06:27:00.025Z"
   },
   {
    "duration": 8799,
    "start_time": "2023-03-04T06:27:00.041Z"
   },
   {
    "duration": 35,
    "start_time": "2023-03-04T06:27:08.841Z"
   },
   {
    "duration": 32,
    "start_time": "2023-03-04T06:27:08.881Z"
   },
   {
    "duration": 25,
    "start_time": "2023-03-04T06:27:08.915Z"
   },
   {
    "duration": 16,
    "start_time": "2023-03-04T06:27:08.942Z"
   },
   {
    "duration": 57,
    "start_time": "2023-03-04T06:27:08.962Z"
   },
   {
    "duration": 21,
    "start_time": "2023-03-04T06:27:09.022Z"
   },
   {
    "duration": 201,
    "start_time": "2023-03-04T06:27:09.044Z"
   },
   {
    "duration": 171,
    "start_time": "2023-03-04T06:27:09.252Z"
   },
   {
    "duration": 0,
    "start_time": "2023-03-04T06:27:09.425Z"
   },
   {
    "duration": 8,
    "start_time": "2023-03-04T06:28:53.656Z"
   },
   {
    "duration": 33,
    "start_time": "2023-03-04T06:33:15.221Z"
   },
   {
    "duration": 14,
    "start_time": "2023-03-04T06:34:38.158Z"
   },
   {
    "duration": 2855,
    "start_time": "2023-03-04T19:39:18.740Z"
   },
   {
    "duration": 90,
    "start_time": "2023-03-04T19:39:21.602Z"
   },
   {
    "duration": 179,
    "start_time": "2023-03-04T19:52:40.129Z"
   },
   {
    "duration": 66,
    "start_time": "2023-03-04T19:52:41.145Z"
   },
   {
    "duration": 15,
    "start_time": "2023-03-04T19:52:41.212Z"
   },
   {
    "duration": 4,
    "start_time": "2023-03-04T19:52:41.228Z"
   },
   {
    "duration": 54,
    "start_time": "2023-03-04T19:52:41.233Z"
   },
   {
    "duration": 21,
    "start_time": "2023-03-04T19:52:41.290Z"
   },
   {
    "duration": 25,
    "start_time": "2023-03-04T19:52:42.521Z"
   },
   {
    "duration": 2734,
    "start_time": "2023-03-04T19:52:42.547Z"
   },
   {
    "duration": 22,
    "start_time": "2023-03-04T19:52:45.283Z"
   },
   {
    "duration": 12,
    "start_time": "2023-03-04T19:52:45.307Z"
   },
   {
    "duration": 18,
    "start_time": "2023-03-04T19:52:45.321Z"
   },
   {
    "duration": 30,
    "start_time": "2023-03-04T19:52:45.341Z"
   },
   {
    "duration": 10,
    "start_time": "2023-03-04T19:52:50.509Z"
   },
   {
    "duration": 5,
    "start_time": "2023-03-04T19:52:52.131Z"
   },
   {
    "duration": 6,
    "start_time": "2023-03-04T19:52:52.508Z"
   },
   {
    "duration": 11,
    "start_time": "2023-03-04T19:52:52.894Z"
   },
   {
    "duration": 7,
    "start_time": "2023-03-04T19:52:53.735Z"
   },
   {
    "duration": 8,
    "start_time": "2023-03-04T19:52:53.936Z"
   },
   {
    "duration": 41,
    "start_time": "2023-03-04T19:53:07.801Z"
   },
   {
    "duration": 22,
    "start_time": "2023-03-04T19:53:11.778Z"
   },
   {
    "duration": 3,
    "start_time": "2023-03-04T19:53:13.018Z"
   },
   {
    "duration": 28,
    "start_time": "2023-03-04T19:53:13.376Z"
   },
   {
    "duration": 35,
    "start_time": "2023-03-04T19:53:13.935Z"
   },
   {
    "duration": 14,
    "start_time": "2023-03-04T19:53:15.777Z"
   },
   {
    "duration": 8,
    "start_time": "2023-03-04T19:53:17.222Z"
   },
   {
    "duration": 11,
    "start_time": "2023-03-04T19:53:19.135Z"
   },
   {
    "duration": 17,
    "start_time": "2023-03-04T19:53:19.976Z"
   },
   {
    "duration": 15,
    "start_time": "2023-03-04T19:54:32.690Z"
   },
   {
    "duration": 7,
    "start_time": "2023-03-04T19:54:33.616Z"
   },
   {
    "duration": 12,
    "start_time": "2023-03-04T19:54:40.051Z"
   },
   {
    "duration": 22,
    "start_time": "2023-03-04T19:54:48.684Z"
   },
   {
    "duration": 17,
    "start_time": "2023-03-04T19:54:49.078Z"
   },
   {
    "duration": 27,
    "start_time": "2023-03-04T19:57:19.273Z"
   },
   {
    "duration": 10,
    "start_time": "2023-03-04T19:57:19.798Z"
   },
   {
    "duration": 12,
    "start_time": "2023-03-04T19:57:20.590Z"
   },
   {
    "duration": 15,
    "start_time": "2023-03-04T19:57:20.977Z"
   },
   {
    "duration": 12,
    "start_time": "2023-03-04T19:57:23.392Z"
   },
   {
    "duration": 307,
    "start_time": "2023-03-04T19:57:24.376Z"
   },
   {
    "duration": 6,
    "start_time": "2023-03-04T19:57:28.893Z"
   },
   {
    "duration": 20,
    "start_time": "2023-03-04T19:57:35.973Z"
   },
   {
    "duration": 13,
    "start_time": "2023-03-04T19:57:37.577Z"
   },
   {
    "duration": 154,
    "start_time": "2023-03-04T19:57:39.569Z"
   },
   {
    "duration": 9,
    "start_time": "2023-03-04T19:57:40.074Z"
   },
   {
    "duration": 9,
    "start_time": "2023-03-04T19:57:40.698Z"
   },
   {
    "duration": 7,
    "start_time": "2023-03-04T19:57:40.929Z"
   },
   {
    "duration": 12,
    "start_time": "2023-03-04T19:57:42.789Z"
   },
   {
    "duration": 9,
    "start_time": "2023-03-04T20:00:45.514Z"
   },
   {
    "duration": 13,
    "start_time": "2023-03-04T20:00:58.078Z"
   },
   {
    "duration": 108,
    "start_time": "2023-03-04T20:01:08.305Z"
   },
   {
    "duration": 7,
    "start_time": "2023-03-04T20:01:13.102Z"
   },
   {
    "duration": 19,
    "start_time": "2023-03-04T20:01:13.882Z"
   },
   {
    "duration": 10,
    "start_time": "2023-03-04T20:01:35.221Z"
   },
   {
    "duration": 8,
    "start_time": "2023-03-04T20:01:35.489Z"
   },
   {
    "duration": 18,
    "start_time": "2023-03-04T20:01:35.970Z"
   },
   {
    "duration": 10,
    "start_time": "2023-03-04T20:01:36.879Z"
   },
   {
    "duration": 15,
    "start_time": "2023-03-04T20:01:37.574Z"
   },
   {
    "duration": 160,
    "start_time": "2023-03-04T20:01:37.780Z"
   },
   {
    "duration": 21,
    "start_time": "2023-03-04T20:01:37.966Z"
   },
   {
    "duration": 12,
    "start_time": "2023-03-04T20:01:38.379Z"
   },
   {
    "duration": 137,
    "start_time": "2023-03-04T20:01:38.577Z"
   },
   {
    "duration": 14,
    "start_time": "2023-03-04T20:01:39.103Z"
   },
   {
    "duration": 5,
    "start_time": "2023-03-04T20:01:39.524Z"
   },
   {
    "duration": 5,
    "start_time": "2023-03-04T20:01:59.787Z"
   },
   {
    "duration": 13,
    "start_time": "2023-03-04T20:01:59.979Z"
   },
   {
    "duration": 14,
    "start_time": "2023-03-04T20:02:00.349Z"
   },
   {
    "duration": 7,
    "start_time": "2023-03-04T20:02:00.578Z"
   },
   {
    "duration": 6,
    "start_time": "2023-03-04T20:02:00.988Z"
   },
   {
    "duration": 12,
    "start_time": "2023-03-04T20:02:01.175Z"
   },
   {
    "duration": 6,
    "start_time": "2023-03-04T20:02:01.520Z"
   },
   {
    "duration": 4,
    "start_time": "2023-03-04T20:02:01.696Z"
   },
   {
    "duration": 10,
    "start_time": "2023-03-04T20:02:02.078Z"
   },
   {
    "duration": 14,
    "start_time": "2023-03-04T20:02:02.278Z"
   },
   {
    "duration": 5,
    "start_time": "2023-03-04T20:02:02.416Z"
   },
   {
    "duration": 16,
    "start_time": "2023-03-04T20:02:02.787Z"
   },
   {
    "duration": 12,
    "start_time": "2023-03-04T20:02:03.380Z"
   },
   {
    "duration": 5,
    "start_time": "2023-03-04T20:02:07.688Z"
   },
   {
    "duration": 5,
    "start_time": "2023-03-04T20:03:35.315Z"
   },
   {
    "duration": 25,
    "start_time": "2023-03-04T20:03:35.968Z"
   },
   {
    "duration": 152,
    "start_time": "2023-03-04T20:04:09.093Z"
   },
   {
    "duration": 13,
    "start_time": "2023-03-04T20:04:49.023Z"
   },
   {
    "duration": 7,
    "start_time": "2023-03-04T20:20:50.777Z"
   },
   {
    "duration": 12,
    "start_time": "2023-03-04T20:20:56.774Z"
   },
   {
    "duration": 4,
    "start_time": "2023-03-04T20:21:11.933Z"
   },
   {
    "duration": 33,
    "start_time": "2023-03-04T20:21:12.576Z"
   },
   {
    "duration": 26,
    "start_time": "2023-03-04T20:21:34.362Z"
   },
   {
    "duration": 6,
    "start_time": "2023-03-04T20:22:05.971Z"
   },
   {
    "duration": 5,
    "start_time": "2023-03-04T20:22:06.420Z"
   },
   {
    "duration": 6,
    "start_time": "2023-03-04T20:22:28.975Z"
   },
   {
    "duration": 9,
    "start_time": "2023-03-04T20:22:30.794Z"
   },
   {
    "duration": 11,
    "start_time": "2023-03-04T20:22:43.769Z"
   },
   {
    "duration": 5,
    "start_time": "2023-03-04T20:22:44.506Z"
   },
   {
    "duration": 15,
    "start_time": "2023-03-04T20:22:59.785Z"
   },
   {
    "duration": 14,
    "start_time": "2023-03-04T20:23:00.829Z"
   },
   {
    "duration": 19,
    "start_time": "2023-03-04T20:23:06.386Z"
   },
   {
    "duration": 4263,
    "start_time": "2023-03-04T20:26:51.312Z"
   },
   {
    "duration": 148,
    "start_time": "2023-03-04T20:27:34.590Z"
   },
   {
    "duration": 249,
    "start_time": "2023-03-04T20:30:43.378Z"
   },
   {
    "duration": 200,
    "start_time": "2023-03-04T20:31:02.178Z"
   },
   {
    "duration": 8,
    "start_time": "2023-03-04T20:35:52.718Z"
   },
   {
    "duration": 13,
    "start_time": "2023-03-04T20:36:22.166Z"
   },
   {
    "duration": 122,
    "start_time": "2023-03-04T20:36:44.503Z"
   },
   {
    "duration": 155,
    "start_time": "2023-03-04T20:36:58.312Z"
   },
   {
    "duration": 22,
    "start_time": "2023-03-04T20:39:00.994Z"
   },
   {
    "duration": 19,
    "start_time": "2023-03-04T20:42:32.720Z"
   },
   {
    "duration": 2926,
    "start_time": "2023-03-04T20:46:01.002Z"
   },
   {
    "duration": 2846,
    "start_time": "2023-03-04T20:51:15.087Z"
   },
   {
    "duration": 25,
    "start_time": "2023-03-04T20:51:53.582Z"
   },
   {
    "duration": 2512,
    "start_time": "2023-03-04T20:52:03.272Z"
   },
   {
    "duration": 273,
    "start_time": "2023-03-04T20:52:38.778Z"
   },
   {
    "duration": 287,
    "start_time": "2023-03-04T20:53:26.478Z"
   },
   {
    "duration": 291,
    "start_time": "2023-03-04T20:53:33.167Z"
   },
   {
    "duration": 2608,
    "start_time": "2023-03-04T20:54:44.241Z"
   },
   {
    "duration": 36,
    "start_time": "2023-03-04T20:55:02.741Z"
   },
   {
    "duration": 2218,
    "start_time": "2023-03-04T20:55:17.078Z"
   },
   {
    "duration": 154,
    "start_time": "2023-03-04T20:55:28.570Z"
   },
   {
    "duration": 58,
    "start_time": "2023-03-04T20:55:28.728Z"
   },
   {
    "duration": 33,
    "start_time": "2023-03-04T20:55:29.098Z"
   },
   {
    "duration": 6,
    "start_time": "2023-03-04T20:55:29.283Z"
   },
   {
    "duration": 54,
    "start_time": "2023-03-04T20:55:29.475Z"
   },
   {
    "duration": 11,
    "start_time": "2023-03-04T20:55:29.628Z"
   },
   {
    "duration": 40,
    "start_time": "2023-03-04T20:55:30.306Z"
   },
   {
    "duration": 2931,
    "start_time": "2023-03-04T20:55:30.496Z"
   },
   {
    "duration": 12,
    "start_time": "2023-03-04T20:55:33.429Z"
   },
   {
    "duration": 13,
    "start_time": "2023-03-04T20:55:33.443Z"
   },
   {
    "duration": 69,
    "start_time": "2023-03-04T20:55:33.461Z"
   },
   {
    "duration": 11,
    "start_time": "2023-03-04T20:55:33.532Z"
   },
   {
    "duration": 23,
    "start_time": "2023-03-04T20:55:33.750Z"
   },
   {
    "duration": 16,
    "start_time": "2023-03-04T20:55:34.286Z"
   },
   {
    "duration": 7,
    "start_time": "2023-03-04T20:55:34.626Z"
   },
   {
    "duration": 9,
    "start_time": "2023-03-04T20:55:34.982Z"
   },
   {
    "duration": 7,
    "start_time": "2023-03-04T20:55:35.737Z"
   },
   {
    "duration": 11,
    "start_time": "2023-03-04T20:55:35.929Z"
   },
   {
    "duration": 47,
    "start_time": "2023-03-04T20:55:36.310Z"
   },
   {
    "duration": 13,
    "start_time": "2023-03-04T20:55:37.032Z"
   },
   {
    "duration": 15,
    "start_time": "2023-03-04T20:55:37.422Z"
   },
   {
    "duration": 18,
    "start_time": "2023-03-04T20:55:37.616Z"
   },
   {
    "duration": 33,
    "start_time": "2023-03-04T20:55:38.002Z"
   },
   {
    "duration": 20,
    "start_time": "2023-03-04T20:55:38.573Z"
   },
   {
    "duration": 15,
    "start_time": "2023-03-04T20:55:38.784Z"
   },
   {
    "duration": 41,
    "start_time": "2023-03-04T20:55:39.160Z"
   },
   {
    "duration": 25,
    "start_time": "2023-03-04T20:55:39.333Z"
   },
   {
    "duration": 8,
    "start_time": "2023-03-04T20:55:39.527Z"
   },
   {
    "duration": 12,
    "start_time": "2023-03-04T20:55:39.715Z"
   },
   {
    "duration": 31,
    "start_time": "2023-03-04T20:55:40.090Z"
   },
   {
    "duration": 16,
    "start_time": "2023-03-04T20:55:40.289Z"
   },
   {
    "duration": 30,
    "start_time": "2023-03-04T20:55:41.243Z"
   },
   {
    "duration": 18,
    "start_time": "2023-03-04T20:55:41.476Z"
   },
   {
    "duration": 16,
    "start_time": "2023-03-04T20:55:41.685Z"
   },
   {
    "duration": 25,
    "start_time": "2023-03-04T20:55:41.880Z"
   },
   {
    "duration": 21,
    "start_time": "2023-03-04T20:55:42.449Z"
   },
   {
    "duration": 401,
    "start_time": "2023-03-04T20:55:42.627Z"
   },
   {
    "duration": 16,
    "start_time": "2023-03-04T20:55:43.071Z"
   },
   {
    "duration": 20,
    "start_time": "2023-03-04T20:55:43.703Z"
   },
   {
    "duration": 8,
    "start_time": "2023-03-04T20:55:44.327Z"
   },
   {
    "duration": 185,
    "start_time": "2023-03-04T20:55:44.523Z"
   },
   {
    "duration": 8,
    "start_time": "2023-03-04T20:55:44.728Z"
   },
   {
    "duration": 11,
    "start_time": "2023-03-04T20:55:45.118Z"
   },
   {
    "duration": 12,
    "start_time": "2023-03-04T20:55:45.326Z"
   },
   {
    "duration": 15,
    "start_time": "2023-03-04T20:55:45.514Z"
   },
   {
    "duration": 16,
    "start_time": "2023-03-04T20:55:46.290Z"
   },
   {
    "duration": 11,
    "start_time": "2023-03-04T20:55:46.490Z"
   },
   {
    "duration": 22,
    "start_time": "2023-03-04T20:55:46.877Z"
   },
   {
    "duration": 18,
    "start_time": "2023-03-04T20:55:47.285Z"
   },
   {
    "duration": 29,
    "start_time": "2023-03-04T20:55:47.879Z"
   },
   {
    "duration": 180,
    "start_time": "2023-03-04T20:55:48.079Z"
   },
   {
    "duration": 13,
    "start_time": "2023-03-04T20:55:48.289Z"
   },
   {
    "duration": 17,
    "start_time": "2023-03-04T20:55:48.680Z"
   },
   {
    "duration": 361,
    "start_time": "2023-03-04T20:55:48.893Z"
   },
   {
    "duration": 30,
    "start_time": "2023-03-04T20:55:49.682Z"
   },
   {
    "duration": 14,
    "start_time": "2023-03-04T20:55:50.076Z"
   },
   {
    "duration": 9,
    "start_time": "2023-03-04T20:55:51.177Z"
   },
   {
    "duration": 21,
    "start_time": "2023-03-04T20:55:51.409Z"
   },
   {
    "duration": 6,
    "start_time": "2023-03-04T20:55:51.825Z"
   },
   {
    "duration": 4,
    "start_time": "2023-03-04T20:55:52.028Z"
   },
   {
    "duration": 19,
    "start_time": "2023-03-04T20:55:52.480Z"
   },
   {
    "duration": 12,
    "start_time": "2023-03-04T20:55:52.669Z"
   },
   {
    "duration": 11,
    "start_time": "2023-03-04T20:55:53.082Z"
   },
   {
    "duration": 11,
    "start_time": "2023-03-04T20:55:53.308Z"
   },
   {
    "duration": 10,
    "start_time": "2023-03-04T20:55:53.715Z"
   },
   {
    "duration": 8,
    "start_time": "2023-03-04T20:55:53.908Z"
   },
   {
    "duration": 10,
    "start_time": "2023-03-04T20:55:54.113Z"
   },
   {
    "duration": 15,
    "start_time": "2023-03-04T20:55:54.526Z"
   },
   {
    "duration": 5,
    "start_time": "2023-03-04T20:55:54.966Z"
   },
   {
    "duration": 15,
    "start_time": "2023-03-04T20:55:55.180Z"
   },
   {
    "duration": 14,
    "start_time": "2023-03-04T20:55:56.227Z"
   },
   {
    "duration": 341,
    "start_time": "2023-03-04T20:55:56.426Z"
   },
   {
    "duration": 309,
    "start_time": "2023-03-04T20:55:57.016Z"
   },
   {
    "duration": 239,
    "start_time": "2023-03-04T20:55:57.331Z"
   },
   {
    "duration": 194,
    "start_time": "2023-03-04T20:55:58.078Z"
   },
   {
    "duration": 339,
    "start_time": "2023-03-04T20:55:58.867Z"
   },
   {
    "duration": 20,
    "start_time": "2023-03-04T20:55:59.214Z"
   },
   {
    "duration": 230,
    "start_time": "2023-03-04T20:55:59.678Z"
   },
   {
    "duration": 190,
    "start_time": "2023-03-04T20:56:00.314Z"
   },
   {
    "duration": 209,
    "start_time": "2023-03-04T20:56:00.906Z"
   },
   {
    "duration": 248,
    "start_time": "2023-03-04T20:56:01.758Z"
   },
   {
    "duration": 275,
    "start_time": "2023-03-04T20:56:05.921Z"
   },
   {
    "duration": 388,
    "start_time": "2023-03-04T20:56:06.491Z"
   },
   {
    "duration": 174,
    "start_time": "2023-03-04T20:56:07.090Z"
   },
   {
    "duration": 203,
    "start_time": "2023-03-04T20:56:07.696Z"
   },
   {
    "duration": 197,
    "start_time": "2023-03-04T20:56:08.282Z"
   },
   {
    "duration": 188,
    "start_time": "2023-03-04T20:56:10.127Z"
   },
   {
    "duration": 9,
    "start_time": "2023-03-04T20:56:11.328Z"
   },
   {
    "duration": 505,
    "start_time": "2023-03-04T20:56:11.777Z"
   },
   {
    "duration": 14,
    "start_time": "2023-03-04T20:56:12.287Z"
   },
   {
    "duration": 139,
    "start_time": "2023-03-04T20:56:12.306Z"
   },
   {
    "duration": 26,
    "start_time": "2023-03-04T20:56:12.447Z"
   },
   {
    "duration": 33,
    "start_time": "2023-03-04T20:56:12.990Z"
   },
   {
    "duration": 3,
    "start_time": "2023-03-04T20:56:13.824Z"
   },
   {
    "duration": 10607,
    "start_time": "2023-03-04T20:56:14.767Z"
   },
   {
    "duration": 29,
    "start_time": "2023-03-04T20:56:25.376Z"
   },
   {
    "duration": 351,
    "start_time": "2023-03-04T20:56:25.407Z"
   },
   {
    "duration": 256,
    "start_time": "2023-03-04T20:56:25.760Z"
   },
   {
    "duration": 22,
    "start_time": "2023-03-04T20:58:21.709Z"
   },
   {
    "duration": 27,
    "start_time": "2023-03-04T20:58:39.254Z"
   },
   {
    "duration": 16,
    "start_time": "2023-03-04T21:00:23.339Z"
   },
   {
    "duration": 18,
    "start_time": "2023-03-04T21:00:29.811Z"
   },
   {
    "duration": 215,
    "start_time": "2023-03-04T21:00:41.729Z"
   },
   {
    "duration": 222,
    "start_time": "2023-03-04T21:01:55.486Z"
   },
   {
    "duration": 158,
    "start_time": "2023-03-04T21:02:13.404Z"
   },
   {
    "duration": 168,
    "start_time": "2023-03-04T21:03:18.711Z"
   },
   {
    "duration": 200,
    "start_time": "2023-03-04T21:03:41.368Z"
   },
   {
    "duration": 218,
    "start_time": "2023-03-04T21:08:59.523Z"
   },
   {
    "duration": 234,
    "start_time": "2023-03-04T21:09:09.384Z"
   },
   {
    "duration": 221,
    "start_time": "2023-03-04T21:10:28.393Z"
   },
   {
    "duration": 242,
    "start_time": "2023-03-04T21:11:56.494Z"
   },
   {
    "duration": 188,
    "start_time": "2023-03-04T21:13:34.790Z"
   },
   {
    "duration": 190,
    "start_time": "2023-03-04T21:13:51.877Z"
   },
   {
    "duration": 163,
    "start_time": "2023-03-04T21:14:13.698Z"
   },
   {
    "duration": 167,
    "start_time": "2023-03-04T21:14:27.996Z"
   },
   {
    "duration": 165,
    "start_time": "2023-03-04T21:14:39.282Z"
   },
   {
    "duration": 176,
    "start_time": "2023-03-04T21:14:45.835Z"
   },
   {
    "duration": 35,
    "start_time": "2023-03-04T21:25:13.677Z"
   },
   {
    "duration": 28,
    "start_time": "2023-03-04T21:25:28.184Z"
   },
   {
    "duration": 9,
    "start_time": "2023-03-04T21:25:31.030Z"
   },
   {
    "duration": 24,
    "start_time": "2023-03-04T21:25:32.220Z"
   },
   {
    "duration": 18,
    "start_time": "2023-03-04T21:25:33.672Z"
   },
   {
    "duration": 17,
    "start_time": "2023-03-04T21:25:34.586Z"
   },
   {
    "duration": 16,
    "start_time": "2023-03-04T21:25:35.688Z"
   },
   {
    "duration": 4,
    "start_time": "2023-03-04T21:25:43.878Z"
   },
   {
    "duration": 4,
    "start_time": "2023-03-04T21:25:50.281Z"
   },
   {
    "duration": 17,
    "start_time": "2023-03-04T21:26:21.305Z"
   },
   {
    "duration": 24,
    "start_time": "2023-03-04T21:26:35.333Z"
   },
   {
    "duration": 13,
    "start_time": "2023-03-04T21:27:01.786Z"
   },
   {
    "duration": 10,
    "start_time": "2023-03-04T21:27:07.478Z"
   },
   {
    "duration": 34,
    "start_time": "2023-03-04T21:27:08.380Z"
   },
   {
    "duration": 17,
    "start_time": "2023-03-04T21:27:10.266Z"
   },
   {
    "duration": 21,
    "start_time": "2023-03-04T21:27:14.638Z"
   },
   {
    "duration": 5,
    "start_time": "2023-03-04T21:27:20.074Z"
   },
   {
    "duration": 20,
    "start_time": "2023-03-04T21:27:53.598Z"
   },
   {
    "duration": 164,
    "start_time": "2023-03-04T21:30:41.383Z"
   },
   {
    "duration": 216,
    "start_time": "2023-03-04T21:31:05.276Z"
   },
   {
    "duration": 145,
    "start_time": "2023-03-04T21:31:36.170Z"
   },
   {
    "duration": 5,
    "start_time": "2023-03-04T21:34:13.112Z"
   },
   {
    "duration": 115,
    "start_time": "2023-03-04T21:46:12.058Z"
   },
   {
    "duration": 5,
    "start_time": "2023-03-04T21:57:45.699Z"
   },
   {
    "duration": 6,
    "start_time": "2023-03-04T22:00:36.496Z"
   },
   {
    "duration": 115,
    "start_time": "2023-03-04T22:04:39.323Z"
   },
   {
    "duration": 60,
    "start_time": "2023-03-04T22:04:39.531Z"
   },
   {
    "duration": 16,
    "start_time": "2023-03-04T22:04:39.926Z"
   },
   {
    "duration": 4,
    "start_time": "2023-03-04T22:04:40.179Z"
   },
   {
    "duration": 28,
    "start_time": "2023-03-04T22:04:40.374Z"
   },
   {
    "duration": 19,
    "start_time": "2023-03-04T22:04:41.254Z"
   },
   {
    "duration": 29,
    "start_time": "2023-03-04T22:04:41.276Z"
   },
   {
    "duration": 2479,
    "start_time": "2023-03-04T22:04:41.307Z"
   },
   {
    "duration": 8,
    "start_time": "2023-03-04T22:04:43.788Z"
   },
   {
    "duration": 6,
    "start_time": "2023-03-04T22:04:46.803Z"
   },
   {
    "duration": 5,
    "start_time": "2023-03-04T22:04:47.834Z"
   },
   {
    "duration": 9,
    "start_time": "2023-03-04T22:04:48.475Z"
   },
   {
    "duration": 8,
    "start_time": "2023-03-04T22:04:52.784Z"
   },
   {
    "duration": 4,
    "start_time": "2023-03-04T22:04:53.499Z"
   },
   {
    "duration": 7,
    "start_time": "2023-03-04T22:04:53.883Z"
   },
   {
    "duration": 6,
    "start_time": "2023-03-04T22:04:54.275Z"
   },
   {
    "duration": 7,
    "start_time": "2023-03-04T22:05:00.110Z"
   },
   {
    "duration": 9,
    "start_time": "2023-03-04T22:05:00.361Z"
   },
   {
    "duration": 38,
    "start_time": "2023-03-04T22:05:00.799Z"
   },
   {
    "duration": 13,
    "start_time": "2023-03-04T22:05:02.087Z"
   },
   {
    "duration": 4,
    "start_time": "2023-03-04T22:05:03.160Z"
   },
   {
    "duration": 16,
    "start_time": "2023-03-04T22:05:03.443Z"
   },
   {
    "duration": 21,
    "start_time": "2023-03-04T22:05:03.872Z"
   },
   {
    "duration": 10,
    "start_time": "2023-03-04T22:05:04.558Z"
   },
   {
    "duration": 10,
    "start_time": "2023-03-04T22:05:04.919Z"
   },
   {
    "duration": 11,
    "start_time": "2023-03-04T22:05:05.378Z"
   },
   {
    "duration": 15,
    "start_time": "2023-03-04T22:05:05.573Z"
   },
   {
    "duration": 7,
    "start_time": "2023-03-04T22:05:05.769Z"
   },
   {
    "duration": 7,
    "start_time": "2023-03-04T22:05:05.973Z"
   },
   {
    "duration": 15,
    "start_time": "2023-03-04T22:05:06.379Z"
   },
   {
    "duration": 10,
    "start_time": "2023-03-04T22:05:06.599Z"
   },
   {
    "duration": 14,
    "start_time": "2023-03-04T22:05:10.041Z"
   },
   {
    "duration": 9,
    "start_time": "2023-03-04T22:05:10.303Z"
   },
   {
    "duration": 9,
    "start_time": "2023-03-04T22:05:10.509Z"
   },
   {
    "duration": 7,
    "start_time": "2023-03-04T22:05:10.728Z"
   },
   {
    "duration": 6,
    "start_time": "2023-03-04T22:05:10.924Z"
   },
   {
    "duration": 10,
    "start_time": "2023-03-04T22:05:11.602Z"
   },
   {
    "duration": 246,
    "start_time": "2023-03-04T22:05:11.873Z"
   },
   {
    "duration": 6,
    "start_time": "2023-03-04T22:05:16.810Z"
   },
   {
    "duration": 6,
    "start_time": "2023-03-04T22:05:17.160Z"
   },
   {
    "duration": 9,
    "start_time": "2023-03-04T22:05:17.900Z"
   },
   {
    "duration": 9,
    "start_time": "2023-03-04T22:05:18.659Z"
   },
   {
    "duration": 139,
    "start_time": "2023-03-04T22:05:18.868Z"
   },
   {
    "duration": 8,
    "start_time": "2023-03-04T22:05:19.061Z"
   },
   {
    "duration": 10,
    "start_time": "2023-03-04T22:05:19.644Z"
   },
   {
    "duration": 7,
    "start_time": "2023-03-04T22:05:19.828Z"
   },
   {
    "duration": 10,
    "start_time": "2023-03-04T22:05:20.038Z"
   },
   {
    "duration": 8,
    "start_time": "2023-03-04T22:05:24.060Z"
   },
   {
    "duration": 6,
    "start_time": "2023-03-04T22:05:24.324Z"
   },
   {
    "duration": 9,
    "start_time": "2023-03-04T22:05:24.814Z"
   },
   {
    "duration": 9,
    "start_time": "2023-03-04T22:05:25.286Z"
   },
   {
    "duration": 9,
    "start_time": "2023-03-04T22:05:25.953Z"
   },
   {
    "duration": 126,
    "start_time": "2023-03-04T22:05:26.158Z"
   },
   {
    "duration": 6,
    "start_time": "2023-03-04T22:05:26.359Z"
   },
   {
    "duration": 9,
    "start_time": "2023-03-04T22:05:26.718Z"
   },
   {
    "duration": 121,
    "start_time": "2023-03-04T22:05:26.918Z"
   },
   {
    "duration": 13,
    "start_time": "2023-03-04T22:05:27.506Z"
   },
   {
    "duration": 4,
    "start_time": "2023-03-04T22:05:27.896Z"
   },
   {
    "duration": 5,
    "start_time": "2023-03-04T22:05:30.472Z"
   },
   {
    "duration": 9,
    "start_time": "2023-03-04T22:05:32.446Z"
   },
   {
    "duration": 6,
    "start_time": "2023-03-04T22:05:33.171Z"
   },
   {
    "duration": 6,
    "start_time": "2023-03-04T22:05:33.362Z"
   },
   {
    "duration": 6,
    "start_time": "2023-03-04T22:05:33.735Z"
   },
   {
    "duration": 5,
    "start_time": "2023-03-04T22:05:33.923Z"
   },
   {
    "duration": 6,
    "start_time": "2023-03-04T22:05:34.300Z"
   },
   {
    "duration": 4,
    "start_time": "2023-03-04T22:05:34.478Z"
   },
   {
    "duration": 3,
    "start_time": "2023-03-04T22:05:34.833Z"
   },
   {
    "duration": 5,
    "start_time": "2023-03-04T22:05:35.019Z"
   },
   {
    "duration": 6,
    "start_time": "2023-03-04T22:05:35.223Z"
   },
   {
    "duration": 15,
    "start_time": "2023-03-04T22:05:37.068Z"
   },
   {
    "duration": 5,
    "start_time": "2023-03-04T22:05:37.458Z"
   },
   {
    "duration": 5,
    "start_time": "2023-03-04T22:05:37.661Z"
   },
   {
    "duration": 13,
    "start_time": "2023-03-04T22:05:49.020Z"
   },
   {
    "duration": 214,
    "start_time": "2023-03-04T22:05:49.219Z"
   },
   {
    "duration": 225,
    "start_time": "2023-03-04T22:05:49.812Z"
   },
   {
    "duration": 166,
    "start_time": "2023-03-04T22:05:50.355Z"
   },
   {
    "duration": 131,
    "start_time": "2023-03-04T22:05:51.728Z"
   },
   {
    "duration": 222,
    "start_time": "2023-03-04T22:05:52.518Z"
   },
   {
    "duration": 12,
    "start_time": "2023-03-04T22:05:52.741Z"
   },
   {
    "duration": 133,
    "start_time": "2023-03-04T22:05:53.340Z"
   },
   {
    "duration": 128,
    "start_time": "2023-03-04T22:05:53.887Z"
   },
   {
    "duration": 137,
    "start_time": "2023-03-04T22:05:54.472Z"
   },
   {
    "duration": 127,
    "start_time": "2023-03-04T22:05:56.478Z"
   },
   {
    "duration": 171,
    "start_time": "2023-03-04T22:06:02.545Z"
   },
   {
    "duration": 251,
    "start_time": "2023-03-04T22:06:03.148Z"
   },
   {
    "duration": 115,
    "start_time": "2023-03-04T22:06:03.718Z"
   },
   {
    "duration": 156,
    "start_time": "2023-03-04T22:06:04.286Z"
   },
   {
    "duration": 143,
    "start_time": "2023-03-04T22:06:04.899Z"
   },
   {
    "duration": 149,
    "start_time": "2023-03-04T22:06:10.222Z"
   },
   {
    "duration": 14,
    "start_time": "2023-03-04T22:06:11.462Z"
   },
   {
    "duration": 214,
    "start_time": "2023-03-04T22:06:12.145Z"
   },
   {
    "duration": 8,
    "start_time": "2023-03-04T22:06:12.362Z"
   },
   {
    "duration": 6,
    "start_time": "2023-03-04T22:06:12.537Z"
   },
   {
    "duration": 5,
    "start_time": "2023-03-04T22:06:12.738Z"
   },
   {
    "duration": 21,
    "start_time": "2023-03-04T22:06:13.572Z"
   },
   {
    "duration": 3,
    "start_time": "2023-03-04T22:06:14.471Z"
   },
   {
    "duration": 6971,
    "start_time": "2023-03-04T22:06:14.871Z"
   },
   {
    "duration": 23,
    "start_time": "2023-03-04T22:06:21.844Z"
   },
   {
    "duration": 232,
    "start_time": "2023-03-04T22:06:21.869Z"
   },
   {
    "duration": 160,
    "start_time": "2023-03-04T22:06:22.103Z"
   },
   {
    "duration": 180,
    "start_time": "2023-03-04T22:06:22.265Z"
   },
   {
    "duration": 154,
    "start_time": "2023-03-04T22:06:22.454Z"
   },
   {
    "duration": 168,
    "start_time": "2023-03-04T22:06:22.610Z"
   },
   {
    "duration": 182,
    "start_time": "2023-03-04T22:06:22.780Z"
   },
   {
    "duration": 9,
    "start_time": "2023-03-04T22:06:22.964Z"
   },
   {
    "duration": 26,
    "start_time": "2023-03-04T22:06:22.975Z"
   },
   {
    "duration": 2,
    "start_time": "2023-03-04T22:06:23.003Z"
   },
   {
    "duration": 6,
    "start_time": "2023-03-04T22:06:23.007Z"
   },
   {
    "duration": 7,
    "start_time": "2023-03-04T22:06:23.014Z"
   },
   {
    "duration": 22,
    "start_time": "2023-03-04T22:06:23.866Z"
   },
   {
    "duration": 190,
    "start_time": "2023-03-04T22:06:24.869Z"
   },
   {
    "duration": 3124,
    "start_time": "2023-03-04T22:06:26.305Z"
   },
   {
    "duration": 5,
    "start_time": "2023-03-04T22:06:29.431Z"
   },
   {
    "duration": 50,
    "start_time": "2023-03-05T08:09:46.507Z"
   },
   {
    "duration": 1403,
    "start_time": "2023-03-05T08:09:49.802Z"
   },
   {
    "duration": 54,
    "start_time": "2023-03-05T08:09:51.207Z"
   },
   {
    "duration": 17,
    "start_time": "2023-03-05T08:09:51.263Z"
   },
   {
    "duration": 17,
    "start_time": "2023-03-05T08:09:51.282Z"
   },
   {
    "duration": 40,
    "start_time": "2023-03-05T08:09:51.301Z"
   },
   {
    "duration": 11,
    "start_time": "2023-03-05T08:09:51.343Z"
   },
   {
    "duration": 33,
    "start_time": "2023-03-05T08:09:51.355Z"
   },
   {
    "duration": 2351,
    "start_time": "2023-03-05T08:09:51.390Z"
   },
   {
    "duration": 9,
    "start_time": "2023-03-05T08:09:53.742Z"
   },
   {
    "duration": 11,
    "start_time": "2023-03-05T08:09:53.754Z"
   },
   {
    "duration": 9,
    "start_time": "2023-03-05T08:09:53.767Z"
   },
   {
    "duration": 22,
    "start_time": "2023-03-05T08:09:53.777Z"
   },
   {
    "duration": 10,
    "start_time": "2023-03-05T08:09:53.801Z"
   },
   {
    "duration": 10,
    "start_time": "2023-03-05T08:09:53.813Z"
   },
   {
    "duration": 14,
    "start_time": "2023-03-05T08:09:53.825Z"
   },
   {
    "duration": 13,
    "start_time": "2023-03-05T08:09:53.841Z"
   },
   {
    "duration": 6,
    "start_time": "2023-03-05T08:09:53.856Z"
   },
   {
    "duration": 13,
    "start_time": "2023-03-05T08:09:53.864Z"
   },
   {
    "duration": 47,
    "start_time": "2023-03-05T08:09:53.878Z"
   },
   {
    "duration": 13,
    "start_time": "2023-03-05T08:09:53.927Z"
   },
   {
    "duration": 4,
    "start_time": "2023-03-05T08:09:53.941Z"
   },
   {
    "duration": 28,
    "start_time": "2023-03-05T08:09:53.947Z"
   },
   {
    "duration": 21,
    "start_time": "2023-03-05T08:09:53.977Z"
   },
   {
    "duration": 7,
    "start_time": "2023-03-05T08:09:53.999Z"
   },
   {
    "duration": 7,
    "start_time": "2023-03-05T08:09:54.024Z"
   },
   {
    "duration": 18,
    "start_time": "2023-03-05T08:09:54.032Z"
   },
   {
    "duration": 24,
    "start_time": "2023-03-05T08:09:54.052Z"
   },
   {
    "duration": 12,
    "start_time": "2023-03-05T08:09:54.080Z"
   },
   {
    "duration": 14,
    "start_time": "2023-03-05T08:09:54.094Z"
   },
   {
    "duration": 19,
    "start_time": "2023-03-05T08:09:54.110Z"
   },
   {
    "duration": 45,
    "start_time": "2023-03-05T08:09:54.131Z"
   },
   {
    "duration": 19,
    "start_time": "2023-03-05T08:09:54.179Z"
   },
   {
    "duration": 10,
    "start_time": "2023-03-05T08:09:54.200Z"
   },
   {
    "duration": 7,
    "start_time": "2023-03-05T08:09:54.212Z"
   },
   {
    "duration": 13,
    "start_time": "2023-03-05T08:09:54.221Z"
   },
   {
    "duration": 5,
    "start_time": "2023-03-05T08:09:54.236Z"
   },
   {
    "duration": 8,
    "start_time": "2023-03-05T08:09:54.242Z"
   },
   {
    "duration": 268,
    "start_time": "2023-03-05T08:09:54.252Z"
   },
   {
    "duration": 6,
    "start_time": "2023-03-05T08:09:54.523Z"
   },
   {
    "duration": 27,
    "start_time": "2023-03-05T08:09:54.531Z"
   },
   {
    "duration": 29,
    "start_time": "2023-03-05T08:09:54.560Z"
   },
   {
    "duration": 11,
    "start_time": "2023-03-05T08:09:54.590Z"
   },
   {
    "duration": 142,
    "start_time": "2023-03-05T08:09:54.602Z"
   },
   {
    "duration": 7,
    "start_time": "2023-03-05T08:09:54.746Z"
   },
   {
    "duration": 13,
    "start_time": "2023-03-05T08:09:54.755Z"
   },
   {
    "duration": 7,
    "start_time": "2023-03-05T08:09:54.770Z"
   },
   {
    "duration": 12,
    "start_time": "2023-03-05T08:09:54.779Z"
   },
   {
    "duration": 32,
    "start_time": "2023-03-05T08:09:54.793Z"
   },
   {
    "duration": 7,
    "start_time": "2023-03-05T08:09:54.827Z"
   },
   {
    "duration": 13,
    "start_time": "2023-03-05T08:09:54.835Z"
   },
   {
    "duration": 9,
    "start_time": "2023-03-05T08:09:54.849Z"
   },
   {
    "duration": 9,
    "start_time": "2023-03-05T08:09:54.860Z"
   },
   {
    "duration": 170,
    "start_time": "2023-03-05T08:09:54.871Z"
   },
   {
    "duration": 7,
    "start_time": "2023-03-05T08:09:55.044Z"
   },
   {
    "duration": 26,
    "start_time": "2023-03-05T08:09:55.052Z"
   },
   {
    "duration": 134,
    "start_time": "2023-03-05T08:09:55.080Z"
   },
   {
    "duration": 18,
    "start_time": "2023-03-05T08:09:55.215Z"
   },
   {
    "duration": 15,
    "start_time": "2023-03-05T08:09:55.235Z"
   },
   {
    "duration": 14,
    "start_time": "2023-03-05T08:09:55.252Z"
   },
   {
    "duration": 32,
    "start_time": "2023-03-05T08:09:55.267Z"
   },
   {
    "duration": 12,
    "start_time": "2023-03-05T08:09:55.301Z"
   },
   {
    "duration": 8,
    "start_time": "2023-03-05T08:09:55.315Z"
   },
   {
    "duration": 15,
    "start_time": "2023-03-05T08:09:55.325Z"
   },
   {
    "duration": 9,
    "start_time": "2023-03-05T08:09:55.341Z"
   },
   {
    "duration": 13,
    "start_time": "2023-03-05T08:09:55.352Z"
   },
   {
    "duration": 10,
    "start_time": "2023-03-05T08:09:55.367Z"
   },
   {
    "duration": 7,
    "start_time": "2023-03-05T08:09:55.378Z"
   },
   {
    "duration": 18,
    "start_time": "2023-03-05T08:09:55.386Z"
   },
   {
    "duration": 4,
    "start_time": "2023-03-05T08:09:55.405Z"
   },
   {
    "duration": 25,
    "start_time": "2023-03-05T08:09:55.411Z"
   },
   {
    "duration": 11,
    "start_time": "2023-03-05T08:09:55.437Z"
   },
   {
    "duration": 24,
    "start_time": "2023-03-05T08:09:55.449Z"
   },
   {
    "duration": 19,
    "start_time": "2023-03-05T08:09:55.475Z"
   },
   {
    "duration": 238,
    "start_time": "2023-03-05T08:09:55.496Z"
   },
   {
    "duration": 247,
    "start_time": "2023-03-05T08:09:55.736Z"
   },
   {
    "duration": 198,
    "start_time": "2023-03-05T08:09:55.984Z"
   },
   {
    "duration": 265,
    "start_time": "2023-03-05T08:09:56.184Z"
   },
   {
    "duration": 261,
    "start_time": "2023-03-05T08:09:56.451Z"
   },
   {
    "duration": 14,
    "start_time": "2023-03-05T08:09:56.713Z"
   },
   {
    "duration": 168,
    "start_time": "2023-03-05T08:09:56.728Z"
   },
   {
    "duration": 144,
    "start_time": "2023-03-05T08:09:56.898Z"
   },
   {
    "duration": 163,
    "start_time": "2023-03-05T08:09:57.049Z"
   },
   {
    "duration": 147,
    "start_time": "2023-03-05T08:09:57.214Z"
   },
   {
    "duration": 189,
    "start_time": "2023-03-05T08:09:57.363Z"
   },
   {
    "duration": 257,
    "start_time": "2023-03-05T08:09:57.553Z"
   },
   {
    "duration": 128,
    "start_time": "2023-03-05T08:09:57.812Z"
   },
   {
    "duration": 176,
    "start_time": "2023-03-05T08:09:57.942Z"
   },
   {
    "duration": 178,
    "start_time": "2023-03-05T08:09:58.119Z"
   },
   {
    "duration": 156,
    "start_time": "2023-03-05T08:09:58.299Z"
   },
   {
    "duration": 14,
    "start_time": "2023-03-05T08:09:58.457Z"
   },
   {
    "duration": 358,
    "start_time": "2023-03-05T08:09:58.472Z"
   },
   {
    "duration": 12,
    "start_time": "2023-03-05T08:09:58.832Z"
   },
   {
    "duration": 5,
    "start_time": "2023-03-05T08:09:58.845Z"
   },
   {
    "duration": 32,
    "start_time": "2023-03-05T08:09:58.852Z"
   },
   {
    "duration": 37,
    "start_time": "2023-03-05T08:09:58.887Z"
   },
   {
    "duration": 3,
    "start_time": "2023-03-05T08:09:58.928Z"
   },
   {
    "duration": 6852,
    "start_time": "2023-03-05T08:09:58.933Z"
   },
   {
    "duration": 19,
    "start_time": "2023-03-05T08:10:05.787Z"
   },
   {
    "duration": 212,
    "start_time": "2023-03-05T08:10:05.823Z"
   },
   {
    "duration": 164,
    "start_time": "2023-03-05T08:10:06.037Z"
   },
   {
    "duration": 188,
    "start_time": "2023-03-05T08:10:06.202Z"
   },
   {
    "duration": 158,
    "start_time": "2023-03-05T08:10:06.392Z"
   },
   {
    "duration": 162,
    "start_time": "2023-03-05T08:10:06.552Z"
   },
   {
    "duration": 156,
    "start_time": "2023-03-05T08:10:06.724Z"
   },
   {
    "duration": 10,
    "start_time": "2023-03-05T08:10:06.881Z"
   },
   {
    "duration": 41,
    "start_time": "2023-03-05T08:10:06.893Z"
   },
   {
    "duration": 6,
    "start_time": "2023-03-05T08:10:06.935Z"
   },
   {
    "duration": 20,
    "start_time": "2023-03-05T08:10:06.942Z"
   },
   {
    "duration": 6,
    "start_time": "2023-03-05T08:10:06.964Z"
   },
   {
    "duration": 24,
    "start_time": "2023-03-05T08:10:06.972Z"
   },
   {
    "duration": 205,
    "start_time": "2023-03-05T08:10:06.997Z"
   },
   {
    "duration": 3423,
    "start_time": "2023-03-05T08:10:07.204Z"
   },
   {
    "duration": 5,
    "start_time": "2023-03-05T08:10:10.795Z"
   },
   {
    "duration": 179,
    "start_time": "2023-03-05T08:10:10.806Z"
   },
   {
    "duration": 6,
    "start_time": "2023-03-05T08:10:37.979Z"
   },
   {
    "duration": 75,
    "start_time": "2023-03-05T08:11:02.783Z"
   },
   {
    "duration": 24,
    "start_time": "2023-03-05T08:11:10.738Z"
   },
   {
    "duration": 167,
    "start_time": "2023-03-05T08:11:29.161Z"
   },
   {
    "duration": 220,
    "start_time": "2023-03-05T08:11:38.805Z"
   }
  ],
  "kernelspec": {
   "display_name": "Python 3 (ipykernel)",
   "language": "python",
   "name": "python3"
  },
  "language_info": {
   "codemirror_mode": {
    "name": "ipython",
    "version": 3
   },
   "file_extension": ".py",
   "mimetype": "text/x-python",
   "name": "python",
   "nbconvert_exporter": "python",
   "pygments_lexer": "ipython3",
   "version": "3.9.13"
  },
  "toc": {
   "base_numbering": 1,
   "nav_menu": {},
   "number_sections": true,
   "sideBar": true,
   "skip_h1_title": true,
   "title_cell": "Table of Contents",
   "title_sidebar": "Contents",
   "toc_cell": false,
   "toc_position": {
    "height": "calc(100% - 180px)",
    "left": "10px",
    "top": "150px",
    "width": "286.075px"
   },
   "toc_section_display": true,
   "toc_window_display": true
  }
 },
 "nbformat": 4,
 "nbformat_minor": 2
}
